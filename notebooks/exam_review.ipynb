{
 "cells": [
  {
   "cell_type": "markdown",
   "metadata": {
    "toc": true
   },
   "source": [
    "<h1>Table of Contents<span class=\"tocSkip\"></span></h1>\n",
    "<div class=\"toc\"><ul class=\"toc-item\"><li><span><a href=\"#Python-Basics-1\" data-toc-modified-id=\"Python-Basics-1-1\"><span class=\"toc-item-num\">1&nbsp;&nbsp;</span>Python Basics 1</a></span></li><li><span><a href=\"#Python-Basics-2\" data-toc-modified-id=\"Python-Basics-2-2\"><span class=\"toc-item-num\">2&nbsp;&nbsp;</span>Python Basics 2</a></span></li><li><span><a href=\"#Pandas-1\" data-toc-modified-id=\"Pandas-1-3\"><span class=\"toc-item-num\">3&nbsp;&nbsp;</span>Pandas 1</a></span></li><li><span><a href=\"#Pandas-2\" data-toc-modified-id=\"Pandas-2-4\"><span class=\"toc-item-num\">4&nbsp;&nbsp;</span>Pandas 2</a></span></li><li><span><a href=\"#Pandas-3\" data-toc-modified-id=\"Pandas-3-5\"><span class=\"toc-item-num\">5&nbsp;&nbsp;</span>Pandas 3</a></span></li><li><span><a href=\"#Pandas-4\" data-toc-modified-id=\"Pandas-4-6\"><span class=\"toc-item-num\">6&nbsp;&nbsp;</span>Pandas 4</a></span></li><li><span><a href=\"#Theory-1\" data-toc-modified-id=\"Theory-1-7\"><span class=\"toc-item-num\">7&nbsp;&nbsp;</span>Theory 1</a></span></li><li><span><a href=\"#Theory-2\" data-toc-modified-id=\"Theory-2-8\"><span class=\"toc-item-num\">8&nbsp;&nbsp;</span>Theory 2</a></span></li><li><span><a href=\"#Theory-3\" data-toc-modified-id=\"Theory-3-9\"><span class=\"toc-item-num\">9&nbsp;&nbsp;</span>Theory 3</a></span></li></ul></div>"
   ]
  },
  {
   "cell_type": "markdown",
   "metadata": {},
   "source": [
    "# Module 1 Exam Review\n",
    "\n",
    "There are a few \"groups\" of questions here.\n",
    "\n",
    "The \"Python Basics\" questions cover content from the summer pre-course -- which we include here as a reminder that these concepts are fair game for the exam.\n",
    "\n",
    "We also have some pandas questions and some theory questions.\n",
    "\n",
    "Your exam will be done on pen and paper. Some of these questions ask you to write code. This is intentional. Your exam will contain programming questions. Most of these will be either \"fill in the blank\"  or \"multiple choice\". You should use the programming practice in this notebook to review programming concepts so you are prepared to write out similar code by hand during the exam."
   ]
  },
  {
   "cell_type": "markdown",
   "metadata": {},
   "source": [
    "## Python Basics 1\n",
    "\n",
    "Describe the type and content of these expressions:   \n",
    "\n",
    "1. `x = 2` \n",
    "2. `y = 3.0`\n",
    "3. `z = \"3.0\"`\n",
    "4. `x/y`\n",
    "5. `letters = 'abcd'`\n",
    "6. `letters[-1]`\n",
    "7. `xyz = [x, y, z]`\n",
    "8. `xyz[1]`\n",
    "9. `abcd = list(letters)`\n",
    "10. `abcd[-2]`\n",
    "11. `case = {'a': 'A', 'b': 'B', 'c': 'C'}` \n",
    "12. `case['c']` \n",
    "13. `2 >= 1`\n",
    "14. `x == 2` \n",
    "15. `h = \"foo\" + \"bar\"`\n",
    "16. `i = (1 != 0)`"
   ]
  },
  {
   "cell_type": "code",
   "execution_count": 1,
   "metadata": {
    "ExecuteTime": {
     "end_time": "2021-11-15T04:08:39.149552Z",
     "start_time": "2021-11-15T04:08:39.138552Z"
    }
   },
   "outputs": [],
   "source": [
    "x = 2"
   ]
  },
  {
   "cell_type": "code",
   "execution_count": 2,
   "metadata": {
    "ExecuteTime": {
     "end_time": "2021-11-15T04:08:39.165575Z",
     "start_time": "2021-11-15T04:08:39.150553Z"
    }
   },
   "outputs": [],
   "source": [
    "y = 3.0"
   ]
  },
  {
   "cell_type": "code",
   "execution_count": 3,
   "metadata": {
    "ExecuteTime": {
     "end_time": "2021-11-15T04:08:39.181567Z",
     "start_time": "2021-11-15T04:08:39.167557Z"
    }
   },
   "outputs": [],
   "source": [
    "z = \"3.0\""
   ]
  },
  {
   "cell_type": "code",
   "execution_count": 4,
   "metadata": {
    "ExecuteTime": {
     "end_time": "2021-11-15T04:08:39.197625Z",
     "start_time": "2021-11-15T04:08:39.183566Z"
    }
   },
   "outputs": [
    {
     "data": {
      "text/plain": [
       "0.6666666666666666"
      ]
     },
     "execution_count": 4,
     "metadata": {},
     "output_type": "execute_result"
    }
   ],
   "source": [
    "x/y"
   ]
  },
  {
   "cell_type": "code",
   "execution_count": 5,
   "metadata": {
    "ExecuteTime": {
     "end_time": "2021-11-15T04:08:39.213155Z",
     "start_time": "2021-11-15T04:08:39.198143Z"
    }
   },
   "outputs": [],
   "source": [
    "letters = 'abcd'"
   ]
  },
  {
   "cell_type": "code",
   "execution_count": 6,
   "metadata": {
    "ExecuteTime": {
     "end_time": "2021-11-15T04:08:39.229158Z",
     "start_time": "2021-11-15T04:08:39.215143Z"
    }
   },
   "outputs": [
    {
     "data": {
      "text/plain": [
       "'d'"
      ]
     },
     "execution_count": 6,
     "metadata": {},
     "output_type": "execute_result"
    }
   ],
   "source": [
    "letters[-1]"
   ]
  },
  {
   "cell_type": "code",
   "execution_count": 7,
   "metadata": {
    "ExecuteTime": {
     "end_time": "2021-11-15T04:08:39.245162Z",
     "start_time": "2021-11-15T04:08:39.231140Z"
    }
   },
   "outputs": [],
   "source": [
    "xyz = [x, y, z]"
   ]
  },
  {
   "cell_type": "code",
   "execution_count": 8,
   "metadata": {
    "ExecuteTime": {
     "end_time": "2021-11-15T04:08:39.261148Z",
     "start_time": "2021-11-15T04:08:39.247143Z"
    }
   },
   "outputs": [
    {
     "data": {
      "text/plain": [
       "3.0"
      ]
     },
     "execution_count": 8,
     "metadata": {},
     "output_type": "execute_result"
    }
   ],
   "source": [
    "xyz[1]"
   ]
  },
  {
   "cell_type": "code",
   "execution_count": 9,
   "metadata": {
    "ExecuteTime": {
     "end_time": "2021-11-15T04:08:39.277149Z",
     "start_time": "2021-11-15T04:08:39.262148Z"
    }
   },
   "outputs": [],
   "source": [
    "abcd = list(letters)"
   ]
  },
  {
   "cell_type": "code",
   "execution_count": 10,
   "metadata": {
    "ExecuteTime": {
     "end_time": "2021-11-15T04:08:39.293153Z",
     "start_time": "2021-11-15T04:08:39.280152Z"
    }
   },
   "outputs": [
    {
     "data": {
      "text/plain": [
       "'c'"
      ]
     },
     "execution_count": 10,
     "metadata": {},
     "output_type": "execute_result"
    }
   ],
   "source": [
    "abcd[-2]"
   ]
  },
  {
   "cell_type": "code",
   "execution_count": 11,
   "metadata": {
    "ExecuteTime": {
     "end_time": "2021-11-15T04:08:39.308157Z",
     "start_time": "2021-11-15T04:08:39.295156Z"
    }
   },
   "outputs": [],
   "source": [
    "case = {'a': 'A', 'b': 'B', 'c': 'C'}"
   ]
  },
  {
   "cell_type": "code",
   "execution_count": 12,
   "metadata": {
    "ExecuteTime": {
     "end_time": "2021-11-15T04:08:39.324172Z",
     "start_time": "2021-11-15T04:08:39.310157Z"
    }
   },
   "outputs": [
    {
     "data": {
      "text/plain": [
       "'C'"
      ]
     },
     "execution_count": 12,
     "metadata": {},
     "output_type": "execute_result"
    }
   ],
   "source": [
    "case['c']"
   ]
  },
  {
   "cell_type": "code",
   "execution_count": 13,
   "metadata": {
    "ExecuteTime": {
     "end_time": "2021-11-15T04:08:39.340177Z",
     "start_time": "2021-11-15T04:08:39.326173Z"
    }
   },
   "outputs": [
    {
     "data": {
      "text/plain": [
       "True"
      ]
     },
     "execution_count": 13,
     "metadata": {},
     "output_type": "execute_result"
    }
   ],
   "source": [
    "2 >= 1"
   ]
  },
  {
   "cell_type": "code",
   "execution_count": 14,
   "metadata": {
    "ExecuteTime": {
     "end_time": "2021-11-15T04:08:39.356187Z",
     "start_time": "2021-11-15T04:08:39.342178Z"
    }
   },
   "outputs": [
    {
     "data": {
      "text/plain": [
       "True"
      ]
     },
     "execution_count": 14,
     "metadata": {},
     "output_type": "execute_result"
    }
   ],
   "source": [
    "x == 2"
   ]
  },
  {
   "cell_type": "code",
   "execution_count": 15,
   "metadata": {
    "ExecuteTime": {
     "end_time": "2021-11-15T04:08:39.372196Z",
     "start_time": "2021-11-15T04:08:39.359182Z"
    }
   },
   "outputs": [],
   "source": [
    "h = \"foo\" + \"bar\""
   ]
  },
  {
   "cell_type": "code",
   "execution_count": 16,
   "metadata": {
    "ExecuteTime": {
     "end_time": "2021-11-15T04:08:39.387186Z",
     "start_time": "2021-11-15T04:08:39.374185Z"
    }
   },
   "outputs": [],
   "source": [
    "i = (1 != 0)"
   ]
  },
  {
   "cell_type": "markdown",
   "metadata": {},
   "source": [
    "## Python Basics 2\n",
    "\n",
    "Explain the code below -- briefly -- in a Markdown cell.  What happens if we change the first line to `torf = False`? \n",
    "\n",
    "``` python\n",
    "torf = True\n",
    "\n",
    "if torf: \n",
    "    x = 1\n",
    "else:\n",
    "    x = 2\n",
    "    \n",
    "print('x =', x) \n",
    "```"
   ]
  },
  {
   "cell_type": "code",
   "execution_count": 17,
   "metadata": {
    "ExecuteTime": {
     "end_time": "2021-11-15T04:08:39.402191Z",
     "start_time": "2021-11-15T04:08:39.388188Z"
    }
   },
   "outputs": [
    {
     "name": "stdout",
     "output_type": "stream",
     "text": [
      "x = 2\n"
     ]
    }
   ],
   "source": [
    "torf = False\n",
    "\n",
    "if torf: \n",
    "    x = 1\n",
    "else:\n",
    "    x = 2\n",
    "\n",
    "print('x =', x) "
   ]
  },
  {
   "cell_type": "markdown",
   "metadata": {},
   "source": [
    "## Pandas 1\n",
    "\n",
    "Next up:  We explore the Census's *Business Dynamics Statistics*, a huge collection of data about firms.  We've extracted a small piece of one of their databases that includes these variables for 2013:\n",
    "\n",
    "* `Size`:  size category of firms based on number of employees \n",
    "* `Firms`:  number of firms in this size category\n",
    "* `Emp`:  number of employees in this size category \n",
    "\n",
    "Run the code cell below to load the data and use the result to answer these questions:  \n",
    "\n",
    "(a) What type of object is `bsd`?\n",
    "\n",
    "(b) What are its dimensions?\n",
    "\n",
    "(c) What are its column labels?  Row labels?\n",
    "\n",
    "(d) What dtypes are the columns?   "
   ]
  },
  {
   "cell_type": "code",
   "execution_count": 18,
   "metadata": {
    "ExecuteTime": {
     "end_time": "2021-11-15T04:08:39.842505Z",
     "start_time": "2021-11-15T04:08:39.404192Z"
    }
   },
   "outputs": [],
   "source": [
    "import pandas as pd"
   ]
  },
  {
   "cell_type": "code",
   "execution_count": 19,
   "metadata": {
    "ExecuteTime": {
     "end_time": "2021-11-15T04:08:39.858514Z",
     "start_time": "2021-11-15T04:08:39.843504Z"
    }
   },
   "outputs": [],
   "source": [
    "data = {'Size': ['1 to 4', '5 to 9', '10 to 19', '20 to 49', '50 to 99',\n",
    "                 '100 to 249', '250 to 499', '500 to 999', '1000 to 2499',\n",
    "                 '2500 to 4999', '5000 to 9999', '10000+'], \n",
    "        'Firms': [2846416, 1020772, 598153, 373345, 115544, 63845,\n",
    "                  19389, 9588, 6088, 2287, 1250, 1357], \n",
    "        'Emp': [5998912, 6714924, 8151891, 11425545, 8055535, 9788341, \n",
    "                6611734, 6340775, 8321486, 6738218, 6559020, 32556671]}\n",
    "bds = pd.DataFrame(data) \n",
    "bds = bds.set_index('Size')"
   ]
  },
  {
   "cell_type": "code",
   "execution_count": 20,
   "metadata": {
    "ExecuteTime": {
     "end_time": "2021-11-15T04:08:39.874510Z",
     "start_time": "2021-11-15T04:08:39.859508Z"
    }
   },
   "outputs": [
    {
     "data": {
      "text/plain": [
       "pandas.core.frame.DataFrame"
      ]
     },
     "execution_count": 20,
     "metadata": {},
     "output_type": "execute_result"
    }
   ],
   "source": [
    "type(bds)"
   ]
  },
  {
   "cell_type": "code",
   "execution_count": 21,
   "metadata": {
    "ExecuteTime": {
     "end_time": "2021-11-15T04:08:39.890513Z",
     "start_time": "2021-11-15T04:08:39.875512Z"
    }
   },
   "outputs": [
    {
     "data": {
      "text/plain": [
       "(12, 2)"
      ]
     },
     "execution_count": 21,
     "metadata": {},
     "output_type": "execute_result"
    }
   ],
   "source": [
    "bds.shape"
   ]
  },
  {
   "cell_type": "code",
   "execution_count": 22,
   "metadata": {
    "ExecuteTime": {
     "end_time": "2021-11-15T04:08:39.906520Z",
     "start_time": "2021-11-15T04:08:39.891516Z"
    }
   },
   "outputs": [
    {
     "data": {
      "text/plain": [
       "(Index(['Firms', 'Emp'], dtype='object'),\n",
       " Index(['1 to 4', '5 to 9', '10 to 19', '20 to 49', '50 to 99', '100 to 249',\n",
       "        '250 to 499', '500 to 999', '1000 to 2499', '2500 to 4999',\n",
       "        '5000 to 9999', '10000+'],\n",
       "       dtype='object', name='Size'))"
      ]
     },
     "execution_count": 22,
     "metadata": {},
     "output_type": "execute_result"
    }
   ],
   "source": [
    "bds.columns, bds.index"
   ]
  },
  {
   "cell_type": "code",
   "execution_count": 23,
   "metadata": {
    "ExecuteTime": {
     "end_time": "2021-11-15T04:08:39.922521Z",
     "start_time": "2021-11-15T04:08:39.908520Z"
    }
   },
   "outputs": [
    {
     "data": {
      "text/plain": [
       "pandas.core.indexes.base.Index"
      ]
     },
     "execution_count": 23,
     "metadata": {},
     "output_type": "execute_result"
    }
   ],
   "source": [
    "type(bds.columns)"
   ]
  },
  {
   "cell_type": "markdown",
   "metadata": {},
   "source": [
    "## Pandas 2\n",
    "\n",
    "Continuing with the same data:  \n",
    "\n",
    "(a) Create a new variable `AvgEmp` equal to the ratio of `Emp` to `Firms` and add it as a new column in `bsd`.\n",
    "\n",
    "(b) Use a dataframe method to change the name of `Emp` to `Employees`. \n",
    "\n",
    "(c) Create a bar chart of the number of employees in each size category.  "
   ]
  },
  {
   "cell_type": "code",
   "execution_count": 24,
   "metadata": {
    "ExecuteTime": {
     "end_time": "2021-11-15T04:08:39.938526Z",
     "start_time": "2021-11-15T04:08:39.923522Z"
    }
   },
   "outputs": [],
   "source": [
    "bds['AvgEmp'] = bds['Emp'] / bds['Firms']"
   ]
  },
  {
   "cell_type": "code",
   "execution_count": 25,
   "metadata": {
    "ExecuteTime": {
     "end_time": "2021-11-15T04:08:39.953530Z",
     "start_time": "2021-11-15T04:08:39.939526Z"
    }
   },
   "outputs": [],
   "source": [
    "bds.rename(columns={'Emp':'Employees'}, inplace=True)"
   ]
  },
  {
   "cell_type": "code",
   "execution_count": 26,
   "metadata": {
    "ExecuteTime": {
     "end_time": "2021-11-15T04:08:40.239594Z",
     "start_time": "2021-11-15T04:08:39.954529Z"
    }
   },
   "outputs": [],
   "source": [
    "import matplotlib.pyplot as plt"
   ]
  },
  {
   "cell_type": "code",
   "execution_count": 27,
   "metadata": {
    "ExecuteTime": {
     "end_time": "2021-11-15T04:08:40.366675Z",
     "start_time": "2021-11-15T04:08:40.240593Z"
    }
   },
   "outputs": [
    {
     "data": {
      "text/plain": [
       "<BarContainer object of 12 artists>"
      ]
     },
     "execution_count": 27,
     "metadata": {},
     "output_type": "execute_result"
    },
    {
     "data": {
      "image/png": "[encoded data removed]",
      "text/plain": [
       "<Figure size 1152x288 with 1 Axes>"
      ]
     },
     "metadata": {
      "needs_background": "light"
     },
     "output_type": "display_data"
    }
   ],
   "source": [
    "fig, ax = plt.subplots()\n",
    "fig.set_size_inches(16, 4)\n",
    "ax.bar(bds.index, bds['Firms'])"
   ]
  },
  {
   "cell_type": "markdown",
   "metadata": {},
   "source": [
    "## Pandas 3\n",
    "\n",
    "Still continuing with the same data:  \n",
    "\n",
    "(a) Create figure and axis objects.  \n",
    "\n",
    "(b) Add a horizontal bar chart of the number of firms in each category to the axis object you created. \n",
    "\n",
    "(c) Make the bars red. \n",
    "\n",
    "(d) Add a title.\n",
    "\n",
    "(e) Change the style to `fivethirtyeight`.  "
   ]
  },
  {
   "cell_type": "code",
   "execution_count": 28,
   "metadata": {
    "ExecuteTime": {
     "end_time": "2021-11-15T04:08:40.478707Z",
     "start_time": "2021-11-15T04:08:40.369685Z"
    }
   },
   "outputs": [
    {
     "data": {
      "image/png": "[encoded data removed]",
      "text/plain": [
       "<Figure size 1440x288 with 1 Axes>"
      ]
     },
     "metadata": {
      "needs_background": "light"
     },
     "output_type": "display_data"
    }
   ],
   "source": [
    "fig, ax = plt.subplots()\n",
    "fig.set_size_inches(20, 4)\n",
    "ax.bar(bds.index, bds['Firms'],color='r')\n",
    "ax.set_title('the number of firms in each category')\n",
    "plt.style.use('fivethirtyeight')"
   ]
  },
  {
   "cell_type": "markdown",
   "metadata": {},
   "source": [
    "## Pandas 4"
   ]
  },
  {
   "cell_type": "markdown",
   "metadata": {},
   "source": [
    "Suppose you have a DataFrame `df` with columns `customer_id`, `date`, `order_id`, `item_id`, `price`, and `quantity`. \n",
    "\n",
    "Each row of this DataFrame represents one item in an order. Orders are distinguished by `order_id`.\n",
    "\n",
    "Describe how you would do the following (showing code would be a very appropriate way to show your thoughts):\n",
    "\n",
    "1. Add a new column called `revenue` that shows the revenue for each row.\n",
    "2. Compute total revenue across all orders (a scalar)\n",
    "3. Compute total revenue for each customer (a series)\n",
    "4. Identify The item with the highest total number of units sold\n",
    "5. Identify The item_id with the higest price\n",
    "6. Compute the average revenue per order\n",
    "7. Compute a rolling average of weekly revenue\n",
    "8. The day of the week with the highest total revenue"
   ]
  },
  {
   "cell_type": "code",
   "execution_count": 29,
   "metadata": {
    "ExecuteTime": {
     "end_time": "2021-11-15T04:08:40.494704Z",
     "start_time": "2021-11-15T04:08:40.480709Z"
    }
   },
   "outputs": [],
   "source": [
    "data =  {'customer_id': ['101','101','102', '102', '102','103'],\n",
    "         'date': ['2010-01-01', '2010-01-02', '2010-01-08', '2010-01-08', '2010-01-08', '2010-02-08'],\n",
    "         'order_id': ['1', '2', '3', '3', '4', '5'],\n",
    "         'item_id': ['101001', '101002', '101001', '101002', '101003', '101002'],\n",
    "         'price': [3, 2.3, 3, 2.3, 2.5, 2.5], \n",
    "         'quantity': [100, 110, 50, 150, 50, 300]}\n",
    "df = pd.DataFrame(data, columns=['customer_id', 'date', 'order_id', 'item_id', 'price', 'quantity'])"
   ]
  },
  {
   "cell_type": "code",
   "execution_count": 30,
   "metadata": {
    "ExecuteTime": {
     "end_time": "2021-11-15T04:08:40.510702Z",
     "start_time": "2021-11-15T04:08:40.496699Z"
    }
   },
   "outputs": [],
   "source": [
    "df['revenue'] = df['price'] * df['quantity']"
   ]
  },
  {
   "cell_type": "code",
   "execution_count": 31,
   "metadata": {
    "ExecuteTime": {
     "end_time": "2021-11-15T04:08:40.526705Z",
     "start_time": "2021-11-15T04:08:40.512702Z"
    }
   },
   "outputs": [
    {
     "data": {
      "text/plain": [
       "1923.0"
      ]
     },
     "execution_count": 31,
     "metadata": {},
     "output_type": "execute_result"
    }
   ],
   "source": [
    "df['revenue'].sum()"
   ]
  },
  {
   "cell_type": "code",
   "execution_count": 32,
   "metadata": {
    "ExecuteTime": {
     "end_time": "2021-11-15T04:08:40.542708Z",
     "start_time": "2021-11-15T04:08:40.527706Z"
    }
   },
   "outputs": [
    {
     "data": {
      "text/plain": [
       "customer_id\n",
       "101    553.0\n",
       "102    620.0\n",
       "103    750.0\n",
       "Name: revenue, dtype: float64"
      ]
     },
     "execution_count": 32,
     "metadata": {},
     "output_type": "execute_result"
    }
   ],
   "source": [
    "df.groupby(by='customer_id').sum()['revenue']"
   ]
  },
  {
   "cell_type": "code",
   "execution_count": 33,
   "metadata": {
    "ExecuteTime": {
     "end_time": "2021-11-15T04:08:40.558713Z",
     "start_time": "2021-11-15T04:08:40.543709Z"
    }
   },
   "outputs": [
    {
     "data": {
      "text/plain": [
       "'101002'"
      ]
     },
     "execution_count": 33,
     "metadata": {},
     "output_type": "execute_result"
    }
   ],
   "source": [
    "df['item_id'][df.groupby(by='item_id').sum()['quantity'].argmax()]"
   ]
  },
  {
   "cell_type": "code",
   "execution_count": 34,
   "metadata": {
    "ExecuteTime": {
     "end_time": "2021-11-15T04:08:40.574715Z",
     "start_time": "2021-11-15T04:08:40.559712Z"
    }
   },
   "outputs": [
    {
     "data": {
      "text/plain": [
       "'101001'"
      ]
     },
     "execution_count": 34,
     "metadata": {},
     "output_type": "execute_result"
    }
   ],
   "source": [
    "df['item_id'][df.groupby(by='item_id').mean()['price'].argmax()]"
   ]
  },
  {
   "cell_type": "code",
   "execution_count": 35,
   "metadata": {
    "ExecuteTime": {
     "end_time": "2021-11-15T04:08:40.590719Z",
     "start_time": "2021-11-15T04:08:40.575716Z"
    }
   },
   "outputs": [
    {
     "data": {
      "text/plain": [
       "order_id\n",
       "1    300.0\n",
       "2    253.0\n",
       "3    247.5\n",
       "4    125.0\n",
       "5    750.0\n",
       "Name: revenue, dtype: float64"
      ]
     },
     "execution_count": 35,
     "metadata": {},
     "output_type": "execute_result"
    }
   ],
   "source": [
    "df.groupby(by='order_id').mean()['revenue']"
   ]
  },
  {
   "cell_type": "code",
   "execution_count": 36,
   "metadata": {
    "ExecuteTime": {
     "end_time": "2021-11-15T04:08:40.605721Z",
     "start_time": "2021-11-15T04:08:40.591721Z"
    }
   },
   "outputs": [
    {
     "data": {
      "text/plain": [
       "date\n",
       "2010-01-01    300.000000\n",
       "2010-01-02    276.500000\n",
       "2010-01-08    201.500000\n",
       "2010-01-08    249.333333\n",
       "2010-01-08    218.250000\n",
       "2010-02-08    750.000000\n",
       "Name: revenue, dtype: float64"
      ]
     },
     "execution_count": 36,
     "metadata": {},
     "output_type": "execute_result"
    }
   ],
   "source": [
    "df['date'] = pd.to_datetime(df['date'])\n",
    "df.set_index('date',inplace=True)\n",
    "df.rolling('7d').mean()['revenue']"
   ]
  },
  {
   "cell_type": "code",
   "execution_count": 37,
   "metadata": {
    "ExecuteTime": {
     "end_time": "2021-11-15T04:08:40.620725Z",
     "start_time": "2021-11-15T04:08:40.607724Z"
    }
   },
   "outputs": [
    {
     "data": {
      "text/plain": [
       "0"
      ]
     },
     "execution_count": 37,
     "metadata": {},
     "output_type": "execute_result"
    }
   ],
   "source": [
    "df.groupby(by=df.index.day_of_week).max().index[df.groupby(by=df.index.day_of_week).max()['revenue'].argmax()]"
   ]
  },
  {
   "cell_type": "markdown",
   "metadata": {},
   "source": [
    "## Theory 1\n",
    "\n",
    "- Given a statistical model $f(Y | \\theta)$, describe the difference between the direct and inverse problems."
   ]
  },
  {
   "cell_type": "markdown",
   "metadata": {},
   "source": [
    "direct problem: given the parameter, find the distributions\n",
    "\n",
    "inverse problem: given the distribution and estimate the parameter"
   ]
  },
  {
   "cell_type": "markdown",
   "metadata": {},
   "source": [
    "## Theory 2\n",
    "\n",
    "Suppose you are the following transition matrix `P` a  discrete-state Markov Chain:\n",
    "\n",
    "```python\n",
    "import numpy as np \n",
    "\n",
    "P = np.array([\n",
    "    [0.4, 0.4, 0.2],\n",
    "    [0.8, 0.1, 0.1],\n",
    "    [0, 0, 1.0]\n",
    "])\n",
    "```\n",
    "\n",
    "Answer the following questions:\n",
    "\n",
    "1. How many states are represented by `P`\n",
    "2. What is the probability of transitioning from state `0` to state `0`?\n",
    "3. What is the probability of transitioning from state `0` to state `2`?\n",
    "4. What is the unique stationary distribution for this Markov Chain?\n",
    "5. Suppose the distribution of state values at time `t` is `[0.1, 0.8, 0.1]`. What is the distribution of state values at time `t+1`?"
   ]
  },
  {
   "cell_type": "code",
   "execution_count": 38,
   "metadata": {
    "ExecuteTime": {
     "end_time": "2021-11-15T04:08:40.636728Z",
     "start_time": "2021-11-15T04:08:40.621726Z"
    }
   },
   "outputs": [],
   "source": [
    "import numpy as np \n",
    "\n",
    "P = np.array([\n",
    "    [0.4, 0.4, 0.2],\n",
    "    [0.8, 0.1, 0.1],\n",
    "    [0, 0, 1.0]\n",
    "])"
   ]
  },
  {
   "cell_type": "markdown",
   "metadata": {},
   "source": [
    "1. 3\n",
    "2. 0.4\n",
    "3. 0.2"
   ]
  },
  {
   "cell_type": "code",
   "execution_count": 39,
   "metadata": {
    "ExecuteTime": {
     "end_time": "2021-11-15T04:08:41.717370Z",
     "start_time": "2021-11-15T04:08:40.638730Z"
    }
   },
   "outputs": [
    {
     "data": {
      "text/plain": [
       "array([[0., 0., 1.]])"
      ]
     },
     "execution_count": 39,
     "metadata": {},
     "output_type": "execute_result"
    }
   ],
   "source": [
    "from quantecon import MarkovChain\n",
    "mc = MarkovChain(P)\n",
    "mc.stationary_distributions"
   ]
  },
  {
   "cell_type": "code",
   "execution_count": 40,
   "metadata": {
    "ExecuteTime": {
     "end_time": "2021-11-15T04:08:41.733374Z",
     "start_time": "2021-11-15T04:08:41.718370Z"
    }
   },
   "outputs": [
    {
     "data": {
      "text/plain": [
       "array([0.68, 0.12, 0.2 ])"
      ]
     },
     "execution_count": 40,
     "metadata": {},
     "output_type": "execute_result"
    }
   ],
   "source": [
    "t = [0.1, 0.8, 0.1]\n",
    "t @ P"
   ]
  },
  {
   "cell_type": "markdown",
   "metadata": {},
   "source": [
    "## Theory 3\n",
    "\n",
    "1. List 3 discrete probability distributions.\n",
    "2. List 3 continuous probability distributions\n",
    "3. What does it mean for a probability distribution to have positive skewness?"
   ]
  },
  {
   "cell_type": "markdown",
   "metadata": {},
   "source": [
    "binomial distribution, Poisson distribution, Bernoulli distribution"
   ]
  },
  {
   "cell_type": "markdown",
   "metadata": {
    "ExecuteTime": {
     "end_time": "2021-11-15T03:58:38.680235Z",
     "start_time": "2021-11-15T03:58:38.667197Z"
    }
   },
   "source": [
    "normal distribution, gamma distrbution, beta distrition"
   ]
  },
  {
   "cell_type": "markdown",
   "metadata": {},
   "source": [
    "In statistics, a positively skewed (or right-skewed) distribution is a type of distribution in which most values are clustered around the left tail of the distribution while the right tail of the distribution is longer."
   ]
  }
 ],
 "metadata": {
  "kernelspec": {
   "display_name": "Python 3 (ipykernel)",
   "language": "python",
   "name": "python3"
  },
  "language_info": {
   "codemirror_mode": {
    "name": "ipython",
    "version": 3
   },
   "file_extension": ".py",
   "mimetype": "text/x-python",
   "name": "python",
   "nbconvert_exporter": "python",
   "pygments_lexer": "ipython3",
   "version": "3.9.5"
  },
  "toc": {
   "base_numbering": 1,
   "nav_menu": {},
   "number_sections": true,
   "sideBar": true,
   "skip_h1_title": true,
   "title_cell": "Table of Contents",
   "title_sidebar": "Contents",
   "toc_cell": true,
   "toc_position": {},
   "toc_section_display": true,
   "toc_window_display": false
  }
 },
 "nbformat": 4,
 "nbformat_minor": 2
}
