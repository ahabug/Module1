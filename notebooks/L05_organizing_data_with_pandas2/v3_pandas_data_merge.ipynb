{
 "cells": [
  {
   "cell_type": "markdown",
   "metadata": {
    "toc": true
   },
   "source": [
    "<h1>Table of Contents<span class=\"tocSkip\"></span></h1>\n",
    "<div class=\"toc\"><ul class=\"toc-item\"><li><span><a href=\"#Outline\" data-toc-modified-id=\"Outline-1\"><span class=\"toc-item-num\">1&nbsp;&nbsp;</span>Outline</a></span></li><li><span><a href=\"#Combining-Datasets\" data-toc-modified-id=\"Combining-Datasets-2\"><span class=\"toc-item-num\">2&nbsp;&nbsp;</span>Combining Datasets</a></span></li><li><span><a href=\"#pd.concat\" data-toc-modified-id=\"pd.concat-3\"><span class=\"toc-item-num\">3&nbsp;&nbsp;</span><code>pd.concat</code></a></span><ul class=\"toc-item\"><li><span><a href=\"#axis=0\" data-toc-modified-id=\"axis=0-3.1\"><span class=\"toc-item-num\">3.1&nbsp;&nbsp;</span><code>axis=0</code></a></span></li><li><span><a href=\"#axis=1\" data-toc-modified-id=\"axis=1-3.2\"><span class=\"toc-item-num\">3.2&nbsp;&nbsp;</span><code>axis=1</code></a></span></li></ul></li><li><span><a href=\"#pd.merge\" data-toc-modified-id=\"pd.merge-4\"><span class=\"toc-item-num\">4&nbsp;&nbsp;</span><code>pd.merge</code></a></span><ul class=\"toc-item\"><li><span><a href=\"#Multiple-Columns\" data-toc-modified-id=\"Multiple-Columns-4.1\"><span class=\"toc-item-num\">4.1&nbsp;&nbsp;</span>Multiple Columns</a></span></li></ul></li><li><span><a href=\"#Arguments-to-merge\" data-toc-modified-id=\"Arguments-to-merge-5\"><span class=\"toc-item-num\">5&nbsp;&nbsp;</span>Arguments to <code>merge</code></a></span><ul class=\"toc-item\"><li><span><a href=\"#on\" data-toc-modified-id=\"on-5.1\"><span class=\"toc-item-num\">5.1&nbsp;&nbsp;</span><code>on</code></a></span></li><li><span><a href=\"#left_on,-right_on\" data-toc-modified-id=\"left_on,-right_on-5.2\"><span class=\"toc-item-num\">5.2&nbsp;&nbsp;</span><code>left_on</code>, <code>right_on</code></a></span></li><li><span><a href=\"#left_index,-right_index\" data-toc-modified-id=\"left_index,-right_index-5.3\"><span class=\"toc-item-num\">5.3&nbsp;&nbsp;</span><code>left_index</code>, <code>right_index</code></a></span></li><li><span><a href=\"#how\" data-toc-modified-id=\"how-5.4\"><span class=\"toc-item-num\">5.4&nbsp;&nbsp;</span><code>how</code></a></span></li><li><span><a href=\"#df.merge(df2)\" data-toc-modified-id=\"df.merge(df2)-5.5\"><span class=\"toc-item-num\">5.5&nbsp;&nbsp;</span><code>df.merge(df2)</code></a></span></li></ul></li><li><span><a href=\"#df.join\" data-toc-modified-id=\"df.join-6\"><span class=\"toc-item-num\">6&nbsp;&nbsp;</span><code>df.join</code></a></span></li><li><span><a href=\"#Case-Study\" data-toc-modified-id=\"Case-Study-7\"><span class=\"toc-item-num\">7&nbsp;&nbsp;</span>Case Study</a></span><ul class=\"toc-item\"><li><span><a href=\"#Book-Data\" data-toc-modified-id=\"Book-Data-7.1\"><span class=\"toc-item-num\">7.1&nbsp;&nbsp;</span>Book Data</a></span></li></ul></li><li><span><a href=\"#Visualizing-Merge-Operations\" data-toc-modified-id=\"Visualizing-Merge-Operations-8\"><span class=\"toc-item-num\">8&nbsp;&nbsp;</span>Visualizing Merge Operations</a></span><ul class=\"toc-item\"><li><span><a href=\"#pd.concat\" data-toc-modified-id=\"pd.concat-8.1\"><span class=\"toc-item-num\">8.1&nbsp;&nbsp;</span><code>pd.concat</code></a></span></li><li><span><a href=\"#pd.merge\" data-toc-modified-id=\"pd.merge-8.2\"><span class=\"toc-item-num\">8.2&nbsp;&nbsp;</span><code>pd.merge</code></a></span></li></ul></li></ul></div>"
   ]
  },
  {
   "cell_type": "markdown",
   "metadata": {
    "slideshow": {
     "slide_type": "slide"
    }
   },
   "source": [
    "# Merge\n",
    "\n",
    "**Prerequisites**\n",
    "\n",
    "- [Reshape](./v2_pandas_data_reshape.ipynb)  \n",
    "\n",
    "\n",
    "**Outcomes**\n",
    "\n",
    "- Know the different pandas routines for combining datasets  \n",
    "- Know when to use `pd.concat` vs `pd.merge` vs `pd.join`  \n",
    "- Be able to apply the three main combining routines  \n",
    "\n",
    "\n",
    "**Data**\n",
    "\n",
    "- WDI data on GDP components, population, and square miles of countries  \n",
    "- Book ratings: 6,000,000 ratings for the 10,000 most rated books on\n",
    "  [Goodreads](https://www.goodreads.com/)"
   ]
  },
  {
   "cell_type": "code",
   "execution_count": 1,
   "metadata": {
    "ExecuteTime": {
     "end_time": "2021-11-13T05:46:49.526264Z",
     "start_time": "2021-11-13T05:46:48.853980Z"
    },
    "hide-output": false,
    "slideshow": {
     "slide_type": "-"
    }
   },
   "outputs": [],
   "source": [
    "import pandas as pd\n",
    "\n",
    "%matplotlib inline\n",
    "\n",
    "from IPython.display import display"
   ]
  },
  {
   "cell_type": "markdown",
   "metadata": {
    "slideshow": {
     "slide_type": "subslide"
    }
   },
   "source": [
    "## Outline\n",
    "\n",
    "- [Merge](#Merge)  \n",
    "  - [Combining Datasets](#Combining-Datasets)  \n",
    "  - [`pd.concat`](#`pd.concat`)  \n",
    "  - [`pd.merge`](#`pd.merge`)  \n",
    "  - [Arguments to `merge`](#Arguments-to-`merge`)  \n",
    "  - [`df.join`](#`df.join`)  \n",
    "  - [Case Study](#Case-Study)  \n",
    "  - [Visualizing Merge Operations](#Visualizing-Merge-Operations)  "
   ]
  },
  {
   "cell_type": "markdown",
   "metadata": {
    "slideshow": {
     "slide_type": "slide"
    }
   },
   "source": [
    "## Combining Datasets\n",
    "\n",
    "Often, we will want perform joint analysis on data from different sources.\n",
    "\n",
    "For example, when analyzing the regional sales for a company, we might\n",
    "want to include industry aggregates or demographic information for each\n",
    "region.\n",
    "\n",
    "Or perhaps we are working with product-level data, have a list of\n",
    "product groups in a separate dataset, and want to compute aggregate\n",
    "statistics for each group."
   ]
  },
  {
   "cell_type": "code",
   "execution_count": 2,
   "metadata": {
    "ExecuteTime": {
     "end_time": "2021-11-13T05:47:03.481670Z",
     "start_time": "2021-11-13T05:46:49.528259Z"
    },
    "hide-output": false,
    "slideshow": {
     "slide_type": "fragment"
    }
   },
   "outputs": [
    {
     "name": "stdout",
     "output_type": "stream",
     "text": [
      "<class 'pandas.core.frame.DataFrame'>\n",
      "MultiIndex: 72 entries, ('Canada', 2017) to ('United States', 2000)\n",
      "Data columns (total 5 columns):\n",
      " #   Column       Non-Null Count  Dtype  \n",
      "---  ------       --------------  -----  \n",
      " 0   GovExpend    72 non-null     float64\n",
      " 1   Consumption  72 non-null     float64\n",
      " 2   Exports      72 non-null     float64\n",
      " 3   Imports      72 non-null     float64\n",
      " 4   GDP          72 non-null     float64\n",
      "dtypes: float64(5)\n",
      "memory usage: 3.9+ KB\n"
     ]
    },
    {
     "data": {
      "text/html": [
       "<div>\n",
       "<style scoped>\n",
       "    .dataframe tbody tr th:only-of-type {\n",
       "        vertical-align: middle;\n",
       "    }\n",
       "\n",
       "    .dataframe tbody tr th {\n",
       "        vertical-align: top;\n",
       "    }\n",
       "\n",
       "    .dataframe thead th {\n",
       "        text-align: right;\n",
       "    }\n",
       "</style>\n",
       "<table border=\"1\" class=\"dataframe\">\n",
       "  <thead>\n",
       "    <tr style=\"text-align: right;\">\n",
       "      <th></th>\n",
       "      <th>GovExpend</th>\n",
       "      <th>Consumption</th>\n",
       "      <th>Exports</th>\n",
       "      <th>Imports</th>\n",
       "      <th>GDP</th>\n",
       "    </tr>\n",
       "    <tr>\n",
       "      <th>country</th>\n",
       "      <th></th>\n",
       "      <th></th>\n",
       "      <th></th>\n",
       "      <th></th>\n",
       "      <th></th>\n",
       "    </tr>\n",
       "  </thead>\n",
       "  <tbody>\n",
       "    <tr>\n",
       "      <th>Canada</th>\n",
       "      <td>0.372665</td>\n",
       "      <td>1.095475</td>\n",
       "      <td>0.582831</td>\n",
       "      <td>0.600031</td>\n",
       "      <td>1.868164</td>\n",
       "    </tr>\n",
       "    <tr>\n",
       "      <th>Germany</th>\n",
       "      <td>0.745579</td>\n",
       "      <td>2.112009</td>\n",
       "      <td>1.930563</td>\n",
       "      <td>1.666348</td>\n",
       "      <td>3.883870</td>\n",
       "    </tr>\n",
       "    <tr>\n",
       "      <th>United Kingdom</th>\n",
       "      <td>0.549538</td>\n",
       "      <td>1.809154</td>\n",
       "      <td>0.862629</td>\n",
       "      <td>0.933145</td>\n",
       "      <td>2.818704</td>\n",
       "    </tr>\n",
       "    <tr>\n",
       "      <th>United States</th>\n",
       "      <td>2.405743</td>\n",
       "      <td>12.019266</td>\n",
       "      <td>2.287071</td>\n",
       "      <td>3.069954</td>\n",
       "      <td>17.348627</td>\n",
       "    </tr>\n",
       "  </tbody>\n",
       "</table>\n",
       "</div>"
      ],
      "text/plain": [
       "                GovExpend  Consumption   Exports   Imports        GDP\n",
       "country                                                              \n",
       "Canada           0.372665     1.095475  0.582831  0.600031   1.868164\n",
       "Germany          0.745579     2.112009  1.930563  1.666348   3.883870\n",
       "United Kingdom   0.549538     1.809154  0.862629  0.933145   2.818704\n",
       "United States    2.405743    12.019266  2.287071  3.069954  17.348627"
      ]
     },
     "execution_count": 2,
     "metadata": {},
     "output_type": "execute_result"
    }
   ],
   "source": [
    "# from WDI. Units trillions of 2010 USD\n",
    "import ssl\n",
    "ssl._create_default_https_context = ssl._create_unverified_context\n",
    "url = \"https://datascience.quantecon.org/assets/data/wdi_data.csv\"\n",
    "wdi = pd.read_csv(url).set_index([\"country\", \"year\"])\n",
    "wdi.info()\n",
    "\n",
    "wdi2017 = wdi.xs(2017, level=\"year\")\n",
    "wdi2017"
   ]
  },
  {
   "cell_type": "code",
   "execution_count": 3,
   "metadata": {
    "ExecuteTime": {
     "end_time": "2021-11-13T05:47:03.497653Z",
     "start_time": "2021-11-13T05:47:03.483650Z"
    },
    "hide-output": false,
    "slideshow": {
     "slide_type": "fragment"
    }
   },
   "outputs": [
    {
     "data": {
      "text/html": [
       "<div>\n",
       "<style scoped>\n",
       "    .dataframe tbody tr th:only-of-type {\n",
       "        vertical-align: middle;\n",
       "    }\n",
       "\n",
       "    .dataframe tbody tr th {\n",
       "        vertical-align: top;\n",
       "    }\n",
       "\n",
       "    .dataframe thead th {\n",
       "        text-align: right;\n",
       "    }\n",
       "</style>\n",
       "<table border=\"1\" class=\"dataframe\">\n",
       "  <thead>\n",
       "    <tr style=\"text-align: right;\">\n",
       "      <th></th>\n",
       "      <th></th>\n",
       "      <th>GovExpend</th>\n",
       "      <th>Consumption</th>\n",
       "      <th>Exports</th>\n",
       "      <th>Imports</th>\n",
       "      <th>GDP</th>\n",
       "    </tr>\n",
       "    <tr>\n",
       "      <th>country</th>\n",
       "      <th>year</th>\n",
       "      <th></th>\n",
       "      <th></th>\n",
       "      <th></th>\n",
       "      <th></th>\n",
       "      <th></th>\n",
       "    </tr>\n",
       "  </thead>\n",
       "  <tbody>\n",
       "    <tr>\n",
       "      <th>Canada</th>\n",
       "      <th>2016</th>\n",
       "      <td>0.364899</td>\n",
       "      <td>1.058426</td>\n",
       "      <td>0.576394</td>\n",
       "      <td>0.575775</td>\n",
       "      <td>1.814016</td>\n",
       "    </tr>\n",
       "    <tr>\n",
       "      <th>Germany</th>\n",
       "      <th>2016</th>\n",
       "      <td>0.734014</td>\n",
       "      <td>2.075615</td>\n",
       "      <td>1.844949</td>\n",
       "      <td>1.589495</td>\n",
       "      <td>3.801859</td>\n",
       "    </tr>\n",
       "    <tr>\n",
       "      <th>United Kingdom</th>\n",
       "      <th>2016</th>\n",
       "      <td>0.550596</td>\n",
       "      <td>1.772348</td>\n",
       "      <td>0.816792</td>\n",
       "      <td>0.901494</td>\n",
       "      <td>2.768241</td>\n",
       "    </tr>\n",
       "    <tr>\n",
       "      <th>United States</th>\n",
       "      <th>2016</th>\n",
       "      <td>2.407981</td>\n",
       "      <td>11.722133</td>\n",
       "      <td>2.219937</td>\n",
       "      <td>2.936004</td>\n",
       "      <td>16.972348</td>\n",
       "    </tr>\n",
       "    <tr>\n",
       "      <th>Canada</th>\n",
       "      <th>2017</th>\n",
       "      <td>0.372665</td>\n",
       "      <td>1.095475</td>\n",
       "      <td>0.582831</td>\n",
       "      <td>0.600031</td>\n",
       "      <td>1.868164</td>\n",
       "    </tr>\n",
       "    <tr>\n",
       "      <th>Germany</th>\n",
       "      <th>2017</th>\n",
       "      <td>0.745579</td>\n",
       "      <td>2.112009</td>\n",
       "      <td>1.930563</td>\n",
       "      <td>1.666348</td>\n",
       "      <td>3.883870</td>\n",
       "    </tr>\n",
       "    <tr>\n",
       "      <th>United Kingdom</th>\n",
       "      <th>2017</th>\n",
       "      <td>0.549538</td>\n",
       "      <td>1.809154</td>\n",
       "      <td>0.862629</td>\n",
       "      <td>0.933145</td>\n",
       "      <td>2.818704</td>\n",
       "    </tr>\n",
       "    <tr>\n",
       "      <th>United States</th>\n",
       "      <th>2017</th>\n",
       "      <td>2.405743</td>\n",
       "      <td>12.019266</td>\n",
       "      <td>2.287071</td>\n",
       "      <td>3.069954</td>\n",
       "      <td>17.348627</td>\n",
       "    </tr>\n",
       "  </tbody>\n",
       "</table>\n",
       "</div>"
      ],
      "text/plain": [
       "                     GovExpend  Consumption   Exports   Imports        GDP\n",
       "country        year                                                       \n",
       "Canada         2016   0.364899     1.058426  0.576394  0.575775   1.814016\n",
       "Germany        2016   0.734014     2.075615  1.844949  1.589495   3.801859\n",
       "United Kingdom 2016   0.550596     1.772348  0.816792  0.901494   2.768241\n",
       "United States  2016   2.407981    11.722133  2.219937  2.936004  16.972348\n",
       "Canada         2017   0.372665     1.095475  0.582831  0.600031   1.868164\n",
       "Germany        2017   0.745579     2.112009  1.930563  1.666348   3.883870\n",
       "United Kingdom 2017   0.549538     1.809154  0.862629  0.933145   2.818704\n",
       "United States  2017   2.405743    12.019266  2.287071  3.069954  17.348627"
      ]
     },
     "execution_count": 3,
     "metadata": {},
     "output_type": "execute_result"
    }
   ],
   "source": [
    "wdi2016_17 = wdi.loc[pd.IndexSlice[:, [2016, 2017]],: ]\n",
    "wdi2016_17"
   ]
  },
  {
   "cell_type": "code",
   "execution_count": 4,
   "metadata": {
    "ExecuteTime": {
     "end_time": "2021-11-13T05:47:03.513664Z",
     "start_time": "2021-11-13T05:47:03.499654Z"
    },
    "hide-output": false,
    "slideshow": {
     "slide_type": "fragment"
    }
   },
   "outputs": [
    {
     "data": {
      "text/html": [
       "<div>\n",
       "<style scoped>\n",
       "    .dataframe tbody tr th:only-of-type {\n",
       "        vertical-align: middle;\n",
       "    }\n",
       "\n",
       "    .dataframe tbody tr th {\n",
       "        vertical-align: top;\n",
       "    }\n",
       "\n",
       "    .dataframe thead th {\n",
       "        text-align: right;\n",
       "    }\n",
       "</style>\n",
       "<table border=\"1\" class=\"dataframe\">\n",
       "  <thead>\n",
       "    <tr style=\"text-align: right;\">\n",
       "      <th></th>\n",
       "      <th>sq_miles</th>\n",
       "    </tr>\n",
       "    <tr>\n",
       "      <th>country</th>\n",
       "      <th></th>\n",
       "    </tr>\n",
       "  </thead>\n",
       "  <tbody>\n",
       "    <tr>\n",
       "      <th>United States</th>\n",
       "      <td>3.8000</td>\n",
       "    </tr>\n",
       "    <tr>\n",
       "      <th>Canada</th>\n",
       "      <td>3.8000</td>\n",
       "    </tr>\n",
       "    <tr>\n",
       "      <th>Germany</th>\n",
       "      <td>0.1370</td>\n",
       "    </tr>\n",
       "    <tr>\n",
       "      <th>United Kingdom</th>\n",
       "      <td>0.0936</td>\n",
       "    </tr>\n",
       "    <tr>\n",
       "      <th>Russia</th>\n",
       "      <td>6.6000</td>\n",
       "    </tr>\n",
       "  </tbody>\n",
       "</table>\n",
       "</div>"
      ],
      "text/plain": [
       "                sq_miles\n",
       "country                 \n",
       "United States     3.8000\n",
       "Canada            3.8000\n",
       "Germany           0.1370\n",
       "United Kingdom    0.0936\n",
       "Russia            6.6000"
      ]
     },
     "execution_count": 4,
     "metadata": {},
     "output_type": "execute_result"
    }
   ],
   "source": [
    "# Data from https://www.nationmaster.com/country-info/stats/Geography/Land-area/Square-miles\n",
    "# units -- millions of square miles\n",
    "sq_miles = pd.Series({\n",
    "   \"United States\": 3.8,\n",
    "   \"Canada\": 3.8,\n",
    "   \"Germany\": 0.137,\n",
    "   \"United Kingdom\": 0.0936,\n",
    "   \"Russia\": 6.6,\n",
    "}, name=\"sq_miles\").to_frame()\n",
    "sq_miles.index.name = \"country\"\n",
    "sq_miles"
   ]
  },
  {
   "cell_type": "code",
   "execution_count": 5,
   "metadata": {
    "ExecuteTime": {
     "end_time": "2021-11-13T05:47:03.890863Z",
     "start_time": "2021-11-13T05:47:03.515660Z"
    },
    "hide-output": false,
    "slideshow": {
     "slide_type": "fragment"
    }
   },
   "outputs": [
    {
     "name": "stdout",
     "output_type": "stream",
     "text": [
      "<class 'pandas.core.frame.DataFrame'>\n",
      "MultiIndex: 72 entries, ('Canada', 2017) to ('United States', 2000)\n",
      "Data columns (total 1 columns):\n",
      " #   Column      Non-Null Count  Dtype  \n",
      "---  ------      --------------  -----  \n",
      " 0   Population  72 non-null     float64\n",
      "dtypes: float64(1)\n",
      "memory usage: 1.7+ KB\n"
     ]
    },
    {
     "data": {
      "text/html": [
       "<div>\n",
       "<style scoped>\n",
       "    .dataframe tbody tr th:only-of-type {\n",
       "        vertical-align: middle;\n",
       "    }\n",
       "\n",
       "    .dataframe tbody tr th {\n",
       "        vertical-align: top;\n",
       "    }\n",
       "\n",
       "    .dataframe thead th {\n",
       "        text-align: right;\n",
       "    }\n",
       "</style>\n",
       "<table border=\"1\" class=\"dataframe\">\n",
       "  <thead>\n",
       "    <tr style=\"text-align: right;\">\n",
       "      <th></th>\n",
       "      <th></th>\n",
       "      <th>Population</th>\n",
       "    </tr>\n",
       "    <tr>\n",
       "      <th>country</th>\n",
       "      <th>year</th>\n",
       "      <th></th>\n",
       "    </tr>\n",
       "  </thead>\n",
       "  <tbody>\n",
       "    <tr>\n",
       "      <th rowspan=\"10\" valign=\"top\">Canada</th>\n",
       "      <th>2017</th>\n",
       "      <td>36.540268</td>\n",
       "    </tr>\n",
       "    <tr>\n",
       "      <th>2016</th>\n",
       "      <td>36.109487</td>\n",
       "    </tr>\n",
       "    <tr>\n",
       "      <th>2015</th>\n",
       "      <td>35.702908</td>\n",
       "    </tr>\n",
       "    <tr>\n",
       "      <th>2014</th>\n",
       "      <td>35.437435</td>\n",
       "    </tr>\n",
       "    <tr>\n",
       "      <th>2013</th>\n",
       "      <td>35.082954</td>\n",
       "    </tr>\n",
       "    <tr>\n",
       "      <th>2012</th>\n",
       "      <td>34.714222</td>\n",
       "    </tr>\n",
       "    <tr>\n",
       "      <th>2011</th>\n",
       "      <td>34.339328</td>\n",
       "    </tr>\n",
       "    <tr>\n",
       "      <th>2010</th>\n",
       "      <td>34.004889</td>\n",
       "    </tr>\n",
       "    <tr>\n",
       "      <th>2009</th>\n",
       "      <td>33.628895</td>\n",
       "    </tr>\n",
       "    <tr>\n",
       "      <th>2008</th>\n",
       "      <td>33.247118</td>\n",
       "    </tr>\n",
       "  </tbody>\n",
       "</table>\n",
       "</div>"
      ],
      "text/plain": [
       "              Population\n",
       "country year            \n",
       "Canada  2017   36.540268\n",
       "        2016   36.109487\n",
       "        2015   35.702908\n",
       "        2014   35.437435\n",
       "        2013   35.082954\n",
       "        2012   34.714222\n",
       "        2011   34.339328\n",
       "        2010   34.004889\n",
       "        2009   33.628895\n",
       "        2008   33.247118"
      ]
     },
     "execution_count": 5,
     "metadata": {},
     "output_type": "execute_result"
    }
   ],
   "source": [
    "# from WDI. Units millions of people\n",
    "pop_url = \"https://datascience.quantecon.org/assets/data/wdi_population.csv\"\n",
    "pop = pd.read_csv(pop_url).set_index([\"country\", \"year\"])\n",
    "pop.info()\n",
    "pop.head(10)"
   ]
  },
  {
   "cell_type": "markdown",
   "metadata": {
    "slideshow": {
     "slide_type": "subslide"
    }
   },
   "source": [
    "Suppose that we were asked to compute a number of statistics with the data above:\n",
    "\n",
    "- As a measure of land usage or productivity, what is Consumption per square mile?  \n",
    "- What is GDP per capita (per person) for each country in each year? How about\n",
    "  Consumption per person?  \n",
    "- What is the population density of each country? How much does it change over time?  \n",
    "\n",
    "\n",
    "Notice that to answer any of the questions from above, we will have to use data\n",
    "from more than one of our DataFrames.\n",
    "\n",
    "In this lecture, we will learn many techniques for combining datasets that\n",
    "originate from different sources, careful to ensure that data is properly\n",
    "aligned.\n",
    "\n",
    "In pandas three main methods can combine datasets:\n",
    "\n",
    "1. `pd.concat([dfs...])`  \n",
    "1. `pd.merge(df1, df2)`  \n",
    "1. `df1.join(df2)`  \n",
    "\n",
    "\n",
    "We’ll look at each one."
   ]
  },
  {
   "cell_type": "markdown",
   "metadata": {
    "slideshow": {
     "slide_type": "slide"
    }
   },
   "source": [
    "## `pd.concat`\n",
    "\n",
    "The `pd.concat` function is used to stack two or more DataFrames\n",
    "together.\n",
    "\n",
    "An example of when you might want to do this is if you have monthly data\n",
    "in separate files on your computer and would like to have 1 year of data\n",
    "in a single DataFrame.\n",
    "\n",
    "The first argument to `pd.concat` is a list of DataFrames to be\n",
    "stitched together.\n",
    "\n",
    "The other commonly used argument is named `axis`.\n",
    "\n",
    "As we have seen before, many pandas functions have an `axis` argument\n",
    "that specifies whether a particular operation should happen down rows\n",
    "(`axis=0`) or along columns (`axis=1`).\n",
    "\n",
    "In the context of `pd.concat`, setting `axis=0` (the default case)\n",
    "will stack DataFrames on top of one another while `axis=1` stacks them\n",
    "side by side.\n",
    "\n",
    "We’ll look at each case separately."
   ]
  },
  {
   "cell_type": "markdown",
   "metadata": {
    "slideshow": {
     "slide_type": "subslide"
    }
   },
   "source": [
    "### `axis=0`\n",
    "\n",
    "When we call `pd.concat` and set `axis=0`, the list of DataFrames\n",
    "passed in the first argument will be stacked on top of one another.\n",
    "\n",
    "Let’s try it out here."
   ]
  },
  {
   "cell_type": "code",
   "execution_count": 6,
   "metadata": {
    "ExecuteTime": {
     "end_time": "2021-11-13T05:47:03.906397Z",
     "start_time": "2021-11-13T05:47:03.892374Z"
    },
    "hide-output": false,
    "slideshow": {
     "slide_type": "-"
    }
   },
   "outputs": [
    {
     "data": {
      "text/html": [
       "<div>\n",
       "<style scoped>\n",
       "    .dataframe tbody tr th:only-of-type {\n",
       "        vertical-align: middle;\n",
       "    }\n",
       "\n",
       "    .dataframe tbody tr th {\n",
       "        vertical-align: top;\n",
       "    }\n",
       "\n",
       "    .dataframe thead th {\n",
       "        text-align: right;\n",
       "    }\n",
       "</style>\n",
       "<table border=\"1\" class=\"dataframe\">\n",
       "  <thead>\n",
       "    <tr style=\"text-align: right;\">\n",
       "      <th></th>\n",
       "      <th>GovExpend</th>\n",
       "      <th>Consumption</th>\n",
       "      <th>Exports</th>\n",
       "      <th>Imports</th>\n",
       "      <th>GDP</th>\n",
       "      <th>sq_miles</th>\n",
       "    </tr>\n",
       "    <tr>\n",
       "      <th>country</th>\n",
       "      <th></th>\n",
       "      <th></th>\n",
       "      <th></th>\n",
       "      <th></th>\n",
       "      <th></th>\n",
       "      <th></th>\n",
       "    </tr>\n",
       "  </thead>\n",
       "  <tbody>\n",
       "    <tr>\n",
       "      <th>Canada</th>\n",
       "      <td>0.372665</td>\n",
       "      <td>1.095475</td>\n",
       "      <td>0.582831</td>\n",
       "      <td>0.600031</td>\n",
       "      <td>1.868164</td>\n",
       "      <td>NaN</td>\n",
       "    </tr>\n",
       "    <tr>\n",
       "      <th>Germany</th>\n",
       "      <td>0.745579</td>\n",
       "      <td>2.112009</td>\n",
       "      <td>1.930563</td>\n",
       "      <td>1.666348</td>\n",
       "      <td>3.883870</td>\n",
       "      <td>NaN</td>\n",
       "    </tr>\n",
       "    <tr>\n",
       "      <th>United Kingdom</th>\n",
       "      <td>0.549538</td>\n",
       "      <td>1.809154</td>\n",
       "      <td>0.862629</td>\n",
       "      <td>0.933145</td>\n",
       "      <td>2.818704</td>\n",
       "      <td>NaN</td>\n",
       "    </tr>\n",
       "    <tr>\n",
       "      <th>United States</th>\n",
       "      <td>2.405743</td>\n",
       "      <td>12.019266</td>\n",
       "      <td>2.287071</td>\n",
       "      <td>3.069954</td>\n",
       "      <td>17.348627</td>\n",
       "      <td>NaN</td>\n",
       "    </tr>\n",
       "    <tr>\n",
       "      <th>United States</th>\n",
       "      <td>NaN</td>\n",
       "      <td>NaN</td>\n",
       "      <td>NaN</td>\n",
       "      <td>NaN</td>\n",
       "      <td>NaN</td>\n",
       "      <td>3.8000</td>\n",
       "    </tr>\n",
       "    <tr>\n",
       "      <th>Canada</th>\n",
       "      <td>NaN</td>\n",
       "      <td>NaN</td>\n",
       "      <td>NaN</td>\n",
       "      <td>NaN</td>\n",
       "      <td>NaN</td>\n",
       "      <td>3.8000</td>\n",
       "    </tr>\n",
       "    <tr>\n",
       "      <th>Germany</th>\n",
       "      <td>NaN</td>\n",
       "      <td>NaN</td>\n",
       "      <td>NaN</td>\n",
       "      <td>NaN</td>\n",
       "      <td>NaN</td>\n",
       "      <td>0.1370</td>\n",
       "    </tr>\n",
       "    <tr>\n",
       "      <th>United Kingdom</th>\n",
       "      <td>NaN</td>\n",
       "      <td>NaN</td>\n",
       "      <td>NaN</td>\n",
       "      <td>NaN</td>\n",
       "      <td>NaN</td>\n",
       "      <td>0.0936</td>\n",
       "    </tr>\n",
       "    <tr>\n",
       "      <th>Russia</th>\n",
       "      <td>NaN</td>\n",
       "      <td>NaN</td>\n",
       "      <td>NaN</td>\n",
       "      <td>NaN</td>\n",
       "      <td>NaN</td>\n",
       "      <td>6.6000</td>\n",
       "    </tr>\n",
       "  </tbody>\n",
       "</table>\n",
       "</div>"
      ],
      "text/plain": [
       "                GovExpend  Consumption   Exports   Imports        GDP  \\\n",
       "country                                                                 \n",
       "Canada           0.372665     1.095475  0.582831  0.600031   1.868164   \n",
       "Germany          0.745579     2.112009  1.930563  1.666348   3.883870   \n",
       "United Kingdom   0.549538     1.809154  0.862629  0.933145   2.818704   \n",
       "United States    2.405743    12.019266  2.287071  3.069954  17.348627   \n",
       "United States         NaN          NaN       NaN       NaN        NaN   \n",
       "Canada                NaN          NaN       NaN       NaN        NaN   \n",
       "Germany               NaN          NaN       NaN       NaN        NaN   \n",
       "United Kingdom        NaN          NaN       NaN       NaN        NaN   \n",
       "Russia                NaN          NaN       NaN       NaN        NaN   \n",
       "\n",
       "                sq_miles  \n",
       "country                   \n",
       "Canada               NaN  \n",
       "Germany              NaN  \n",
       "United Kingdom       NaN  \n",
       "United States        NaN  \n",
       "United States     3.8000  \n",
       "Canada            3.8000  \n",
       "Germany           0.1370  \n",
       "United Kingdom    0.0936  \n",
       "Russia            6.6000  "
      ]
     },
     "execution_count": 6,
     "metadata": {},
     "output_type": "execute_result"
    }
   ],
   "source": [
    "# equivalent to pd.concat([wdi2017, sq_miles]) -- axis=0 is default\n",
    "pd.concat([wdi2017, sq_miles], axis=0)"
   ]
  },
  {
   "cell_type": "markdown",
   "metadata": {
    "slideshow": {
     "slide_type": "fragment"
    }
   },
   "source": [
    "Notice a few things:\n",
    "\n",
    "- \n",
    "  <dl style='margin: 20px 0;'>\n",
    "  <dt>The number of rows in the output is the total number</dt>\n",
    "  <dd>\n",
    "  of rows in all inputs. The labels are all from the original\n",
    "  DataFrames.  \n",
    "  </dd>\n",
    "  \n",
    "  </dl>\n",
    "  \n",
    "- The column labels are all the distinct column labels from all the inputs.  \n",
    "- For columns that appeared only in one input, the value for all row labels\n",
    "  originating from a different input is equal to `NaN` (marked as missing).  "
   ]
  },
  {
   "cell_type": "markdown",
   "metadata": {
    "slideshow": {
     "slide_type": "subslide"
    }
   },
   "source": [
    "### `axis=1`\n",
    "\n",
    "In this example, concatenating by stacking\n",
    "side-by-side makes more sense.\n",
    "\n",
    "We accomplish this by passing `axis=1` to `pd.concat`:"
   ]
  },
  {
   "cell_type": "code",
   "execution_count": 7,
   "metadata": {
    "ExecuteTime": {
     "end_time": "2021-11-13T05:47:03.922389Z",
     "start_time": "2021-11-13T05:47:03.908377Z"
    },
    "hide-output": false,
    "slideshow": {
     "slide_type": "-"
    }
   },
   "outputs": [
    {
     "data": {
      "text/html": [
       "<div>\n",
       "<style scoped>\n",
       "    .dataframe tbody tr th:only-of-type {\n",
       "        vertical-align: middle;\n",
       "    }\n",
       "\n",
       "    .dataframe tbody tr th {\n",
       "        vertical-align: top;\n",
       "    }\n",
       "\n",
       "    .dataframe thead th {\n",
       "        text-align: right;\n",
       "    }\n",
       "</style>\n",
       "<table border=\"1\" class=\"dataframe\">\n",
       "  <thead>\n",
       "    <tr style=\"text-align: right;\">\n",
       "      <th></th>\n",
       "      <th>GovExpend</th>\n",
       "      <th>Consumption</th>\n",
       "      <th>Exports</th>\n",
       "      <th>Imports</th>\n",
       "      <th>GDP</th>\n",
       "      <th>sq_miles</th>\n",
       "    </tr>\n",
       "    <tr>\n",
       "      <th>country</th>\n",
       "      <th></th>\n",
       "      <th></th>\n",
       "      <th></th>\n",
       "      <th></th>\n",
       "      <th></th>\n",
       "      <th></th>\n",
       "    </tr>\n",
       "  </thead>\n",
       "  <tbody>\n",
       "    <tr>\n",
       "      <th>Canada</th>\n",
       "      <td>0.372665</td>\n",
       "      <td>1.095475</td>\n",
       "      <td>0.582831</td>\n",
       "      <td>0.600031</td>\n",
       "      <td>1.868164</td>\n",
       "      <td>3.8000</td>\n",
       "    </tr>\n",
       "    <tr>\n",
       "      <th>Germany</th>\n",
       "      <td>0.745579</td>\n",
       "      <td>2.112009</td>\n",
       "      <td>1.930563</td>\n",
       "      <td>1.666348</td>\n",
       "      <td>3.883870</td>\n",
       "      <td>0.1370</td>\n",
       "    </tr>\n",
       "    <tr>\n",
       "      <th>United Kingdom</th>\n",
       "      <td>0.549538</td>\n",
       "      <td>1.809154</td>\n",
       "      <td>0.862629</td>\n",
       "      <td>0.933145</td>\n",
       "      <td>2.818704</td>\n",
       "      <td>0.0936</td>\n",
       "    </tr>\n",
       "    <tr>\n",
       "      <th>United States</th>\n",
       "      <td>2.405743</td>\n",
       "      <td>12.019266</td>\n",
       "      <td>2.287071</td>\n",
       "      <td>3.069954</td>\n",
       "      <td>17.348627</td>\n",
       "      <td>3.8000</td>\n",
       "    </tr>\n",
       "    <tr>\n",
       "      <th>Russia</th>\n",
       "      <td>NaN</td>\n",
       "      <td>NaN</td>\n",
       "      <td>NaN</td>\n",
       "      <td>NaN</td>\n",
       "      <td>NaN</td>\n",
       "      <td>6.6000</td>\n",
       "    </tr>\n",
       "  </tbody>\n",
       "</table>\n",
       "</div>"
      ],
      "text/plain": [
       "                GovExpend  Consumption   Exports   Imports        GDP  \\\n",
       "country                                                                 \n",
       "Canada           0.372665     1.095475  0.582831  0.600031   1.868164   \n",
       "Germany          0.745579     2.112009  1.930563  1.666348   3.883870   \n",
       "United Kingdom   0.549538     1.809154  0.862629  0.933145   2.818704   \n",
       "United States    2.405743    12.019266  2.287071  3.069954  17.348627   \n",
       "Russia                NaN          NaN       NaN       NaN        NaN   \n",
       "\n",
       "                sq_miles  \n",
       "country                   \n",
       "Canada            3.8000  \n",
       "Germany           0.1370  \n",
       "United Kingdom    0.0936  \n",
       "United States     3.8000  \n",
       "Russia            6.6000  "
      ]
     },
     "execution_count": 7,
     "metadata": {},
     "output_type": "execute_result"
    }
   ],
   "source": [
    "pd.concat([wdi2017, sq_miles], axis=1)"
   ]
  },
  {
   "cell_type": "markdown",
   "metadata": {
    "slideshow": {
     "slide_type": "fragment"
    }
   },
   "source": [
    "Notice here that\n",
    "\n",
    "- The index entries are all unique index entries that appeared in any DataFrame.  \n",
    "- The column labels are all column labels from the inputs.  \n",
    "- As `wdi2017` didn’t have a `Russia` row, the value for all of its columns\n",
    "  is `NaN`.  \n",
    "\n",
    "\n",
    "Now we can answer one of our questions from above: What is\n",
    "Consumption per square mile?"
   ]
  },
  {
   "cell_type": "code",
   "execution_count": 8,
   "metadata": {
    "ExecuteTime": {
     "end_time": "2021-11-13T05:47:03.938385Z",
     "start_time": "2021-11-13T05:47:03.924382Z"
    },
    "hide-output": false,
    "slideshow": {
     "slide_type": "fragment"
    }
   },
   "outputs": [
    {
     "data": {
      "text/plain": [
       "country\n",
       "Canada             0.288283\n",
       "Germany           15.416124\n",
       "United Kingdom    19.328569\n",
       "United States      3.162965\n",
       "Russia                  NaN\n",
       "dtype: float64"
      ]
     },
     "execution_count": 8,
     "metadata": {},
     "output_type": "execute_result"
    }
   ],
   "source": [
    "temp = pd.concat([wdi2017, sq_miles], axis=1)\n",
    "temp[\"Consumption\"] / temp[\"sq_miles\"]"
   ]
  },
  {
   "cell_type": "markdown",
   "metadata": {
    "slideshow": {
     "slide_type": "subslide"
    }
   },
   "source": [
    "## `pd.merge`\n",
    "\n",
    "`pd.merge` operates on two DataFrames at a time and is primarily used\n",
    "to bring columns from one DataFrame into another, *aligning* data based\n",
    "on one or more “key” columns.\n",
    "\n",
    "This is a somewhat difficult concept to grasp by reading, so let’s look at some\n",
    "examples."
   ]
  },
  {
   "cell_type": "code",
   "execution_count": 9,
   "metadata": {
    "ExecuteTime": {
     "end_time": "2021-11-13T05:47:03.954388Z",
     "start_time": "2021-11-13T05:47:03.940386Z"
    },
    "hide-output": false,
    "scrolled": true,
    "slideshow": {
     "slide_type": "-"
    }
   },
   "outputs": [
    {
     "data": {
      "text/html": [
       "<div>\n",
       "<style scoped>\n",
       "    .dataframe tbody tr th:only-of-type {\n",
       "        vertical-align: middle;\n",
       "    }\n",
       "\n",
       "    .dataframe tbody tr th {\n",
       "        vertical-align: top;\n",
       "    }\n",
       "\n",
       "    .dataframe thead th {\n",
       "        text-align: right;\n",
       "    }\n",
       "</style>\n",
       "<table border=\"1\" class=\"dataframe\">\n",
       "  <thead>\n",
       "    <tr style=\"text-align: right;\">\n",
       "      <th></th>\n",
       "      <th>GovExpend</th>\n",
       "      <th>Consumption</th>\n",
       "      <th>Exports</th>\n",
       "      <th>Imports</th>\n",
       "      <th>GDP</th>\n",
       "      <th>sq_miles</th>\n",
       "    </tr>\n",
       "    <tr>\n",
       "      <th>country</th>\n",
       "      <th></th>\n",
       "      <th></th>\n",
       "      <th></th>\n",
       "      <th></th>\n",
       "      <th></th>\n",
       "      <th></th>\n",
       "    </tr>\n",
       "  </thead>\n",
       "  <tbody>\n",
       "    <tr>\n",
       "      <th>Canada</th>\n",
       "      <td>0.372665</td>\n",
       "      <td>1.095475</td>\n",
       "      <td>0.582831</td>\n",
       "      <td>0.600031</td>\n",
       "      <td>1.868164</td>\n",
       "      <td>3.8000</td>\n",
       "    </tr>\n",
       "    <tr>\n",
       "      <th>Germany</th>\n",
       "      <td>0.745579</td>\n",
       "      <td>2.112009</td>\n",
       "      <td>1.930563</td>\n",
       "      <td>1.666348</td>\n",
       "      <td>3.883870</td>\n",
       "      <td>0.1370</td>\n",
       "    </tr>\n",
       "    <tr>\n",
       "      <th>United Kingdom</th>\n",
       "      <td>0.549538</td>\n",
       "      <td>1.809154</td>\n",
       "      <td>0.862629</td>\n",
       "      <td>0.933145</td>\n",
       "      <td>2.818704</td>\n",
       "      <td>0.0936</td>\n",
       "    </tr>\n",
       "    <tr>\n",
       "      <th>United States</th>\n",
       "      <td>2.405743</td>\n",
       "      <td>12.019266</td>\n",
       "      <td>2.287071</td>\n",
       "      <td>3.069954</td>\n",
       "      <td>17.348627</td>\n",
       "      <td>3.8000</td>\n",
       "    </tr>\n",
       "  </tbody>\n",
       "</table>\n",
       "</div>"
      ],
      "text/plain": [
       "                GovExpend  Consumption   Exports   Imports        GDP  \\\n",
       "country                                                                 \n",
       "Canada           0.372665     1.095475  0.582831  0.600031   1.868164   \n",
       "Germany          0.745579     2.112009  1.930563  1.666348   3.883870   \n",
       "United Kingdom   0.549538     1.809154  0.862629  0.933145   2.818704   \n",
       "United States    2.405743    12.019266  2.287071  3.069954  17.348627   \n",
       "\n",
       "                sq_miles  \n",
       "country                   \n",
       "Canada            3.8000  \n",
       "Germany           0.1370  \n",
       "United Kingdom    0.0936  \n",
       "United States     3.8000  "
      ]
     },
     "execution_count": 9,
     "metadata": {},
     "output_type": "execute_result"
    }
   ],
   "source": [
    "pd.merge(wdi2017, sq_miles, on=\"country\")"
   ]
  },
  {
   "cell_type": "markdown",
   "metadata": {
    "slideshow": {
     "slide_type": "fragment"
    }
   },
   "source": [
    "The output here looks very similar to what we saw with `concat` and\n",
    "`axis=1`, except that the row for `Russia` does not appear.\n",
    "\n",
    "We will talk more about why this happened soon.\n",
    "\n",
    "For now, let’s look at a slightly more intriguing example:"
   ]
  },
  {
   "cell_type": "code",
   "execution_count": 10,
   "metadata": {
    "ExecuteTime": {
     "end_time": "2021-11-13T05:47:03.986415Z",
     "start_time": "2021-11-13T05:47:03.956389Z"
    },
    "hide-output": false,
    "slideshow": {
     "slide_type": "subslide"
    }
   },
   "outputs": [
    {
     "data": {
      "text/html": [
       "<div>\n",
       "<style scoped>\n",
       "    .dataframe tbody tr th:only-of-type {\n",
       "        vertical-align: middle;\n",
       "    }\n",
       "\n",
       "    .dataframe tbody tr th {\n",
       "        vertical-align: top;\n",
       "    }\n",
       "\n",
       "    .dataframe thead th {\n",
       "        text-align: right;\n",
       "    }\n",
       "</style>\n",
       "<table border=\"1\" class=\"dataframe\">\n",
       "  <thead>\n",
       "    <tr style=\"text-align: right;\">\n",
       "      <th></th>\n",
       "      <th>GovExpend</th>\n",
       "      <th>Consumption</th>\n",
       "      <th>Exports</th>\n",
       "      <th>Imports</th>\n",
       "      <th>GDP</th>\n",
       "      <th>sq_miles</th>\n",
       "    </tr>\n",
       "    <tr>\n",
       "      <th>country</th>\n",
       "      <th></th>\n",
       "      <th></th>\n",
       "      <th></th>\n",
       "      <th></th>\n",
       "      <th></th>\n",
       "      <th></th>\n",
       "    </tr>\n",
       "  </thead>\n",
       "  <tbody>\n",
       "    <tr>\n",
       "      <th>Canada</th>\n",
       "      <td>0.364899</td>\n",
       "      <td>1.058426</td>\n",
       "      <td>0.576394</td>\n",
       "      <td>0.575775</td>\n",
       "      <td>1.814016</td>\n",
       "      <td>3.8000</td>\n",
       "    </tr>\n",
       "    <tr>\n",
       "      <th>Canada</th>\n",
       "      <td>0.372665</td>\n",
       "      <td>1.095475</td>\n",
       "      <td>0.582831</td>\n",
       "      <td>0.600031</td>\n",
       "      <td>1.868164</td>\n",
       "      <td>3.8000</td>\n",
       "    </tr>\n",
       "    <tr>\n",
       "      <th>Germany</th>\n",
       "      <td>0.734014</td>\n",
       "      <td>2.075615</td>\n",
       "      <td>1.844949</td>\n",
       "      <td>1.589495</td>\n",
       "      <td>3.801859</td>\n",
       "      <td>0.1370</td>\n",
       "    </tr>\n",
       "    <tr>\n",
       "      <th>Germany</th>\n",
       "      <td>0.745579</td>\n",
       "      <td>2.112009</td>\n",
       "      <td>1.930563</td>\n",
       "      <td>1.666348</td>\n",
       "      <td>3.883870</td>\n",
       "      <td>0.1370</td>\n",
       "    </tr>\n",
       "    <tr>\n",
       "      <th>United Kingdom</th>\n",
       "      <td>0.550596</td>\n",
       "      <td>1.772348</td>\n",
       "      <td>0.816792</td>\n",
       "      <td>0.901494</td>\n",
       "      <td>2.768241</td>\n",
       "      <td>0.0936</td>\n",
       "    </tr>\n",
       "    <tr>\n",
       "      <th>United Kingdom</th>\n",
       "      <td>0.549538</td>\n",
       "      <td>1.809154</td>\n",
       "      <td>0.862629</td>\n",
       "      <td>0.933145</td>\n",
       "      <td>2.818704</td>\n",
       "      <td>0.0936</td>\n",
       "    </tr>\n",
       "    <tr>\n",
       "      <th>United States</th>\n",
       "      <td>2.407981</td>\n",
       "      <td>11.722133</td>\n",
       "      <td>2.219937</td>\n",
       "      <td>2.936004</td>\n",
       "      <td>16.972348</td>\n",
       "      <td>3.8000</td>\n",
       "    </tr>\n",
       "    <tr>\n",
       "      <th>United States</th>\n",
       "      <td>2.405743</td>\n",
       "      <td>12.019266</td>\n",
       "      <td>2.287071</td>\n",
       "      <td>3.069954</td>\n",
       "      <td>17.348627</td>\n",
       "      <td>3.8000</td>\n",
       "    </tr>\n",
       "  </tbody>\n",
       "</table>\n",
       "</div>"
      ],
      "text/plain": [
       "                GovExpend  Consumption   Exports   Imports        GDP  \\\n",
       "country                                                                 \n",
       "Canada           0.364899     1.058426  0.576394  0.575775   1.814016   \n",
       "Canada           0.372665     1.095475  0.582831  0.600031   1.868164   \n",
       "Germany          0.734014     2.075615  1.844949  1.589495   3.801859   \n",
       "Germany          0.745579     2.112009  1.930563  1.666348   3.883870   \n",
       "United Kingdom   0.550596     1.772348  0.816792  0.901494   2.768241   \n",
       "United Kingdom   0.549538     1.809154  0.862629  0.933145   2.818704   \n",
       "United States    2.407981    11.722133  2.219937  2.936004  16.972348   \n",
       "United States    2.405743    12.019266  2.287071  3.069954  17.348627   \n",
       "\n",
       "                sq_miles  \n",
       "country                   \n",
       "Canada            3.8000  \n",
       "Canada            3.8000  \n",
       "Germany           0.1370  \n",
       "Germany           0.1370  \n",
       "United Kingdom    0.0936  \n",
       "United Kingdom    0.0936  \n",
       "United States     3.8000  \n",
       "United States     3.8000  "
      ]
     },
     "execution_count": 10,
     "metadata": {},
     "output_type": "execute_result"
    }
   ],
   "source": [
    "pd.merge(wdi2016_17, sq_miles, on=\"country\")"
   ]
  },
  {
   "cell_type": "markdown",
   "metadata": {
    "slideshow": {
     "slide_type": "fragment"
    }
   },
   "source": [
    "Here’s how we think about what happened:\n",
    "\n",
    "- The data in `wdi2016_17` is copied over exactly as is.  \n",
    "- Because `country` was on the index for both DataFrames, it is on the\n",
    "  index of the output.  \n",
    "- We lost the year on the index – we’ll work on getting it back below.  \n",
    "- The additional column in `sq_miles` was added to column labels for the\n",
    "  output.  \n",
    "- The data from the `sq_miles` column was added to the output by looking up\n",
    "  rows where the `country` in the two DataFrames lined up.\n",
    "  -  Note that all the countries appeared twice, and the data in `sq_miles` was repeated. This is because `wdi2016_17` had two rows for each country.\n",
    "  -  Also note that because `Russia` did not appear in `wdi2016_17`, the value `sq_miles.loc[\"Russia\"]` (i.e. `6.6`) is not used the output.  \n",
    "\n",
    "\n",
    "How do we get the year back?\n",
    "\n",
    "We must first call `reset_index` on `wdi2016_17` so\n",
    "that in the first step when all columns are copied over, `year` is included."
   ]
  },
  {
   "cell_type": "code",
   "execution_count": 11,
   "metadata": {
    "ExecuteTime": {
     "end_time": "2021-11-13T05:47:04.002405Z",
     "start_time": "2021-11-13T05:47:03.987403Z"
    },
    "hide-output": false,
    "slideshow": {
     "slide_type": "fragment"
    }
   },
   "outputs": [
    {
     "data": {
      "text/html": [
       "<div>\n",
       "<style scoped>\n",
       "    .dataframe tbody tr th:only-of-type {\n",
       "        vertical-align: middle;\n",
       "    }\n",
       "\n",
       "    .dataframe tbody tr th {\n",
       "        vertical-align: top;\n",
       "    }\n",
       "\n",
       "    .dataframe thead th {\n",
       "        text-align: right;\n",
       "    }\n",
       "</style>\n",
       "<table border=\"1\" class=\"dataframe\">\n",
       "  <thead>\n",
       "    <tr style=\"text-align: right;\">\n",
       "      <th></th>\n",
       "      <th>country</th>\n",
       "      <th>year</th>\n",
       "      <th>GovExpend</th>\n",
       "      <th>Consumption</th>\n",
       "      <th>Exports</th>\n",
       "      <th>Imports</th>\n",
       "      <th>GDP</th>\n",
       "      <th>sq_miles</th>\n",
       "    </tr>\n",
       "  </thead>\n",
       "  <tbody>\n",
       "    <tr>\n",
       "      <th>0</th>\n",
       "      <td>Canada</td>\n",
       "      <td>2016</td>\n",
       "      <td>0.364899</td>\n",
       "      <td>1.058426</td>\n",
       "      <td>0.576394</td>\n",
       "      <td>0.575775</td>\n",
       "      <td>1.814016</td>\n",
       "      <td>3.8000</td>\n",
       "    </tr>\n",
       "    <tr>\n",
       "      <th>1</th>\n",
       "      <td>Canada</td>\n",
       "      <td>2017</td>\n",
       "      <td>0.372665</td>\n",
       "      <td>1.095475</td>\n",
       "      <td>0.582831</td>\n",
       "      <td>0.600031</td>\n",
       "      <td>1.868164</td>\n",
       "      <td>3.8000</td>\n",
       "    </tr>\n",
       "    <tr>\n",
       "      <th>2</th>\n",
       "      <td>Germany</td>\n",
       "      <td>2016</td>\n",
       "      <td>0.734014</td>\n",
       "      <td>2.075615</td>\n",
       "      <td>1.844949</td>\n",
       "      <td>1.589495</td>\n",
       "      <td>3.801859</td>\n",
       "      <td>0.1370</td>\n",
       "    </tr>\n",
       "    <tr>\n",
       "      <th>3</th>\n",
       "      <td>Germany</td>\n",
       "      <td>2017</td>\n",
       "      <td>0.745579</td>\n",
       "      <td>2.112009</td>\n",
       "      <td>1.930563</td>\n",
       "      <td>1.666348</td>\n",
       "      <td>3.883870</td>\n",
       "      <td>0.1370</td>\n",
       "    </tr>\n",
       "    <tr>\n",
       "      <th>4</th>\n",
       "      <td>United Kingdom</td>\n",
       "      <td>2016</td>\n",
       "      <td>0.550596</td>\n",
       "      <td>1.772348</td>\n",
       "      <td>0.816792</td>\n",
       "      <td>0.901494</td>\n",
       "      <td>2.768241</td>\n",
       "      <td>0.0936</td>\n",
       "    </tr>\n",
       "    <tr>\n",
       "      <th>5</th>\n",
       "      <td>United Kingdom</td>\n",
       "      <td>2017</td>\n",
       "      <td>0.549538</td>\n",
       "      <td>1.809154</td>\n",
       "      <td>0.862629</td>\n",
       "      <td>0.933145</td>\n",
       "      <td>2.818704</td>\n",
       "      <td>0.0936</td>\n",
       "    </tr>\n",
       "    <tr>\n",
       "      <th>6</th>\n",
       "      <td>United States</td>\n",
       "      <td>2016</td>\n",
       "      <td>2.407981</td>\n",
       "      <td>11.722133</td>\n",
       "      <td>2.219937</td>\n",
       "      <td>2.936004</td>\n",
       "      <td>16.972348</td>\n",
       "      <td>3.8000</td>\n",
       "    </tr>\n",
       "    <tr>\n",
       "      <th>7</th>\n",
       "      <td>United States</td>\n",
       "      <td>2017</td>\n",
       "      <td>2.405743</td>\n",
       "      <td>12.019266</td>\n",
       "      <td>2.287071</td>\n",
       "      <td>3.069954</td>\n",
       "      <td>17.348627</td>\n",
       "      <td>3.8000</td>\n",
       "    </tr>\n",
       "  </tbody>\n",
       "</table>\n",
       "</div>"
      ],
      "text/plain": [
       "          country  year  GovExpend  Consumption   Exports   Imports  \\\n",
       "0          Canada  2016   0.364899     1.058426  0.576394  0.575775   \n",
       "1          Canada  2017   0.372665     1.095475  0.582831  0.600031   \n",
       "2         Germany  2016   0.734014     2.075615  1.844949  1.589495   \n",
       "3         Germany  2017   0.745579     2.112009  1.930563  1.666348   \n",
       "4  United Kingdom  2016   0.550596     1.772348  0.816792  0.901494   \n",
       "5  United Kingdom  2017   0.549538     1.809154  0.862629  0.933145   \n",
       "6   United States  2016   2.407981    11.722133  2.219937  2.936004   \n",
       "7   United States  2017   2.405743    12.019266  2.287071  3.069954   \n",
       "\n",
       "         GDP  sq_miles  \n",
       "0   1.814016    3.8000  \n",
       "1   1.868164    3.8000  \n",
       "2   3.801859    0.1370  \n",
       "3   3.883870    0.1370  \n",
       "4   2.768241    0.0936  \n",
       "5   2.818704    0.0936  \n",
       "6  16.972348    3.8000  \n",
       "7  17.348627    3.8000  "
      ]
     },
     "execution_count": 11,
     "metadata": {},
     "output_type": "execute_result"
    }
   ],
   "source": [
    "pd.merge(wdi2016_17.reset_index(), sq_miles, on=\"country\")"
   ]
  },
  {
   "cell_type": "markdown",
   "metadata": {
    "slideshow": {
     "slide_type": "subslide"
    }
   },
   "source": [
    "### Multiple Columns\n",
    "\n",
    "Sometimes, we need to merge multiple columns.\n",
    "\n",
    "For example our `pop` and `wdi2016_17` DataFrames both have observations\n",
    "organized by country and year.\n",
    "\n",
    "To properly merge these datasets, we would need to align the data by\n",
    "both country and year.\n",
    "\n",
    "We pass a list to the `on` argument to accomplish this:"
   ]
  },
  {
   "cell_type": "code",
   "execution_count": 12,
   "metadata": {
    "ExecuteTime": {
     "end_time": "2021-11-13T05:47:04.018469Z",
     "start_time": "2021-11-13T05:47:04.004400Z"
    },
    "hide-output": false,
    "slideshow": {
     "slide_type": "fragment"
    }
   },
   "outputs": [
    {
     "data": {
      "text/html": [
       "<div>\n",
       "<style scoped>\n",
       "    .dataframe tbody tr th:only-of-type {\n",
       "        vertical-align: middle;\n",
       "    }\n",
       "\n",
       "    .dataframe tbody tr th {\n",
       "        vertical-align: top;\n",
       "    }\n",
       "\n",
       "    .dataframe thead th {\n",
       "        text-align: right;\n",
       "    }\n",
       "</style>\n",
       "<table border=\"1\" class=\"dataframe\">\n",
       "  <thead>\n",
       "    <tr style=\"text-align: right;\">\n",
       "      <th></th>\n",
       "      <th>country</th>\n",
       "      <th>year</th>\n",
       "      <th>GovExpend</th>\n",
       "      <th>Consumption</th>\n",
       "      <th>Exports</th>\n",
       "      <th>Imports</th>\n",
       "      <th>GDP</th>\n",
       "      <th>Population</th>\n",
       "    </tr>\n",
       "  </thead>\n",
       "  <tbody>\n",
       "    <tr>\n",
       "      <th>0</th>\n",
       "      <td>Canada</td>\n",
       "      <td>2016</td>\n",
       "      <td>0.364899</td>\n",
       "      <td>1.058426</td>\n",
       "      <td>0.576394</td>\n",
       "      <td>0.575775</td>\n",
       "      <td>1.814016</td>\n",
       "      <td>36.109487</td>\n",
       "    </tr>\n",
       "    <tr>\n",
       "      <th>1</th>\n",
       "      <td>Germany</td>\n",
       "      <td>2016</td>\n",
       "      <td>0.734014</td>\n",
       "      <td>2.075615</td>\n",
       "      <td>1.844949</td>\n",
       "      <td>1.589495</td>\n",
       "      <td>3.801859</td>\n",
       "      <td>82.348669</td>\n",
       "    </tr>\n",
       "    <tr>\n",
       "      <th>2</th>\n",
       "      <td>United Kingdom</td>\n",
       "      <td>2016</td>\n",
       "      <td>0.550596</td>\n",
       "      <td>1.772348</td>\n",
       "      <td>0.816792</td>\n",
       "      <td>0.901494</td>\n",
       "      <td>2.768241</td>\n",
       "      <td>65.595565</td>\n",
       "    </tr>\n",
       "    <tr>\n",
       "      <th>3</th>\n",
       "      <td>United States</td>\n",
       "      <td>2016</td>\n",
       "      <td>2.407981</td>\n",
       "      <td>11.722133</td>\n",
       "      <td>2.219937</td>\n",
       "      <td>2.936004</td>\n",
       "      <td>16.972348</td>\n",
       "      <td>323.071342</td>\n",
       "    </tr>\n",
       "    <tr>\n",
       "      <th>4</th>\n",
       "      <td>Canada</td>\n",
       "      <td>2017</td>\n",
       "      <td>0.372665</td>\n",
       "      <td>1.095475</td>\n",
       "      <td>0.582831</td>\n",
       "      <td>0.600031</td>\n",
       "      <td>1.868164</td>\n",
       "      <td>36.540268</td>\n",
       "    </tr>\n",
       "    <tr>\n",
       "      <th>5</th>\n",
       "      <td>Germany</td>\n",
       "      <td>2017</td>\n",
       "      <td>0.745579</td>\n",
       "      <td>2.112009</td>\n",
       "      <td>1.930563</td>\n",
       "      <td>1.666348</td>\n",
       "      <td>3.883870</td>\n",
       "      <td>82.657002</td>\n",
       "    </tr>\n",
       "    <tr>\n",
       "      <th>6</th>\n",
       "      <td>United Kingdom</td>\n",
       "      <td>2017</td>\n",
       "      <td>0.549538</td>\n",
       "      <td>1.809154</td>\n",
       "      <td>0.862629</td>\n",
       "      <td>0.933145</td>\n",
       "      <td>2.818704</td>\n",
       "      <td>66.058859</td>\n",
       "    </tr>\n",
       "    <tr>\n",
       "      <th>7</th>\n",
       "      <td>United States</td>\n",
       "      <td>2017</td>\n",
       "      <td>2.405743</td>\n",
       "      <td>12.019266</td>\n",
       "      <td>2.287071</td>\n",
       "      <td>3.069954</td>\n",
       "      <td>17.348627</td>\n",
       "      <td>325.147121</td>\n",
       "    </tr>\n",
       "  </tbody>\n",
       "</table>\n",
       "</div>"
      ],
      "text/plain": [
       "          country  year  GovExpend  Consumption   Exports   Imports  \\\n",
       "0          Canada  2016   0.364899     1.058426  0.576394  0.575775   \n",
       "1         Germany  2016   0.734014     2.075615  1.844949  1.589495   \n",
       "2  United Kingdom  2016   0.550596     1.772348  0.816792  0.901494   \n",
       "3   United States  2016   2.407981    11.722133  2.219937  2.936004   \n",
       "4          Canada  2017   0.372665     1.095475  0.582831  0.600031   \n",
       "5         Germany  2017   0.745579     2.112009  1.930563  1.666348   \n",
       "6  United Kingdom  2017   0.549538     1.809154  0.862629  0.933145   \n",
       "7   United States  2017   2.405743    12.019266  2.287071  3.069954   \n",
       "\n",
       "         GDP  Population  \n",
       "0   1.814016   36.109487  \n",
       "1   3.801859   82.348669  \n",
       "2   2.768241   65.595565  \n",
       "3  16.972348  323.071342  \n",
       "4   1.868164   36.540268  \n",
       "5   3.883870   82.657002  \n",
       "6   2.818704   66.058859  \n",
       "7  17.348627  325.147121  "
      ]
     },
     "execution_count": 12,
     "metadata": {},
     "output_type": "execute_result"
    }
   ],
   "source": [
    "pd.merge(wdi2016_17.reset_index(), pop, on=[\"country\", \"year\"])"
   ]
  },
  {
   "cell_type": "markdown",
   "metadata": {
    "slideshow": {
     "slide_type": "-"
    }
   },
   "source": [
    "Now, we can answer more of our questions from above: What is GDP per capita (per\n",
    "person) for each country in each year? How about Consumption per person?"
   ]
  },
  {
   "cell_type": "code",
   "execution_count": 13,
   "metadata": {
    "ExecuteTime": {
     "end_time": "2021-11-13T05:47:04.049986Z",
     "start_time": "2021-11-13T05:47:04.019980Z"
    },
    "hide-output": false,
    "slideshow": {
     "slide_type": "-"
    }
   },
   "outputs": [
    {
     "data": {
      "text/plain": [
       "country         year\n",
       "Canada          2016    0.050237\n",
       "Germany         2016    0.046168\n",
       "United Kingdom  2016    0.042202\n",
       "United States   2016    0.052534\n",
       "Canada          2017    0.051126\n",
       "Germany         2017    0.046988\n",
       "United Kingdom  2017    0.042670\n",
       "United States   2017    0.053356\n",
       "dtype: float64"
      ]
     },
     "execution_count": 13,
     "metadata": {},
     "output_type": "execute_result"
    }
   ],
   "source": [
    "wdi_pop = pd.merge(wdi2016_17, pop, on=[\"country\", \"year\"])\n",
    "wdi_pop[\"GDP\"] / wdi_pop[\"Population\"]"
   ]
  },
  {
   "cell_type": "code",
   "execution_count": 14,
   "metadata": {
    "ExecuteTime": {
     "end_time": "2021-11-13T05:47:04.064990Z",
     "start_time": "2021-11-13T05:47:04.051988Z"
    },
    "hide-output": false,
    "slideshow": {
     "slide_type": "-"
    }
   },
   "outputs": [
    {
     "data": {
      "text/plain": [
       "country         year\n",
       "Canada          2016    0.029312\n",
       "Germany         2016    0.025205\n",
       "United Kingdom  2016    0.027019\n",
       "United States   2016    0.036283\n",
       "Canada          2017    0.029980\n",
       "Germany         2017    0.025551\n",
       "United Kingdom  2017    0.027387\n",
       "United States   2017    0.036966\n",
       "dtype: float64"
      ]
     },
     "execution_count": 14,
     "metadata": {},
     "output_type": "execute_result"
    }
   ],
   "source": [
    "wdi_pop[\"Consumption\"] / wdi_pop[\"Population\"]"
   ]
  },
  {
   "cell_type": "markdown",
   "metadata": {
    "slideshow": {
     "slide_type": "subslide"
    }
   },
   "source": [
    "**Exercise 1**\n",
    "\n",
    "Use your new `merge` skills to answer the final question from above: What\n",
    "is the population density of each country? How much does it change over\n",
    "time?\n"
   ]
  },
  {
   "cell_type": "code",
   "execution_count": null,
   "metadata": {
    "slideshow": {
     "slide_type": "-"
    }
   },
   "outputs": [],
   "source": [
    "\n"
   ]
  },
  {
   "cell_type": "markdown",
   "metadata": {
    "slideshow": {
     "slide_type": "subslide"
    }
   },
   "source": [
    "## Arguments to `merge`\n",
    "\n",
    "The `pd.merge` function can take many optional arguments.\n",
    "\n",
    "We’ll talk about a few of the most commonly-used ones here and refer you\n",
    "to the\n",
    "[documentation](https://pandas.pydata.org/pandas-docs/stable/generated/pandas.merge.html#pandas.merge)\n",
    "for more details.\n",
    "\n",
    "We’ll follow the pandas convention and refer to the first argument to\n",
    "`pd.merge` as `left` and call the second `right`."
   ]
  },
  {
   "cell_type": "markdown",
   "metadata": {
    "slideshow": {
     "slide_type": "subslide"
    }
   },
   "source": [
    "### `on`\n",
    "\n",
    "We have already seen this one used before, but we want to point out that on\n",
    "is optional.\n",
    "\n",
    "If nothing is given for this argument, pandas will use **all** columns\n",
    "in `left` and `right` with the same name.\n",
    "\n",
    "In our example, `country` is the only column that appears in both\n",
    "DataFrames, so it is used for `on` if we don’t pass anything.\n",
    "\n",
    "The following two are equivalent."
   ]
  },
  {
   "cell_type": "code",
   "execution_count": 15,
   "metadata": {
    "ExecuteTime": {
     "end_time": "2021-11-13T05:47:04.081011Z",
     "start_time": "2021-11-13T05:47:04.066994Z"
    },
    "hide-output": false,
    "slideshow": {
     "slide_type": "-"
    }
   },
   "outputs": [
    {
     "data": {
      "text/html": [
       "<div>\n",
       "<style scoped>\n",
       "    .dataframe tbody tr th:only-of-type {\n",
       "        vertical-align: middle;\n",
       "    }\n",
       "\n",
       "    .dataframe tbody tr th {\n",
       "        vertical-align: top;\n",
       "    }\n",
       "\n",
       "    .dataframe thead th {\n",
       "        text-align: right;\n",
       "    }\n",
       "</style>\n",
       "<table border=\"1\" class=\"dataframe\">\n",
       "  <thead>\n",
       "    <tr style=\"text-align: right;\">\n",
       "      <th></th>\n",
       "      <th>GovExpend</th>\n",
       "      <th>Consumption</th>\n",
       "      <th>Exports</th>\n",
       "      <th>Imports</th>\n",
       "      <th>GDP</th>\n",
       "      <th>sq_miles</th>\n",
       "    </tr>\n",
       "    <tr>\n",
       "      <th>country</th>\n",
       "      <th></th>\n",
       "      <th></th>\n",
       "      <th></th>\n",
       "      <th></th>\n",
       "      <th></th>\n",
       "      <th></th>\n",
       "    </tr>\n",
       "  </thead>\n",
       "  <tbody>\n",
       "    <tr>\n",
       "      <th>Canada</th>\n",
       "      <td>0.372665</td>\n",
       "      <td>1.095475</td>\n",
       "      <td>0.582831</td>\n",
       "      <td>0.600031</td>\n",
       "      <td>1.868164</td>\n",
       "      <td>3.8000</td>\n",
       "    </tr>\n",
       "    <tr>\n",
       "      <th>Germany</th>\n",
       "      <td>0.745579</td>\n",
       "      <td>2.112009</td>\n",
       "      <td>1.930563</td>\n",
       "      <td>1.666348</td>\n",
       "      <td>3.883870</td>\n",
       "      <td>0.1370</td>\n",
       "    </tr>\n",
       "    <tr>\n",
       "      <th>United Kingdom</th>\n",
       "      <td>0.549538</td>\n",
       "      <td>1.809154</td>\n",
       "      <td>0.862629</td>\n",
       "      <td>0.933145</td>\n",
       "      <td>2.818704</td>\n",
       "      <td>0.0936</td>\n",
       "    </tr>\n",
       "    <tr>\n",
       "      <th>United States</th>\n",
       "      <td>2.405743</td>\n",
       "      <td>12.019266</td>\n",
       "      <td>2.287071</td>\n",
       "      <td>3.069954</td>\n",
       "      <td>17.348627</td>\n",
       "      <td>3.8000</td>\n",
       "    </tr>\n",
       "  </tbody>\n",
       "</table>\n",
       "</div>"
      ],
      "text/plain": [
       "                GovExpend  Consumption   Exports   Imports        GDP  \\\n",
       "country                                                                 \n",
       "Canada           0.372665     1.095475  0.582831  0.600031   1.868164   \n",
       "Germany          0.745579     2.112009  1.930563  1.666348   3.883870   \n",
       "United Kingdom   0.549538     1.809154  0.862629  0.933145   2.818704   \n",
       "United States    2.405743    12.019266  2.287071  3.069954  17.348627   \n",
       "\n",
       "                sq_miles  \n",
       "country                   \n",
       "Canada            3.8000  \n",
       "Germany           0.1370  \n",
       "United Kingdom    0.0936  \n",
       "United States     3.8000  "
      ]
     },
     "execution_count": 15,
     "metadata": {},
     "output_type": "execute_result"
    }
   ],
   "source": [
    "pd.merge(wdi2017, sq_miles, on=\"country\")"
   ]
  },
  {
   "cell_type": "code",
   "execution_count": 16,
   "metadata": {
    "ExecuteTime": {
     "end_time": "2021-11-13T05:47:04.097008Z",
     "start_time": "2021-11-13T05:47:04.083011Z"
    },
    "hide-output": false,
    "slideshow": {
     "slide_type": "-"
    }
   },
   "outputs": [
    {
     "data": {
      "text/html": [
       "<div>\n",
       "<style scoped>\n",
       "    .dataframe tbody tr th:only-of-type {\n",
       "        vertical-align: middle;\n",
       "    }\n",
       "\n",
       "    .dataframe tbody tr th {\n",
       "        vertical-align: top;\n",
       "    }\n",
       "\n",
       "    .dataframe thead th {\n",
       "        text-align: right;\n",
       "    }\n",
       "</style>\n",
       "<table border=\"1\" class=\"dataframe\">\n",
       "  <thead>\n",
       "    <tr style=\"text-align: right;\">\n",
       "      <th></th>\n",
       "      <th>country</th>\n",
       "      <th>GovExpend</th>\n",
       "      <th>Consumption</th>\n",
       "      <th>Exports</th>\n",
       "      <th>Imports</th>\n",
       "      <th>GDP</th>\n",
       "      <th>sq_miles</th>\n",
       "    </tr>\n",
       "  </thead>\n",
       "  <tbody>\n",
       "    <tr>\n",
       "      <th>0</th>\n",
       "      <td>Canada</td>\n",
       "      <td>0.372665</td>\n",
       "      <td>1.095475</td>\n",
       "      <td>0.582831</td>\n",
       "      <td>0.600031</td>\n",
       "      <td>1.868164</td>\n",
       "      <td>3.8000</td>\n",
       "    </tr>\n",
       "    <tr>\n",
       "      <th>1</th>\n",
       "      <td>Germany</td>\n",
       "      <td>0.745579</td>\n",
       "      <td>2.112009</td>\n",
       "      <td>1.930563</td>\n",
       "      <td>1.666348</td>\n",
       "      <td>3.883870</td>\n",
       "      <td>0.1370</td>\n",
       "    </tr>\n",
       "    <tr>\n",
       "      <th>2</th>\n",
       "      <td>United Kingdom</td>\n",
       "      <td>0.549538</td>\n",
       "      <td>1.809154</td>\n",
       "      <td>0.862629</td>\n",
       "      <td>0.933145</td>\n",
       "      <td>2.818704</td>\n",
       "      <td>0.0936</td>\n",
       "    </tr>\n",
       "    <tr>\n",
       "      <th>3</th>\n",
       "      <td>United States</td>\n",
       "      <td>2.405743</td>\n",
       "      <td>12.019266</td>\n",
       "      <td>2.287071</td>\n",
       "      <td>3.069954</td>\n",
       "      <td>17.348627</td>\n",
       "      <td>3.8000</td>\n",
       "    </tr>\n",
       "  </tbody>\n",
       "</table>\n",
       "</div>"
      ],
      "text/plain": [
       "          country  GovExpend  Consumption   Exports   Imports        GDP  \\\n",
       "0          Canada   0.372665     1.095475  0.582831  0.600031   1.868164   \n",
       "1         Germany   0.745579     2.112009  1.930563  1.666348   3.883870   \n",
       "2  United Kingdom   0.549538     1.809154  0.862629  0.933145   2.818704   \n",
       "3   United States   2.405743    12.019266  2.287071  3.069954  17.348627   \n",
       "\n",
       "   sq_miles  \n",
       "0    3.8000  \n",
       "1    0.1370  \n",
       "2    0.0936  \n",
       "3    3.8000  "
      ]
     },
     "execution_count": 16,
     "metadata": {},
     "output_type": "execute_result"
    }
   ],
   "source": [
    "# if we move index back to columns, the `on` is un-necessary\n",
    "pd.merge(wdi2017.reset_index(), sq_miles.reset_index())"
   ]
  },
  {
   "cell_type": "markdown",
   "metadata": {
    "slideshow": {
     "slide_type": "subslide"
    }
   },
   "source": [
    "### `left_on`, `right_on`\n",
    "\n",
    "Above, we used the `on` argument to identify a column in both `left`\n",
    "and `right` that was used to align data.\n",
    "\n",
    "Sometimes, both DataFrames don’t have the same name for this column.\n",
    "\n",
    "In that case, we use the `left_on` and `right_on` arguments, passing\n",
    "the proper column name(s) to align the data.\n",
    "\n",
    "We’ll show you an example below, but it is somewhat silly as our\n",
    "DataFrames do both have the `country` column."
   ]
  },
  {
   "cell_type": "code",
   "execution_count": 17,
   "metadata": {
    "ExecuteTime": {
     "end_time": "2021-11-13T05:47:04.129020Z",
     "start_time": "2021-11-13T05:47:04.098998Z"
    },
    "hide-output": false,
    "slideshow": {
     "slide_type": "-"
    }
   },
   "outputs": [
    {
     "data": {
      "text/html": [
       "<div>\n",
       "<style scoped>\n",
       "    .dataframe tbody tr th:only-of-type {\n",
       "        vertical-align: middle;\n",
       "    }\n",
       "\n",
       "    .dataframe tbody tr th {\n",
       "        vertical-align: top;\n",
       "    }\n",
       "\n",
       "    .dataframe thead th {\n",
       "        text-align: right;\n",
       "    }\n",
       "</style>\n",
       "<table border=\"1\" class=\"dataframe\">\n",
       "  <thead>\n",
       "    <tr style=\"text-align: right;\">\n",
       "      <th></th>\n",
       "      <th>GovExpend</th>\n",
       "      <th>Consumption</th>\n",
       "      <th>Exports</th>\n",
       "      <th>Imports</th>\n",
       "      <th>GDP</th>\n",
       "      <th>sq_miles</th>\n",
       "    </tr>\n",
       "    <tr>\n",
       "      <th>country</th>\n",
       "      <th></th>\n",
       "      <th></th>\n",
       "      <th></th>\n",
       "      <th></th>\n",
       "      <th></th>\n",
       "      <th></th>\n",
       "    </tr>\n",
       "  </thead>\n",
       "  <tbody>\n",
       "    <tr>\n",
       "      <th>Canada</th>\n",
       "      <td>0.372665</td>\n",
       "      <td>1.095475</td>\n",
       "      <td>0.582831</td>\n",
       "      <td>0.600031</td>\n",
       "      <td>1.868164</td>\n",
       "      <td>3.8000</td>\n",
       "    </tr>\n",
       "    <tr>\n",
       "      <th>Germany</th>\n",
       "      <td>0.745579</td>\n",
       "      <td>2.112009</td>\n",
       "      <td>1.930563</td>\n",
       "      <td>1.666348</td>\n",
       "      <td>3.883870</td>\n",
       "      <td>0.1370</td>\n",
       "    </tr>\n",
       "    <tr>\n",
       "      <th>United Kingdom</th>\n",
       "      <td>0.549538</td>\n",
       "      <td>1.809154</td>\n",
       "      <td>0.862629</td>\n",
       "      <td>0.933145</td>\n",
       "      <td>2.818704</td>\n",
       "      <td>0.0936</td>\n",
       "    </tr>\n",
       "    <tr>\n",
       "      <th>United States</th>\n",
       "      <td>2.405743</td>\n",
       "      <td>12.019266</td>\n",
       "      <td>2.287071</td>\n",
       "      <td>3.069954</td>\n",
       "      <td>17.348627</td>\n",
       "      <td>3.8000</td>\n",
       "    </tr>\n",
       "  </tbody>\n",
       "</table>\n",
       "</div>"
      ],
      "text/plain": [
       "                GovExpend  Consumption   Exports   Imports        GDP  \\\n",
       "country                                                                 \n",
       "Canada           0.372665     1.095475  0.582831  0.600031   1.868164   \n",
       "Germany          0.745579     2.112009  1.930563  1.666348   3.883870   \n",
       "United Kingdom   0.549538     1.809154  0.862629  0.933145   2.818704   \n",
       "United States    2.405743    12.019266  2.287071  3.069954  17.348627   \n",
       "\n",
       "                sq_miles  \n",
       "country                   \n",
       "Canada            3.8000  \n",
       "Germany           0.1370  \n",
       "United Kingdom    0.0936  \n",
       "United States     3.8000  "
      ]
     },
     "execution_count": 17,
     "metadata": {},
     "output_type": "execute_result"
    }
   ],
   "source": [
    "pd.merge(wdi2017, sq_miles, left_on=\"country\", right_on=\"country\")"
   ]
  },
  {
   "cell_type": "markdown",
   "metadata": {
    "slideshow": {
     "slide_type": "subslide"
    }
   },
   "source": [
    "### `left_index`, `right_index`\n",
    "\n",
    "Sometimes, as in our example, the key used to align data is actually in the\n",
    "index instead of one of the columns.\n",
    "\n",
    "In this case, we can use the `left_index` or `right_index` arguments.\n",
    "\n",
    "We should only set these values to a boolean (`True` or `False`).\n",
    "\n",
    "Let’s practice with this."
   ]
  },
  {
   "cell_type": "code",
   "execution_count": 18,
   "metadata": {
    "ExecuteTime": {
     "end_time": "2021-11-13T05:47:04.145016Z",
     "start_time": "2021-11-13T05:47:04.131021Z"
    },
    "hide-output": false,
    "slideshow": {
     "slide_type": "-"
    }
   },
   "outputs": [
    {
     "data": {
      "text/html": [
       "<div>\n",
       "<style scoped>\n",
       "    .dataframe tbody tr th:only-of-type {\n",
       "        vertical-align: middle;\n",
       "    }\n",
       "\n",
       "    .dataframe tbody tr th {\n",
       "        vertical-align: top;\n",
       "    }\n",
       "\n",
       "    .dataframe thead th {\n",
       "        text-align: right;\n",
       "    }\n",
       "</style>\n",
       "<table border=\"1\" class=\"dataframe\">\n",
       "  <thead>\n",
       "    <tr style=\"text-align: right;\">\n",
       "      <th></th>\n",
       "      <th>GovExpend</th>\n",
       "      <th>Consumption</th>\n",
       "      <th>Exports</th>\n",
       "      <th>Imports</th>\n",
       "      <th>GDP</th>\n",
       "      <th>sq_miles</th>\n",
       "    </tr>\n",
       "    <tr>\n",
       "      <th>country</th>\n",
       "      <th></th>\n",
       "      <th></th>\n",
       "      <th></th>\n",
       "      <th></th>\n",
       "      <th></th>\n",
       "      <th></th>\n",
       "    </tr>\n",
       "  </thead>\n",
       "  <tbody>\n",
       "    <tr>\n",
       "      <th>Canada</th>\n",
       "      <td>0.372665</td>\n",
       "      <td>1.095475</td>\n",
       "      <td>0.582831</td>\n",
       "      <td>0.600031</td>\n",
       "      <td>1.868164</td>\n",
       "      <td>3.8000</td>\n",
       "    </tr>\n",
       "    <tr>\n",
       "      <th>Germany</th>\n",
       "      <td>0.745579</td>\n",
       "      <td>2.112009</td>\n",
       "      <td>1.930563</td>\n",
       "      <td>1.666348</td>\n",
       "      <td>3.883870</td>\n",
       "      <td>0.1370</td>\n",
       "    </tr>\n",
       "    <tr>\n",
       "      <th>United Kingdom</th>\n",
       "      <td>0.549538</td>\n",
       "      <td>1.809154</td>\n",
       "      <td>0.862629</td>\n",
       "      <td>0.933145</td>\n",
       "      <td>2.818704</td>\n",
       "      <td>0.0936</td>\n",
       "    </tr>\n",
       "    <tr>\n",
       "      <th>United States</th>\n",
       "      <td>2.405743</td>\n",
       "      <td>12.019266</td>\n",
       "      <td>2.287071</td>\n",
       "      <td>3.069954</td>\n",
       "      <td>17.348627</td>\n",
       "      <td>3.8000</td>\n",
       "    </tr>\n",
       "  </tbody>\n",
       "</table>\n",
       "</div>"
      ],
      "text/plain": [
       "                GovExpend  Consumption   Exports   Imports        GDP  \\\n",
       "country                                                                 \n",
       "Canada           0.372665     1.095475  0.582831  0.600031   1.868164   \n",
       "Germany          0.745579     2.112009  1.930563  1.666348   3.883870   \n",
       "United Kingdom   0.549538     1.809154  0.862629  0.933145   2.818704   \n",
       "United States    2.405743    12.019266  2.287071  3.069954  17.348627   \n",
       "\n",
       "                sq_miles  \n",
       "country                   \n",
       "Canada            3.8000  \n",
       "Germany           0.1370  \n",
       "United Kingdom    0.0936  \n",
       "United States     3.8000  "
      ]
     },
     "execution_count": 18,
     "metadata": {},
     "output_type": "execute_result"
    }
   ],
   "source": [
    "pd.merge(wdi2017, sq_miles, left_on=\"country\", right_index=True)"
   ]
  },
  {
   "cell_type": "markdown",
   "metadata": {
    "slideshow": {
     "slide_type": "subslide"
    }
   },
   "source": [
    "### `how`\n",
    "\n",
    "The `how` is perhaps the most powerful, but most conceptually\n",
    "difficult of the arguments we will cover.\n",
    "\n",
    "This argument controls which values from the key column(s) appear in the\n",
    "output.\n",
    "\n",
    "The 4 possible options for this argument are summarized in\n",
    "the image below.\n",
    "\n",
    "<img src=\"https://datascience.quantecon.org/_images/merge_venns.png\" alt=\"merge\\_venns.png\" style=\"\">\n",
    "\n",
    "  \n",
    "In words, we have:\n",
    "\n",
    "- `left`: Default and what we described above. It uses\n",
    "  the keys from the `left` DataFrame.  \n",
    "- `right`: Output will contain all keys from `right`.  \n",
    "- `inner`: The output will only contain keys that appear in *both*\n",
    "  `left` and `right`.  \n",
    "- `outer`: The output will contain any key found in either `left`\n",
    "  or `right`.  \n",
    "\n",
    "\n",
    "In addition to the above, we will use the following two DataFrames to\n",
    "illustrate the `how` option."
   ]
  },
  {
   "cell_type": "code",
   "execution_count": 19,
   "metadata": {
    "ExecuteTime": {
     "end_time": "2021-11-13T05:47:04.161025Z",
     "start_time": "2021-11-13T05:47:04.147023Z"
    },
    "hide-output": false,
    "slideshow": {
     "slide_type": "-"
    }
   },
   "outputs": [
    {
     "data": {
      "text/html": [
       "<div>\n",
       "<style scoped>\n",
       "    .dataframe tbody tr th:only-of-type {\n",
       "        vertical-align: middle;\n",
       "    }\n",
       "\n",
       "    .dataframe tbody tr th {\n",
       "        vertical-align: top;\n",
       "    }\n",
       "\n",
       "    .dataframe thead th {\n",
       "        text-align: right;\n",
       "    }\n",
       "</style>\n",
       "<table border=\"1\" class=\"dataframe\">\n",
       "  <thead>\n",
       "    <tr style=\"text-align: right;\">\n",
       "      <th></th>\n",
       "      <th>GovExpend</th>\n",
       "      <th>Consumption</th>\n",
       "      <th>Exports</th>\n",
       "      <th>Imports</th>\n",
       "      <th>GDP</th>\n",
       "    </tr>\n",
       "    <tr>\n",
       "      <th>country</th>\n",
       "      <th></th>\n",
       "      <th></th>\n",
       "      <th></th>\n",
       "      <th></th>\n",
       "      <th></th>\n",
       "    </tr>\n",
       "  </thead>\n",
       "  <tbody>\n",
       "    <tr>\n",
       "      <th>Canada</th>\n",
       "      <td>0.372665</td>\n",
       "      <td>1.095475</td>\n",
       "      <td>0.582831</td>\n",
       "      <td>0.600031</td>\n",
       "      <td>1.868164</td>\n",
       "    </tr>\n",
       "    <tr>\n",
       "      <th>Germany</th>\n",
       "      <td>0.745579</td>\n",
       "      <td>2.112009</td>\n",
       "      <td>1.930563</td>\n",
       "      <td>1.666348</td>\n",
       "      <td>3.883870</td>\n",
       "    </tr>\n",
       "    <tr>\n",
       "      <th>United Kingdom</th>\n",
       "      <td>0.549538</td>\n",
       "      <td>1.809154</td>\n",
       "      <td>0.862629</td>\n",
       "      <td>0.933145</td>\n",
       "      <td>2.818704</td>\n",
       "    </tr>\n",
       "  </tbody>\n",
       "</table>\n",
       "</div>"
      ],
      "text/plain": [
       "                GovExpend  Consumption   Exports   Imports       GDP\n",
       "country                                                             \n",
       "Canada           0.372665     1.095475  0.582831  0.600031  1.868164\n",
       "Germany          0.745579     2.112009  1.930563  1.666348  3.883870\n",
       "United Kingdom   0.549538     1.809154  0.862629  0.933145  2.818704"
      ]
     },
     "execution_count": 19,
     "metadata": {},
     "output_type": "execute_result"
    }
   ],
   "source": [
    "wdi2017_no_US = wdi2017.drop(\"United States\")\n",
    "wdi2017_no_US"
   ]
  },
  {
   "cell_type": "code",
   "execution_count": 20,
   "metadata": {
    "ExecuteTime": {
     "end_time": "2021-11-13T05:47:04.177015Z",
     "start_time": "2021-11-13T05:47:04.162020Z"
    },
    "hide-output": false,
    "slideshow": {
     "slide_type": "-"
    }
   },
   "outputs": [
    {
     "data": {
      "text/html": [
       "<div>\n",
       "<style scoped>\n",
       "    .dataframe tbody tr th:only-of-type {\n",
       "        vertical-align: middle;\n",
       "    }\n",
       "\n",
       "    .dataframe tbody tr th {\n",
       "        vertical-align: top;\n",
       "    }\n",
       "\n",
       "    .dataframe thead th {\n",
       "        text-align: right;\n",
       "    }\n",
       "</style>\n",
       "<table border=\"1\" class=\"dataframe\">\n",
       "  <thead>\n",
       "    <tr style=\"text-align: right;\">\n",
       "      <th></th>\n",
       "      <th>sq_miles</th>\n",
       "    </tr>\n",
       "    <tr>\n",
       "      <th>country</th>\n",
       "      <th></th>\n",
       "    </tr>\n",
       "  </thead>\n",
       "  <tbody>\n",
       "    <tr>\n",
       "      <th>United States</th>\n",
       "      <td>3.8000</td>\n",
       "    </tr>\n",
       "    <tr>\n",
       "      <th>Canada</th>\n",
       "      <td>3.8000</td>\n",
       "    </tr>\n",
       "    <tr>\n",
       "      <th>United Kingdom</th>\n",
       "      <td>0.0936</td>\n",
       "    </tr>\n",
       "    <tr>\n",
       "      <th>Russia</th>\n",
       "      <td>6.6000</td>\n",
       "    </tr>\n",
       "  </tbody>\n",
       "</table>\n",
       "</div>"
      ],
      "text/plain": [
       "                sq_miles\n",
       "country                 \n",
       "United States     3.8000\n",
       "Canada            3.8000\n",
       "United Kingdom    0.0936\n",
       "Russia            6.6000"
      ]
     },
     "execution_count": 20,
     "metadata": {},
     "output_type": "execute_result"
    }
   ],
   "source": [
    "sq_miles_no_germany = sq_miles.drop(\"Germany\")\n",
    "sq_miles_no_germany"
   ]
  },
  {
   "cell_type": "markdown",
   "metadata": {
    "slideshow": {
     "slide_type": "subslide"
    }
   },
   "source": [
    "Now, let’s see all the possible `how` options."
   ]
  },
  {
   "cell_type": "code",
   "execution_count": 21,
   "metadata": {
    "ExecuteTime": {
     "end_time": "2021-11-13T05:47:04.193037Z",
     "start_time": "2021-11-13T05:47:04.179018Z"
    },
    "hide-output": false,
    "slideshow": {
     "slide_type": "fragment"
    }
   },
   "outputs": [
    {
     "data": {
      "text/html": [
       "<div>\n",
       "<style scoped>\n",
       "    .dataframe tbody tr th:only-of-type {\n",
       "        vertical-align: middle;\n",
       "    }\n",
       "\n",
       "    .dataframe tbody tr th {\n",
       "        vertical-align: top;\n",
       "    }\n",
       "\n",
       "    .dataframe thead th {\n",
       "        text-align: right;\n",
       "    }\n",
       "</style>\n",
       "<table border=\"1\" class=\"dataframe\">\n",
       "  <thead>\n",
       "    <tr style=\"text-align: right;\">\n",
       "      <th></th>\n",
       "      <th>GovExpend</th>\n",
       "      <th>Consumption</th>\n",
       "      <th>Exports</th>\n",
       "      <th>Imports</th>\n",
       "      <th>GDP</th>\n",
       "      <th>sq_miles</th>\n",
       "    </tr>\n",
       "    <tr>\n",
       "      <th>country</th>\n",
       "      <th></th>\n",
       "      <th></th>\n",
       "      <th></th>\n",
       "      <th></th>\n",
       "      <th></th>\n",
       "      <th></th>\n",
       "    </tr>\n",
       "  </thead>\n",
       "  <tbody>\n",
       "    <tr>\n",
       "      <th>Canada</th>\n",
       "      <td>0.372665</td>\n",
       "      <td>1.095475</td>\n",
       "      <td>0.582831</td>\n",
       "      <td>0.600031</td>\n",
       "      <td>1.868164</td>\n",
       "      <td>3.8000</td>\n",
       "    </tr>\n",
       "    <tr>\n",
       "      <th>Germany</th>\n",
       "      <td>0.745579</td>\n",
       "      <td>2.112009</td>\n",
       "      <td>1.930563</td>\n",
       "      <td>1.666348</td>\n",
       "      <td>3.883870</td>\n",
       "      <td>0.1370</td>\n",
       "    </tr>\n",
       "    <tr>\n",
       "      <th>United Kingdom</th>\n",
       "      <td>0.549538</td>\n",
       "      <td>1.809154</td>\n",
       "      <td>0.862629</td>\n",
       "      <td>0.933145</td>\n",
       "      <td>2.818704</td>\n",
       "      <td>0.0936</td>\n",
       "    </tr>\n",
       "  </tbody>\n",
       "</table>\n",
       "</div>"
      ],
      "text/plain": [
       "                GovExpend  Consumption   Exports   Imports       GDP  sq_miles\n",
       "country                                                                       \n",
       "Canada           0.372665     1.095475  0.582831  0.600031  1.868164    3.8000\n",
       "Germany          0.745579     2.112009  1.930563  1.666348  3.883870    0.1370\n",
       "United Kingdom   0.549538     1.809154  0.862629  0.933145  2.818704    0.0936"
      ]
     },
     "execution_count": 21,
     "metadata": {},
     "output_type": "execute_result"
    }
   ],
   "source": [
    "# default\n",
    "pd.merge(wdi2017_no_US, sq_miles, on=\"country\", how=\"left\")"
   ]
  },
  {
   "cell_type": "code",
   "execution_count": 22,
   "metadata": {
    "ExecuteTime": {
     "end_time": "2021-11-13T05:47:04.208042Z",
     "start_time": "2021-11-13T05:47:04.194029Z"
    },
    "hide-output": false,
    "slideshow": {
     "slide_type": "fragment"
    }
   },
   "outputs": [
    {
     "data": {
      "text/html": [
       "<div>\n",
       "<style scoped>\n",
       "    .dataframe tbody tr th:only-of-type {\n",
       "        vertical-align: middle;\n",
       "    }\n",
       "\n",
       "    .dataframe tbody tr th {\n",
       "        vertical-align: top;\n",
       "    }\n",
       "\n",
       "    .dataframe thead th {\n",
       "        text-align: right;\n",
       "    }\n",
       "</style>\n",
       "<table border=\"1\" class=\"dataframe\">\n",
       "  <thead>\n",
       "    <tr style=\"text-align: right;\">\n",
       "      <th></th>\n",
       "      <th>GovExpend</th>\n",
       "      <th>Consumption</th>\n",
       "      <th>Exports</th>\n",
       "      <th>Imports</th>\n",
       "      <th>GDP</th>\n",
       "      <th>sq_miles</th>\n",
       "    </tr>\n",
       "    <tr>\n",
       "      <th>country</th>\n",
       "      <th></th>\n",
       "      <th></th>\n",
       "      <th></th>\n",
       "      <th></th>\n",
       "      <th></th>\n",
       "      <th></th>\n",
       "    </tr>\n",
       "  </thead>\n",
       "  <tbody>\n",
       "    <tr>\n",
       "      <th>United States</th>\n",
       "      <td>2.405743</td>\n",
       "      <td>12.019266</td>\n",
       "      <td>2.287071</td>\n",
       "      <td>3.069954</td>\n",
       "      <td>17.348627</td>\n",
       "      <td>3.8000</td>\n",
       "    </tr>\n",
       "    <tr>\n",
       "      <th>Canada</th>\n",
       "      <td>0.372665</td>\n",
       "      <td>1.095475</td>\n",
       "      <td>0.582831</td>\n",
       "      <td>0.600031</td>\n",
       "      <td>1.868164</td>\n",
       "      <td>3.8000</td>\n",
       "    </tr>\n",
       "    <tr>\n",
       "      <th>Germany</th>\n",
       "      <td>0.745579</td>\n",
       "      <td>2.112009</td>\n",
       "      <td>1.930563</td>\n",
       "      <td>1.666348</td>\n",
       "      <td>3.883870</td>\n",
       "      <td>0.1370</td>\n",
       "    </tr>\n",
       "    <tr>\n",
       "      <th>United Kingdom</th>\n",
       "      <td>0.549538</td>\n",
       "      <td>1.809154</td>\n",
       "      <td>0.862629</td>\n",
       "      <td>0.933145</td>\n",
       "      <td>2.818704</td>\n",
       "      <td>0.0936</td>\n",
       "    </tr>\n",
       "    <tr>\n",
       "      <th>Russia</th>\n",
       "      <td>NaN</td>\n",
       "      <td>NaN</td>\n",
       "      <td>NaN</td>\n",
       "      <td>NaN</td>\n",
       "      <td>NaN</td>\n",
       "      <td>6.6000</td>\n",
       "    </tr>\n",
       "  </tbody>\n",
       "</table>\n",
       "</div>"
      ],
      "text/plain": [
       "                GovExpend  Consumption   Exports   Imports        GDP  \\\n",
       "country                                                                 \n",
       "United States    2.405743    12.019266  2.287071  3.069954  17.348627   \n",
       "Canada           0.372665     1.095475  0.582831  0.600031   1.868164   \n",
       "Germany          0.745579     2.112009  1.930563  1.666348   3.883870   \n",
       "United Kingdom   0.549538     1.809154  0.862629  0.933145   2.818704   \n",
       "Russia                NaN          NaN       NaN       NaN        NaN   \n",
       "\n",
       "                sq_miles  \n",
       "country                   \n",
       "United States     3.8000  \n",
       "Canada            3.8000  \n",
       "Germany           0.1370  \n",
       "United Kingdom    0.0936  \n",
       "Russia            6.6000  "
      ]
     },
     "execution_count": 22,
     "metadata": {},
     "output_type": "execute_result"
    }
   ],
   "source": [
    "# notice ``Russia`` is included\n",
    "pd.merge(wdi2017, sq_miles, on=\"country\", how=\"right\")"
   ]
  },
  {
   "cell_type": "code",
   "execution_count": 23,
   "metadata": {
    "ExecuteTime": {
     "end_time": "2021-11-13T05:47:04.224026Z",
     "start_time": "2021-11-13T05:47:04.209022Z"
    },
    "hide-output": false,
    "slideshow": {
     "slide_type": "fragment"
    }
   },
   "outputs": [
    {
     "data": {
      "text/html": [
       "<div>\n",
       "<style scoped>\n",
       "    .dataframe tbody tr th:only-of-type {\n",
       "        vertical-align: middle;\n",
       "    }\n",
       "\n",
       "    .dataframe tbody tr th {\n",
       "        vertical-align: top;\n",
       "    }\n",
       "\n",
       "    .dataframe thead th {\n",
       "        text-align: right;\n",
       "    }\n",
       "</style>\n",
       "<table border=\"1\" class=\"dataframe\">\n",
       "  <thead>\n",
       "    <tr style=\"text-align: right;\">\n",
       "      <th></th>\n",
       "      <th>GovExpend</th>\n",
       "      <th>Consumption</th>\n",
       "      <th>Exports</th>\n",
       "      <th>Imports</th>\n",
       "      <th>GDP</th>\n",
       "      <th>sq_miles</th>\n",
       "    </tr>\n",
       "    <tr>\n",
       "      <th>country</th>\n",
       "      <th></th>\n",
       "      <th></th>\n",
       "      <th></th>\n",
       "      <th></th>\n",
       "      <th></th>\n",
       "      <th></th>\n",
       "    </tr>\n",
       "  </thead>\n",
       "  <tbody>\n",
       "    <tr>\n",
       "      <th>Canada</th>\n",
       "      <td>0.372665</td>\n",
       "      <td>1.095475</td>\n",
       "      <td>0.582831</td>\n",
       "      <td>0.600031</td>\n",
       "      <td>1.868164</td>\n",
       "      <td>3.8000</td>\n",
       "    </tr>\n",
       "    <tr>\n",
       "      <th>Germany</th>\n",
       "      <td>0.745579</td>\n",
       "      <td>2.112009</td>\n",
       "      <td>1.930563</td>\n",
       "      <td>1.666348</td>\n",
       "      <td>3.883870</td>\n",
       "      <td>0.1370</td>\n",
       "    </tr>\n",
       "    <tr>\n",
       "      <th>United Kingdom</th>\n",
       "      <td>0.549538</td>\n",
       "      <td>1.809154</td>\n",
       "      <td>0.862629</td>\n",
       "      <td>0.933145</td>\n",
       "      <td>2.818704</td>\n",
       "      <td>0.0936</td>\n",
       "    </tr>\n",
       "    <tr>\n",
       "      <th>United States</th>\n",
       "      <td>2.405743</td>\n",
       "      <td>12.019266</td>\n",
       "      <td>2.287071</td>\n",
       "      <td>3.069954</td>\n",
       "      <td>17.348627</td>\n",
       "      <td>3.8000</td>\n",
       "    </tr>\n",
       "  </tbody>\n",
       "</table>\n",
       "</div>"
      ],
      "text/plain": [
       "                GovExpend  Consumption   Exports   Imports        GDP  \\\n",
       "country                                                                 \n",
       "Canada           0.372665     1.095475  0.582831  0.600031   1.868164   \n",
       "Germany          0.745579     2.112009  1.930563  1.666348   3.883870   \n",
       "United Kingdom   0.549538     1.809154  0.862629  0.933145   2.818704   \n",
       "United States    2.405743    12.019266  2.287071  3.069954  17.348627   \n",
       "\n",
       "                sq_miles  \n",
       "country                   \n",
       "Canada            3.8000  \n",
       "Germany           0.1370  \n",
       "United Kingdom    0.0936  \n",
       "United States     3.8000  "
      ]
     },
     "execution_count": 23,
     "metadata": {},
     "output_type": "execute_result"
    }
   ],
   "source": [
    "# notice no United States or Russia\n",
    "pd.merge(wdi2017, sq_miles, on=\"country\", how=\"inner\")"
   ]
  },
  {
   "cell_type": "code",
   "execution_count": 24,
   "metadata": {
    "ExecuteTime": {
     "end_time": "2021-11-13T05:47:04.240042Z",
     "start_time": "2021-11-13T05:47:04.226036Z"
    },
    "hide-output": false,
    "slideshow": {
     "slide_type": "fragment"
    }
   },
   "outputs": [
    {
     "data": {
      "text/html": [
       "<div>\n",
       "<style scoped>\n",
       "    .dataframe tbody tr th:only-of-type {\n",
       "        vertical-align: middle;\n",
       "    }\n",
       "\n",
       "    .dataframe tbody tr th {\n",
       "        vertical-align: top;\n",
       "    }\n",
       "\n",
       "    .dataframe thead th {\n",
       "        text-align: right;\n",
       "    }\n",
       "</style>\n",
       "<table border=\"1\" class=\"dataframe\">\n",
       "  <thead>\n",
       "    <tr style=\"text-align: right;\">\n",
       "      <th></th>\n",
       "      <th>GovExpend</th>\n",
       "      <th>Consumption</th>\n",
       "      <th>Exports</th>\n",
       "      <th>Imports</th>\n",
       "      <th>GDP</th>\n",
       "      <th>sq_miles</th>\n",
       "    </tr>\n",
       "    <tr>\n",
       "      <th>country</th>\n",
       "      <th></th>\n",
       "      <th></th>\n",
       "      <th></th>\n",
       "      <th></th>\n",
       "      <th></th>\n",
       "      <th></th>\n",
       "    </tr>\n",
       "  </thead>\n",
       "  <tbody>\n",
       "    <tr>\n",
       "      <th>Canada</th>\n",
       "      <td>0.372665</td>\n",
       "      <td>1.095475</td>\n",
       "      <td>0.582831</td>\n",
       "      <td>0.600031</td>\n",
       "      <td>1.868164</td>\n",
       "      <td>3.8000</td>\n",
       "    </tr>\n",
       "    <tr>\n",
       "      <th>Germany</th>\n",
       "      <td>0.745579</td>\n",
       "      <td>2.112009</td>\n",
       "      <td>1.930563</td>\n",
       "      <td>1.666348</td>\n",
       "      <td>3.883870</td>\n",
       "      <td>NaN</td>\n",
       "    </tr>\n",
       "    <tr>\n",
       "      <th>United Kingdom</th>\n",
       "      <td>0.549538</td>\n",
       "      <td>1.809154</td>\n",
       "      <td>0.862629</td>\n",
       "      <td>0.933145</td>\n",
       "      <td>2.818704</td>\n",
       "      <td>0.0936</td>\n",
       "    </tr>\n",
       "    <tr>\n",
       "      <th>United States</th>\n",
       "      <td>NaN</td>\n",
       "      <td>NaN</td>\n",
       "      <td>NaN</td>\n",
       "      <td>NaN</td>\n",
       "      <td>NaN</td>\n",
       "      <td>3.8000</td>\n",
       "    </tr>\n",
       "    <tr>\n",
       "      <th>Russia</th>\n",
       "      <td>NaN</td>\n",
       "      <td>NaN</td>\n",
       "      <td>NaN</td>\n",
       "      <td>NaN</td>\n",
       "      <td>NaN</td>\n",
       "      <td>6.6000</td>\n",
       "    </tr>\n",
       "  </tbody>\n",
       "</table>\n",
       "</div>"
      ],
      "text/plain": [
       "                GovExpend  Consumption   Exports   Imports       GDP  sq_miles\n",
       "country                                                                       \n",
       "Canada           0.372665     1.095475  0.582831  0.600031  1.868164    3.8000\n",
       "Germany          0.745579     2.112009  1.930563  1.666348  3.883870       NaN\n",
       "United Kingdom   0.549538     1.809154  0.862629  0.933145  2.818704    0.0936\n",
       "United States         NaN          NaN       NaN       NaN       NaN    3.8000\n",
       "Russia                NaN          NaN       NaN       NaN       NaN    6.6000"
      ]
     },
     "execution_count": 24,
     "metadata": {},
     "output_type": "execute_result"
    }
   ],
   "source": [
    "# includes all 5, even though they don't all appear in either DataFrame\n",
    "pd.merge(wdi2017_no_US, sq_miles_no_germany, on=\"country\", how=\"outer\")"
   ]
  },
  {
   "cell_type": "markdown",
   "metadata": {
    "slideshow": {
     "slide_type": "subslide"
    }
   },
   "source": [
    "### `df.merge(df2)`\n",
    "\n",
    "Note that the DataFrame type has a `merge` *method*.\n",
    "\n",
    "It is the same as the function we have been working with, but passes the\n",
    "DataFrame before the period as `left`.\n",
    "\n",
    "Thus `df.merge(other)` is equivalent to `pd.merge(df, other)`."
   ]
  },
  {
   "cell_type": "code",
   "execution_count": 25,
   "metadata": {
    "ExecuteTime": {
     "end_time": "2021-11-13T05:47:04.256046Z",
     "start_time": "2021-11-13T05:47:04.241037Z"
    },
    "hide-output": false,
    "slideshow": {
     "slide_type": "-"
    }
   },
   "outputs": [
    {
     "data": {
      "text/html": [
       "<div>\n",
       "<style scoped>\n",
       "    .dataframe tbody tr th:only-of-type {\n",
       "        vertical-align: middle;\n",
       "    }\n",
       "\n",
       "    .dataframe tbody tr th {\n",
       "        vertical-align: top;\n",
       "    }\n",
       "\n",
       "    .dataframe thead th {\n",
       "        text-align: right;\n",
       "    }\n",
       "</style>\n",
       "<table border=\"1\" class=\"dataframe\">\n",
       "  <thead>\n",
       "    <tr style=\"text-align: right;\">\n",
       "      <th></th>\n",
       "      <th>GovExpend</th>\n",
       "      <th>Consumption</th>\n",
       "      <th>Exports</th>\n",
       "      <th>Imports</th>\n",
       "      <th>GDP</th>\n",
       "      <th>sq_miles</th>\n",
       "    </tr>\n",
       "    <tr>\n",
       "      <th>country</th>\n",
       "      <th></th>\n",
       "      <th></th>\n",
       "      <th></th>\n",
       "      <th></th>\n",
       "      <th></th>\n",
       "      <th></th>\n",
       "    </tr>\n",
       "  </thead>\n",
       "  <tbody>\n",
       "    <tr>\n",
       "      <th>United States</th>\n",
       "      <td>2.405743</td>\n",
       "      <td>12.019266</td>\n",
       "      <td>2.287071</td>\n",
       "      <td>3.069954</td>\n",
       "      <td>17.348627</td>\n",
       "      <td>3.8000</td>\n",
       "    </tr>\n",
       "    <tr>\n",
       "      <th>Canada</th>\n",
       "      <td>0.372665</td>\n",
       "      <td>1.095475</td>\n",
       "      <td>0.582831</td>\n",
       "      <td>0.600031</td>\n",
       "      <td>1.868164</td>\n",
       "      <td>3.8000</td>\n",
       "    </tr>\n",
       "    <tr>\n",
       "      <th>Germany</th>\n",
       "      <td>0.745579</td>\n",
       "      <td>2.112009</td>\n",
       "      <td>1.930563</td>\n",
       "      <td>1.666348</td>\n",
       "      <td>3.883870</td>\n",
       "      <td>0.1370</td>\n",
       "    </tr>\n",
       "    <tr>\n",
       "      <th>United Kingdom</th>\n",
       "      <td>0.549538</td>\n",
       "      <td>1.809154</td>\n",
       "      <td>0.862629</td>\n",
       "      <td>0.933145</td>\n",
       "      <td>2.818704</td>\n",
       "      <td>0.0936</td>\n",
       "    </tr>\n",
       "    <tr>\n",
       "      <th>Russia</th>\n",
       "      <td>NaN</td>\n",
       "      <td>NaN</td>\n",
       "      <td>NaN</td>\n",
       "      <td>NaN</td>\n",
       "      <td>NaN</td>\n",
       "      <td>6.6000</td>\n",
       "    </tr>\n",
       "  </tbody>\n",
       "</table>\n",
       "</div>"
      ],
      "text/plain": [
       "                GovExpend  Consumption   Exports   Imports        GDP  \\\n",
       "country                                                                 \n",
       "United States    2.405743    12.019266  2.287071  3.069954  17.348627   \n",
       "Canada           0.372665     1.095475  0.582831  0.600031   1.868164   \n",
       "Germany          0.745579     2.112009  1.930563  1.666348   3.883870   \n",
       "United Kingdom   0.549538     1.809154  0.862629  0.933145   2.818704   \n",
       "Russia                NaN          NaN       NaN       NaN        NaN   \n",
       "\n",
       "                sq_miles  \n",
       "country                   \n",
       "United States     3.8000  \n",
       "Canada            3.8000  \n",
       "Germany           0.1370  \n",
       "United Kingdom    0.0936  \n",
       "Russia            6.6000  "
      ]
     },
     "execution_count": 25,
     "metadata": {},
     "output_type": "execute_result"
    }
   ],
   "source": [
    "wdi2017.merge(sq_miles, on=\"country\", how=\"right\")"
   ]
  },
  {
   "cell_type": "markdown",
   "metadata": {
    "slideshow": {
     "slide_type": "slide"
    }
   },
   "source": [
    "## `df.join`\n",
    "\n",
    "The `join` method for a DataFrame is very similar to the `merge`\n",
    "method described above, but only allows you to use the index of the\n",
    "`right` DataFrame as the join key.\n",
    "\n",
    "Thus, `left.join(right, on=\"country\")` is equivalent to calling\n",
    "`pd.merge(left, right, left_on=\"country\", right_index=True)`.\n",
    "\n",
    "The implementation of the `join` method calls `merge` internally,\n",
    "but sets the `left_on` and `right_index` arguments for you.\n",
    "\n",
    "You can do anything with `df.join` that you can do with\n",
    "`df.merge`, but df.join` is more convenient to use if the keys of `right`\n",
    "are in the index."
   ]
  },
  {
   "cell_type": "code",
   "execution_count": 26,
   "metadata": {
    "ExecuteTime": {
     "end_time": "2021-11-13T05:47:04.272036Z",
     "start_time": "2021-11-13T05:47:04.258038Z"
    },
    "hide-output": false,
    "slideshow": {
     "slide_type": "-"
    }
   },
   "outputs": [
    {
     "data": {
      "text/html": [
       "<div>\n",
       "<style scoped>\n",
       "    .dataframe tbody tr th:only-of-type {\n",
       "        vertical-align: middle;\n",
       "    }\n",
       "\n",
       "    .dataframe tbody tr th {\n",
       "        vertical-align: top;\n",
       "    }\n",
       "\n",
       "    .dataframe thead th {\n",
       "        text-align: right;\n",
       "    }\n",
       "</style>\n",
       "<table border=\"1\" class=\"dataframe\">\n",
       "  <thead>\n",
       "    <tr style=\"text-align: right;\">\n",
       "      <th></th>\n",
       "      <th>GovExpend</th>\n",
       "      <th>Consumption</th>\n",
       "      <th>Exports</th>\n",
       "      <th>Imports</th>\n",
       "      <th>GDP</th>\n",
       "      <th>sq_miles</th>\n",
       "    </tr>\n",
       "    <tr>\n",
       "      <th>country</th>\n",
       "      <th></th>\n",
       "      <th></th>\n",
       "      <th></th>\n",
       "      <th></th>\n",
       "      <th></th>\n",
       "      <th></th>\n",
       "    </tr>\n",
       "  </thead>\n",
       "  <tbody>\n",
       "    <tr>\n",
       "      <th>Canada</th>\n",
       "      <td>0.372665</td>\n",
       "      <td>1.095475</td>\n",
       "      <td>0.582831</td>\n",
       "      <td>0.600031</td>\n",
       "      <td>1.868164</td>\n",
       "      <td>3.8000</td>\n",
       "    </tr>\n",
       "    <tr>\n",
       "      <th>Germany</th>\n",
       "      <td>0.745579</td>\n",
       "      <td>2.112009</td>\n",
       "      <td>1.930563</td>\n",
       "      <td>1.666348</td>\n",
       "      <td>3.883870</td>\n",
       "      <td>0.1370</td>\n",
       "    </tr>\n",
       "    <tr>\n",
       "      <th>United Kingdom</th>\n",
       "      <td>0.549538</td>\n",
       "      <td>1.809154</td>\n",
       "      <td>0.862629</td>\n",
       "      <td>0.933145</td>\n",
       "      <td>2.818704</td>\n",
       "      <td>0.0936</td>\n",
       "    </tr>\n",
       "    <tr>\n",
       "      <th>United States</th>\n",
       "      <td>2.405743</td>\n",
       "      <td>12.019266</td>\n",
       "      <td>2.287071</td>\n",
       "      <td>3.069954</td>\n",
       "      <td>17.348627</td>\n",
       "      <td>3.8000</td>\n",
       "    </tr>\n",
       "  </tbody>\n",
       "</table>\n",
       "</div>"
      ],
      "text/plain": [
       "                GovExpend  Consumption   Exports   Imports        GDP  \\\n",
       "country                                                                 \n",
       "Canada           0.372665     1.095475  0.582831  0.600031   1.868164   \n",
       "Germany          0.745579     2.112009  1.930563  1.666348   3.883870   \n",
       "United Kingdom   0.549538     1.809154  0.862629  0.933145   2.818704   \n",
       "United States    2.405743    12.019266  2.287071  3.069954  17.348627   \n",
       "\n",
       "                sq_miles  \n",
       "country                   \n",
       "Canada            3.8000  \n",
       "Germany           0.1370  \n",
       "United Kingdom    0.0936  \n",
       "United States     3.8000  "
      ]
     },
     "execution_count": 26,
     "metadata": {},
     "output_type": "execute_result"
    }
   ],
   "source": [
    "wdi2017.join(sq_miles, on=\"country\")"
   ]
  },
  {
   "cell_type": "code",
   "execution_count": 27,
   "metadata": {
    "ExecuteTime": {
     "end_time": "2021-11-13T05:47:04.288040Z",
     "start_time": "2021-11-13T05:47:04.274045Z"
    },
    "hide-output": false,
    "slideshow": {
     "slide_type": "-"
    }
   },
   "outputs": [
    {
     "data": {
      "text/html": [
       "<div>\n",
       "<style scoped>\n",
       "    .dataframe tbody tr th:only-of-type {\n",
       "        vertical-align: middle;\n",
       "    }\n",
       "\n",
       "    .dataframe tbody tr th {\n",
       "        vertical-align: top;\n",
       "    }\n",
       "\n",
       "    .dataframe thead th {\n",
       "        text-align: right;\n",
       "    }\n",
       "</style>\n",
       "<table border=\"1\" class=\"dataframe\">\n",
       "  <thead>\n",
       "    <tr style=\"text-align: right;\">\n",
       "      <th></th>\n",
       "      <th>GovExpend</th>\n",
       "      <th>Consumption</th>\n",
       "      <th>Exports</th>\n",
       "      <th>Imports</th>\n",
       "      <th>GDP</th>\n",
       "      <th>sq_miles</th>\n",
       "    </tr>\n",
       "    <tr>\n",
       "      <th>country</th>\n",
       "      <th></th>\n",
       "      <th></th>\n",
       "      <th></th>\n",
       "      <th></th>\n",
       "      <th></th>\n",
       "      <th></th>\n",
       "    </tr>\n",
       "  </thead>\n",
       "  <tbody>\n",
       "    <tr>\n",
       "      <th>Canada</th>\n",
       "      <td>0.372665</td>\n",
       "      <td>1.095475</td>\n",
       "      <td>0.582831</td>\n",
       "      <td>0.600031</td>\n",
       "      <td>1.868164</td>\n",
       "      <td>3.8000</td>\n",
       "    </tr>\n",
       "    <tr>\n",
       "      <th>Germany</th>\n",
       "      <td>0.745579</td>\n",
       "      <td>2.112009</td>\n",
       "      <td>1.930563</td>\n",
       "      <td>1.666348</td>\n",
       "      <td>3.883870</td>\n",
       "      <td>0.1370</td>\n",
       "    </tr>\n",
       "    <tr>\n",
       "      <th>United Kingdom</th>\n",
       "      <td>0.549538</td>\n",
       "      <td>1.809154</td>\n",
       "      <td>0.862629</td>\n",
       "      <td>0.933145</td>\n",
       "      <td>2.818704</td>\n",
       "      <td>0.0936</td>\n",
       "    </tr>\n",
       "    <tr>\n",
       "      <th>United States</th>\n",
       "      <td>2.405743</td>\n",
       "      <td>12.019266</td>\n",
       "      <td>2.287071</td>\n",
       "      <td>3.069954</td>\n",
       "      <td>17.348627</td>\n",
       "      <td>3.8000</td>\n",
       "    </tr>\n",
       "  </tbody>\n",
       "</table>\n",
       "</div>"
      ],
      "text/plain": [
       "                GovExpend  Consumption   Exports   Imports        GDP  \\\n",
       "country                                                                 \n",
       "Canada           0.372665     1.095475  0.582831  0.600031   1.868164   \n",
       "Germany          0.745579     2.112009  1.930563  1.666348   3.883870   \n",
       "United Kingdom   0.549538     1.809154  0.862629  0.933145   2.818704   \n",
       "United States    2.405743    12.019266  2.287071  3.069954  17.348627   \n",
       "\n",
       "                sq_miles  \n",
       "country                   \n",
       "Canada            3.8000  \n",
       "Germany           0.1370  \n",
       "United Kingdom    0.0936  \n",
       "United States     3.8000  "
      ]
     },
     "execution_count": 27,
     "metadata": {},
     "output_type": "execute_result"
    }
   ],
   "source": [
    "wdi2017.merge(sq_miles, left_on=\"country\", right_index=True)"
   ]
  },
  {
   "cell_type": "markdown",
   "metadata": {
    "slideshow": {
     "slide_type": "slide"
    }
   },
   "source": [
    "## Case Study\n",
    "\n",
    "Let’s put these tools to practice by loading some real datasets and\n",
    "seeing how these functions can be applied.\n",
    "\n",
    "We’ll analyze ratings of books from the website [Goodreads](https://www.goodreads.com/).\n",
    "\n",
    "We accessed the data [here](https://github.com/zygmuntz/goodbooks-10k).\n",
    "\n",
    "Let’s load it up."
   ]
  },
  {
   "cell_type": "code",
   "execution_count": 30,
   "metadata": {
    "ExecuteTime": {
     "end_time": "2021-11-13T05:56:04.821672Z",
     "start_time": "2021-11-13T05:51:32.521344Z"
    },
    "hide-output": false,
    "slideshow": {
     "slide_type": "-"
    }
   },
   "outputs": [
    {
     "data": {
      "text/html": [
       "<div>\n",
       "<style scoped>\n",
       "    .dataframe tbody tr th:only-of-type {\n",
       "        vertical-align: middle;\n",
       "    }\n",
       "\n",
       "    .dataframe tbody tr th {\n",
       "        vertical-align: top;\n",
       "    }\n",
       "\n",
       "    .dataframe thead th {\n",
       "        text-align: right;\n",
       "    }\n",
       "</style>\n",
       "<table border=\"1\" class=\"dataframe\">\n",
       "  <thead>\n",
       "    <tr style=\"text-align: right;\">\n",
       "      <th></th>\n",
       "      <th>Unnamed: 0</th>\n",
       "      <th>user_id</th>\n",
       "      <th>book_id</th>\n",
       "      <th>rating</th>\n",
       "    </tr>\n",
       "  </thead>\n",
       "  <tbody>\n",
       "    <tr>\n",
       "      <th>0</th>\n",
       "      <td>0</td>\n",
       "      <td>1</td>\n",
       "      <td>258</td>\n",
       "      <td>5</td>\n",
       "    </tr>\n",
       "    <tr>\n",
       "      <th>1</th>\n",
       "      <td>1</td>\n",
       "      <td>2</td>\n",
       "      <td>4081</td>\n",
       "      <td>4</td>\n",
       "    </tr>\n",
       "    <tr>\n",
       "      <th>2</th>\n",
       "      <td>2</td>\n",
       "      <td>2</td>\n",
       "      <td>260</td>\n",
       "      <td>5</td>\n",
       "    </tr>\n",
       "    <tr>\n",
       "      <th>3</th>\n",
       "      <td>3</td>\n",
       "      <td>2</td>\n",
       "      <td>9296</td>\n",
       "      <td>5</td>\n",
       "    </tr>\n",
       "    <tr>\n",
       "      <th>4</th>\n",
       "      <td>4</td>\n",
       "      <td>2</td>\n",
       "      <td>2318</td>\n",
       "      <td>3</td>\n",
       "    </tr>\n",
       "  </tbody>\n",
       "</table>\n",
       "</div>"
      ],
      "text/plain": [
       "   Unnamed: 0  user_id  book_id  rating\n",
       "0           0        1      258       5\n",
       "1           1        2     4081       4\n",
       "2           2        2      260       5\n",
       "3           3        2     9296       5\n",
       "4           4        2     2318       3"
      ]
     },
     "metadata": {},
     "output_type": "display_data"
    },
    {
     "name": "stdout",
     "output_type": "stream",
     "text": [
      "<class 'pandas.core.frame.DataFrame'>\n",
      "RangeIndex: 5976479 entries, 0 to 5976478\n",
      "Data columns (total 4 columns):\n",
      " #   Column      Dtype\n",
      "---  ------      -----\n",
      " 0   Unnamed: 0  int64\n",
      " 1   user_id     int64\n",
      " 2   book_id     int64\n",
      " 3   rating      int64\n",
      "dtypes: int64(4)\n",
      "memory usage: 182.4 MB\n"
     ]
    }
   ],
   "source": [
    "import ssl\n",
    "ssl._create_default_https_context = ssl._create_unverified_context\n",
    "url = \"https://datascience.quantecon.org/assets/data/goodreads_ratings.csv.zip\"\n",
    "ratings = pd.read_csv(url)\n",
    "display(ratings.head())\n",
    "ratings.info()"
   ]
  },
  {
   "cell_type": "markdown",
   "metadata": {
    "slideshow": {
     "slide_type": "subslide"
    }
   },
   "source": [
    "We can already do some interesting things with just the ratings data.\n",
    "\n",
    "Let’s see how many ratings of each number are in our dataset."
   ]
  },
  {
   "cell_type": "code",
   "execution_count": 31,
   "metadata": {
    "ExecuteTime": {
     "end_time": "2021-11-13T05:56:04.964258Z",
     "start_time": "2021-11-13T05:56:04.823672Z"
    },
    "hide-output": false,
    "slideshow": {
     "slide_type": "-"
    }
   },
   "outputs": [
    {
     "data": {
      "image/png": "[encoded data removed]",
      "text/plain": [
       "<Figure size 432x288 with 1 Axes>"
      ]
     },
     "metadata": {
      "needs_background": "light"
     },
     "output_type": "display_data"
    }
   ],
   "source": [
    "ratings[\"rating\"].value_counts().sort_index().plot(kind=\"bar\");"
   ]
  },
  {
   "cell_type": "markdown",
   "metadata": {
    "slideshow": {
     "slide_type": "subslide"
    }
   },
   "source": [
    "Let’s also see how many users have rated `N` books, for all `N`\n",
    "possible.\n",
    "\n",
    "To do this, we will use `value_counts` twice (can you think of why?).\n",
    "\n",
    "We will see a more flexible way of performing similar grouped operations in\n",
    "a future lecture."
   ]
  },
  {
   "cell_type": "code",
   "execution_count": 32,
   "metadata": {
    "ExecuteTime": {
     "end_time": "2021-11-13T05:56:04.980258Z",
     "start_time": "2021-11-13T05:56:04.965258Z"
    }
   },
   "outputs": [
    {
     "data": {
      "text/html": [
       "<div>\n",
       "<style scoped>\n",
       "    .dataframe tbody tr th:only-of-type {\n",
       "        vertical-align: middle;\n",
       "    }\n",
       "\n",
       "    .dataframe tbody tr th {\n",
       "        vertical-align: top;\n",
       "    }\n",
       "\n",
       "    .dataframe thead th {\n",
       "        text-align: right;\n",
       "    }\n",
       "</style>\n",
       "<table border=\"1\" class=\"dataframe\">\n",
       "  <thead>\n",
       "    <tr style=\"text-align: right;\">\n",
       "      <th></th>\n",
       "      <th>Unnamed: 0</th>\n",
       "      <th>user_id</th>\n",
       "      <th>book_id</th>\n",
       "      <th>rating</th>\n",
       "    </tr>\n",
       "  </thead>\n",
       "  <tbody>\n",
       "    <tr>\n",
       "      <th>0</th>\n",
       "      <td>0</td>\n",
       "      <td>1</td>\n",
       "      <td>258</td>\n",
       "      <td>5</td>\n",
       "    </tr>\n",
       "    <tr>\n",
       "      <th>1</th>\n",
       "      <td>1</td>\n",
       "      <td>2</td>\n",
       "      <td>4081</td>\n",
       "      <td>4</td>\n",
       "    </tr>\n",
       "    <tr>\n",
       "      <th>2</th>\n",
       "      <td>2</td>\n",
       "      <td>2</td>\n",
       "      <td>260</td>\n",
       "      <td>5</td>\n",
       "    </tr>\n",
       "    <tr>\n",
       "      <th>3</th>\n",
       "      <td>3</td>\n",
       "      <td>2</td>\n",
       "      <td>9296</td>\n",
       "      <td>5</td>\n",
       "    </tr>\n",
       "    <tr>\n",
       "      <th>4</th>\n",
       "      <td>4</td>\n",
       "      <td>2</td>\n",
       "      <td>2318</td>\n",
       "      <td>3</td>\n",
       "    </tr>\n",
       "  </tbody>\n",
       "</table>\n",
       "</div>"
      ],
      "text/plain": [
       "   Unnamed: 0  user_id  book_id  rating\n",
       "0           0        1      258       5\n",
       "1           1        2     4081       4\n",
       "2           2        2      260       5\n",
       "3           3        2     9296       5\n",
       "4           4        2     2318       3"
      ]
     },
     "execution_count": 32,
     "metadata": {},
     "output_type": "execute_result"
    }
   ],
   "source": [
    "ratings.head()"
   ]
  },
  {
   "cell_type": "code",
   "execution_count": 33,
   "metadata": {
    "ExecuteTime": {
     "end_time": "2021-11-13T05:56:05.057854Z",
     "start_time": "2021-11-13T05:56:04.982259Z"
    }
   },
   "outputs": [
    {
     "data": {
      "text/plain": [
       "12874    200\n",
       "30944    200\n",
       "52036    199\n",
       "12381    199\n",
       "28158    199\n",
       "        ... \n",
       "32128     21\n",
       "40753     21\n",
       "51725     21\n",
       "43675     20\n",
       "34590     19\n",
       "Name: user_id, Length: 53424, dtype: int64"
      ]
     },
     "execution_count": 33,
     "metadata": {},
     "output_type": "execute_result"
    }
   ],
   "source": [
    "ratings[\"user_id\"].value_counts()"
   ]
  },
  {
   "cell_type": "code",
   "execution_count": 34,
   "metadata": {
    "ExecuteTime": {
     "end_time": "2021-11-13T05:56:05.136871Z",
     "start_time": "2021-11-13T05:56:05.058841Z"
    },
    "hide-output": false,
    "slideshow": {
     "slide_type": "-"
    }
   },
   "outputs": [
    {
     "data": {
      "text/html": [
       "<div>\n",
       "<style scoped>\n",
       "    .dataframe tbody tr th:only-of-type {\n",
       "        vertical-align: middle;\n",
       "    }\n",
       "\n",
       "    .dataframe tbody tr th {\n",
       "        vertical-align: top;\n",
       "    }\n",
       "\n",
       "    .dataframe thead th {\n",
       "        text-align: right;\n",
       "    }\n",
       "</style>\n",
       "<table border=\"1\" class=\"dataframe\">\n",
       "  <thead>\n",
       "    <tr style=\"text-align: right;\">\n",
       "      <th></th>\n",
       "      <th>N_ratings</th>\n",
       "      <th>N_users</th>\n",
       "    </tr>\n",
       "  </thead>\n",
       "  <tbody>\n",
       "    <tr>\n",
       "      <th>0</th>\n",
       "      <td>19</td>\n",
       "      <td>1</td>\n",
       "    </tr>\n",
       "    <tr>\n",
       "      <th>1</th>\n",
       "      <td>20</td>\n",
       "      <td>1</td>\n",
       "    </tr>\n",
       "    <tr>\n",
       "      <th>2</th>\n",
       "      <td>21</td>\n",
       "      <td>3</td>\n",
       "    </tr>\n",
       "    <tr>\n",
       "      <th>3</th>\n",
       "      <td>22</td>\n",
       "      <td>13</td>\n",
       "    </tr>\n",
       "    <tr>\n",
       "      <th>4</th>\n",
       "      <td>23</td>\n",
       "      <td>5</td>\n",
       "    </tr>\n",
       "    <tr>\n",
       "      <th>5</th>\n",
       "      <td>24</td>\n",
       "      <td>11</td>\n",
       "    </tr>\n",
       "    <tr>\n",
       "      <th>6</th>\n",
       "      <td>25</td>\n",
       "      <td>13</td>\n",
       "    </tr>\n",
       "    <tr>\n",
       "      <th>7</th>\n",
       "      <td>26</td>\n",
       "      <td>23</td>\n",
       "    </tr>\n",
       "    <tr>\n",
       "      <th>8</th>\n",
       "      <td>27</td>\n",
       "      <td>34</td>\n",
       "    </tr>\n",
       "    <tr>\n",
       "      <th>9</th>\n",
       "      <td>28</td>\n",
       "      <td>26</td>\n",
       "    </tr>\n",
       "  </tbody>\n",
       "</table>\n",
       "</div>"
      ],
      "text/plain": [
       "   N_ratings  N_users\n",
       "0         19        1\n",
       "1         20        1\n",
       "2         21        3\n",
       "3         22       13\n",
       "4         23        5\n",
       "5         24       11\n",
       "6         25       13\n",
       "7         26       23\n",
       "8         27       34\n",
       "9         28       26"
      ]
     },
     "execution_count": 34,
     "metadata": {},
     "output_type": "execute_result"
    }
   ],
   "source": [
    "users_by_n = (\n",
    "    ratings[\"user_id\"]\n",
    "    .value_counts()  # Series. Index: user_id, value: n ratings by user\n",
    "    .value_counts()  # Series. Index: n_ratings by user, value: N_users with this many ratings\n",
    "    .sort_index()    # Sort our Series by the index (number of ratings)\n",
    "    .reset_index()   # Dataframe with columns `index` (from above) and `user_id`\n",
    "    .rename(columns={\"index\": \"N_ratings\", \"user_id\": \"N_users\"})\n",
    ")\n",
    "users_by_n.head(10)"
   ]
  },
  {
   "cell_type": "markdown",
   "metadata": {
    "slideshow": {
     "slide_type": "subslide"
    }
   },
   "source": [
    "Let’s look at some statistics on that dataset."
   ]
  },
  {
   "cell_type": "code",
   "execution_count": 35,
   "metadata": {
    "ExecuteTime": {
     "end_time": "2021-11-13T05:56:05.152861Z",
     "start_time": "2021-11-13T05:56:05.137860Z"
    },
    "hide-output": false,
    "slideshow": {
     "slide_type": "-"
    }
   },
   "outputs": [
    {
     "data": {
      "text/html": [
       "<div>\n",
       "<style scoped>\n",
       "    .dataframe tbody tr th:only-of-type {\n",
       "        vertical-align: middle;\n",
       "    }\n",
       "\n",
       "    .dataframe tbody tr th {\n",
       "        vertical-align: top;\n",
       "    }\n",
       "\n",
       "    .dataframe thead th {\n",
       "        text-align: right;\n",
       "    }\n",
       "</style>\n",
       "<table border=\"1\" class=\"dataframe\">\n",
       "  <thead>\n",
       "    <tr style=\"text-align: right;\">\n",
       "      <th></th>\n",
       "      <th>N_ratings</th>\n",
       "      <th>N_users</th>\n",
       "    </tr>\n",
       "  </thead>\n",
       "  <tbody>\n",
       "    <tr>\n",
       "      <th>count</th>\n",
       "      <td>181.00000</td>\n",
       "      <td>181.000000</td>\n",
       "    </tr>\n",
       "    <tr>\n",
       "      <th>mean</th>\n",
       "      <td>109.01105</td>\n",
       "      <td>295.160221</td>\n",
       "    </tr>\n",
       "    <tr>\n",
       "      <th>std</th>\n",
       "      <td>52.41342</td>\n",
       "      <td>309.461848</td>\n",
       "    </tr>\n",
       "    <tr>\n",
       "      <th>min</th>\n",
       "      <td>19.00000</td>\n",
       "      <td>1.000000</td>\n",
       "    </tr>\n",
       "    <tr>\n",
       "      <th>25%</th>\n",
       "      <td>64.00000</td>\n",
       "      <td>40.000000</td>\n",
       "    </tr>\n",
       "    <tr>\n",
       "      <th>50%</th>\n",
       "      <td>109.00000</td>\n",
       "      <td>158.000000</td>\n",
       "    </tr>\n",
       "    <tr>\n",
       "      <th>75%</th>\n",
       "      <td>154.00000</td>\n",
       "      <td>538.000000</td>\n",
       "    </tr>\n",
       "    <tr>\n",
       "      <th>max</th>\n",
       "      <td>200.00000</td>\n",
       "      <td>964.000000</td>\n",
       "    </tr>\n",
       "  </tbody>\n",
       "</table>\n",
       "</div>"
      ],
      "text/plain": [
       "       N_ratings     N_users\n",
       "count  181.00000  181.000000\n",
       "mean   109.01105  295.160221\n",
       "std     52.41342  309.461848\n",
       "min     19.00000    1.000000\n",
       "25%     64.00000   40.000000\n",
       "50%    109.00000  158.000000\n",
       "75%    154.00000  538.000000\n",
       "max    200.00000  964.000000"
      ]
     },
     "execution_count": 35,
     "metadata": {},
     "output_type": "execute_result"
    }
   ],
   "source": [
    "users_by_n.describe()"
   ]
  },
  {
   "cell_type": "markdown",
   "metadata": {
    "slideshow": {
     "slide_type": "subslide"
    }
   },
   "source": [
    "We can see the same data visually in a box plot."
   ]
  },
  {
   "cell_type": "code",
   "execution_count": 36,
   "metadata": {
    "ExecuteTime": {
     "end_time": "2021-11-13T05:56:05.296901Z",
     "start_time": "2021-11-13T05:56:05.153862Z"
    },
    "hide-output": false,
    "slideshow": {
     "slide_type": "-"
    }
   },
   "outputs": [
    {
     "data": {
      "text/plain": [
       "N_ratings       AxesSubplot(0.125,0.125;0.352273x0.755)\n",
       "N_users      AxesSubplot(0.547727,0.125;0.352273x0.755)\n",
       "dtype: object"
      ]
     },
     "execution_count": 36,
     "metadata": {},
     "output_type": "execute_result"
    },
    {
     "data": {
      "image/png": "[encoded data removed]",
      "text/plain": [
       "<Figure size 432x288 with 2 Axes>"
      ]
     },
     "metadata": {
      "needs_background": "light"
     },
     "output_type": "display_data"
    }
   ],
   "source": [
    "users_by_n.plot(kind=\"box\", subplots=True)"
   ]
  },
  {
   "cell_type": "markdown",
   "metadata": {
    "slideshow": {
     "slide_type": "subslide"
    }
   },
   "source": [
    "Let’s practice applying the want operator…\n",
    "\n",
    "**Want**: Determine whether a relationship between the number of\n",
    "ratings a user has written and the distribution of the ratings exists. (Maybe we\n",
    "are an author hoping to inflate our ratings and wonder if we should\n",
    "target “more experienced” Goodreads users, or focus on newcomers.)\n",
    "\n",
    "Let’s start from the result and work our way backwards:\n",
    "\n",
    "1. We can answer our question if we have two similar DataFrames:  \n",
    "  - All ratings by the `N` (e.g. 25) users with the most ratings  \n",
    "  - All ratings by the `N` users with the least number of\n",
    "    ratings  \n",
    "1. To get that, we will need to extract rows of `ratings` with\n",
    "  `user_id` associated with the `N` most and least prolific raters  \n",
    "1. For that, we need the most and least active `user_id`s  \n",
    "1. To get that info, we need a count of how many ratings each user left.  \n",
    "  - We can get that with `df[\"user_id\"].value_counts()`, so let’s\n",
    "    start there.  "
   ]
  },
  {
   "cell_type": "code",
   "execution_count": 37,
   "metadata": {
    "ExecuteTime": {
     "end_time": "2021-11-13T05:56:05.376932Z",
     "start_time": "2021-11-13T05:56:05.297895Z"
    },
    "hide-output": false,
    "slideshow": {
     "slide_type": "fragment"
    }
   },
   "outputs": [
    {
     "data": {
      "text/plain": [
       "12874    200\n",
       "30944    200\n",
       "52036    199\n",
       "12381    199\n",
       "28158    199\n",
       "Name: user_id, dtype: int64"
      ]
     },
     "execution_count": 37,
     "metadata": {},
     "output_type": "execute_result"
    }
   ],
   "source": [
    "# step 4\n",
    "n_ratings = ratings[\"user_id\"].value_counts()\n",
    "n_ratings.head()"
   ]
  },
  {
   "cell_type": "code",
   "execution_count": 38,
   "metadata": {
    "ExecuteTime": {
     "end_time": "2021-11-13T05:56:05.391922Z",
     "start_time": "2021-11-13T05:56:05.378921Z"
    },
    "hide-output": false,
    "slideshow": {
     "slide_type": "fragment"
    }
   },
   "outputs": [
    {
     "name": "stdout",
     "output_type": "stream",
     "text": [
      "[12874, 30944, 52036, 12381, 28158, 45554, 6630, 37834, 15604, 7563, 14372, 19729, 9806, 9668, 24143, 10509, 33065, 25840, 9731, 38798, 17566, 32745, 26718, 53293, 10288]\n"
     ]
    }
   ],
   "source": [
    "# step 3\n",
    "N = 25\n",
    "most_prolific_users = n_ratings.nlargest(N).index.tolist()\n",
    "least_prolific_users = n_ratings.nsmallest(N).index.tolist()\n",
    "\n",
    "print(most_prolific_users)"
   ]
  },
  {
   "cell_type": "code",
   "execution_count": 39,
   "metadata": {
    "ExecuteTime": {
     "end_time": "2021-11-13T05:56:05.739013Z",
     "start_time": "2021-11-13T05:56:05.394918Z"
    },
    "hide-output": false,
    "slideshow": {
     "slide_type": "fragment"
    }
   },
   "outputs": [
    {
     "data": {
      "text/html": [
       "<div>\n",
       "<style scoped>\n",
       "    .dataframe tbody tr th:only-of-type {\n",
       "        vertical-align: middle;\n",
       "    }\n",
       "\n",
       "    .dataframe tbody tr th {\n",
       "        vertical-align: top;\n",
       "    }\n",
       "\n",
       "    .dataframe thead th {\n",
       "        text-align: right;\n",
       "    }\n",
       "</style>\n",
       "<table border=\"1\" class=\"dataframe\">\n",
       "  <thead>\n",
       "    <tr style=\"text-align: right;\">\n",
       "      <th></th>\n",
       "      <th>Unnamed: 0</th>\n",
       "      <th>user_id</th>\n",
       "      <th>book_id</th>\n",
       "      <th>rating</th>\n",
       "    </tr>\n",
       "  </thead>\n",
       "  <tbody>\n",
       "    <tr>\n",
       "      <th>532646</th>\n",
       "      <td>532646</td>\n",
       "      <td>9731</td>\n",
       "      <td>28</td>\n",
       "      <td>3</td>\n",
       "    </tr>\n",
       "    <tr>\n",
       "      <th>532647</th>\n",
       "      <td>532647</td>\n",
       "      <td>9731</td>\n",
       "      <td>58</td>\n",
       "      <td>4</td>\n",
       "    </tr>\n",
       "    <tr>\n",
       "      <th>532648</th>\n",
       "      <td>532648</td>\n",
       "      <td>9731</td>\n",
       "      <td>42</td>\n",
       "      <td>3</td>\n",
       "    </tr>\n",
       "    <tr>\n",
       "      <th>532649</th>\n",
       "      <td>532649</td>\n",
       "      <td>9731</td>\n",
       "      <td>79</td>\n",
       "      <td>2</td>\n",
       "    </tr>\n",
       "    <tr>\n",
       "      <th>532650</th>\n",
       "      <td>532650</td>\n",
       "      <td>9731</td>\n",
       "      <td>83</td>\n",
       "      <td>4</td>\n",
       "    </tr>\n",
       "  </tbody>\n",
       "</table>\n",
       "</div>"
      ],
      "text/plain": [
       "        Unnamed: 0  user_id  book_id  rating\n",
       "532646      532646     9731       28       3\n",
       "532647      532647     9731       58       4\n",
       "532648      532648     9731       42       3\n",
       "532649      532649     9731       79       2\n",
       "532650      532650     9731       83       4"
      ]
     },
     "execution_count": 39,
     "metadata": {},
     "output_type": "execute_result"
    }
   ],
   "source": [
    "# step 2\n",
    "active_ratings = ratings.loc[ratings[\"user_id\"].isin(most_prolific_users), :]\n",
    "inactive_ratings = ratings.loc[ratings[\"user_id\"].isin(least_prolific_users), :]\n",
    "\n",
    "active_ratings.head()"
   ]
  },
  {
   "cell_type": "code",
   "execution_count": 40,
   "metadata": {
    "ExecuteTime": {
     "end_time": "2021-11-13T05:56:05.833032Z",
     "start_time": "2021-11-13T05:56:05.739994Z"
    },
    "hide-output": false,
    "slideshow": {
     "slide_type": "fragment"
    }
   },
   "outputs": [
    {
     "name": "stdout",
     "output_type": "stream",
     "text": [
      "3.78894779771615\n",
      "4.0\n",
      "0.9791379837577775\n"
     ]
    },
    {
     "data": {
      "image/png": "[encoded data removed]",
      "text/plain": [
       "<Figure size 432x288 with 1 Axes>"
      ]
     },
     "metadata": {
      "needs_background": "light"
     },
     "output_type": "display_data"
    }
   ],
   "source": [
    "# step 1 -- get the answer!\n",
    "active_ratings[\"rating\"].value_counts().sort_index().plot(\n",
    "    kind=\"bar\", title=\"Distribution of ratings by most active users\"\n",
    ")\n",
    "print(active_ratings[\"rating\"].mean())\n",
    "print(active_ratings[\"rating\"].median())\n",
    "print(active_ratings[\"rating\"].std())"
   ]
  },
  {
   "cell_type": "code",
   "execution_count": 41,
   "metadata": {
    "ExecuteTime": {
     "end_time": "2021-11-13T05:56:05.926603Z",
     "start_time": "2021-11-13T05:56:05.834022Z"
    },
    "hide-output": false,
    "slideshow": {
     "slide_type": "fragment"
    }
   },
   "outputs": [
    {
     "name": "stdout",
     "output_type": "stream",
     "text": [
      "3.789473684210526\n",
      "4.0\n",
      "1.1689769788295632\n"
     ]
    },
    {
     "data": {
      "image/png": "[encoded data removed]",
      "text/plain": [
       "<Figure size 432x288 with 1 Axes>"
      ]
     },
     "metadata": {
      "needs_background": "light"
     },
     "output_type": "display_data"
    }
   ],
   "source": [
    "inactive_ratings[\"rating\"].value_counts().sort_index().plot(\n",
    "    kind=\"bar\", title=\"Distribution of ratings by least active users\"\n",
    ")\n",
    "print(inactive_ratings[\"rating\"].mean())\n",
    "print(inactive_ratings[\"rating\"].median())\n",
    "print(inactive_ratings[\"rating\"].std())"
   ]
  },
  {
   "cell_type": "markdown",
   "metadata": {
    "slideshow": {
     "slide_type": "-"
    }
   },
   "source": [
    "Nice! From the picture above, the new users look much more\n",
    "likely to leave 5 star ratings than more experienced users."
   ]
  },
  {
   "cell_type": "markdown",
   "metadata": {
    "slideshow": {
     "slide_type": "subslide"
    }
   },
   "source": [
    "### Book Data\n",
    "\n",
    "We know what you are probably thinking: “Isn’t this a lecture on merging?\n",
    "Why are we only using one dataset?”\n",
    "\n",
    "We hear you.\n",
    "\n",
    "Let’s also load a dataset containing information on the actual books."
   ]
  },
  {
   "cell_type": "code",
   "execution_count": 42,
   "metadata": {
    "ExecuteTime": {
     "end_time": "2021-11-13T05:56:27.574628Z",
     "start_time": "2021-11-13T05:56:05.928593Z"
    },
    "hide-output": false,
    "slideshow": {
     "slide_type": "-"
    }
   },
   "outputs": [
    {
     "name": "stdout",
     "output_type": "stream",
     "text": [
      "shape:  (10000, 3)\n",
      "dtypes:\n",
      "book_id     int64\n",
      "authors    object\n",
      "title      object\n",
      "dtype: object\n"
     ]
    },
    {
     "data": {
      "text/html": [
       "<div>\n",
       "<style scoped>\n",
       "    .dataframe tbody tr th:only-of-type {\n",
       "        vertical-align: middle;\n",
       "    }\n",
       "\n",
       "    .dataframe tbody tr th {\n",
       "        vertical-align: top;\n",
       "    }\n",
       "\n",
       "    .dataframe thead th {\n",
       "        text-align: right;\n",
       "    }\n",
       "</style>\n",
       "<table border=\"1\" class=\"dataframe\">\n",
       "  <thead>\n",
       "    <tr style=\"text-align: right;\">\n",
       "      <th></th>\n",
       "      <th>book_id</th>\n",
       "      <th>authors</th>\n",
       "      <th>title</th>\n",
       "    </tr>\n",
       "  </thead>\n",
       "  <tbody>\n",
       "    <tr>\n",
       "      <th>0</th>\n",
       "      <td>1</td>\n",
       "      <td>Suzanne Collins</td>\n",
       "      <td>The Hunger Games (The Hunger Games, #1)</td>\n",
       "    </tr>\n",
       "    <tr>\n",
       "      <th>1</th>\n",
       "      <td>2</td>\n",
       "      <td>J.K. Rowling, Mary GrandPré</td>\n",
       "      <td>Harry Potter and the Sorcerer's Stone (Harry P...</td>\n",
       "    </tr>\n",
       "    <tr>\n",
       "      <th>2</th>\n",
       "      <td>3</td>\n",
       "      <td>Stephenie Meyer</td>\n",
       "      <td>Twilight (Twilight, #1)</td>\n",
       "    </tr>\n",
       "    <tr>\n",
       "      <th>3</th>\n",
       "      <td>4</td>\n",
       "      <td>Harper Lee</td>\n",
       "      <td>To Kill a Mockingbird</td>\n",
       "    </tr>\n",
       "    <tr>\n",
       "      <th>4</th>\n",
       "      <td>5</td>\n",
       "      <td>F. Scott Fitzgerald</td>\n",
       "      <td>The Great Gatsby</td>\n",
       "    </tr>\n",
       "  </tbody>\n",
       "</table>\n",
       "</div>"
      ],
      "text/plain": [
       "   book_id                      authors  \\\n",
       "0        1              Suzanne Collins   \n",
       "1        2  J.K. Rowling, Mary GrandPré   \n",
       "2        3              Stephenie Meyer   \n",
       "3        4                   Harper Lee   \n",
       "4        5          F. Scott Fitzgerald   \n",
       "\n",
       "                                               title  \n",
       "0            The Hunger Games (The Hunger Games, #1)  \n",
       "1  Harry Potter and the Sorcerer's Stone (Harry P...  \n",
       "2                            Twilight (Twilight, #1)  \n",
       "3                              To Kill a Mockingbird  \n",
       "4                                   The Great Gatsby  "
      ]
     },
     "execution_count": 42,
     "metadata": {},
     "output_type": "execute_result"
    }
   ],
   "source": [
    "url = \"https://datascience.quantecon.org/assets/data/goodreads_books.csv\"\n",
    "books = pd.read_csv(url)\n",
    "\n",
    "# we only need a few of the columns\n",
    "books = books[[\"book_id\", \"authors\", \"title\"]]\n",
    "print(\"shape: \", books.shape)\n",
    "print(\"dtypes:\\n\", books.dtypes, sep=\"\")\n",
    "books.head()"
   ]
  },
  {
   "cell_type": "markdown",
   "metadata": {
    "slideshow": {
     "slide_type": "subslide"
    }
   },
   "source": [
    "We could do similar interesting things with just the books dataset,\n",
    "but we will skip it for now and merge them together."
   ]
  },
  {
   "cell_type": "code",
   "execution_count": 43,
   "metadata": {
    "ExecuteTime": {
     "end_time": "2021-11-13T05:56:28.245184Z",
     "start_time": "2021-11-13T05:56:27.575622Z"
    },
    "hide-output": false,
    "slideshow": {
     "slide_type": "-"
    }
   },
   "outputs": [
    {
     "data": {
      "text/plain": [
       "(5976479, 6)"
      ]
     },
     "execution_count": 43,
     "metadata": {},
     "output_type": "execute_result"
    }
   ],
   "source": [
    "rated_books = pd.merge(ratings, books, on=\"book_id\", how=\"left\")\n",
    "\n",
    "rated_books.shape\n"
   ]
  },
  {
   "cell_type": "markdown",
   "metadata": {
    "slideshow": {
     "slide_type": "fragment"
    }
   },
   "source": [
    "Now, let’s see which books have been most often rated."
   ]
  },
  {
   "cell_type": "code",
   "execution_count": 44,
   "metadata": {
    "ExecuteTime": {
     "end_time": "2021-11-13T05:56:28.450767Z",
     "start_time": "2021-11-13T05:56:28.247176Z"
    },
    "hide-output": false,
    "slideshow": {
     "slide_type": "-"
    }
   },
   "outputs": [
    {
     "data": {
      "text/plain": [
       "['Harry Potter and the Prisoner of Azkaban (Harry Potter, #3)',\n",
       " \"Harry Potter and the Sorcerer's Stone (Harry Potter, #1)\",\n",
       " 'Harry Potter and the Chamber of Secrets (Harry Potter, #2)',\n",
       " 'The Great Gatsby',\n",
       " 'To Kill a Mockingbird',\n",
       " 'The Hobbit',\n",
       " 'Twilight (Twilight, #1)',\n",
       " 'The Hunger Games (The Hunger Games, #1)',\n",
       " 'Catching Fire (The Hunger Games, #2)',\n",
       " 'Mockingjay (The Hunger Games, #3)']"
      ]
     },
     "execution_count": 44,
     "metadata": {},
     "output_type": "execute_result"
    }
   ],
   "source": [
    "most_rated_books_id = rated_books[\"book_id\"].value_counts().nlargest(10).index\n",
    "most_rated_books = rated_books.loc[rated_books[\"book_id\"].isin(most_rated_books_id), :]\n",
    "list(most_rated_books[\"title\"].unique())"
   ]
  },
  {
   "cell_type": "markdown",
   "metadata": {
    "slideshow": {
     "slide_type": "subslide"
    }
   },
   "source": [
    "Let’s use our `pivot_table` knowledge to compute the average rating\n",
    "for each of these books."
   ]
  },
  {
   "cell_type": "code",
   "execution_count": 45,
   "metadata": {
    "ExecuteTime": {
     "end_time": "2021-11-13T05:56:28.481759Z",
     "start_time": "2021-11-13T05:56:28.452761Z"
    },
    "hide-output": false,
    "slideshow": {
     "slide_type": "-"
    }
   },
   "outputs": [
    {
     "data": {
      "text/html": [
       "<div>\n",
       "<style scoped>\n",
       "    .dataframe tbody tr th:only-of-type {\n",
       "        vertical-align: middle;\n",
       "    }\n",
       "\n",
       "    .dataframe tbody tr th {\n",
       "        vertical-align: top;\n",
       "    }\n",
       "\n",
       "    .dataframe thead th {\n",
       "        text-align: right;\n",
       "    }\n",
       "</style>\n",
       "<table border=\"1\" class=\"dataframe\">\n",
       "  <thead>\n",
       "    <tr style=\"text-align: right;\">\n",
       "      <th></th>\n",
       "      <th>rating</th>\n",
       "    </tr>\n",
       "    <tr>\n",
       "      <th>title</th>\n",
       "      <th></th>\n",
       "    </tr>\n",
       "  </thead>\n",
       "  <tbody>\n",
       "    <tr>\n",
       "      <th>Twilight (Twilight, #1)</th>\n",
       "      <td>3.214341</td>\n",
       "    </tr>\n",
       "    <tr>\n",
       "      <th>The Great Gatsby</th>\n",
       "      <td>3.772224</td>\n",
       "    </tr>\n",
       "    <tr>\n",
       "      <th>Mockingjay (The Hunger Games, #3)</th>\n",
       "      <td>3.853131</td>\n",
       "    </tr>\n",
       "    <tr>\n",
       "      <th>Catching Fire (The Hunger Games, #2)</th>\n",
       "      <td>4.133422</td>\n",
       "    </tr>\n",
       "    <tr>\n",
       "      <th>The Hobbit</th>\n",
       "      <td>4.148477</td>\n",
       "    </tr>\n",
       "    <tr>\n",
       "      <th>Harry Potter and the Chamber of Secrets (Harry Potter, #2)</th>\n",
       "      <td>4.229418</td>\n",
       "    </tr>\n",
       "    <tr>\n",
       "      <th>The Hunger Games (The Hunger Games, #1)</th>\n",
       "      <td>4.279707</td>\n",
       "    </tr>\n",
       "    <tr>\n",
       "      <th>To Kill a Mockingbird</th>\n",
       "      <td>4.329369</td>\n",
       "    </tr>\n",
       "    <tr>\n",
       "      <th>Harry Potter and the Sorcerer's Stone (Harry Potter, #1)</th>\n",
       "      <td>4.351350</td>\n",
       "    </tr>\n",
       "    <tr>\n",
       "      <th>Harry Potter and the Prisoner of Azkaban (Harry Potter, #3)</th>\n",
       "      <td>4.418732</td>\n",
       "    </tr>\n",
       "  </tbody>\n",
       "</table>\n",
       "</div>"
      ],
      "text/plain": [
       "                                                      rating\n",
       "title                                                       \n",
       "Twilight (Twilight, #1)                             3.214341\n",
       "The Great Gatsby                                    3.772224\n",
       "Mockingjay (The Hunger Games, #3)                   3.853131\n",
       "Catching Fire (The Hunger Games, #2)                4.133422\n",
       "The Hobbit                                          4.148477\n",
       "Harry Potter and the Chamber of Secrets (Harry ...  4.229418\n",
       "The Hunger Games (The Hunger Games, #1)             4.279707\n",
       "To Kill a Mockingbird                               4.329369\n",
       "Harry Potter and the Sorcerer's Stone (Harry Po...  4.351350\n",
       "Harry Potter and the Prisoner of Azkaban (Harry...  4.418732"
      ]
     },
     "execution_count": 45,
     "metadata": {},
     "output_type": "execute_result"
    }
   ],
   "source": [
    "most_rated_books.pivot_table(values=\"rating\", index=\"title\").sort_values(\"rating\")"
   ]
  },
  {
   "cell_type": "markdown",
   "metadata": {
    "slideshow": {
     "slide_type": "subslide"
    }
   },
   "source": [
    "Let’s compute the average rating for each book in our sample."
   ]
  },
  {
   "cell_type": "code",
   "execution_count": 46,
   "metadata": {
    "ExecuteTime": {
     "end_time": "2021-11-13T05:56:29.417129Z",
     "start_time": "2021-11-13T05:56:28.482760Z"
    },
    "hide-output": false,
    "slideshow": {
     "slide_type": "-"
    }
   },
   "outputs": [
    {
     "data": {
      "text/html": [
       "<div>\n",
       "<style scoped>\n",
       "    .dataframe tbody tr th:only-of-type {\n",
       "        vertical-align: middle;\n",
       "    }\n",
       "\n",
       "    .dataframe tbody tr th {\n",
       "        vertical-align: top;\n",
       "    }\n",
       "\n",
       "    .dataframe thead th {\n",
       "        text-align: right;\n",
       "    }\n",
       "</style>\n",
       "<table border=\"1\" class=\"dataframe\">\n",
       "  <thead>\n",
       "    <tr style=\"text-align: right;\">\n",
       "      <th></th>\n",
       "      <th>rating</th>\n",
       "    </tr>\n",
       "    <tr>\n",
       "      <th>title</th>\n",
       "      <th></th>\n",
       "    </tr>\n",
       "  </thead>\n",
       "  <tbody>\n",
       "    <tr>\n",
       "      <th>The Complete Calvin and Hobbes</th>\n",
       "      <td>4.829876</td>\n",
       "    </tr>\n",
       "    <tr>\n",
       "      <th>ESV Study Bible</th>\n",
       "      <td>4.818182</td>\n",
       "    </tr>\n",
       "    <tr>\n",
       "      <th>Attack of the Deranged Mutant Killer Monster Snow Goons</th>\n",
       "      <td>4.768707</td>\n",
       "    </tr>\n",
       "    <tr>\n",
       "      <th>The Indispensable Calvin and Hobbes</th>\n",
       "      <td>4.766355</td>\n",
       "    </tr>\n",
       "    <tr>\n",
       "      <th>The Revenge of the Baby-Sat</th>\n",
       "      <td>4.761364</td>\n",
       "    </tr>\n",
       "    <tr>\n",
       "      <th>There's Treasure Everywhere: A Calvin and Hobbes Collection</th>\n",
       "      <td>4.760456</td>\n",
       "    </tr>\n",
       "    <tr>\n",
       "      <th>The Authoritative Calvin and Hobbes: A Calvin and Hobbes Treasury</th>\n",
       "      <td>4.757202</td>\n",
       "    </tr>\n",
       "    <tr>\n",
       "      <th>It's a Magical World: A Calvin and Hobbes Collection</th>\n",
       "      <td>4.747396</td>\n",
       "    </tr>\n",
       "    <tr>\n",
       "      <th>Harry Potter Boxed Set, Books 1-5 (Harry Potter, #1-5)</th>\n",
       "      <td>4.736842</td>\n",
       "    </tr>\n",
       "    <tr>\n",
       "      <th>The Calvin and Hobbes Tenth Anniversary Book</th>\n",
       "      <td>4.728528</td>\n",
       "    </tr>\n",
       "  </tbody>\n",
       "</table>\n",
       "</div>"
      ],
      "text/plain": [
       "                                                      rating\n",
       "title                                                       \n",
       "The Complete Calvin and Hobbes                      4.829876\n",
       "ESV Study Bible                                     4.818182\n",
       "Attack of the Deranged Mutant Killer Monster Sn...  4.768707\n",
       "The Indispensable Calvin and Hobbes                 4.766355\n",
       "The Revenge of the Baby-Sat                         4.761364\n",
       "There's Treasure Everywhere: A Calvin and Hobbe...  4.760456\n",
       "The Authoritative Calvin and Hobbes: A Calvin a...  4.757202\n",
       "It's a Magical World: A Calvin and Hobbes Colle...  4.747396\n",
       "Harry Potter Boxed Set, Books 1-5 (Harry Potter...  4.736842\n",
       "The Calvin and Hobbes Tenth Anniversary Book        4.728528"
      ]
     },
     "execution_count": 46,
     "metadata": {},
     "output_type": "execute_result"
    }
   ],
   "source": [
    "average_ratings = (\n",
    "    rated_books\n",
    "    .pivot_table(values=\"rating\", index=\"title\")\n",
    "    .sort_values(by=\"rating\", ascending=False)\n",
    ")\n",
    "average_ratings.head(10)"
   ]
  },
  {
   "cell_type": "markdown",
   "metadata": {
    "slideshow": {
     "slide_type": "subslide"
    }
   },
   "source": [
    "What does the overall distribution of average ratings look like?"
   ]
  },
  {
   "cell_type": "code",
   "execution_count": 47,
   "metadata": {
    "ExecuteTime": {
     "end_time": "2021-11-13T05:56:30.243521Z",
     "start_time": "2021-11-13T05:56:29.419131Z"
    },
    "hide-output": false,
    "slideshow": {
     "slide_type": "-"
    }
   },
   "outputs": [
    {
     "data": {
      "text/plain": [
       "<AxesSubplot:ylabel='Frequency'>"
      ]
     },
     "execution_count": 47,
     "metadata": {},
     "output_type": "execute_result"
    },
    {
     "data": {
      "image/png": "[encoded data removed]",
      "text/plain": [
       "<Figure size 432x288 with 1 Axes>"
      ]
     },
     "metadata": {
      "needs_background": "light"
     },
     "output_type": "display_data"
    },
    {
     "data": {
      "image/png": "[encoded data removed]",
      "text/plain": [
       "<Figure size 432x288 with 1 Axes>"
      ]
     },
     "metadata": {
      "needs_background": "light"
     },
     "output_type": "display_data"
    }
   ],
   "source": [
    "# plot a kernel density estimate of average ratings\n",
    "average_ratings.plot.density(xlim=(1, 5))\n",
    "\n",
    "# or a histogram\n",
    "average_ratings.plot.hist(bins=30, xlim=(1, 5))"
   ]
  },
  {
   "cell_type": "markdown",
   "metadata": {
    "slideshow": {
     "slide_type": "-"
    }
   },
   "source": [
    "It looks like most books have an average rating of just below 4."
   ]
  },
  {
   "cell_type": "markdown",
   "metadata": {
    "slideshow": {
     "slide_type": "slide"
    }
   },
   "source": [
    "## Visualizing Merge Operations\n",
    "\n",
    "As we did in the [reshape lecture](reshape.ipynb), we will visualize the\n",
    "various merge operations using artificial DataFrames.\n",
    "\n",
    "First, we create some dummy DataFrames."
   ]
  },
  {
   "cell_type": "code",
   "execution_count": 48,
   "metadata": {
    "ExecuteTime": {
     "end_time": "2021-11-13T05:56:30.259516Z",
     "start_time": "2021-11-13T05:56:30.245523Z"
    },
    "hide-output": false,
    "slideshow": {
     "slide_type": "-"
    }
   },
   "outputs": [
    {
     "name": "stdout",
     "output_type": "stream",
     "text": [
      "This is dfL: \n"
     ]
    },
    {
     "data": {
      "text/html": [
       "<div>\n",
       "<style scoped>\n",
       "    .dataframe tbody tr th:only-of-type {\n",
       "        vertical-align: middle;\n",
       "    }\n",
       "\n",
       "    .dataframe tbody tr th {\n",
       "        vertical-align: top;\n",
       "    }\n",
       "\n",
       "    .dataframe thead th {\n",
       "        text-align: right;\n",
       "    }\n",
       "</style>\n",
       "<table border=\"1\" class=\"dataframe\">\n",
       "  <thead>\n",
       "    <tr style=\"text-align: right;\">\n",
       "      <th></th>\n",
       "      <th>Key</th>\n",
       "      <th>C1</th>\n",
       "      <th>C2</th>\n",
       "    </tr>\n",
       "  </thead>\n",
       "  <tbody>\n",
       "    <tr>\n",
       "      <th>L1</th>\n",
       "      <td>A</td>\n",
       "      <td>1</td>\n",
       "      <td>10</td>\n",
       "    </tr>\n",
       "    <tr>\n",
       "      <th>L2</th>\n",
       "      <td>B</td>\n",
       "      <td>2</td>\n",
       "      <td>20</td>\n",
       "    </tr>\n",
       "    <tr>\n",
       "      <th>L3</th>\n",
       "      <td>A</td>\n",
       "      <td>3</td>\n",
       "      <td>30</td>\n",
       "    </tr>\n",
       "    <tr>\n",
       "      <th>L4</th>\n",
       "      <td>C</td>\n",
       "      <td>4</td>\n",
       "      <td>40</td>\n",
       "    </tr>\n",
       "  </tbody>\n",
       "</table>\n",
       "</div>"
      ],
      "text/plain": [
       "   Key  C1  C2\n",
       "L1   A   1  10\n",
       "L2   B   2  20\n",
       "L3   A   3  30\n",
       "L4   C   4  40"
      ]
     },
     "metadata": {},
     "output_type": "display_data"
    },
    {
     "name": "stdout",
     "output_type": "stream",
     "text": [
      "This is dfR:\n"
     ]
    },
    {
     "data": {
      "text/html": [
       "<div>\n",
       "<style scoped>\n",
       "    .dataframe tbody tr th:only-of-type {\n",
       "        vertical-align: middle;\n",
       "    }\n",
       "\n",
       "    .dataframe tbody tr th {\n",
       "        vertical-align: top;\n",
       "    }\n",
       "\n",
       "    .dataframe thead th {\n",
       "        text-align: right;\n",
       "    }\n",
       "</style>\n",
       "<table border=\"1\" class=\"dataframe\">\n",
       "  <thead>\n",
       "    <tr style=\"text-align: right;\">\n",
       "      <th></th>\n",
       "      <th>Key</th>\n",
       "      <th>C3</th>\n",
       "    </tr>\n",
       "  </thead>\n",
       "  <tbody>\n",
       "    <tr>\n",
       "      <th>R1</th>\n",
       "      <td>A</td>\n",
       "      <td>100</td>\n",
       "    </tr>\n",
       "    <tr>\n",
       "      <th>R2</th>\n",
       "      <td>B</td>\n",
       "      <td>200</td>\n",
       "    </tr>\n",
       "    <tr>\n",
       "      <th>R3</th>\n",
       "      <td>C</td>\n",
       "      <td>300</td>\n",
       "    </tr>\n",
       "    <tr>\n",
       "      <th>R4</th>\n",
       "      <td>D</td>\n",
       "      <td>400</td>\n",
       "    </tr>\n",
       "  </tbody>\n",
       "</table>\n",
       "</div>"
      ],
      "text/plain": [
       "   Key   C3\n",
       "R1   A  100\n",
       "R2   B  200\n",
       "R3   C  300\n",
       "R4   D  400"
      ]
     },
     "metadata": {},
     "output_type": "display_data"
    }
   ],
   "source": [
    "dfL = pd.DataFrame(\n",
    "    {\"Key\": [\"A\", \"B\", \"A\", \"C\"], \"C1\":[1, 2, 3, 4], \"C2\": [10, 20, 30, 40]},\n",
    "    index=[\"L1\", \"L2\", \"L3\", \"L4\"]\n",
    ")[[\"Key\", \"C1\", \"C2\"]]\n",
    "\n",
    "print(\"This is dfL: \")\n",
    "display(dfL)\n",
    "\n",
    "dfR = pd.DataFrame(\n",
    "    {\"Key\": [\"A\", \"B\", \"C\", \"D\"], \"C3\": [100, 200, 300, 400]},\n",
    "    index=[\"R1\", \"R2\", \"R3\", \"R4\"]\n",
    ")[[\"Key\", \"C3\"]]\n",
    "\n",
    "print(\"This is dfR:\")\n",
    "display(dfR)"
   ]
  },
  {
   "cell_type": "markdown",
   "metadata": {
    "slideshow": {
     "slide_type": "subslide"
    }
   },
   "source": [
    "### `pd.concat`\n",
    "\n",
    "Recall that calling `pd.concat(..., axis=0)` will stack DataFrames on top of\n",
    "one another:"
   ]
  },
  {
   "cell_type": "code",
   "execution_count": 49,
   "metadata": {
    "ExecuteTime": {
     "end_time": "2021-11-13T05:56:30.275534Z",
     "start_time": "2021-11-13T05:56:30.261517Z"
    },
    "hide-output": false,
    "slideshow": {
     "slide_type": "-"
    }
   },
   "outputs": [
    {
     "data": {
      "text/html": [
       "<div>\n",
       "<style scoped>\n",
       "    .dataframe tbody tr th:only-of-type {\n",
       "        vertical-align: middle;\n",
       "    }\n",
       "\n",
       "    .dataframe tbody tr th {\n",
       "        vertical-align: top;\n",
       "    }\n",
       "\n",
       "    .dataframe thead th {\n",
       "        text-align: right;\n",
       "    }\n",
       "</style>\n",
       "<table border=\"1\" class=\"dataframe\">\n",
       "  <thead>\n",
       "    <tr style=\"text-align: right;\">\n",
       "      <th></th>\n",
       "      <th>Key</th>\n",
       "      <th>C1</th>\n",
       "      <th>C2</th>\n",
       "      <th>C3</th>\n",
       "    </tr>\n",
       "  </thead>\n",
       "  <tbody>\n",
       "    <tr>\n",
       "      <th>L1</th>\n",
       "      <td>A</td>\n",
       "      <td>1.0</td>\n",
       "      <td>10.0</td>\n",
       "      <td>NaN</td>\n",
       "    </tr>\n",
       "    <tr>\n",
       "      <th>L2</th>\n",
       "      <td>B</td>\n",
       "      <td>2.0</td>\n",
       "      <td>20.0</td>\n",
       "      <td>NaN</td>\n",
       "    </tr>\n",
       "    <tr>\n",
       "      <th>L3</th>\n",
       "      <td>A</td>\n",
       "      <td>3.0</td>\n",
       "      <td>30.0</td>\n",
       "      <td>NaN</td>\n",
       "    </tr>\n",
       "    <tr>\n",
       "      <th>L4</th>\n",
       "      <td>C</td>\n",
       "      <td>4.0</td>\n",
       "      <td>40.0</td>\n",
       "      <td>NaN</td>\n",
       "    </tr>\n",
       "    <tr>\n",
       "      <th>R1</th>\n",
       "      <td>A</td>\n",
       "      <td>NaN</td>\n",
       "      <td>NaN</td>\n",
       "      <td>100.0</td>\n",
       "    </tr>\n",
       "    <tr>\n",
       "      <th>R2</th>\n",
       "      <td>B</td>\n",
       "      <td>NaN</td>\n",
       "      <td>NaN</td>\n",
       "      <td>200.0</td>\n",
       "    </tr>\n",
       "    <tr>\n",
       "      <th>R3</th>\n",
       "      <td>C</td>\n",
       "      <td>NaN</td>\n",
       "      <td>NaN</td>\n",
       "      <td>300.0</td>\n",
       "    </tr>\n",
       "    <tr>\n",
       "      <th>R4</th>\n",
       "      <td>D</td>\n",
       "      <td>NaN</td>\n",
       "      <td>NaN</td>\n",
       "      <td>400.0</td>\n",
       "    </tr>\n",
       "  </tbody>\n",
       "</table>\n",
       "</div>"
      ],
      "text/plain": [
       "   Key   C1    C2     C3\n",
       "L1   A  1.0  10.0    NaN\n",
       "L2   B  2.0  20.0    NaN\n",
       "L3   A  3.0  30.0    NaN\n",
       "L4   C  4.0  40.0    NaN\n",
       "R1   A  NaN   NaN  100.0\n",
       "R2   B  NaN   NaN  200.0\n",
       "R3   C  NaN   NaN  300.0\n",
       "R4   D  NaN   NaN  400.0"
      ]
     },
     "execution_count": 49,
     "metadata": {},
     "output_type": "execute_result"
    }
   ],
   "source": [
    "pd.concat([dfL, dfR], axis=0)"
   ]
  },
  {
   "cell_type": "markdown",
   "metadata": {
    "slideshow": {
     "slide_type": "-"
    }
   },
   "source": [
    "Here’s how we might visualize that.\n",
    "\n",
    "<img src=\"https://datascience.quantecon.org/_images/concat_axis0.gif\" alt=\"concat\\_axis0.gif\" style=\"\">\n",
    "\n",
    "  "
   ]
  },
  {
   "cell_type": "markdown",
   "metadata": {
    "slideshow": {
     "slide_type": "subslide"
    }
   },
   "source": [
    "We can also set `axis=1` to stack side by side."
   ]
  },
  {
   "cell_type": "code",
   "execution_count": 50,
   "metadata": {
    "ExecuteTime": {
     "end_time": "2021-11-13T05:56:30.290557Z",
     "start_time": "2021-11-13T05:56:30.276520Z"
    },
    "hide-output": false,
    "slideshow": {
     "slide_type": "-"
    }
   },
   "outputs": [
    {
     "data": {
      "text/html": [
       "<div>\n",
       "<style scoped>\n",
       "    .dataframe tbody tr th:only-of-type {\n",
       "        vertical-align: middle;\n",
       "    }\n",
       "\n",
       "    .dataframe tbody tr th {\n",
       "        vertical-align: top;\n",
       "    }\n",
       "\n",
       "    .dataframe thead th {\n",
       "        text-align: right;\n",
       "    }\n",
       "</style>\n",
       "<table border=\"1\" class=\"dataframe\">\n",
       "  <thead>\n",
       "    <tr style=\"text-align: right;\">\n",
       "      <th></th>\n",
       "      <th>Key</th>\n",
       "      <th>C1</th>\n",
       "      <th>C2</th>\n",
       "      <th>Key</th>\n",
       "      <th>C3</th>\n",
       "    </tr>\n",
       "  </thead>\n",
       "  <tbody>\n",
       "    <tr>\n",
       "      <th>L1</th>\n",
       "      <td>A</td>\n",
       "      <td>1.0</td>\n",
       "      <td>10.0</td>\n",
       "      <td>NaN</td>\n",
       "      <td>NaN</td>\n",
       "    </tr>\n",
       "    <tr>\n",
       "      <th>L2</th>\n",
       "      <td>B</td>\n",
       "      <td>2.0</td>\n",
       "      <td>20.0</td>\n",
       "      <td>NaN</td>\n",
       "      <td>NaN</td>\n",
       "    </tr>\n",
       "    <tr>\n",
       "      <th>L3</th>\n",
       "      <td>A</td>\n",
       "      <td>3.0</td>\n",
       "      <td>30.0</td>\n",
       "      <td>NaN</td>\n",
       "      <td>NaN</td>\n",
       "    </tr>\n",
       "    <tr>\n",
       "      <th>L4</th>\n",
       "      <td>C</td>\n",
       "      <td>4.0</td>\n",
       "      <td>40.0</td>\n",
       "      <td>NaN</td>\n",
       "      <td>NaN</td>\n",
       "    </tr>\n",
       "    <tr>\n",
       "      <th>R1</th>\n",
       "      <td>NaN</td>\n",
       "      <td>NaN</td>\n",
       "      <td>NaN</td>\n",
       "      <td>A</td>\n",
       "      <td>100.0</td>\n",
       "    </tr>\n",
       "    <tr>\n",
       "      <th>R2</th>\n",
       "      <td>NaN</td>\n",
       "      <td>NaN</td>\n",
       "      <td>NaN</td>\n",
       "      <td>B</td>\n",
       "      <td>200.0</td>\n",
       "    </tr>\n",
       "    <tr>\n",
       "      <th>R3</th>\n",
       "      <td>NaN</td>\n",
       "      <td>NaN</td>\n",
       "      <td>NaN</td>\n",
       "      <td>C</td>\n",
       "      <td>300.0</td>\n",
       "    </tr>\n",
       "    <tr>\n",
       "      <th>R4</th>\n",
       "      <td>NaN</td>\n",
       "      <td>NaN</td>\n",
       "      <td>NaN</td>\n",
       "      <td>D</td>\n",
       "      <td>400.0</td>\n",
       "    </tr>\n",
       "  </tbody>\n",
       "</table>\n",
       "</div>"
      ],
      "text/plain": [
       "    Key   C1    C2  Key     C3\n",
       "L1    A  1.0  10.0  NaN    NaN\n",
       "L2    B  2.0  20.0  NaN    NaN\n",
       "L3    A  3.0  30.0  NaN    NaN\n",
       "L4    C  4.0  40.0  NaN    NaN\n",
       "R1  NaN  NaN   NaN    A  100.0\n",
       "R2  NaN  NaN   NaN    B  200.0\n",
       "R3  NaN  NaN   NaN    C  300.0\n",
       "R4  NaN  NaN   NaN    D  400.0"
      ]
     },
     "execution_count": 50,
     "metadata": {},
     "output_type": "execute_result"
    }
   ],
   "source": [
    "pd.concat([dfL, dfR], axis=1)"
   ]
  },
  {
   "cell_type": "markdown",
   "metadata": {
    "slideshow": {
     "slide_type": "-"
    }
   },
   "source": [
    "Here’s how we might visualize that.\n",
    "\n",
    "<img src=\"https://datascience.quantecon.org/_images/concat_axis1.gif\" alt=\"concat\\_axis1.gif\" style=\"\">"
   ]
  },
  {
   "cell_type": "markdown",
   "metadata": {
    "slideshow": {
     "slide_type": "subslide"
    }
   },
   "source": [
    "### `pd.merge`\n",
    "\n",
    "The animation below shows a visualization of what happens when we call"
   ]
  },
  {
   "cell_type": "code",
   "execution_count": 51,
   "metadata": {
    "ExecuteTime": {
     "end_time": "2021-11-13T05:56:30.306068Z",
     "start_time": "2021-11-13T05:56:30.291061Z"
    },
    "hide-output": false,
    "slideshow": {
     "slide_type": "-"
    }
   },
   "outputs": [
    {
     "data": {
      "text/html": [
       "<div>\n",
       "<style scoped>\n",
       "    .dataframe tbody tr th:only-of-type {\n",
       "        vertical-align: middle;\n",
       "    }\n",
       "\n",
       "    .dataframe tbody tr th {\n",
       "        vertical-align: top;\n",
       "    }\n",
       "\n",
       "    .dataframe thead th {\n",
       "        text-align: right;\n",
       "    }\n",
       "</style>\n",
       "<table border=\"1\" class=\"dataframe\">\n",
       "  <thead>\n",
       "    <tr style=\"text-align: right;\">\n",
       "      <th></th>\n",
       "      <th>Key</th>\n",
       "      <th>C1</th>\n",
       "      <th>C2</th>\n",
       "      <th>C3</th>\n",
       "    </tr>\n",
       "  </thead>\n",
       "  <tbody>\n",
       "    <tr>\n",
       "      <th>0</th>\n",
       "      <td>A</td>\n",
       "      <td>1</td>\n",
       "      <td>10</td>\n",
       "      <td>100</td>\n",
       "    </tr>\n",
       "    <tr>\n",
       "      <th>1</th>\n",
       "      <td>A</td>\n",
       "      <td>3</td>\n",
       "      <td>30</td>\n",
       "      <td>100</td>\n",
       "    </tr>\n",
       "    <tr>\n",
       "      <th>2</th>\n",
       "      <td>B</td>\n",
       "      <td>2</td>\n",
       "      <td>20</td>\n",
       "      <td>200</td>\n",
       "    </tr>\n",
       "    <tr>\n",
       "      <th>3</th>\n",
       "      <td>C</td>\n",
       "      <td>4</td>\n",
       "      <td>40</td>\n",
       "      <td>300</td>\n",
       "    </tr>\n",
       "  </tbody>\n",
       "</table>\n",
       "</div>"
      ],
      "text/plain": [
       "  Key  C1  C2   C3\n",
       "0   A   1  10  100\n",
       "1   A   3  30  100\n",
       "2   B   2  20  200\n",
       "3   C   4  40  300"
      ]
     },
     "execution_count": 51,
     "metadata": {},
     "output_type": "execute_result"
    }
   ],
   "source": [
    "pd.merge(dfL, dfR, on=\"Key\")"
   ]
  },
  {
   "cell_type": "markdown",
   "metadata": {
    "slideshow": {
     "slide_type": "-"
    }
   },
   "source": [
    "<img src=\"https://datascience.quantecon.org/_images/left_merge.gif\" alt=\"left\\_merge.gif\" style=\"\">\n",
    "\n",
    "  \n",
    "Now, let’s focus on what happens when we set `how=\"right\"`.\n",
    "\n",
    "Pay special attention to what happens when filling the output value for\n",
    "the key `A`."
   ]
  },
  {
   "cell_type": "code",
   "execution_count": 52,
   "metadata": {
    "ExecuteTime": {
     "end_time": "2021-11-13T05:56:30.322073Z",
     "start_time": "2021-11-13T05:56:30.307071Z"
    },
    "hide-output": false,
    "slideshow": {
     "slide_type": "fragment"
    }
   },
   "outputs": [
    {
     "data": {
      "text/html": [
       "<div>\n",
       "<style scoped>\n",
       "    .dataframe tbody tr th:only-of-type {\n",
       "        vertical-align: middle;\n",
       "    }\n",
       "\n",
       "    .dataframe tbody tr th {\n",
       "        vertical-align: top;\n",
       "    }\n",
       "\n",
       "    .dataframe thead th {\n",
       "        text-align: right;\n",
       "    }\n",
       "</style>\n",
       "<table border=\"1\" class=\"dataframe\">\n",
       "  <thead>\n",
       "    <tr style=\"text-align: right;\">\n",
       "      <th></th>\n",
       "      <th>Key</th>\n",
       "      <th>C1</th>\n",
       "      <th>C2</th>\n",
       "      <th>C3</th>\n",
       "    </tr>\n",
       "  </thead>\n",
       "  <tbody>\n",
       "    <tr>\n",
       "      <th>0</th>\n",
       "      <td>A</td>\n",
       "      <td>1.0</td>\n",
       "      <td>10.0</td>\n",
       "      <td>100</td>\n",
       "    </tr>\n",
       "    <tr>\n",
       "      <th>1</th>\n",
       "      <td>A</td>\n",
       "      <td>3.0</td>\n",
       "      <td>30.0</td>\n",
       "      <td>100</td>\n",
       "    </tr>\n",
       "    <tr>\n",
       "      <th>2</th>\n",
       "      <td>B</td>\n",
       "      <td>2.0</td>\n",
       "      <td>20.0</td>\n",
       "      <td>200</td>\n",
       "    </tr>\n",
       "    <tr>\n",
       "      <th>3</th>\n",
       "      <td>C</td>\n",
       "      <td>4.0</td>\n",
       "      <td>40.0</td>\n",
       "      <td>300</td>\n",
       "    </tr>\n",
       "    <tr>\n",
       "      <th>4</th>\n",
       "      <td>D</td>\n",
       "      <td>NaN</td>\n",
       "      <td>NaN</td>\n",
       "      <td>400</td>\n",
       "    </tr>\n",
       "  </tbody>\n",
       "</table>\n",
       "</div>"
      ],
      "text/plain": [
       "  Key   C1    C2   C3\n",
       "0   A  1.0  10.0  100\n",
       "1   A  3.0  30.0  100\n",
       "2   B  2.0  20.0  200\n",
       "3   C  4.0  40.0  300\n",
       "4   D  NaN   NaN  400"
      ]
     },
     "execution_count": 52,
     "metadata": {},
     "output_type": "execute_result"
    }
   ],
   "source": [
    "pd.merge(dfL, dfR, on=\"Key\", how=\"right\")"
   ]
  },
  {
   "cell_type": "markdown",
   "metadata": {
    "slideshow": {
     "slide_type": "-"
    }
   },
   "source": [
    "<img src=\"https://datascience.quantecon.org/_images/right_merge.gif\" alt=\"right\\_merge.gif\" style=\"\">"
   ]
  },
  {
   "cell_type": "code",
   "execution_count": null,
   "metadata": {},
   "outputs": [],
   "source": []
  },
  {
   "cell_type": "code",
   "execution_count": null,
   "metadata": {},
   "outputs": [],
   "source": []
  },
  {
   "cell_type": "code",
   "execution_count": null,
   "metadata": {},
   "outputs": [],
   "source": []
  },
  {
   "cell_type": "code",
   "execution_count": null,
   "metadata": {},
   "outputs": [],
   "source": []
  },
  {
   "cell_type": "code",
   "execution_count": null,
   "metadata": {},
   "outputs": [],
   "source": []
  },
  {
   "cell_type": "code",
   "execution_count": null,
   "metadata": {},
   "outputs": [],
   "source": []
  },
  {
   "cell_type": "code",
   "execution_count": null,
   "metadata": {},
   "outputs": [],
   "source": []
  },
  {
   "cell_type": "code",
   "execution_count": null,
   "metadata": {},
   "outputs": [],
   "source": []
  },
  {
   "cell_type": "code",
   "execution_count": null,
   "metadata": {},
   "outputs": [],
   "source": []
  },
  {
   "cell_type": "code",
   "execution_count": null,
   "metadata": {},
   "outputs": [],
   "source": []
  },
  {
   "cell_type": "code",
   "execution_count": null,
   "metadata": {},
   "outputs": [],
   "source": []
  },
  {
   "cell_type": "code",
   "execution_count": null,
   "metadata": {},
   "outputs": [],
   "source": []
  },
  {
   "cell_type": "code",
   "execution_count": null,
   "metadata": {},
   "outputs": [],
   "source": []
  }
 ],
 "metadata": {
  "date": 1595352472.6962032,
  "download_nb": false,
  "filename": "merge.rst",
  "filename_with_path": "pandas/merge",
  "interpreter": {
   "hash": "e55df22e38eb6f84ed485cdc18bfaacd9fb4774a6d0c2caf3f6700c08b998f77"
  },
  "kernelspec": {
   "display_name": "Python 3 (ipykernel)",
   "language": "python",
   "name": "python3"
  },
  "language_info": {
   "codemirror_mode": {
    "name": "ipython",
    "version": 3
   },
   "file_extension": ".py",
   "mimetype": "text/x-python",
   "name": "python",
   "nbconvert_exporter": "python",
   "pygments_lexer": "ipython3",
   "version": "3.9.5"
  },
  "title": "Merge",
  "toc": {
   "base_numbering": 1,
   "nav_menu": {},
   "number_sections": true,
   "sideBar": true,
   "skip_h1_title": true,
   "title_cell": "Table of Contents",
   "title_sidebar": "Contents",
   "toc_cell": true,
   "toc_position": {},
   "toc_section_display": true,
   "toc_window_display": false
  }
 },
 "nbformat": 4,
 "nbformat_minor": 4
}
