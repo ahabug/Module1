{
 "cells": [
  {
   "cell_type": "markdown",
   "metadata": {
    "toc": true
   },
   "source": [
    "<h1>Table of Contents<span class=\"tocSkip\"></span></h1>\n",
    "<div class=\"toc\"><ul class=\"toc-item\"><li><span><a href=\"#Outline\" data-toc-modified-id=\"Outline-1\"><span class=\"toc-item-num\">1&nbsp;&nbsp;</span>Outline</a></span></li><li><span><a href=\"#Tidy-Data\" data-toc-modified-id=\"Tidy-Data-2\"><span class=\"toc-item-num\">2&nbsp;&nbsp;</span>Tidy Data</a></span></li><li><span><a href=\"#Reshaping-your-Data\" data-toc-modified-id=\"Reshaping-your-Data-3\"><span class=\"toc-item-num\">3&nbsp;&nbsp;</span>Reshaping your Data</a></span></li><li><span><a href=\"#Long-vs-Wide\" data-toc-modified-id=\"Long-vs-Wide-4\"><span class=\"toc-item-num\">4&nbsp;&nbsp;</span>Long vs Wide</a></span></li><li><span><a href=\"#set_index,-reset_index,-and-Transpose\" data-toc-modified-id=\"set_index,-reset_index,-and-Transpose-5\"><span class=\"toc-item-num\">5&nbsp;&nbsp;</span><code>set_index</code>, <code>reset_index</code>, and Transpose</a></span></li><li><span><a href=\"#stack-and-unstack\" data-toc-modified-id=\"stack-and-unstack-6\"><span class=\"toc-item-num\">6&nbsp;&nbsp;</span><code>stack</code> and <code>unstack</code></a></span><ul class=\"toc-item\"><li><span><a href=\"#stack\" data-toc-modified-id=\"stack-6.1\"><span class=\"toc-item-num\">6.1&nbsp;&nbsp;</span><code>stack</code></a></span></li><li><span><a href=\"#unstack\" data-toc-modified-id=\"unstack-6.2\"><span class=\"toc-item-num\">6.2&nbsp;&nbsp;</span><code>unstack</code></a></span></li><li><span><a href=\"#Summary\" data-toc-modified-id=\"Summary-6.3\"><span class=\"toc-item-num\">6.3&nbsp;&nbsp;</span>Summary</a></span></li></ul></li><li><span><a href=\"#melt\" data-toc-modified-id=\"melt-7\"><span class=\"toc-item-num\">7&nbsp;&nbsp;</span><code>melt</code></a></span></li><li><span><a href=\"#pivot-and-pivot_table\" data-toc-modified-id=\"pivot-and-pivot_table-8\"><span class=\"toc-item-num\">8&nbsp;&nbsp;</span><code>pivot</code> and <code>pivot_table</code></a></span><ul class=\"toc-item\"><li><span><a href=\"#pivot_table\" data-toc-modified-id=\"pivot_table-8.1\"><span class=\"toc-item-num\">8.1&nbsp;&nbsp;</span><code>pivot_table</code></a></span></li></ul></li><li><span><a href=\"#Visualizing-Reshaping\" data-toc-modified-id=\"Visualizing-Reshaping-9\"><span class=\"toc-item-num\">9&nbsp;&nbsp;</span>Visualizing Reshaping</a></span><ul class=\"toc-item\"><li><span><a href=\"#stack-and-unstack\" data-toc-modified-id=\"stack-and-unstack-9.1\"><span class=\"toc-item-num\">9.1&nbsp;&nbsp;</span><code>stack</code> and <code>unstack</code></a></span></li><li><span><a href=\"#melt\" data-toc-modified-id=\"melt-9.2\"><span class=\"toc-item-num\">9.2&nbsp;&nbsp;</span><code>melt</code></a></span></li></ul></li></ul></div>"
   ]
  },
  {
   "cell_type": "markdown",
   "metadata": {
    "slideshow": {
     "slide_type": "slide"
    }
   },
   "source": [
    "# Reshape\n",
    "\n",
    "**Prerequisites**\n",
    "\n",
    "- [Intro](../p01_pandas_intro/v01_pandas_intro.ipynb)  \n",
    "- [pandas basics](../p01_pandas_intro/v02_pandas_basics.ipynb)  \n",
    "- [Importance of index](../p02_organizing_data_with_pandas_1/01_the_index.ipynb)  \n",
    "\n",
    "\n",
    "**Outcomes**\n",
    "\n",
    "- Understand tidy data  \n",
    "- Understand and be able to apply the `melt`/`stack`/`unstack`/`pivot` methods  \n",
    "- Practice transformations of indices  "
   ]
  },
  {
   "cell_type": "code",
   "execution_count": 1,
   "metadata": {
    "ExecuteTime": {
     "end_time": "2021-11-13T05:46:42.513333Z",
     "start_time": "2021-11-13T05:46:41.829412Z"
    },
    "hide-output": false,
    "slideshow": {
     "slide_type": "-"
    }
   },
   "outputs": [],
   "source": [
    "import numpy as np\n",
    "import pandas as pd\n",
    "\n",
    "%matplotlib inline"
   ]
  },
  {
   "cell_type": "markdown",
   "metadata": {
    "slideshow": {
     "slide_type": "subslide"
    }
   },
   "source": [
    "## Outline\n",
    "\n",
    "- [Reshape](#Reshape)  \n",
    "  - [Tidy Data](#Tidy-Data)  \n",
    "  - [Reshaping your Data](#Reshaping-your-Data)  \n",
    "  - [Long vs Wide](#Long-vs-Wide)  \n",
    "  - [`set_index`, `reset_index`, and Transpose](#`set_index`,-`reset_index`,-and-Transpose)  \n",
    "  - [`stack` and `unstack`](#`stack`-and-`unstack`)  \n",
    "  - [`melt`](#`melt`)  \n",
    "  - [`pivot` and `pivot_table`](#`pivot`-and-`pivot_table`)  \n",
    "  - [Visualizing Reshaping](#Visualizing-Reshaping)"
   ]
  },
  {
   "cell_type": "markdown",
   "metadata": {
    "slideshow": {
     "slide_type": "slide"
    }
   },
   "source": [
    "## Tidy Data\n",
    "\n",
    "While pushed more generally in the `R` language, the concept of “[tidy data](https://en.wikipedia.org/wiki/Tidy_data)” is helpful in understanding the\n",
    "objectives for reshaping data, which in turn makes advanced features like\n",
    "[GroupBy](groupby.ipynb) more seamless.\n",
    "\n",
    "Hadley Wickham gives a terminology slightly better-adapted for the experimental\n",
    "sciences, but nevertheless useful for the social sciences.\n",
    "\n",
    "> A dataset is a collection of values, usually either numbers (if\n",
    "quantitative) or strings (if qualitative). Values are organized in two\n",
    "ways. Every value belongs to a variable and an observation. A variable\n",
    "contains all values that measure the same underlying attribute (like\n",
    "height, temperature, duration) across units. An observation contains all\n",
    "values measured on the same unit (like a person, or a day, or a race)\n",
    "across attributes. – [Tidy Data (Journal of Statistical Software 2013)](https://www.jstatsoft.org/index.php/jss/article/view/v059i10/v59i10.pdf)"
   ]
  },
  {
   "cell_type": "markdown",
   "metadata": {
    "slideshow": {
     "slide_type": "fragment"
    }
   },
   "source": [
    "With this framing,\n",
    "\n",
    "> A dataset is messy or tidy depending on how rows, columns and tables are\n",
    "matched with observations, variables, and types. In tidy data:\n",
    "1.  Each variable forms a column.\n",
    "2.  Each observation forms a row.\n",
    "3.  Each type of observational unit forms a table.\n",
    "\n",
    "The “column” and “row” terms map directly to pandas columns and rows, while the\n",
    "“table” maps to a pandas DataFrame."
   ]
  },
  {
   "cell_type": "markdown",
   "metadata": {
    "slideshow": {
     "slide_type": "subslide"
    }
   },
   "source": [
    "The question that should come to mind anytime you're introduced to a dataset is, \"What uniquely identifies an “observation” in your data?\"\n",
    "\n",
    "Is it a country? A year? A combination of country and year?\n",
    "\n",
    "These will become the indices of your DataFrame.\n",
    "\n",
    "The concept of an \"observation\" may  not be unique to a dataset. For example, consider a time-series of county level GDP data.\n",
    "\n",
    "* The most \"pure\" form of tidy data would probably classify the year/country as the identifier and have a single variable of GDP\n",
    "* You could also consider the year to be the unique identifier and have each country's GDP be the variable\n",
    "* Or, a variable might even be the GDP in a given year with the countries being the unique identifiers\n",
    "\n",
    "What you consider to be an observation will depend on the question you're asking."
   ]
  },
  {
   "cell_type": "markdown",
   "metadata": {
    "slideshow": {
     "slide_type": "slide"
    }
   },
   "source": [
    "## Reshaping your Data\n",
    "\n",
    "The data you receive is not always in a “shape” that makes it easy to analyze.\n",
    "\n",
    "What do we mean by shape? The number of rows and columns in a\n",
    "DataFrame and how information is stored in the index and column names.\n",
    "\n",
    "This lecture will teach you the basic concepts of reshaping data.\n",
    "\n",
    "As with other topics, we recommend reviewing the [pandas\n",
    "documentation](https://pandas.pydata.org/pandas-docs/stable/reshaping.html)\n",
    "on this subject for additional information.\n",
    "\n",
    "We will keep our discussion here as brief and simple as possible because\n",
    "these tools will reappear in subsequent lectures."
   ]
  },
  {
   "cell_type": "code",
   "execution_count": 2,
   "metadata": {
    "ExecuteTime": {
     "end_time": "2021-11-13T05:46:43.474529Z",
     "start_time": "2021-11-13T05:46:42.515323Z"
    },
    "hide-output": false,
    "slideshow": {
     "slide_type": "-"
    }
   },
   "outputs": [
    {
     "name": "stdout",
     "output_type": "stream",
     "text": [
      "<class 'pandas.core.frame.DataFrame'>\n",
      "RangeIndex: 9 entries, 0 to 8\n",
      "Data columns (total 8 columns):\n",
      " #   Column    Non-Null Count  Dtype  \n",
      "---  ------    --------------  -----  \n",
      " 0   Year      9 non-null      int64  \n",
      " 1   Player    9 non-null      object \n",
      " 2   Team      9 non-null      object \n",
      " 3   TeamName  9 non-null      object \n",
      " 4   Games     9 non-null      int64  \n",
      " 5   Pts       9 non-null      float64\n",
      " 6   Assist    9 non-null      float64\n",
      " 7   Rebound   9 non-null      float64\n",
      "dtypes: float64(3), int64(2), object(3)\n",
      "memory usage: 704.0+ bytes\n"
     ]
    },
    {
     "data": {
      "text/html": [
       "<div>\n",
       "<style scoped>\n",
       "    .dataframe tbody tr th:only-of-type {\n",
       "        vertical-align: middle;\n",
       "    }\n",
       "\n",
       "    .dataframe tbody tr th {\n",
       "        vertical-align: top;\n",
       "    }\n",
       "\n",
       "    .dataframe thead th {\n",
       "        text-align: right;\n",
       "    }\n",
       "</style>\n",
       "<table border=\"1\" class=\"dataframe\">\n",
       "  <thead>\n",
       "    <tr style=\"text-align: right;\">\n",
       "      <th></th>\n",
       "      <th>Year</th>\n",
       "      <th>Player</th>\n",
       "      <th>Team</th>\n",
       "      <th>TeamName</th>\n",
       "      <th>Games</th>\n",
       "      <th>Pts</th>\n",
       "      <th>Assist</th>\n",
       "      <th>Rebound</th>\n",
       "    </tr>\n",
       "  </thead>\n",
       "  <tbody>\n",
       "    <tr>\n",
       "      <th>0</th>\n",
       "      <td>2015</td>\n",
       "      <td>Curry</td>\n",
       "      <td>GSW</td>\n",
       "      <td>Warriors</td>\n",
       "      <td>79</td>\n",
       "      <td>30.1</td>\n",
       "      <td>6.7</td>\n",
       "      <td>5.4</td>\n",
       "    </tr>\n",
       "    <tr>\n",
       "      <th>1</th>\n",
       "      <td>2016</td>\n",
       "      <td>Curry</td>\n",
       "      <td>GSW</td>\n",
       "      <td>Warriors</td>\n",
       "      <td>79</td>\n",
       "      <td>25.3</td>\n",
       "      <td>6.6</td>\n",
       "      <td>4.5</td>\n",
       "    </tr>\n",
       "    <tr>\n",
       "      <th>2</th>\n",
       "      <td>2017</td>\n",
       "      <td>Curry</td>\n",
       "      <td>GSW</td>\n",
       "      <td>Warriors</td>\n",
       "      <td>51</td>\n",
       "      <td>26.4</td>\n",
       "      <td>6.1</td>\n",
       "      <td>5.1</td>\n",
       "    </tr>\n",
       "    <tr>\n",
       "      <th>3</th>\n",
       "      <td>2015</td>\n",
       "      <td>Durant</td>\n",
       "      <td>OKC</td>\n",
       "      <td>Thunder</td>\n",
       "      <td>72</td>\n",
       "      <td>28.2</td>\n",
       "      <td>5.0</td>\n",
       "      <td>8.2</td>\n",
       "    </tr>\n",
       "    <tr>\n",
       "      <th>4</th>\n",
       "      <td>2016</td>\n",
       "      <td>Durant</td>\n",
       "      <td>GSW</td>\n",
       "      <td>Warriors</td>\n",
       "      <td>62</td>\n",
       "      <td>25.1</td>\n",
       "      <td>4.8</td>\n",
       "      <td>8.3</td>\n",
       "    </tr>\n",
       "    <tr>\n",
       "      <th>5</th>\n",
       "      <td>2017</td>\n",
       "      <td>Durant</td>\n",
       "      <td>GSW</td>\n",
       "      <td>Warriors</td>\n",
       "      <td>68</td>\n",
       "      <td>26.4</td>\n",
       "      <td>5.4</td>\n",
       "      <td>6.8</td>\n",
       "    </tr>\n",
       "    <tr>\n",
       "      <th>6</th>\n",
       "      <td>2015</td>\n",
       "      <td>Ibaka</td>\n",
       "      <td>OKC</td>\n",
       "      <td>Thunder</td>\n",
       "      <td>78</td>\n",
       "      <td>12.6</td>\n",
       "      <td>0.8</td>\n",
       "      <td>6.8</td>\n",
       "    </tr>\n",
       "    <tr>\n",
       "      <th>7</th>\n",
       "      <td>2016</td>\n",
       "      <td>Ibaka</td>\n",
       "      <td>ORL</td>\n",
       "      <td>Magic</td>\n",
       "      <td>56</td>\n",
       "      <td>15.1</td>\n",
       "      <td>1.1</td>\n",
       "      <td>6.8</td>\n",
       "    </tr>\n",
       "    <tr>\n",
       "      <th>8</th>\n",
       "      <td>2016</td>\n",
       "      <td>Ibaka</td>\n",
       "      <td>TOR</td>\n",
       "      <td>Raptors</td>\n",
       "      <td>23</td>\n",
       "      <td>14.2</td>\n",
       "      <td>0.7</td>\n",
       "      <td>6.8</td>\n",
       "    </tr>\n",
       "  </tbody>\n",
       "</table>\n",
       "</div>"
      ],
      "text/plain": [
       "   Year  Player Team  TeamName  Games   Pts  Assist  Rebound\n",
       "0  2015   Curry  GSW  Warriors     79  30.1     6.7      5.4\n",
       "1  2016   Curry  GSW  Warriors     79  25.3     6.6      4.5\n",
       "2  2017   Curry  GSW  Warriors     51  26.4     6.1      5.1\n",
       "3  2015  Durant  OKC   Thunder     72  28.2     5.0      8.2\n",
       "4  2016  Durant  GSW  Warriors     62  25.1     4.8      8.3\n",
       "5  2017  Durant  GSW  Warriors     68  26.4     5.4      6.8\n",
       "6  2015   Ibaka  OKC   Thunder     78  12.6     0.8      6.8\n",
       "7  2016   Ibaka  ORL     Magic     56  15.1     1.1      6.8\n",
       "8  2016   Ibaka  TOR   Raptors     23  14.2     0.7      6.8"
      ]
     },
     "execution_count": 2,
     "metadata": {},
     "output_type": "execute_result"
    }
   ],
   "source": [
    "import ssl\n",
    "ssl._create_default_https_context = ssl._create_unverified_context\n",
    "url = \"https://datascience.quantecon.org/assets/data/bball.csv\"\n",
    "bball = pd.read_csv(url)\n",
    "bball.info()\n",
    "\n",
    "bball"
   ]
  },
  {
   "cell_type": "markdown",
   "metadata": {
    "slideshow": {
     "slide_type": "slide"
    }
   },
   "source": [
    "## Long vs Wide\n",
    "\n",
    "Many of the operations discussed change between long and wide DataFrames.\n",
    "\n",
    "What does it mean for a DataFrame to be long or wide?\n",
    "\n",
    "Here is long possible long-form representation of our basketball data."
   ]
  },
  {
   "cell_type": "code",
   "execution_count": 3,
   "metadata": {
    "ExecuteTime": {
     "end_time": "2021-11-13T05:46:43.490526Z",
     "start_time": "2021-11-13T05:46:43.476529Z"
    },
    "hide-output": false,
    "slideshow": {
     "slide_type": "-"
    }
   },
   "outputs": [
    {
     "data": {
      "text/html": [
       "<div>\n",
       "<style scoped>\n",
       "    .dataframe tbody tr th:only-of-type {\n",
       "        vertical-align: middle;\n",
       "    }\n",
       "\n",
       "    .dataframe tbody tr th {\n",
       "        vertical-align: top;\n",
       "    }\n",
       "\n",
       "    .dataframe thead th {\n",
       "        text-align: right;\n",
       "    }\n",
       "</style>\n",
       "<table border=\"1\" class=\"dataframe\">\n",
       "  <thead>\n",
       "    <tr style=\"text-align: right;\">\n",
       "      <th></th>\n",
       "      <th>Year</th>\n",
       "      <th>Player</th>\n",
       "      <th>Team</th>\n",
       "      <th>TeamName</th>\n",
       "      <th>variable</th>\n",
       "      <th>value</th>\n",
       "    </tr>\n",
       "  </thead>\n",
       "  <tbody>\n",
       "    <tr>\n",
       "      <th>0</th>\n",
       "      <td>2015</td>\n",
       "      <td>Curry</td>\n",
       "      <td>GSW</td>\n",
       "      <td>Warriors</td>\n",
       "      <td>Games</td>\n",
       "      <td>79.0</td>\n",
       "    </tr>\n",
       "    <tr>\n",
       "      <th>1</th>\n",
       "      <td>2016</td>\n",
       "      <td>Curry</td>\n",
       "      <td>GSW</td>\n",
       "      <td>Warriors</td>\n",
       "      <td>Games</td>\n",
       "      <td>79.0</td>\n",
       "    </tr>\n",
       "    <tr>\n",
       "      <th>2</th>\n",
       "      <td>2017</td>\n",
       "      <td>Curry</td>\n",
       "      <td>GSW</td>\n",
       "      <td>Warriors</td>\n",
       "      <td>Games</td>\n",
       "      <td>51.0</td>\n",
       "    </tr>\n",
       "    <tr>\n",
       "      <th>3</th>\n",
       "      <td>2015</td>\n",
       "      <td>Durant</td>\n",
       "      <td>OKC</td>\n",
       "      <td>Thunder</td>\n",
       "      <td>Games</td>\n",
       "      <td>72.0</td>\n",
       "    </tr>\n",
       "    <tr>\n",
       "      <th>4</th>\n",
       "      <td>2016</td>\n",
       "      <td>Durant</td>\n",
       "      <td>GSW</td>\n",
       "      <td>Warriors</td>\n",
       "      <td>Games</td>\n",
       "      <td>62.0</td>\n",
       "    </tr>\n",
       "    <tr>\n",
       "      <th>5</th>\n",
       "      <td>2017</td>\n",
       "      <td>Durant</td>\n",
       "      <td>GSW</td>\n",
       "      <td>Warriors</td>\n",
       "      <td>Games</td>\n",
       "      <td>68.0</td>\n",
       "    </tr>\n",
       "    <tr>\n",
       "      <th>6</th>\n",
       "      <td>2015</td>\n",
       "      <td>Ibaka</td>\n",
       "      <td>OKC</td>\n",
       "      <td>Thunder</td>\n",
       "      <td>Games</td>\n",
       "      <td>78.0</td>\n",
       "    </tr>\n",
       "    <tr>\n",
       "      <th>7</th>\n",
       "      <td>2016</td>\n",
       "      <td>Ibaka</td>\n",
       "      <td>ORL</td>\n",
       "      <td>Magic</td>\n",
       "      <td>Games</td>\n",
       "      <td>56.0</td>\n",
       "    </tr>\n",
       "    <tr>\n",
       "      <th>8</th>\n",
       "      <td>2016</td>\n",
       "      <td>Ibaka</td>\n",
       "      <td>TOR</td>\n",
       "      <td>Raptors</td>\n",
       "      <td>Games</td>\n",
       "      <td>23.0</td>\n",
       "    </tr>\n",
       "    <tr>\n",
       "      <th>9</th>\n",
       "      <td>2015</td>\n",
       "      <td>Curry</td>\n",
       "      <td>GSW</td>\n",
       "      <td>Warriors</td>\n",
       "      <td>Pts</td>\n",
       "      <td>30.1</td>\n",
       "    </tr>\n",
       "    <tr>\n",
       "      <th>10</th>\n",
       "      <td>2016</td>\n",
       "      <td>Curry</td>\n",
       "      <td>GSW</td>\n",
       "      <td>Warriors</td>\n",
       "      <td>Pts</td>\n",
       "      <td>25.3</td>\n",
       "    </tr>\n",
       "    <tr>\n",
       "      <th>11</th>\n",
       "      <td>2017</td>\n",
       "      <td>Curry</td>\n",
       "      <td>GSW</td>\n",
       "      <td>Warriors</td>\n",
       "      <td>Pts</td>\n",
       "      <td>26.4</td>\n",
       "    </tr>\n",
       "    <tr>\n",
       "      <th>12</th>\n",
       "      <td>2015</td>\n",
       "      <td>Durant</td>\n",
       "      <td>OKC</td>\n",
       "      <td>Thunder</td>\n",
       "      <td>Pts</td>\n",
       "      <td>28.2</td>\n",
       "    </tr>\n",
       "    <tr>\n",
       "      <th>13</th>\n",
       "      <td>2016</td>\n",
       "      <td>Durant</td>\n",
       "      <td>GSW</td>\n",
       "      <td>Warriors</td>\n",
       "      <td>Pts</td>\n",
       "      <td>25.1</td>\n",
       "    </tr>\n",
       "    <tr>\n",
       "      <th>14</th>\n",
       "      <td>2017</td>\n",
       "      <td>Durant</td>\n",
       "      <td>GSW</td>\n",
       "      <td>Warriors</td>\n",
       "      <td>Pts</td>\n",
       "      <td>26.4</td>\n",
       "    </tr>\n",
       "    <tr>\n",
       "      <th>15</th>\n",
       "      <td>2015</td>\n",
       "      <td>Ibaka</td>\n",
       "      <td>OKC</td>\n",
       "      <td>Thunder</td>\n",
       "      <td>Pts</td>\n",
       "      <td>12.6</td>\n",
       "    </tr>\n",
       "    <tr>\n",
       "      <th>16</th>\n",
       "      <td>2016</td>\n",
       "      <td>Ibaka</td>\n",
       "      <td>ORL</td>\n",
       "      <td>Magic</td>\n",
       "      <td>Pts</td>\n",
       "      <td>15.1</td>\n",
       "    </tr>\n",
       "    <tr>\n",
       "      <th>17</th>\n",
       "      <td>2016</td>\n",
       "      <td>Ibaka</td>\n",
       "      <td>TOR</td>\n",
       "      <td>Raptors</td>\n",
       "      <td>Pts</td>\n",
       "      <td>14.2</td>\n",
       "    </tr>\n",
       "    <tr>\n",
       "      <th>18</th>\n",
       "      <td>2015</td>\n",
       "      <td>Curry</td>\n",
       "      <td>GSW</td>\n",
       "      <td>Warriors</td>\n",
       "      <td>Assist</td>\n",
       "      <td>6.7</td>\n",
       "    </tr>\n",
       "    <tr>\n",
       "      <th>19</th>\n",
       "      <td>2016</td>\n",
       "      <td>Curry</td>\n",
       "      <td>GSW</td>\n",
       "      <td>Warriors</td>\n",
       "      <td>Assist</td>\n",
       "      <td>6.6</td>\n",
       "    </tr>\n",
       "    <tr>\n",
       "      <th>20</th>\n",
       "      <td>2017</td>\n",
       "      <td>Curry</td>\n",
       "      <td>GSW</td>\n",
       "      <td>Warriors</td>\n",
       "      <td>Assist</td>\n",
       "      <td>6.1</td>\n",
       "    </tr>\n",
       "    <tr>\n",
       "      <th>21</th>\n",
       "      <td>2015</td>\n",
       "      <td>Durant</td>\n",
       "      <td>OKC</td>\n",
       "      <td>Thunder</td>\n",
       "      <td>Assist</td>\n",
       "      <td>5.0</td>\n",
       "    </tr>\n",
       "    <tr>\n",
       "      <th>22</th>\n",
       "      <td>2016</td>\n",
       "      <td>Durant</td>\n",
       "      <td>GSW</td>\n",
       "      <td>Warriors</td>\n",
       "      <td>Assist</td>\n",
       "      <td>4.8</td>\n",
       "    </tr>\n",
       "    <tr>\n",
       "      <th>23</th>\n",
       "      <td>2017</td>\n",
       "      <td>Durant</td>\n",
       "      <td>GSW</td>\n",
       "      <td>Warriors</td>\n",
       "      <td>Assist</td>\n",
       "      <td>5.4</td>\n",
       "    </tr>\n",
       "    <tr>\n",
       "      <th>24</th>\n",
       "      <td>2015</td>\n",
       "      <td>Ibaka</td>\n",
       "      <td>OKC</td>\n",
       "      <td>Thunder</td>\n",
       "      <td>Assist</td>\n",
       "      <td>0.8</td>\n",
       "    </tr>\n",
       "    <tr>\n",
       "      <th>25</th>\n",
       "      <td>2016</td>\n",
       "      <td>Ibaka</td>\n",
       "      <td>ORL</td>\n",
       "      <td>Magic</td>\n",
       "      <td>Assist</td>\n",
       "      <td>1.1</td>\n",
       "    </tr>\n",
       "    <tr>\n",
       "      <th>26</th>\n",
       "      <td>2016</td>\n",
       "      <td>Ibaka</td>\n",
       "      <td>TOR</td>\n",
       "      <td>Raptors</td>\n",
       "      <td>Assist</td>\n",
       "      <td>0.7</td>\n",
       "    </tr>\n",
       "    <tr>\n",
       "      <th>27</th>\n",
       "      <td>2015</td>\n",
       "      <td>Curry</td>\n",
       "      <td>GSW</td>\n",
       "      <td>Warriors</td>\n",
       "      <td>Rebound</td>\n",
       "      <td>5.4</td>\n",
       "    </tr>\n",
       "    <tr>\n",
       "      <th>28</th>\n",
       "      <td>2016</td>\n",
       "      <td>Curry</td>\n",
       "      <td>GSW</td>\n",
       "      <td>Warriors</td>\n",
       "      <td>Rebound</td>\n",
       "      <td>4.5</td>\n",
       "    </tr>\n",
       "    <tr>\n",
       "      <th>29</th>\n",
       "      <td>2017</td>\n",
       "      <td>Curry</td>\n",
       "      <td>GSW</td>\n",
       "      <td>Warriors</td>\n",
       "      <td>Rebound</td>\n",
       "      <td>5.1</td>\n",
       "    </tr>\n",
       "    <tr>\n",
       "      <th>30</th>\n",
       "      <td>2015</td>\n",
       "      <td>Durant</td>\n",
       "      <td>OKC</td>\n",
       "      <td>Thunder</td>\n",
       "      <td>Rebound</td>\n",
       "      <td>8.2</td>\n",
       "    </tr>\n",
       "    <tr>\n",
       "      <th>31</th>\n",
       "      <td>2016</td>\n",
       "      <td>Durant</td>\n",
       "      <td>GSW</td>\n",
       "      <td>Warriors</td>\n",
       "      <td>Rebound</td>\n",
       "      <td>8.3</td>\n",
       "    </tr>\n",
       "    <tr>\n",
       "      <th>32</th>\n",
       "      <td>2017</td>\n",
       "      <td>Durant</td>\n",
       "      <td>GSW</td>\n",
       "      <td>Warriors</td>\n",
       "      <td>Rebound</td>\n",
       "      <td>6.8</td>\n",
       "    </tr>\n",
       "    <tr>\n",
       "      <th>33</th>\n",
       "      <td>2015</td>\n",
       "      <td>Ibaka</td>\n",
       "      <td>OKC</td>\n",
       "      <td>Thunder</td>\n",
       "      <td>Rebound</td>\n",
       "      <td>6.8</td>\n",
       "    </tr>\n",
       "    <tr>\n",
       "      <th>34</th>\n",
       "      <td>2016</td>\n",
       "      <td>Ibaka</td>\n",
       "      <td>ORL</td>\n",
       "      <td>Magic</td>\n",
       "      <td>Rebound</td>\n",
       "      <td>6.8</td>\n",
       "    </tr>\n",
       "    <tr>\n",
       "      <th>35</th>\n",
       "      <td>2016</td>\n",
       "      <td>Ibaka</td>\n",
       "      <td>TOR</td>\n",
       "      <td>Raptors</td>\n",
       "      <td>Rebound</td>\n",
       "      <td>6.8</td>\n",
       "    </tr>\n",
       "  </tbody>\n",
       "</table>\n",
       "</div>"
      ],
      "text/plain": [
       "    Year  Player Team  TeamName variable  value\n",
       "0   2015   Curry  GSW  Warriors    Games   79.0\n",
       "1   2016   Curry  GSW  Warriors    Games   79.0\n",
       "2   2017   Curry  GSW  Warriors    Games   51.0\n",
       "3   2015  Durant  OKC   Thunder    Games   72.0\n",
       "4   2016  Durant  GSW  Warriors    Games   62.0\n",
       "5   2017  Durant  GSW  Warriors    Games   68.0\n",
       "6   2015   Ibaka  OKC   Thunder    Games   78.0\n",
       "7   2016   Ibaka  ORL     Magic    Games   56.0\n",
       "8   2016   Ibaka  TOR   Raptors    Games   23.0\n",
       "9   2015   Curry  GSW  Warriors      Pts   30.1\n",
       "10  2016   Curry  GSW  Warriors      Pts   25.3\n",
       "11  2017   Curry  GSW  Warriors      Pts   26.4\n",
       "12  2015  Durant  OKC   Thunder      Pts   28.2\n",
       "13  2016  Durant  GSW  Warriors      Pts   25.1\n",
       "14  2017  Durant  GSW  Warriors      Pts   26.4\n",
       "15  2015   Ibaka  OKC   Thunder      Pts   12.6\n",
       "16  2016   Ibaka  ORL     Magic      Pts   15.1\n",
       "17  2016   Ibaka  TOR   Raptors      Pts   14.2\n",
       "18  2015   Curry  GSW  Warriors   Assist    6.7\n",
       "19  2016   Curry  GSW  Warriors   Assist    6.6\n",
       "20  2017   Curry  GSW  Warriors   Assist    6.1\n",
       "21  2015  Durant  OKC   Thunder   Assist    5.0\n",
       "22  2016  Durant  GSW  Warriors   Assist    4.8\n",
       "23  2017  Durant  GSW  Warriors   Assist    5.4\n",
       "24  2015   Ibaka  OKC   Thunder   Assist    0.8\n",
       "25  2016   Ibaka  ORL     Magic   Assist    1.1\n",
       "26  2016   Ibaka  TOR   Raptors   Assist    0.7\n",
       "27  2015   Curry  GSW  Warriors  Rebound    5.4\n",
       "28  2016   Curry  GSW  Warriors  Rebound    4.5\n",
       "29  2017   Curry  GSW  Warriors  Rebound    5.1\n",
       "30  2015  Durant  OKC   Thunder  Rebound    8.2\n",
       "31  2016  Durant  GSW  Warriors  Rebound    8.3\n",
       "32  2017  Durant  GSW  Warriors  Rebound    6.8\n",
       "33  2015   Ibaka  OKC   Thunder  Rebound    6.8\n",
       "34  2016   Ibaka  ORL     Magic  Rebound    6.8\n",
       "35  2016   Ibaka  TOR   Raptors  Rebound    6.8"
      ]
     },
     "execution_count": 3,
     "metadata": {},
     "output_type": "execute_result"
    }
   ],
   "source": [
    "# Don't worry about what this command does -- We'll see it soon\n",
    "bball_long = bball.melt(id_vars=[\"Year\", \"Player\", \"Team\", \"TeamName\"])\n",
    "\n",
    "bball_long"
   ]
  },
  {
   "cell_type": "markdown",
   "metadata": {
    "slideshow": {
     "slide_type": "subslide"
    }
   },
   "source": [
    "And here is a wide-form version."
   ]
  },
  {
   "cell_type": "code",
   "execution_count": 4,
   "metadata": {
    "ExecuteTime": {
     "end_time": "2021-11-13T05:46:43.538547Z",
     "start_time": "2021-11-13T05:46:43.491517Z"
    },
    "hide-output": false,
    "slideshow": {
     "slide_type": "-"
    }
   },
   "outputs": [
    {
     "data": {
      "text/html": [
       "<div>\n",
       "<style scoped>\n",
       "    .dataframe tbody tr th:only-of-type {\n",
       "        vertical-align: middle;\n",
       "    }\n",
       "\n",
       "    .dataframe tbody tr th {\n",
       "        vertical-align: top;\n",
       "    }\n",
       "\n",
       "    .dataframe thead tr th {\n",
       "        text-align: left;\n",
       "    }\n",
       "\n",
       "    .dataframe thead tr:last-of-type th {\n",
       "        text-align: right;\n",
       "    }\n",
       "</style>\n",
       "<table border=\"1\" class=\"dataframe\">\n",
       "  <thead>\n",
       "    <tr>\n",
       "      <th>Player</th>\n",
       "      <th colspan=\"4\" halign=\"left\">Curry</th>\n",
       "      <th colspan=\"6\" halign=\"left\">Durant</th>\n",
       "      <th>...</th>\n",
       "      <th colspan=\"10\" halign=\"left\">Ibaka</th>\n",
       "    </tr>\n",
       "    <tr>\n",
       "      <th>variable</th>\n",
       "      <th>Assist</th>\n",
       "      <th>Games</th>\n",
       "      <th>Pts</th>\n",
       "      <th>Rebound</th>\n",
       "      <th colspan=\"2\" halign=\"left\">Assist</th>\n",
       "      <th colspan=\"2\" halign=\"left\">Games</th>\n",
       "      <th colspan=\"2\" halign=\"left\">Pts</th>\n",
       "      <th>...</th>\n",
       "      <th>Assist</th>\n",
       "      <th colspan=\"3\" halign=\"left\">Games</th>\n",
       "      <th colspan=\"3\" halign=\"left\">Pts</th>\n",
       "      <th colspan=\"3\" halign=\"left\">Rebound</th>\n",
       "    </tr>\n",
       "    <tr>\n",
       "      <th>Team</th>\n",
       "      <th>GSW</th>\n",
       "      <th>GSW</th>\n",
       "      <th>GSW</th>\n",
       "      <th>GSW</th>\n",
       "      <th>GSW</th>\n",
       "      <th>OKC</th>\n",
       "      <th>GSW</th>\n",
       "      <th>OKC</th>\n",
       "      <th>GSW</th>\n",
       "      <th>OKC</th>\n",
       "      <th>...</th>\n",
       "      <th>TOR</th>\n",
       "      <th>OKC</th>\n",
       "      <th>ORL</th>\n",
       "      <th>TOR</th>\n",
       "      <th>OKC</th>\n",
       "      <th>ORL</th>\n",
       "      <th>TOR</th>\n",
       "      <th>OKC</th>\n",
       "      <th>ORL</th>\n",
       "      <th>TOR</th>\n",
       "    </tr>\n",
       "    <tr>\n",
       "      <th>Year</th>\n",
       "      <th></th>\n",
       "      <th></th>\n",
       "      <th></th>\n",
       "      <th></th>\n",
       "      <th></th>\n",
       "      <th></th>\n",
       "      <th></th>\n",
       "      <th></th>\n",
       "      <th></th>\n",
       "      <th></th>\n",
       "      <th></th>\n",
       "      <th></th>\n",
       "      <th></th>\n",
       "      <th></th>\n",
       "      <th></th>\n",
       "      <th></th>\n",
       "      <th></th>\n",
       "      <th></th>\n",
       "      <th></th>\n",
       "      <th></th>\n",
       "      <th></th>\n",
       "    </tr>\n",
       "  </thead>\n",
       "  <tbody>\n",
       "    <tr>\n",
       "      <th>2015</th>\n",
       "      <td>6.7</td>\n",
       "      <td>79.0</td>\n",
       "      <td>30.1</td>\n",
       "      <td>5.4</td>\n",
       "      <td>NaN</td>\n",
       "      <td>5.0</td>\n",
       "      <td>NaN</td>\n",
       "      <td>72.0</td>\n",
       "      <td>NaN</td>\n",
       "      <td>28.2</td>\n",
       "      <td>...</td>\n",
       "      <td>NaN</td>\n",
       "      <td>78.0</td>\n",
       "      <td>NaN</td>\n",
       "      <td>NaN</td>\n",
       "      <td>12.6</td>\n",
       "      <td>NaN</td>\n",
       "      <td>NaN</td>\n",
       "      <td>6.8</td>\n",
       "      <td>NaN</td>\n",
       "      <td>NaN</td>\n",
       "    </tr>\n",
       "    <tr>\n",
       "      <th>2016</th>\n",
       "      <td>6.6</td>\n",
       "      <td>79.0</td>\n",
       "      <td>25.3</td>\n",
       "      <td>4.5</td>\n",
       "      <td>4.8</td>\n",
       "      <td>NaN</td>\n",
       "      <td>62.0</td>\n",
       "      <td>NaN</td>\n",
       "      <td>25.1</td>\n",
       "      <td>NaN</td>\n",
       "      <td>...</td>\n",
       "      <td>0.7</td>\n",
       "      <td>NaN</td>\n",
       "      <td>56.0</td>\n",
       "      <td>23.0</td>\n",
       "      <td>NaN</td>\n",
       "      <td>15.1</td>\n",
       "      <td>14.2</td>\n",
       "      <td>NaN</td>\n",
       "      <td>6.8</td>\n",
       "      <td>6.8</td>\n",
       "    </tr>\n",
       "    <tr>\n",
       "      <th>2017</th>\n",
       "      <td>6.1</td>\n",
       "      <td>51.0</td>\n",
       "      <td>26.4</td>\n",
       "      <td>5.1</td>\n",
       "      <td>5.4</td>\n",
       "      <td>NaN</td>\n",
       "      <td>68.0</td>\n",
       "      <td>NaN</td>\n",
       "      <td>26.4</td>\n",
       "      <td>NaN</td>\n",
       "      <td>...</td>\n",
       "      <td>NaN</td>\n",
       "      <td>NaN</td>\n",
       "      <td>NaN</td>\n",
       "      <td>NaN</td>\n",
       "      <td>NaN</td>\n",
       "      <td>NaN</td>\n",
       "      <td>NaN</td>\n",
       "      <td>NaN</td>\n",
       "      <td>NaN</td>\n",
       "      <td>NaN</td>\n",
       "    </tr>\n",
       "  </tbody>\n",
       "</table>\n",
       "<p>3 rows × 24 columns</p>\n",
       "</div>"
      ],
      "text/plain": [
       "Player    Curry                     Durant                               ...  \\\n",
       "variable Assist Games   Pts Rebound Assist      Games         Pts        ...   \n",
       "Team        GSW   GSW   GSW     GSW    GSW  OKC   GSW   OKC   GSW   OKC  ...   \n",
       "Year                                                                     ...   \n",
       "2015        6.7  79.0  30.1     5.4    NaN  5.0   NaN  72.0   NaN  28.2  ...   \n",
       "2016        6.6  79.0  25.3     4.5    4.8  NaN  62.0   NaN  25.1   NaN  ...   \n",
       "2017        6.1  51.0  26.4     5.1    5.4  NaN  68.0   NaN  26.4   NaN  ...   \n",
       "\n",
       "Player    Ibaka                                                        \n",
       "variable Assist Games               Pts             Rebound            \n",
       "Team        TOR   OKC   ORL   TOR   OKC   ORL   TOR     OKC  ORL  TOR  \n",
       "Year                                                                   \n",
       "2015        NaN  78.0   NaN   NaN  12.6   NaN   NaN     6.8  NaN  NaN  \n",
       "2016        0.7   NaN  56.0  23.0   NaN  15.1  14.2     NaN  6.8  6.8  \n",
       "2017        NaN   NaN   NaN   NaN   NaN   NaN   NaN     NaN  NaN  NaN  \n",
       "\n",
       "[3 rows x 24 columns]"
      ]
     },
     "execution_count": 4,
     "metadata": {},
     "output_type": "execute_result"
    }
   ],
   "source": [
    "# Again, don't worry about this command... We'll see it soon too\n",
    "bball_wide = bball_long.pivot_table(\n",
    "    index=\"Year\",\n",
    "    columns=[\"Player\", \"variable\", \"Team\"],\n",
    "    values=\"value\"\n",
    ")\n",
    "bball_wide"
   ]
  },
  {
   "cell_type": "markdown",
   "metadata": {
    "slideshow": {
     "slide_type": "slide"
    }
   },
   "source": [
    "## `set_index`, `reset_index`, and Transpose\n",
    "\n",
    "We have already seen a few basic methods for reshaping a\n",
    "DataFrame.\n",
    "\n",
    "- `set_index`: Move one or more columns into the index.  \n",
    "- `reset_index`: Move one or more index levels out of the index and make\n",
    "  them either columns or drop from DataFrame.  \n",
    "- `T`: Swap row and column labels.  \n",
    "\n",
    "\n",
    "Sometimes, the simplest approach is the right approach.\n",
    "\n",
    "Let’s review them briefly."
   ]
  },
  {
   "cell_type": "code",
   "execution_count": 5,
   "metadata": {
    "ExecuteTime": {
     "end_time": "2021-11-13T05:46:43.554544Z",
     "start_time": "2021-11-13T05:46:43.539543Z"
    },
    "hide-output": false,
    "slideshow": {
     "slide_type": "fragment"
    }
   },
   "outputs": [
    {
     "data": {
      "text/html": [
       "<div>\n",
       "<style scoped>\n",
       "    .dataframe tbody tr th:only-of-type {\n",
       "        vertical-align: middle;\n",
       "    }\n",
       "\n",
       "    .dataframe tbody tr th {\n",
       "        vertical-align: top;\n",
       "    }\n",
       "\n",
       "    .dataframe thead th {\n",
       "        text-align: right;\n",
       "    }\n",
       "</style>\n",
       "<table border=\"1\" class=\"dataframe\">\n",
       "  <thead>\n",
       "    <tr style=\"text-align: right;\">\n",
       "      <th></th>\n",
       "      <th></th>\n",
       "      <th>Team</th>\n",
       "      <th>TeamName</th>\n",
       "      <th>Games</th>\n",
       "      <th>Pts</th>\n",
       "      <th>Assist</th>\n",
       "      <th>Rebound</th>\n",
       "    </tr>\n",
       "    <tr>\n",
       "      <th>Player</th>\n",
       "      <th>Year</th>\n",
       "      <th></th>\n",
       "      <th></th>\n",
       "      <th></th>\n",
       "      <th></th>\n",
       "      <th></th>\n",
       "      <th></th>\n",
       "    </tr>\n",
       "  </thead>\n",
       "  <tbody>\n",
       "    <tr>\n",
       "      <th rowspan=\"3\" valign=\"top\">Curry</th>\n",
       "      <th>2015</th>\n",
       "      <td>GSW</td>\n",
       "      <td>Warriors</td>\n",
       "      <td>79</td>\n",
       "      <td>30.1</td>\n",
       "      <td>6.7</td>\n",
       "      <td>5.4</td>\n",
       "    </tr>\n",
       "    <tr>\n",
       "      <th>2016</th>\n",
       "      <td>GSW</td>\n",
       "      <td>Warriors</td>\n",
       "      <td>79</td>\n",
       "      <td>25.3</td>\n",
       "      <td>6.6</td>\n",
       "      <td>4.5</td>\n",
       "    </tr>\n",
       "    <tr>\n",
       "      <th>2017</th>\n",
       "      <td>GSW</td>\n",
       "      <td>Warriors</td>\n",
       "      <td>51</td>\n",
       "      <td>26.4</td>\n",
       "      <td>6.1</td>\n",
       "      <td>5.1</td>\n",
       "    </tr>\n",
       "    <tr>\n",
       "      <th rowspan=\"2\" valign=\"top\">Durant</th>\n",
       "      <th>2015</th>\n",
       "      <td>OKC</td>\n",
       "      <td>Thunder</td>\n",
       "      <td>72</td>\n",
       "      <td>28.2</td>\n",
       "      <td>5.0</td>\n",
       "      <td>8.2</td>\n",
       "    </tr>\n",
       "    <tr>\n",
       "      <th>2016</th>\n",
       "      <td>GSW</td>\n",
       "      <td>Warriors</td>\n",
       "      <td>62</td>\n",
       "      <td>25.1</td>\n",
       "      <td>4.8</td>\n",
       "      <td>8.3</td>\n",
       "    </tr>\n",
       "  </tbody>\n",
       "</table>\n",
       "</div>"
      ],
      "text/plain": [
       "            Team  TeamName  Games   Pts  Assist  Rebound\n",
       "Player Year                                             \n",
       "Curry  2015  GSW  Warriors     79  30.1     6.7      5.4\n",
       "       2016  GSW  Warriors     79  25.3     6.6      4.5\n",
       "       2017  GSW  Warriors     51  26.4     6.1      5.1\n",
       "Durant 2015  OKC   Thunder     72  28.2     5.0      8.2\n",
       "       2016  GSW  Warriors     62  25.1     4.8      8.3"
      ]
     },
     "execution_count": 5,
     "metadata": {},
     "output_type": "execute_result"
    }
   ],
   "source": [
    "bball2 = bball.set_index([\"Player\", \"Year\"])\n",
    "bball2.head()"
   ]
  },
  {
   "cell_type": "code",
   "execution_count": 6,
   "metadata": {
    "ExecuteTime": {
     "end_time": "2021-11-13T05:46:43.570548Z",
     "start_time": "2021-11-13T05:46:43.555531Z"
    },
    "hide-output": false,
    "scrolled": true,
    "slideshow": {
     "slide_type": "fragment"
    }
   },
   "outputs": [
    {
     "data": {
      "text/html": [
       "<div>\n",
       "<style scoped>\n",
       "    .dataframe tbody tr th:only-of-type {\n",
       "        vertical-align: middle;\n",
       "    }\n",
       "\n",
       "    .dataframe tbody tr th {\n",
       "        vertical-align: top;\n",
       "    }\n",
       "\n",
       "    .dataframe thead tr th {\n",
       "        text-align: left;\n",
       "    }\n",
       "</style>\n",
       "<table border=\"1\" class=\"dataframe\">\n",
       "  <thead>\n",
       "    <tr>\n",
       "      <th>Player</th>\n",
       "      <th colspan=\"3\" halign=\"left\">Curry</th>\n",
       "      <th colspan=\"3\" halign=\"left\">Durant</th>\n",
       "      <th colspan=\"3\" halign=\"left\">Ibaka</th>\n",
       "    </tr>\n",
       "    <tr>\n",
       "      <th>Year</th>\n",
       "      <th>2015</th>\n",
       "      <th>2016</th>\n",
       "      <th>2017</th>\n",
       "      <th>2015</th>\n",
       "      <th>2016</th>\n",
       "      <th>2017</th>\n",
       "      <th>2015</th>\n",
       "      <th>2016</th>\n",
       "      <th>2016</th>\n",
       "    </tr>\n",
       "  </thead>\n",
       "  <tbody>\n",
       "    <tr>\n",
       "      <th>Team</th>\n",
       "      <td>GSW</td>\n",
       "      <td>GSW</td>\n",
       "      <td>GSW</td>\n",
       "      <td>OKC</td>\n",
       "      <td>GSW</td>\n",
       "      <td>GSW</td>\n",
       "      <td>OKC</td>\n",
       "      <td>ORL</td>\n",
       "      <td>TOR</td>\n",
       "    </tr>\n",
       "    <tr>\n",
       "      <th>TeamName</th>\n",
       "      <td>Warriors</td>\n",
       "      <td>Warriors</td>\n",
       "      <td>Warriors</td>\n",
       "      <td>Thunder</td>\n",
       "      <td>Warriors</td>\n",
       "      <td>Warriors</td>\n",
       "      <td>Thunder</td>\n",
       "      <td>Magic</td>\n",
       "      <td>Raptors</td>\n",
       "    </tr>\n",
       "    <tr>\n",
       "      <th>Games</th>\n",
       "      <td>79</td>\n",
       "      <td>79</td>\n",
       "      <td>51</td>\n",
       "      <td>72</td>\n",
       "      <td>62</td>\n",
       "      <td>68</td>\n",
       "      <td>78</td>\n",
       "      <td>56</td>\n",
       "      <td>23</td>\n",
       "    </tr>\n",
       "    <tr>\n",
       "      <th>Pts</th>\n",
       "      <td>30.1</td>\n",
       "      <td>25.3</td>\n",
       "      <td>26.4</td>\n",
       "      <td>28.2</td>\n",
       "      <td>25.1</td>\n",
       "      <td>26.4</td>\n",
       "      <td>12.6</td>\n",
       "      <td>15.1</td>\n",
       "      <td>14.2</td>\n",
       "    </tr>\n",
       "    <tr>\n",
       "      <th>Assist</th>\n",
       "      <td>6.7</td>\n",
       "      <td>6.6</td>\n",
       "      <td>6.1</td>\n",
       "      <td>5.0</td>\n",
       "      <td>4.8</td>\n",
       "      <td>5.4</td>\n",
       "      <td>0.8</td>\n",
       "      <td>1.1</td>\n",
       "      <td>0.7</td>\n",
       "    </tr>\n",
       "  </tbody>\n",
       "</table>\n",
       "</div>"
      ],
      "text/plain": [
       "Player       Curry                       Durant                        Ibaka  \\\n",
       "Year          2015      2016      2017     2015      2016      2017     2015   \n",
       "Team           GSW       GSW       GSW      OKC       GSW       GSW      OKC   \n",
       "TeamName  Warriors  Warriors  Warriors  Thunder  Warriors  Warriors  Thunder   \n",
       "Games           79        79        51       72        62        68       78   \n",
       "Pts           30.1      25.3      26.4     28.2      25.1      26.4     12.6   \n",
       "Assist         6.7       6.6       6.1      5.0       4.8       5.4      0.8   \n",
       "\n",
       "Player                    \n",
       "Year       2016     2016  \n",
       "Team        ORL      TOR  \n",
       "TeamName  Magic  Raptors  \n",
       "Games        56       23  \n",
       "Pts        15.1     14.2  \n",
       "Assist      1.1      0.7  "
      ]
     },
     "execution_count": 6,
     "metadata": {},
     "output_type": "execute_result"
    }
   ],
   "source": [
    "bball3 = bball2.T\n",
    "bball3.head()"
   ]
  },
  {
   "cell_type": "markdown",
   "metadata": {
    "slideshow": {
     "slide_type": "slide"
    }
   },
   "source": [
    "## `stack` and `unstack`\n",
    "\n",
    "The `stack` and `unstack` methods operate directly on the index\n",
    "and/or column labels."
   ]
  },
  {
   "cell_type": "markdown",
   "metadata": {
    "slideshow": {
     "slide_type": "subslide"
    }
   },
   "source": [
    "### `stack`\n",
    "\n",
    "`stack` is used to move certain levels of the column labels into the\n",
    "index (i.e. moving from wide to long)\n",
    "\n",
    "Let’s take `ball_wide` as an example."
   ]
  },
  {
   "cell_type": "code",
   "execution_count": 7,
   "metadata": {
    "ExecuteTime": {
     "end_time": "2021-11-13T05:46:43.602540Z",
     "start_time": "2021-11-13T05:46:43.572536Z"
    },
    "hide-output": false,
    "slideshow": {
     "slide_type": "-"
    }
   },
   "outputs": [
    {
     "data": {
      "text/html": [
       "<div>\n",
       "<style scoped>\n",
       "    .dataframe tbody tr th:only-of-type {\n",
       "        vertical-align: middle;\n",
       "    }\n",
       "\n",
       "    .dataframe tbody tr th {\n",
       "        vertical-align: top;\n",
       "    }\n",
       "\n",
       "    .dataframe thead tr th {\n",
       "        text-align: left;\n",
       "    }\n",
       "\n",
       "    .dataframe thead tr:last-of-type th {\n",
       "        text-align: right;\n",
       "    }\n",
       "</style>\n",
       "<table border=\"1\" class=\"dataframe\">\n",
       "  <thead>\n",
       "    <tr>\n",
       "      <th>Player</th>\n",
       "      <th colspan=\"4\" halign=\"left\">Curry</th>\n",
       "      <th colspan=\"6\" halign=\"left\">Durant</th>\n",
       "      <th>...</th>\n",
       "      <th colspan=\"10\" halign=\"left\">Ibaka</th>\n",
       "    </tr>\n",
       "    <tr>\n",
       "      <th>variable</th>\n",
       "      <th>Assist</th>\n",
       "      <th>Games</th>\n",
       "      <th>Pts</th>\n",
       "      <th>Rebound</th>\n",
       "      <th colspan=\"2\" halign=\"left\">Assist</th>\n",
       "      <th colspan=\"2\" halign=\"left\">Games</th>\n",
       "      <th colspan=\"2\" halign=\"left\">Pts</th>\n",
       "      <th>...</th>\n",
       "      <th>Assist</th>\n",
       "      <th colspan=\"3\" halign=\"left\">Games</th>\n",
       "      <th colspan=\"3\" halign=\"left\">Pts</th>\n",
       "      <th colspan=\"3\" halign=\"left\">Rebound</th>\n",
       "    </tr>\n",
       "    <tr>\n",
       "      <th>Team</th>\n",
       "      <th>GSW</th>\n",
       "      <th>GSW</th>\n",
       "      <th>GSW</th>\n",
       "      <th>GSW</th>\n",
       "      <th>GSW</th>\n",
       "      <th>OKC</th>\n",
       "      <th>GSW</th>\n",
       "      <th>OKC</th>\n",
       "      <th>GSW</th>\n",
       "      <th>OKC</th>\n",
       "      <th>...</th>\n",
       "      <th>TOR</th>\n",
       "      <th>OKC</th>\n",
       "      <th>ORL</th>\n",
       "      <th>TOR</th>\n",
       "      <th>OKC</th>\n",
       "      <th>ORL</th>\n",
       "      <th>TOR</th>\n",
       "      <th>OKC</th>\n",
       "      <th>ORL</th>\n",
       "      <th>TOR</th>\n",
       "    </tr>\n",
       "    <tr>\n",
       "      <th>Year</th>\n",
       "      <th></th>\n",
       "      <th></th>\n",
       "      <th></th>\n",
       "      <th></th>\n",
       "      <th></th>\n",
       "      <th></th>\n",
       "      <th></th>\n",
       "      <th></th>\n",
       "      <th></th>\n",
       "      <th></th>\n",
       "      <th></th>\n",
       "      <th></th>\n",
       "      <th></th>\n",
       "      <th></th>\n",
       "      <th></th>\n",
       "      <th></th>\n",
       "      <th></th>\n",
       "      <th></th>\n",
       "      <th></th>\n",
       "      <th></th>\n",
       "      <th></th>\n",
       "    </tr>\n",
       "  </thead>\n",
       "  <tbody>\n",
       "    <tr>\n",
       "      <th>2015</th>\n",
       "      <td>6.7</td>\n",
       "      <td>79.0</td>\n",
       "      <td>30.1</td>\n",
       "      <td>5.4</td>\n",
       "      <td>NaN</td>\n",
       "      <td>5.0</td>\n",
       "      <td>NaN</td>\n",
       "      <td>72.0</td>\n",
       "      <td>NaN</td>\n",
       "      <td>28.2</td>\n",
       "      <td>...</td>\n",
       "      <td>NaN</td>\n",
       "      <td>78.0</td>\n",
       "      <td>NaN</td>\n",
       "      <td>NaN</td>\n",
       "      <td>12.6</td>\n",
       "      <td>NaN</td>\n",
       "      <td>NaN</td>\n",
       "      <td>6.8</td>\n",
       "      <td>NaN</td>\n",
       "      <td>NaN</td>\n",
       "    </tr>\n",
       "    <tr>\n",
       "      <th>2016</th>\n",
       "      <td>6.6</td>\n",
       "      <td>79.0</td>\n",
       "      <td>25.3</td>\n",
       "      <td>4.5</td>\n",
       "      <td>4.8</td>\n",
       "      <td>NaN</td>\n",
       "      <td>62.0</td>\n",
       "      <td>NaN</td>\n",
       "      <td>25.1</td>\n",
       "      <td>NaN</td>\n",
       "      <td>...</td>\n",
       "      <td>0.7</td>\n",
       "      <td>NaN</td>\n",
       "      <td>56.0</td>\n",
       "      <td>23.0</td>\n",
       "      <td>NaN</td>\n",
       "      <td>15.1</td>\n",
       "      <td>14.2</td>\n",
       "      <td>NaN</td>\n",
       "      <td>6.8</td>\n",
       "      <td>6.8</td>\n",
       "    </tr>\n",
       "    <tr>\n",
       "      <th>2017</th>\n",
       "      <td>6.1</td>\n",
       "      <td>51.0</td>\n",
       "      <td>26.4</td>\n",
       "      <td>5.1</td>\n",
       "      <td>5.4</td>\n",
       "      <td>NaN</td>\n",
       "      <td>68.0</td>\n",
       "      <td>NaN</td>\n",
       "      <td>26.4</td>\n",
       "      <td>NaN</td>\n",
       "      <td>...</td>\n",
       "      <td>NaN</td>\n",
       "      <td>NaN</td>\n",
       "      <td>NaN</td>\n",
       "      <td>NaN</td>\n",
       "      <td>NaN</td>\n",
       "      <td>NaN</td>\n",
       "      <td>NaN</td>\n",
       "      <td>NaN</td>\n",
       "      <td>NaN</td>\n",
       "      <td>NaN</td>\n",
       "    </tr>\n",
       "  </tbody>\n",
       "</table>\n",
       "<p>3 rows × 24 columns</p>\n",
       "</div>"
      ],
      "text/plain": [
       "Player    Curry                     Durant                               ...  \\\n",
       "variable Assist Games   Pts Rebound Assist      Games         Pts        ...   \n",
       "Team        GSW   GSW   GSW     GSW    GSW  OKC   GSW   OKC   GSW   OKC  ...   \n",
       "Year                                                                     ...   \n",
       "2015        6.7  79.0  30.1     5.4    NaN  5.0   NaN  72.0   NaN  28.2  ...   \n",
       "2016        6.6  79.0  25.3     4.5    4.8  NaN  62.0   NaN  25.1   NaN  ...   \n",
       "2017        6.1  51.0  26.4     5.1    5.4  NaN  68.0   NaN  26.4   NaN  ...   \n",
       "\n",
       "Player    Ibaka                                                        \n",
       "variable Assist Games               Pts             Rebound            \n",
       "Team        TOR   OKC   ORL   TOR   OKC   ORL   TOR     OKC  ORL  TOR  \n",
       "Year                                                                   \n",
       "2015        NaN  78.0   NaN   NaN  12.6   NaN   NaN     6.8  NaN  NaN  \n",
       "2016        0.7   NaN  56.0  23.0   NaN  15.1  14.2     NaN  6.8  6.8  \n",
       "2017        NaN   NaN   NaN   NaN   NaN   NaN   NaN     NaN  NaN  NaN  \n",
       "\n",
       "[3 rows x 24 columns]"
      ]
     },
     "execution_count": 7,
     "metadata": {},
     "output_type": "execute_result"
    }
   ],
   "source": [
    "bball_wide"
   ]
  },
  {
   "cell_type": "markdown",
   "metadata": {
    "slideshow": {
     "slide_type": "fragment"
    }
   },
   "source": [
    "Suppose that we want to be able to use the `mean` method to compute the\n",
    "average value of each stat for each player, regardless of year or team.\n",
    "\n",
    "To do that, we need two column levels: one for the player and one for the variable.\n",
    "\n",
    "We can achieve this using the `stack` method."
   ]
  },
  {
   "cell_type": "code",
   "execution_count": 8,
   "metadata": {
    "ExecuteTime": {
     "end_time": "2021-11-13T05:46:43.650552Z",
     "start_time": "2021-11-13T05:46:43.604542Z"
    },
    "hide-output": false,
    "slideshow": {
     "slide_type": "fragment"
    }
   },
   "outputs": [
    {
     "data": {
      "text/html": [
       "<div>\n",
       "<style scoped>\n",
       "    .dataframe tbody tr th:only-of-type {\n",
       "        vertical-align: middle;\n",
       "    }\n",
       "\n",
       "    .dataframe tbody tr th {\n",
       "        vertical-align: top;\n",
       "    }\n",
       "\n",
       "    .dataframe thead tr th {\n",
       "        text-align: left;\n",
       "    }\n",
       "\n",
       "    .dataframe thead tr:last-of-type th {\n",
       "        text-align: right;\n",
       "    }\n",
       "</style>\n",
       "<table border=\"1\" class=\"dataframe\">\n",
       "  <thead>\n",
       "    <tr>\n",
       "      <th></th>\n",
       "      <th>Player</th>\n",
       "      <th colspan=\"4\" halign=\"left\">Curry</th>\n",
       "      <th colspan=\"4\" halign=\"left\">Durant</th>\n",
       "      <th colspan=\"4\" halign=\"left\">Ibaka</th>\n",
       "    </tr>\n",
       "    <tr>\n",
       "      <th></th>\n",
       "      <th>variable</th>\n",
       "      <th>Assist</th>\n",
       "      <th>Games</th>\n",
       "      <th>Pts</th>\n",
       "      <th>Rebound</th>\n",
       "      <th>Assist</th>\n",
       "      <th>Games</th>\n",
       "      <th>Pts</th>\n",
       "      <th>Rebound</th>\n",
       "      <th>Assist</th>\n",
       "      <th>Games</th>\n",
       "      <th>Pts</th>\n",
       "      <th>Rebound</th>\n",
       "    </tr>\n",
       "    <tr>\n",
       "      <th>Year</th>\n",
       "      <th>Team</th>\n",
       "      <th></th>\n",
       "      <th></th>\n",
       "      <th></th>\n",
       "      <th></th>\n",
       "      <th></th>\n",
       "      <th></th>\n",
       "      <th></th>\n",
       "      <th></th>\n",
       "      <th></th>\n",
       "      <th></th>\n",
       "      <th></th>\n",
       "      <th></th>\n",
       "    </tr>\n",
       "  </thead>\n",
       "  <tbody>\n",
       "    <tr>\n",
       "      <th rowspan=\"2\" valign=\"top\">2015</th>\n",
       "      <th>GSW</th>\n",
       "      <td>6.7</td>\n",
       "      <td>79.0</td>\n",
       "      <td>30.1</td>\n",
       "      <td>5.4</td>\n",
       "      <td>NaN</td>\n",
       "      <td>NaN</td>\n",
       "      <td>NaN</td>\n",
       "      <td>NaN</td>\n",
       "      <td>NaN</td>\n",
       "      <td>NaN</td>\n",
       "      <td>NaN</td>\n",
       "      <td>NaN</td>\n",
       "    </tr>\n",
       "    <tr>\n",
       "      <th>OKC</th>\n",
       "      <td>NaN</td>\n",
       "      <td>NaN</td>\n",
       "      <td>NaN</td>\n",
       "      <td>NaN</td>\n",
       "      <td>5.0</td>\n",
       "      <td>72.0</td>\n",
       "      <td>28.2</td>\n",
       "      <td>8.2</td>\n",
       "      <td>0.8</td>\n",
       "      <td>78.0</td>\n",
       "      <td>12.6</td>\n",
       "      <td>6.8</td>\n",
       "    </tr>\n",
       "    <tr>\n",
       "      <th rowspan=\"3\" valign=\"top\">2016</th>\n",
       "      <th>GSW</th>\n",
       "      <td>6.6</td>\n",
       "      <td>79.0</td>\n",
       "      <td>25.3</td>\n",
       "      <td>4.5</td>\n",
       "      <td>4.8</td>\n",
       "      <td>62.0</td>\n",
       "      <td>25.1</td>\n",
       "      <td>8.3</td>\n",
       "      <td>NaN</td>\n",
       "      <td>NaN</td>\n",
       "      <td>NaN</td>\n",
       "      <td>NaN</td>\n",
       "    </tr>\n",
       "    <tr>\n",
       "      <th>ORL</th>\n",
       "      <td>NaN</td>\n",
       "      <td>NaN</td>\n",
       "      <td>NaN</td>\n",
       "      <td>NaN</td>\n",
       "      <td>NaN</td>\n",
       "      <td>NaN</td>\n",
       "      <td>NaN</td>\n",
       "      <td>NaN</td>\n",
       "      <td>1.1</td>\n",
       "      <td>56.0</td>\n",
       "      <td>15.1</td>\n",
       "      <td>6.8</td>\n",
       "    </tr>\n",
       "    <tr>\n",
       "      <th>TOR</th>\n",
       "      <td>NaN</td>\n",
       "      <td>NaN</td>\n",
       "      <td>NaN</td>\n",
       "      <td>NaN</td>\n",
       "      <td>NaN</td>\n",
       "      <td>NaN</td>\n",
       "      <td>NaN</td>\n",
       "      <td>NaN</td>\n",
       "      <td>0.7</td>\n",
       "      <td>23.0</td>\n",
       "      <td>14.2</td>\n",
       "      <td>6.8</td>\n",
       "    </tr>\n",
       "    <tr>\n",
       "      <th>2017</th>\n",
       "      <th>GSW</th>\n",
       "      <td>6.1</td>\n",
       "      <td>51.0</td>\n",
       "      <td>26.4</td>\n",
       "      <td>5.1</td>\n",
       "      <td>5.4</td>\n",
       "      <td>68.0</td>\n",
       "      <td>26.4</td>\n",
       "      <td>6.8</td>\n",
       "      <td>NaN</td>\n",
       "      <td>NaN</td>\n",
       "      <td>NaN</td>\n",
       "      <td>NaN</td>\n",
       "    </tr>\n",
       "  </tbody>\n",
       "</table>\n",
       "</div>"
      ],
      "text/plain": [
       "Player     Curry                     Durant                      Ibaka        \\\n",
       "variable  Assist Games   Pts Rebound Assist Games   Pts Rebound Assist Games   \n",
       "Year Team                                                                      \n",
       "2015 GSW     6.7  79.0  30.1     5.4    NaN   NaN   NaN     NaN    NaN   NaN   \n",
       "     OKC     NaN   NaN   NaN     NaN    5.0  72.0  28.2     8.2    0.8  78.0   \n",
       "2016 GSW     6.6  79.0  25.3     4.5    4.8  62.0  25.1     8.3    NaN   NaN   \n",
       "     ORL     NaN   NaN   NaN     NaN    NaN   NaN   NaN     NaN    1.1  56.0   \n",
       "     TOR     NaN   NaN   NaN     NaN    NaN   NaN   NaN     NaN    0.7  23.0   \n",
       "2017 GSW     6.1  51.0  26.4     5.1    5.4  68.0  26.4     6.8    NaN   NaN   \n",
       "\n",
       "Player                   \n",
       "variable    Pts Rebound  \n",
       "Year Team                \n",
       "2015 GSW    NaN     NaN  \n",
       "     OKC   12.6     6.8  \n",
       "2016 GSW    NaN     NaN  \n",
       "     ORL   15.1     6.8  \n",
       "     TOR   14.2     6.8  \n",
       "2017 GSW    NaN     NaN  "
      ]
     },
     "execution_count": 8,
     "metadata": {},
     "output_type": "execute_result"
    }
   ],
   "source": [
    "bball_wide.stack()"
   ]
  },
  {
   "cell_type": "markdown",
   "metadata": {
    "slideshow": {
     "slide_type": "subslide"
    }
   },
   "source": [
    "Now, we can compute the statistic we are after."
   ]
  },
  {
   "cell_type": "code",
   "execution_count": 9,
   "metadata": {
    "ExecuteTime": {
     "end_time": "2021-11-13T05:46:43.682558Z",
     "start_time": "2021-11-13T05:46:43.651553Z"
    },
    "hide-output": false,
    "slideshow": {
     "slide_type": "-"
    }
   },
   "outputs": [
    {
     "data": {
      "text/plain": [
       "Player  variable\n",
       "Curry   Assist       6.466667\n",
       "        Games       69.666667\n",
       "        Pts         27.266667\n",
       "        Rebound      5.000000\n",
       "Durant  Assist       5.066667\n",
       "        Games       67.333333\n",
       "        Pts         26.566667\n",
       "        Rebound      7.766667\n",
       "Ibaka   Assist       0.866667\n",
       "        Games       52.333333\n",
       "        Pts         13.966667\n",
       "        Rebound      6.800000\n",
       "dtype: float64"
      ]
     },
     "execution_count": 9,
     "metadata": {},
     "output_type": "execute_result"
    }
   ],
   "source": [
    "player_stats = bball_wide.stack().mean()\n",
    "player_stats"
   ]
  },
  {
   "cell_type": "markdown",
   "metadata": {
    "slideshow": {
     "slide_type": "subslide"
    }
   },
   "source": [
    "Now suppose instead of that we wanted to compute the average for each team and\n",
    "stat, averaging over years and players.\n",
    "\n",
    "We’d need to move the `Player` level down into the index so we are\n",
    "left with column levels for Team and variable.\n",
    "\n",
    "We can ask pandas do this using the `level` keyword argument."
   ]
  },
  {
   "cell_type": "code",
   "execution_count": 10,
   "metadata": {
    "ExecuteTime": {
     "end_time": "2021-11-13T05:46:43.730570Z",
     "start_time": "2021-11-13T05:46:43.684560Z"
    },
    "hide-output": false,
    "slideshow": {
     "slide_type": "-"
    }
   },
   "outputs": [
    {
     "data": {
      "text/html": [
       "<div>\n",
       "<style scoped>\n",
       "    .dataframe tbody tr th:only-of-type {\n",
       "        vertical-align: middle;\n",
       "    }\n",
       "\n",
       "    .dataframe tbody tr th {\n",
       "        vertical-align: top;\n",
       "    }\n",
       "\n",
       "    .dataframe thead tr th {\n",
       "        text-align: left;\n",
       "    }\n",
       "\n",
       "    .dataframe thead tr:last-of-type th {\n",
       "        text-align: right;\n",
       "    }\n",
       "</style>\n",
       "<table border=\"1\" class=\"dataframe\">\n",
       "  <thead>\n",
       "    <tr>\n",
       "      <th></th>\n",
       "      <th>variable</th>\n",
       "      <th colspan=\"4\" halign=\"left\">Assist</th>\n",
       "      <th colspan=\"4\" halign=\"left\">Games</th>\n",
       "      <th colspan=\"4\" halign=\"left\">Pts</th>\n",
       "      <th colspan=\"4\" halign=\"left\">Rebound</th>\n",
       "    </tr>\n",
       "    <tr>\n",
       "      <th></th>\n",
       "      <th>Team</th>\n",
       "      <th>GSW</th>\n",
       "      <th>OKC</th>\n",
       "      <th>ORL</th>\n",
       "      <th>TOR</th>\n",
       "      <th>GSW</th>\n",
       "      <th>OKC</th>\n",
       "      <th>ORL</th>\n",
       "      <th>TOR</th>\n",
       "      <th>GSW</th>\n",
       "      <th>OKC</th>\n",
       "      <th>ORL</th>\n",
       "      <th>TOR</th>\n",
       "      <th>GSW</th>\n",
       "      <th>OKC</th>\n",
       "      <th>ORL</th>\n",
       "      <th>TOR</th>\n",
       "    </tr>\n",
       "    <tr>\n",
       "      <th>Year</th>\n",
       "      <th>Player</th>\n",
       "      <th></th>\n",
       "      <th></th>\n",
       "      <th></th>\n",
       "      <th></th>\n",
       "      <th></th>\n",
       "      <th></th>\n",
       "      <th></th>\n",
       "      <th></th>\n",
       "      <th></th>\n",
       "      <th></th>\n",
       "      <th></th>\n",
       "      <th></th>\n",
       "      <th></th>\n",
       "      <th></th>\n",
       "      <th></th>\n",
       "      <th></th>\n",
       "    </tr>\n",
       "  </thead>\n",
       "  <tbody>\n",
       "    <tr>\n",
       "      <th rowspan=\"3\" valign=\"top\">2015</th>\n",
       "      <th>Curry</th>\n",
       "      <td>6.7</td>\n",
       "      <td>NaN</td>\n",
       "      <td>NaN</td>\n",
       "      <td>NaN</td>\n",
       "      <td>79.0</td>\n",
       "      <td>NaN</td>\n",
       "      <td>NaN</td>\n",
       "      <td>NaN</td>\n",
       "      <td>30.1</td>\n",
       "      <td>NaN</td>\n",
       "      <td>NaN</td>\n",
       "      <td>NaN</td>\n",
       "      <td>5.4</td>\n",
       "      <td>NaN</td>\n",
       "      <td>NaN</td>\n",
       "      <td>NaN</td>\n",
       "    </tr>\n",
       "    <tr>\n",
       "      <th>Durant</th>\n",
       "      <td>NaN</td>\n",
       "      <td>5.0</td>\n",
       "      <td>NaN</td>\n",
       "      <td>NaN</td>\n",
       "      <td>NaN</td>\n",
       "      <td>72.0</td>\n",
       "      <td>NaN</td>\n",
       "      <td>NaN</td>\n",
       "      <td>NaN</td>\n",
       "      <td>28.2</td>\n",
       "      <td>NaN</td>\n",
       "      <td>NaN</td>\n",
       "      <td>NaN</td>\n",
       "      <td>8.2</td>\n",
       "      <td>NaN</td>\n",
       "      <td>NaN</td>\n",
       "    </tr>\n",
       "    <tr>\n",
       "      <th>Ibaka</th>\n",
       "      <td>NaN</td>\n",
       "      <td>0.8</td>\n",
       "      <td>NaN</td>\n",
       "      <td>NaN</td>\n",
       "      <td>NaN</td>\n",
       "      <td>78.0</td>\n",
       "      <td>NaN</td>\n",
       "      <td>NaN</td>\n",
       "      <td>NaN</td>\n",
       "      <td>12.6</td>\n",
       "      <td>NaN</td>\n",
       "      <td>NaN</td>\n",
       "      <td>NaN</td>\n",
       "      <td>6.8</td>\n",
       "      <td>NaN</td>\n",
       "      <td>NaN</td>\n",
       "    </tr>\n",
       "    <tr>\n",
       "      <th rowspan=\"3\" valign=\"top\">2016</th>\n",
       "      <th>Curry</th>\n",
       "      <td>6.6</td>\n",
       "      <td>NaN</td>\n",
       "      <td>NaN</td>\n",
       "      <td>NaN</td>\n",
       "      <td>79.0</td>\n",
       "      <td>NaN</td>\n",
       "      <td>NaN</td>\n",
       "      <td>NaN</td>\n",
       "      <td>25.3</td>\n",
       "      <td>NaN</td>\n",
       "      <td>NaN</td>\n",
       "      <td>NaN</td>\n",
       "      <td>4.5</td>\n",
       "      <td>NaN</td>\n",
       "      <td>NaN</td>\n",
       "      <td>NaN</td>\n",
       "    </tr>\n",
       "    <tr>\n",
       "      <th>Durant</th>\n",
       "      <td>4.8</td>\n",
       "      <td>NaN</td>\n",
       "      <td>NaN</td>\n",
       "      <td>NaN</td>\n",
       "      <td>62.0</td>\n",
       "      <td>NaN</td>\n",
       "      <td>NaN</td>\n",
       "      <td>NaN</td>\n",
       "      <td>25.1</td>\n",
       "      <td>NaN</td>\n",
       "      <td>NaN</td>\n",
       "      <td>NaN</td>\n",
       "      <td>8.3</td>\n",
       "      <td>NaN</td>\n",
       "      <td>NaN</td>\n",
       "      <td>NaN</td>\n",
       "    </tr>\n",
       "    <tr>\n",
       "      <th>Ibaka</th>\n",
       "      <td>NaN</td>\n",
       "      <td>NaN</td>\n",
       "      <td>1.1</td>\n",
       "      <td>0.7</td>\n",
       "      <td>NaN</td>\n",
       "      <td>NaN</td>\n",
       "      <td>56.0</td>\n",
       "      <td>23.0</td>\n",
       "      <td>NaN</td>\n",
       "      <td>NaN</td>\n",
       "      <td>15.1</td>\n",
       "      <td>14.2</td>\n",
       "      <td>NaN</td>\n",
       "      <td>NaN</td>\n",
       "      <td>6.8</td>\n",
       "      <td>6.8</td>\n",
       "    </tr>\n",
       "    <tr>\n",
       "      <th rowspan=\"2\" valign=\"top\">2017</th>\n",
       "      <th>Curry</th>\n",
       "      <td>6.1</td>\n",
       "      <td>NaN</td>\n",
       "      <td>NaN</td>\n",
       "      <td>NaN</td>\n",
       "      <td>51.0</td>\n",
       "      <td>NaN</td>\n",
       "      <td>NaN</td>\n",
       "      <td>NaN</td>\n",
       "      <td>26.4</td>\n",
       "      <td>NaN</td>\n",
       "      <td>NaN</td>\n",
       "      <td>NaN</td>\n",
       "      <td>5.1</td>\n",
       "      <td>NaN</td>\n",
       "      <td>NaN</td>\n",
       "      <td>NaN</td>\n",
       "    </tr>\n",
       "    <tr>\n",
       "      <th>Durant</th>\n",
       "      <td>5.4</td>\n",
       "      <td>NaN</td>\n",
       "      <td>NaN</td>\n",
       "      <td>NaN</td>\n",
       "      <td>68.0</td>\n",
       "      <td>NaN</td>\n",
       "      <td>NaN</td>\n",
       "      <td>NaN</td>\n",
       "      <td>26.4</td>\n",
       "      <td>NaN</td>\n",
       "      <td>NaN</td>\n",
       "      <td>NaN</td>\n",
       "      <td>6.8</td>\n",
       "      <td>NaN</td>\n",
       "      <td>NaN</td>\n",
       "      <td>NaN</td>\n",
       "    </tr>\n",
       "  </tbody>\n",
       "</table>\n",
       "</div>"
      ],
      "text/plain": [
       "variable    Assist                Games                     Pts              \\\n",
       "Team           GSW  OKC  ORL  TOR   GSW   OKC   ORL   TOR   GSW   OKC   ORL   \n",
       "Year Player                                                                   \n",
       "2015 Curry     6.7  NaN  NaN  NaN  79.0   NaN   NaN   NaN  30.1   NaN   NaN   \n",
       "     Durant    NaN  5.0  NaN  NaN   NaN  72.0   NaN   NaN   NaN  28.2   NaN   \n",
       "     Ibaka     NaN  0.8  NaN  NaN   NaN  78.0   NaN   NaN   NaN  12.6   NaN   \n",
       "2016 Curry     6.6  NaN  NaN  NaN  79.0   NaN   NaN   NaN  25.3   NaN   NaN   \n",
       "     Durant    4.8  NaN  NaN  NaN  62.0   NaN   NaN   NaN  25.1   NaN   NaN   \n",
       "     Ibaka     NaN  NaN  1.1  0.7   NaN   NaN  56.0  23.0   NaN   NaN  15.1   \n",
       "2017 Curry     6.1  NaN  NaN  NaN  51.0   NaN   NaN   NaN  26.4   NaN   NaN   \n",
       "     Durant    5.4  NaN  NaN  NaN  68.0   NaN   NaN   NaN  26.4   NaN   NaN   \n",
       "\n",
       "variable          Rebound                 \n",
       "Team          TOR     GSW  OKC  ORL  TOR  \n",
       "Year Player                               \n",
       "2015 Curry    NaN     5.4  NaN  NaN  NaN  \n",
       "     Durant   NaN     NaN  8.2  NaN  NaN  \n",
       "     Ibaka    NaN     NaN  6.8  NaN  NaN  \n",
       "2016 Curry    NaN     4.5  NaN  NaN  NaN  \n",
       "     Durant   NaN     8.3  NaN  NaN  NaN  \n",
       "     Ibaka   14.2     NaN  NaN  6.8  6.8  \n",
       "2017 Curry    NaN     5.1  NaN  NaN  NaN  \n",
       "     Durant   NaN     6.8  NaN  NaN  NaN  "
      ]
     },
     "execution_count": 10,
     "metadata": {},
     "output_type": "execute_result"
    }
   ],
   "source": [
    "bball_wide.stack(level=\"Player\")"
   ]
  },
  {
   "cell_type": "markdown",
   "metadata": {
    "slideshow": {
     "slide_type": "fragment"
    }
   },
   "source": [
    "Now we can compute the mean."
   ]
  },
  {
   "cell_type": "code",
   "execution_count": 11,
   "metadata": {
    "ExecuteTime": {
     "end_time": "2021-11-13T05:46:43.762577Z",
     "start_time": "2021-11-13T05:46:43.731570Z"
    },
    "hide-output": false,
    "slideshow": {
     "slide_type": "-"
    }
   },
   "outputs": [
    {
     "data": {
      "text/plain": [
       "variable  Team\n",
       "Assist    GSW      5.92\n",
       "          OKC      2.90\n",
       "          ORL      1.10\n",
       "          TOR      0.70\n",
       "Games     GSW     67.80\n",
       "          OKC     75.00\n",
       "          ORL     56.00\n",
       "          TOR     23.00\n",
       "Pts       GSW     26.66\n",
       "          OKC     20.40\n",
       "          ORL     15.10\n",
       "          TOR     14.20\n",
       "Rebound   GSW      6.02\n",
       "          OKC      7.50\n",
       "          ORL      6.80\n",
       "          TOR      6.80\n",
       "dtype: float64"
      ]
     },
     "execution_count": 11,
     "metadata": {},
     "output_type": "execute_result"
    }
   ],
   "source": [
    "bball_wide.stack(level=\"Player\").mean()"
   ]
  },
  {
   "cell_type": "markdown",
   "metadata": {
    "slideshow": {
     "slide_type": "subslide"
    }
   },
   "source": [
    "Notice a few features of the `stack` method:\n",
    "\n",
    "- Without any arguments, the `stack` arguments move the level of column\n",
    "  labels closest to the data (also called inner-most or bottom level of labels)\n",
    "  to become the index level closest to the data (also called the inner-most or\n",
    "  right-most level of the index). In our example, this moved `Team` down from\n",
    "  columns to the index.  \n",
    "- When we do pass a level, that level of column labels is moved down to the\n",
    "  right-most level of the index and all other column labels stay in their\n",
    "  relative position.  \n",
    "\n",
    "\n",
    "Note that we can also move multiple levels at a time in one call to `stack`."
   ]
  },
  {
   "cell_type": "code",
   "execution_count": 12,
   "metadata": {
    "ExecuteTime": {
     "end_time": "2021-11-13T05:46:43.809608Z",
     "start_time": "2021-11-13T05:46:43.763591Z"
    },
    "hide-output": false,
    "slideshow": {
     "slide_type": "-"
    }
   },
   "outputs": [
    {
     "data": {
      "text/html": [
       "<div>\n",
       "<style scoped>\n",
       "    .dataframe tbody tr th:only-of-type {\n",
       "        vertical-align: middle;\n",
       "    }\n",
       "\n",
       "    .dataframe tbody tr th {\n",
       "        vertical-align: top;\n",
       "    }\n",
       "\n",
       "    .dataframe thead th {\n",
       "        text-align: right;\n",
       "    }\n",
       "</style>\n",
       "<table border=\"1\" class=\"dataframe\">\n",
       "  <thead>\n",
       "    <tr style=\"text-align: right;\">\n",
       "      <th></th>\n",
       "      <th></th>\n",
       "      <th>variable</th>\n",
       "      <th>Assist</th>\n",
       "      <th>Games</th>\n",
       "      <th>Pts</th>\n",
       "      <th>Rebound</th>\n",
       "    </tr>\n",
       "    <tr>\n",
       "      <th>Year</th>\n",
       "      <th>Player</th>\n",
       "      <th>Team</th>\n",
       "      <th></th>\n",
       "      <th></th>\n",
       "      <th></th>\n",
       "      <th></th>\n",
       "    </tr>\n",
       "  </thead>\n",
       "  <tbody>\n",
       "    <tr>\n",
       "      <th rowspan=\"3\" valign=\"top\">2015</th>\n",
       "      <th>Curry</th>\n",
       "      <th>GSW</th>\n",
       "      <td>6.7</td>\n",
       "      <td>79.0</td>\n",
       "      <td>30.1</td>\n",
       "      <td>5.4</td>\n",
       "    </tr>\n",
       "    <tr>\n",
       "      <th>Durant</th>\n",
       "      <th>OKC</th>\n",
       "      <td>5.0</td>\n",
       "      <td>72.0</td>\n",
       "      <td>28.2</td>\n",
       "      <td>8.2</td>\n",
       "    </tr>\n",
       "    <tr>\n",
       "      <th>Ibaka</th>\n",
       "      <th>OKC</th>\n",
       "      <td>0.8</td>\n",
       "      <td>78.0</td>\n",
       "      <td>12.6</td>\n",
       "      <td>6.8</td>\n",
       "    </tr>\n",
       "    <tr>\n",
       "      <th rowspan=\"4\" valign=\"top\">2016</th>\n",
       "      <th>Curry</th>\n",
       "      <th>GSW</th>\n",
       "      <td>6.6</td>\n",
       "      <td>79.0</td>\n",
       "      <td>25.3</td>\n",
       "      <td>4.5</td>\n",
       "    </tr>\n",
       "    <tr>\n",
       "      <th>Durant</th>\n",
       "      <th>GSW</th>\n",
       "      <td>4.8</td>\n",
       "      <td>62.0</td>\n",
       "      <td>25.1</td>\n",
       "      <td>8.3</td>\n",
       "    </tr>\n",
       "    <tr>\n",
       "      <th rowspan=\"2\" valign=\"top\">Ibaka</th>\n",
       "      <th>ORL</th>\n",
       "      <td>1.1</td>\n",
       "      <td>56.0</td>\n",
       "      <td>15.1</td>\n",
       "      <td>6.8</td>\n",
       "    </tr>\n",
       "    <tr>\n",
       "      <th>TOR</th>\n",
       "      <td>0.7</td>\n",
       "      <td>23.0</td>\n",
       "      <td>14.2</td>\n",
       "      <td>6.8</td>\n",
       "    </tr>\n",
       "    <tr>\n",
       "      <th rowspan=\"2\" valign=\"top\">2017</th>\n",
       "      <th>Curry</th>\n",
       "      <th>GSW</th>\n",
       "      <td>6.1</td>\n",
       "      <td>51.0</td>\n",
       "      <td>26.4</td>\n",
       "      <td>5.1</td>\n",
       "    </tr>\n",
       "    <tr>\n",
       "      <th>Durant</th>\n",
       "      <th>GSW</th>\n",
       "      <td>5.4</td>\n",
       "      <td>68.0</td>\n",
       "      <td>26.4</td>\n",
       "      <td>6.8</td>\n",
       "    </tr>\n",
       "  </tbody>\n",
       "</table>\n",
       "</div>"
      ],
      "text/plain": [
       "variable          Assist  Games   Pts  Rebound\n",
       "Year Player Team                              \n",
       "2015 Curry  GSW      6.7   79.0  30.1      5.4\n",
       "     Durant OKC      5.0   72.0  28.2      8.2\n",
       "     Ibaka  OKC      0.8   78.0  12.6      6.8\n",
       "2016 Curry  GSW      6.6   79.0  25.3      4.5\n",
       "     Durant GSW      4.8   62.0  25.1      8.3\n",
       "     Ibaka  ORL      1.1   56.0  15.1      6.8\n",
       "            TOR      0.7   23.0  14.2      6.8\n",
       "2017 Curry  GSW      6.1   51.0  26.4      5.1\n",
       "     Durant GSW      5.4   68.0  26.4      6.8"
      ]
     },
     "execution_count": 12,
     "metadata": {},
     "output_type": "execute_result"
    }
   ],
   "source": [
    "bball_wide.stack(level=[\"Player\", \"Team\"])"
   ]
  },
  {
   "cell_type": "markdown",
   "metadata": {
    "slideshow": {
     "slide_type": "-"
    }
   },
   "source": [
    "In the example above, we started with one level on the index (just the year) and\n",
    "stacked two levels to end up with a three-level index.\n",
    "\n",
    "Notice that the two new index levels went closer to the data than the existing\n",
    "level and that their order matched the order we passed in our list argument to\n",
    "`level`."
   ]
  },
  {
   "cell_type": "markdown",
   "metadata": {
    "slideshow": {
     "slide_type": "slide"
    }
   },
   "source": [
    "### `unstack`\n",
    "\n",
    "Now suppose that we wanted to see a bar chart of each player’s stats.\n",
    "\n",
    "This chart should have one “section” for each player and a different colored\n",
    "bar for each variable.\n",
    "\n",
    "As we’ll learn in more detail in a later lecture,  we will\n",
    "need to have the player’s name on the index and the variables as columns to do this.\n",
    "\n",
    ">**Note**\n",
    ">\n",
    ">In general, for a DataFrame, calling the `plot` method will put the index\n",
    "on the horizontal (x) axis and make a new line/bar/etc. for each column.\n",
    "\n",
    "Notice that we are close to that with the `player_stats` variable."
   ]
  },
  {
   "cell_type": "code",
   "execution_count": 13,
   "metadata": {
    "ExecuteTime": {
     "end_time": "2021-11-13T05:46:43.824611Z",
     "start_time": "2021-11-13T05:46:43.811587Z"
    },
    "hide-output": false,
    "slideshow": {
     "slide_type": "-"
    }
   },
   "outputs": [
    {
     "data": {
      "text/plain": [
       "Player  variable\n",
       "Curry   Assist       6.466667\n",
       "        Games       69.666667\n",
       "        Pts         27.266667\n",
       "        Rebound      5.000000\n",
       "Durant  Assist       5.066667\n",
       "        Games       67.333333\n",
       "        Pts         26.566667\n",
       "        Rebound      7.766667\n",
       "Ibaka   Assist       0.866667\n",
       "        Games       52.333333\n",
       "        Pts         13.966667\n",
       "        Rebound      6.800000\n",
       "dtype: float64"
      ]
     },
     "execution_count": 13,
     "metadata": {},
     "output_type": "execute_result"
    }
   ],
   "source": [
    "player_stats"
   ]
  },
  {
   "cell_type": "markdown",
   "metadata": {
    "slideshow": {
     "slide_type": "fragment"
    }
   },
   "source": [
    "We now need to rotate the variable level of the index up to be column layers.\n",
    "\n",
    "We use the `unstack` method for this."
   ]
  },
  {
   "cell_type": "code",
   "execution_count": 14,
   "metadata": {
    "ExecuteTime": {
     "end_time": "2021-11-13T05:46:43.840609Z",
     "start_time": "2021-11-13T05:46:43.826592Z"
    },
    "hide-output": false,
    "slideshow": {
     "slide_type": "-"
    }
   },
   "outputs": [
    {
     "data": {
      "text/html": [
       "<div>\n",
       "<style scoped>\n",
       "    .dataframe tbody tr th:only-of-type {\n",
       "        vertical-align: middle;\n",
       "    }\n",
       "\n",
       "    .dataframe tbody tr th {\n",
       "        vertical-align: top;\n",
       "    }\n",
       "\n",
       "    .dataframe thead th {\n",
       "        text-align: right;\n",
       "    }\n",
       "</style>\n",
       "<table border=\"1\" class=\"dataframe\">\n",
       "  <thead>\n",
       "    <tr style=\"text-align: right;\">\n",
       "      <th>variable</th>\n",
       "      <th>Assist</th>\n",
       "      <th>Games</th>\n",
       "      <th>Pts</th>\n",
       "      <th>Rebound</th>\n",
       "    </tr>\n",
       "    <tr>\n",
       "      <th>Player</th>\n",
       "      <th></th>\n",
       "      <th></th>\n",
       "      <th></th>\n",
       "      <th></th>\n",
       "    </tr>\n",
       "  </thead>\n",
       "  <tbody>\n",
       "    <tr>\n",
       "      <th>Curry</th>\n",
       "      <td>6.466667</td>\n",
       "      <td>69.666667</td>\n",
       "      <td>27.266667</td>\n",
       "      <td>5.000000</td>\n",
       "    </tr>\n",
       "    <tr>\n",
       "      <th>Durant</th>\n",
       "      <td>5.066667</td>\n",
       "      <td>67.333333</td>\n",
       "      <td>26.566667</td>\n",
       "      <td>7.766667</td>\n",
       "    </tr>\n",
       "    <tr>\n",
       "      <th>Ibaka</th>\n",
       "      <td>0.866667</td>\n",
       "      <td>52.333333</td>\n",
       "      <td>13.966667</td>\n",
       "      <td>6.800000</td>\n",
       "    </tr>\n",
       "  </tbody>\n",
       "</table>\n",
       "</div>"
      ],
      "text/plain": [
       "variable    Assist      Games        Pts   Rebound\n",
       "Player                                            \n",
       "Curry     6.466667  69.666667  27.266667  5.000000\n",
       "Durant    5.066667  67.333333  26.566667  7.766667\n",
       "Ibaka     0.866667  52.333333  13.966667  6.800000"
      ]
     },
     "execution_count": 14,
     "metadata": {},
     "output_type": "execute_result"
    }
   ],
   "source": [
    "player_stats.unstack()"
   ]
  },
  {
   "cell_type": "markdown",
   "metadata": {
    "slideshow": {
     "slide_type": "fragment"
    }
   },
   "source": [
    "And we can make our plot!"
   ]
  },
  {
   "cell_type": "code",
   "execution_count": 15,
   "metadata": {
    "ExecuteTime": {
     "end_time": "2021-11-13T05:46:43.984172Z",
     "start_time": "2021-11-13T05:46:43.841609Z"
    },
    "hide-output": false,
    "slideshow": {
     "slide_type": "-"
    }
   },
   "outputs": [
    {
     "data": {
      "text/plain": [
       "<AxesSubplot:xlabel='Player'>"
      ]
     },
     "execution_count": 15,
     "metadata": {},
     "output_type": "execute_result"
    },
    {
     "data": {
      "image/png": "[encoded data removed]",
      "text/plain": [
       "<Figure size 432x288 with 1 Axes>"
      ]
     },
     "metadata": {
      "needs_background": "light"
     },
     "output_type": "display_data"
    }
   ],
   "source": [
    "player_stats.unstack().plot.bar()"
   ]
  },
  {
   "cell_type": "markdown",
   "metadata": {
    "slideshow": {
     "slide_type": "subslide"
    }
   },
   "source": [
    "This particular visualization would be helpful if we wanted to see which stats\n",
    "for which each player is strongest.\n",
    "\n",
    "For example, we can see that Steph Curry scores far more points than he does\n",
    "rebound, but Serge Ibaka is a bit more balanced.\n",
    "\n",
    "What if we wanted to be able to compare all players for each statistic?\n",
    "\n",
    "This would be easier to do if the bars were grouped by variable, with a\n",
    "different bar for each player.\n",
    "\n",
    "To plot this, we need to have the variables on the index and the player\n",
    "name as column names.\n",
    "\n",
    "We can get this DataFrame by setting `level=\"Player\"` when calling `unstack`."
   ]
  },
  {
   "cell_type": "code",
   "execution_count": 16,
   "metadata": {
    "ExecuteTime": {
     "end_time": "2021-11-13T05:46:43.999174Z",
     "start_time": "2021-11-13T05:46:43.985171Z"
    },
    "hide-output": false,
    "slideshow": {
     "slide_type": "fragment"
    }
   },
   "outputs": [
    {
     "data": {
      "text/html": [
       "<div>\n",
       "<style scoped>\n",
       "    .dataframe tbody tr th:only-of-type {\n",
       "        vertical-align: middle;\n",
       "    }\n",
       "\n",
       "    .dataframe tbody tr th {\n",
       "        vertical-align: top;\n",
       "    }\n",
       "\n",
       "    .dataframe thead th {\n",
       "        text-align: right;\n",
       "    }\n",
       "</style>\n",
       "<table border=\"1\" class=\"dataframe\">\n",
       "  <thead>\n",
       "    <tr style=\"text-align: right;\">\n",
       "      <th>Player</th>\n",
       "      <th>Curry</th>\n",
       "      <th>Durant</th>\n",
       "      <th>Ibaka</th>\n",
       "    </tr>\n",
       "    <tr>\n",
       "      <th>variable</th>\n",
       "      <th></th>\n",
       "      <th></th>\n",
       "      <th></th>\n",
       "    </tr>\n",
       "  </thead>\n",
       "  <tbody>\n",
       "    <tr>\n",
       "      <th>Assist</th>\n",
       "      <td>6.466667</td>\n",
       "      <td>5.066667</td>\n",
       "      <td>0.866667</td>\n",
       "    </tr>\n",
       "    <tr>\n",
       "      <th>Games</th>\n",
       "      <td>69.666667</td>\n",
       "      <td>67.333333</td>\n",
       "      <td>52.333333</td>\n",
       "    </tr>\n",
       "    <tr>\n",
       "      <th>Pts</th>\n",
       "      <td>27.266667</td>\n",
       "      <td>26.566667</td>\n",
       "      <td>13.966667</td>\n",
       "    </tr>\n",
       "    <tr>\n",
       "      <th>Rebound</th>\n",
       "      <td>5.000000</td>\n",
       "      <td>7.766667</td>\n",
       "      <td>6.800000</td>\n",
       "    </tr>\n",
       "  </tbody>\n",
       "</table>\n",
       "</div>"
      ],
      "text/plain": [
       "Player        Curry     Durant      Ibaka\n",
       "variable                                 \n",
       "Assist     6.466667   5.066667   0.866667\n",
       "Games     69.666667  67.333333  52.333333\n",
       "Pts       27.266667  26.566667  13.966667\n",
       "Rebound    5.000000   7.766667   6.800000"
      ]
     },
     "execution_count": 16,
     "metadata": {},
     "output_type": "execute_result"
    }
   ],
   "source": [
    "player_stats.unstack(level=\"Player\")"
   ]
  },
  {
   "cell_type": "code",
   "execution_count": 17,
   "metadata": {
    "ExecuteTime": {
     "end_time": "2021-11-13T05:46:44.139784Z",
     "start_time": "2021-11-13T05:46:44.000181Z"
    },
    "hide-output": false,
    "slideshow": {
     "slide_type": "-"
    }
   },
   "outputs": [
    {
     "data": {
      "text/plain": [
       "<AxesSubplot:xlabel='variable'>"
      ]
     },
     "execution_count": 17,
     "metadata": {},
     "output_type": "execute_result"
    },
    {
     "data": {
      "image/png": "[encoded data removed]",
      "text/plain": [
       "<Figure size 432x288 with 1 Axes>"
      ]
     },
     "metadata": {
      "needs_background": "light"
     },
     "output_type": "display_data"
    }
   ],
   "source": [
    "player_stats.unstack(level=\"Player\").plot.bar()"
   ]
  },
  {
   "cell_type": "markdown",
   "metadata": {
    "slideshow": {
     "slide_type": "subslide"
    }
   },
   "source": [
    "Now we can use the chart to make a number of statements about players:\n",
    "\n",
    "- Ibaka does not get many assists, compared to Curry and Durant.  \n",
    "- Steph and Kevin Durant are both high scorers.  \n",
    "\n",
    "\n",
    "Based on the examples above, notice a few things about `unstack`:\n",
    "\n",
    "- It is the *inverse* of `stack`; `stack` will move labels down\n",
    "  from columns to index, while `unstack` moves them up from index to columns.  \n",
    "- By default, `unstack` will move the level of the index closest to the data\n",
    "  and place it in the column labels closest to the data.  \n",
    "\n",
    "\n",
    ">**Note**\n",
    ">\n",
    ">Just as we can pass multiple levels to `stack`, we can also pass multiple\n",
    "levels to `unstack`.\n"
   ]
  },
  {
   "cell_type": "markdown",
   "metadata": {
    "slideshow": {
     "slide_type": "slide"
    }
   },
   "source": [
    "### Summary\n",
    "\n",
    "In some ways `set_index`, `reset_index`, `stack`, and `unstack`\n",
    "are the “most fundamental” reshaping operations…\n",
    "\n",
    "The other operations we discuss can be formulated with these\n",
    "four operations (and, in fact, some of them are exactly written as these\n",
    "operations in `pandas`’s code base).\n",
    "\n",
    "*Pro tip*: We remember stack vs unstack with a mnemonic: **U**nstack moves index\n",
    "levels **U**p"
   ]
  },
  {
   "cell_type": "markdown",
   "metadata": {
    "slideshow": {
     "slide_type": "slide"
    }
   },
   "source": [
    "## `melt`\n",
    "\n",
    "The `melt` method is used to move from wide to long form.\n",
    "\n",
    "It can be used to move all of the “values” stored in your DataFrame to a\n",
    "single column with all other columns being used to contain identifying\n",
    "information.\n",
    "\n",
    "**Warning**: When you use `melt`, any index that you currently have\n",
    "will be deleted.\n",
    "\n",
    "We saw used `melt` above when we constructed `bball_long`:"
   ]
  },
  {
   "cell_type": "code",
   "execution_count": 18,
   "metadata": {
    "ExecuteTime": {
     "end_time": "2021-11-13T05:46:44.155788Z",
     "start_time": "2021-11-13T05:46:44.141771Z"
    },
    "hide-output": false,
    "slideshow": {
     "slide_type": "-"
    }
   },
   "outputs": [
    {
     "data": {
      "text/html": [
       "<div>\n",
       "<style scoped>\n",
       "    .dataframe tbody tr th:only-of-type {\n",
       "        vertical-align: middle;\n",
       "    }\n",
       "\n",
       "    .dataframe tbody tr th {\n",
       "        vertical-align: top;\n",
       "    }\n",
       "\n",
       "    .dataframe thead th {\n",
       "        text-align: right;\n",
       "    }\n",
       "</style>\n",
       "<table border=\"1\" class=\"dataframe\">\n",
       "  <thead>\n",
       "    <tr style=\"text-align: right;\">\n",
       "      <th></th>\n",
       "      <th>Year</th>\n",
       "      <th>Player</th>\n",
       "      <th>Team</th>\n",
       "      <th>TeamName</th>\n",
       "      <th>Games</th>\n",
       "      <th>Pts</th>\n",
       "      <th>Assist</th>\n",
       "      <th>Rebound</th>\n",
       "    </tr>\n",
       "  </thead>\n",
       "  <tbody>\n",
       "    <tr>\n",
       "      <th>0</th>\n",
       "      <td>2015</td>\n",
       "      <td>Curry</td>\n",
       "      <td>GSW</td>\n",
       "      <td>Warriors</td>\n",
       "      <td>79</td>\n",
       "      <td>30.1</td>\n",
       "      <td>6.7</td>\n",
       "      <td>5.4</td>\n",
       "    </tr>\n",
       "    <tr>\n",
       "      <th>1</th>\n",
       "      <td>2016</td>\n",
       "      <td>Curry</td>\n",
       "      <td>GSW</td>\n",
       "      <td>Warriors</td>\n",
       "      <td>79</td>\n",
       "      <td>25.3</td>\n",
       "      <td>6.6</td>\n",
       "      <td>4.5</td>\n",
       "    </tr>\n",
       "    <tr>\n",
       "      <th>2</th>\n",
       "      <td>2017</td>\n",
       "      <td>Curry</td>\n",
       "      <td>GSW</td>\n",
       "      <td>Warriors</td>\n",
       "      <td>51</td>\n",
       "      <td>26.4</td>\n",
       "      <td>6.1</td>\n",
       "      <td>5.1</td>\n",
       "    </tr>\n",
       "    <tr>\n",
       "      <th>3</th>\n",
       "      <td>2015</td>\n",
       "      <td>Durant</td>\n",
       "      <td>OKC</td>\n",
       "      <td>Thunder</td>\n",
       "      <td>72</td>\n",
       "      <td>28.2</td>\n",
       "      <td>5.0</td>\n",
       "      <td>8.2</td>\n",
       "    </tr>\n",
       "    <tr>\n",
       "      <th>4</th>\n",
       "      <td>2016</td>\n",
       "      <td>Durant</td>\n",
       "      <td>GSW</td>\n",
       "      <td>Warriors</td>\n",
       "      <td>62</td>\n",
       "      <td>25.1</td>\n",
       "      <td>4.8</td>\n",
       "      <td>8.3</td>\n",
       "    </tr>\n",
       "    <tr>\n",
       "      <th>5</th>\n",
       "      <td>2017</td>\n",
       "      <td>Durant</td>\n",
       "      <td>GSW</td>\n",
       "      <td>Warriors</td>\n",
       "      <td>68</td>\n",
       "      <td>26.4</td>\n",
       "      <td>5.4</td>\n",
       "      <td>6.8</td>\n",
       "    </tr>\n",
       "    <tr>\n",
       "      <th>6</th>\n",
       "      <td>2015</td>\n",
       "      <td>Ibaka</td>\n",
       "      <td>OKC</td>\n",
       "      <td>Thunder</td>\n",
       "      <td>78</td>\n",
       "      <td>12.6</td>\n",
       "      <td>0.8</td>\n",
       "      <td>6.8</td>\n",
       "    </tr>\n",
       "    <tr>\n",
       "      <th>7</th>\n",
       "      <td>2016</td>\n",
       "      <td>Ibaka</td>\n",
       "      <td>ORL</td>\n",
       "      <td>Magic</td>\n",
       "      <td>56</td>\n",
       "      <td>15.1</td>\n",
       "      <td>1.1</td>\n",
       "      <td>6.8</td>\n",
       "    </tr>\n",
       "    <tr>\n",
       "      <th>8</th>\n",
       "      <td>2016</td>\n",
       "      <td>Ibaka</td>\n",
       "      <td>TOR</td>\n",
       "      <td>Raptors</td>\n",
       "      <td>23</td>\n",
       "      <td>14.2</td>\n",
       "      <td>0.7</td>\n",
       "      <td>6.8</td>\n",
       "    </tr>\n",
       "  </tbody>\n",
       "</table>\n",
       "</div>"
      ],
      "text/plain": [
       "   Year  Player Team  TeamName  Games   Pts  Assist  Rebound\n",
       "0  2015   Curry  GSW  Warriors     79  30.1     6.7      5.4\n",
       "1  2016   Curry  GSW  Warriors     79  25.3     6.6      4.5\n",
       "2  2017   Curry  GSW  Warriors     51  26.4     6.1      5.1\n",
       "3  2015  Durant  OKC   Thunder     72  28.2     5.0      8.2\n",
       "4  2016  Durant  GSW  Warriors     62  25.1     4.8      8.3\n",
       "5  2017  Durant  GSW  Warriors     68  26.4     5.4      6.8\n",
       "6  2015   Ibaka  OKC   Thunder     78  12.6     0.8      6.8\n",
       "7  2016   Ibaka  ORL     Magic     56  15.1     1.1      6.8\n",
       "8  2016   Ibaka  TOR   Raptors     23  14.2     0.7      6.8"
      ]
     },
     "execution_count": 18,
     "metadata": {},
     "output_type": "execute_result"
    }
   ],
   "source": [
    "bball"
   ]
  },
  {
   "cell_type": "code",
   "execution_count": 21,
   "metadata": {
    "ExecuteTime": {
     "end_time": "2021-11-13T05:49:22.025456Z",
     "start_time": "2021-11-13T05:49:22.000438Z"
    },
    "hide-output": false,
    "slideshow": {
     "slide_type": "-"
    }
   },
   "outputs": [
    {
     "data": {
      "text/html": [
       "<div>\n",
       "<style scoped>\n",
       "    .dataframe tbody tr th:only-of-type {\n",
       "        vertical-align: middle;\n",
       "    }\n",
       "\n",
       "    .dataframe tbody tr th {\n",
       "        vertical-align: top;\n",
       "    }\n",
       "\n",
       "    .dataframe thead th {\n",
       "        text-align: right;\n",
       "    }\n",
       "</style>\n",
       "<table border=\"1\" class=\"dataframe\">\n",
       "  <thead>\n",
       "    <tr style=\"text-align: right;\">\n",
       "      <th></th>\n",
       "      <th>Year</th>\n",
       "      <th>Player</th>\n",
       "      <th>Team</th>\n",
       "      <th>TeamName</th>\n",
       "      <th>variable</th>\n",
       "      <th>value</th>\n",
       "    </tr>\n",
       "  </thead>\n",
       "  <tbody>\n",
       "    <tr>\n",
       "      <th>0</th>\n",
       "      <td>2015</td>\n",
       "      <td>Curry</td>\n",
       "      <td>GSW</td>\n",
       "      <td>Warriors</td>\n",
       "      <td>Games</td>\n",
       "      <td>79.0</td>\n",
       "    </tr>\n",
       "    <tr>\n",
       "      <th>1</th>\n",
       "      <td>2016</td>\n",
       "      <td>Curry</td>\n",
       "      <td>GSW</td>\n",
       "      <td>Warriors</td>\n",
       "      <td>Games</td>\n",
       "      <td>79.0</td>\n",
       "    </tr>\n",
       "    <tr>\n",
       "      <th>2</th>\n",
       "      <td>2017</td>\n",
       "      <td>Curry</td>\n",
       "      <td>GSW</td>\n",
       "      <td>Warriors</td>\n",
       "      <td>Games</td>\n",
       "      <td>51.0</td>\n",
       "    </tr>\n",
       "    <tr>\n",
       "      <th>3</th>\n",
       "      <td>2015</td>\n",
       "      <td>Durant</td>\n",
       "      <td>OKC</td>\n",
       "      <td>Thunder</td>\n",
       "      <td>Games</td>\n",
       "      <td>72.0</td>\n",
       "    </tr>\n",
       "    <tr>\n",
       "      <th>4</th>\n",
       "      <td>2016</td>\n",
       "      <td>Durant</td>\n",
       "      <td>GSW</td>\n",
       "      <td>Warriors</td>\n",
       "      <td>Games</td>\n",
       "      <td>62.0</td>\n",
       "    </tr>\n",
       "    <tr>\n",
       "      <th>5</th>\n",
       "      <td>2017</td>\n",
       "      <td>Durant</td>\n",
       "      <td>GSW</td>\n",
       "      <td>Warriors</td>\n",
       "      <td>Games</td>\n",
       "      <td>68.0</td>\n",
       "    </tr>\n",
       "    <tr>\n",
       "      <th>6</th>\n",
       "      <td>2015</td>\n",
       "      <td>Ibaka</td>\n",
       "      <td>OKC</td>\n",
       "      <td>Thunder</td>\n",
       "      <td>Games</td>\n",
       "      <td>78.0</td>\n",
       "    </tr>\n",
       "    <tr>\n",
       "      <th>7</th>\n",
       "      <td>2016</td>\n",
       "      <td>Ibaka</td>\n",
       "      <td>ORL</td>\n",
       "      <td>Magic</td>\n",
       "      <td>Games</td>\n",
       "      <td>56.0</td>\n",
       "    </tr>\n",
       "    <tr>\n",
       "      <th>8</th>\n",
       "      <td>2016</td>\n",
       "      <td>Ibaka</td>\n",
       "      <td>TOR</td>\n",
       "      <td>Raptors</td>\n",
       "      <td>Games</td>\n",
       "      <td>23.0</td>\n",
       "    </tr>\n",
       "    <tr>\n",
       "      <th>9</th>\n",
       "      <td>2015</td>\n",
       "      <td>Curry</td>\n",
       "      <td>GSW</td>\n",
       "      <td>Warriors</td>\n",
       "      <td>Pts</td>\n",
       "      <td>30.1</td>\n",
       "    </tr>\n",
       "    <tr>\n",
       "      <th>10</th>\n",
       "      <td>2016</td>\n",
       "      <td>Curry</td>\n",
       "      <td>GSW</td>\n",
       "      <td>Warriors</td>\n",
       "      <td>Pts</td>\n",
       "      <td>25.3</td>\n",
       "    </tr>\n",
       "    <tr>\n",
       "      <th>11</th>\n",
       "      <td>2017</td>\n",
       "      <td>Curry</td>\n",
       "      <td>GSW</td>\n",
       "      <td>Warriors</td>\n",
       "      <td>Pts</td>\n",
       "      <td>26.4</td>\n",
       "    </tr>\n",
       "    <tr>\n",
       "      <th>12</th>\n",
       "      <td>2015</td>\n",
       "      <td>Durant</td>\n",
       "      <td>OKC</td>\n",
       "      <td>Thunder</td>\n",
       "      <td>Pts</td>\n",
       "      <td>28.2</td>\n",
       "    </tr>\n",
       "    <tr>\n",
       "      <th>13</th>\n",
       "      <td>2016</td>\n",
       "      <td>Durant</td>\n",
       "      <td>GSW</td>\n",
       "      <td>Warriors</td>\n",
       "      <td>Pts</td>\n",
       "      <td>25.1</td>\n",
       "    </tr>\n",
       "    <tr>\n",
       "      <th>14</th>\n",
       "      <td>2017</td>\n",
       "      <td>Durant</td>\n",
       "      <td>GSW</td>\n",
       "      <td>Warriors</td>\n",
       "      <td>Pts</td>\n",
       "      <td>26.4</td>\n",
       "    </tr>\n",
       "    <tr>\n",
       "      <th>15</th>\n",
       "      <td>2015</td>\n",
       "      <td>Ibaka</td>\n",
       "      <td>OKC</td>\n",
       "      <td>Thunder</td>\n",
       "      <td>Pts</td>\n",
       "      <td>12.6</td>\n",
       "    </tr>\n",
       "    <tr>\n",
       "      <th>16</th>\n",
       "      <td>2016</td>\n",
       "      <td>Ibaka</td>\n",
       "      <td>ORL</td>\n",
       "      <td>Magic</td>\n",
       "      <td>Pts</td>\n",
       "      <td>15.1</td>\n",
       "    </tr>\n",
       "    <tr>\n",
       "      <th>17</th>\n",
       "      <td>2016</td>\n",
       "      <td>Ibaka</td>\n",
       "      <td>TOR</td>\n",
       "      <td>Raptors</td>\n",
       "      <td>Pts</td>\n",
       "      <td>14.2</td>\n",
       "    </tr>\n",
       "    <tr>\n",
       "      <th>18</th>\n",
       "      <td>2015</td>\n",
       "      <td>Curry</td>\n",
       "      <td>GSW</td>\n",
       "      <td>Warriors</td>\n",
       "      <td>Assist</td>\n",
       "      <td>6.7</td>\n",
       "    </tr>\n",
       "    <tr>\n",
       "      <th>19</th>\n",
       "      <td>2016</td>\n",
       "      <td>Curry</td>\n",
       "      <td>GSW</td>\n",
       "      <td>Warriors</td>\n",
       "      <td>Assist</td>\n",
       "      <td>6.6</td>\n",
       "    </tr>\n",
       "    <tr>\n",
       "      <th>20</th>\n",
       "      <td>2017</td>\n",
       "      <td>Curry</td>\n",
       "      <td>GSW</td>\n",
       "      <td>Warriors</td>\n",
       "      <td>Assist</td>\n",
       "      <td>6.1</td>\n",
       "    </tr>\n",
       "    <tr>\n",
       "      <th>21</th>\n",
       "      <td>2015</td>\n",
       "      <td>Durant</td>\n",
       "      <td>OKC</td>\n",
       "      <td>Thunder</td>\n",
       "      <td>Assist</td>\n",
       "      <td>5.0</td>\n",
       "    </tr>\n",
       "    <tr>\n",
       "      <th>22</th>\n",
       "      <td>2016</td>\n",
       "      <td>Durant</td>\n",
       "      <td>GSW</td>\n",
       "      <td>Warriors</td>\n",
       "      <td>Assist</td>\n",
       "      <td>4.8</td>\n",
       "    </tr>\n",
       "    <tr>\n",
       "      <th>23</th>\n",
       "      <td>2017</td>\n",
       "      <td>Durant</td>\n",
       "      <td>GSW</td>\n",
       "      <td>Warriors</td>\n",
       "      <td>Assist</td>\n",
       "      <td>5.4</td>\n",
       "    </tr>\n",
       "    <tr>\n",
       "      <th>24</th>\n",
       "      <td>2015</td>\n",
       "      <td>Ibaka</td>\n",
       "      <td>OKC</td>\n",
       "      <td>Thunder</td>\n",
       "      <td>Assist</td>\n",
       "      <td>0.8</td>\n",
       "    </tr>\n",
       "    <tr>\n",
       "      <th>25</th>\n",
       "      <td>2016</td>\n",
       "      <td>Ibaka</td>\n",
       "      <td>ORL</td>\n",
       "      <td>Magic</td>\n",
       "      <td>Assist</td>\n",
       "      <td>1.1</td>\n",
       "    </tr>\n",
       "    <tr>\n",
       "      <th>26</th>\n",
       "      <td>2016</td>\n",
       "      <td>Ibaka</td>\n",
       "      <td>TOR</td>\n",
       "      <td>Raptors</td>\n",
       "      <td>Assist</td>\n",
       "      <td>0.7</td>\n",
       "    </tr>\n",
       "    <tr>\n",
       "      <th>27</th>\n",
       "      <td>2015</td>\n",
       "      <td>Curry</td>\n",
       "      <td>GSW</td>\n",
       "      <td>Warriors</td>\n",
       "      <td>Rebound</td>\n",
       "      <td>5.4</td>\n",
       "    </tr>\n",
       "    <tr>\n",
       "      <th>28</th>\n",
       "      <td>2016</td>\n",
       "      <td>Curry</td>\n",
       "      <td>GSW</td>\n",
       "      <td>Warriors</td>\n",
       "      <td>Rebound</td>\n",
       "      <td>4.5</td>\n",
       "    </tr>\n",
       "    <tr>\n",
       "      <th>29</th>\n",
       "      <td>2017</td>\n",
       "      <td>Curry</td>\n",
       "      <td>GSW</td>\n",
       "      <td>Warriors</td>\n",
       "      <td>Rebound</td>\n",
       "      <td>5.1</td>\n",
       "    </tr>\n",
       "    <tr>\n",
       "      <th>30</th>\n",
       "      <td>2015</td>\n",
       "      <td>Durant</td>\n",
       "      <td>OKC</td>\n",
       "      <td>Thunder</td>\n",
       "      <td>Rebound</td>\n",
       "      <td>8.2</td>\n",
       "    </tr>\n",
       "    <tr>\n",
       "      <th>31</th>\n",
       "      <td>2016</td>\n",
       "      <td>Durant</td>\n",
       "      <td>GSW</td>\n",
       "      <td>Warriors</td>\n",
       "      <td>Rebound</td>\n",
       "      <td>8.3</td>\n",
       "    </tr>\n",
       "    <tr>\n",
       "      <th>32</th>\n",
       "      <td>2017</td>\n",
       "      <td>Durant</td>\n",
       "      <td>GSW</td>\n",
       "      <td>Warriors</td>\n",
       "      <td>Rebound</td>\n",
       "      <td>6.8</td>\n",
       "    </tr>\n",
       "    <tr>\n",
       "      <th>33</th>\n",
       "      <td>2015</td>\n",
       "      <td>Ibaka</td>\n",
       "      <td>OKC</td>\n",
       "      <td>Thunder</td>\n",
       "      <td>Rebound</td>\n",
       "      <td>6.8</td>\n",
       "    </tr>\n",
       "    <tr>\n",
       "      <th>34</th>\n",
       "      <td>2016</td>\n",
       "      <td>Ibaka</td>\n",
       "      <td>ORL</td>\n",
       "      <td>Magic</td>\n",
       "      <td>Rebound</td>\n",
       "      <td>6.8</td>\n",
       "    </tr>\n",
       "    <tr>\n",
       "      <th>35</th>\n",
       "      <td>2016</td>\n",
       "      <td>Ibaka</td>\n",
       "      <td>TOR</td>\n",
       "      <td>Raptors</td>\n",
       "      <td>Rebound</td>\n",
       "      <td>6.8</td>\n",
       "    </tr>\n",
       "  </tbody>\n",
       "</table>\n",
       "</div>"
      ],
      "text/plain": [
       "    Year  Player Team  TeamName variable  value\n",
       "0   2015   Curry  GSW  Warriors    Games   79.0\n",
       "1   2016   Curry  GSW  Warriors    Games   79.0\n",
       "2   2017   Curry  GSW  Warriors    Games   51.0\n",
       "3   2015  Durant  OKC   Thunder    Games   72.0\n",
       "4   2016  Durant  GSW  Warriors    Games   62.0\n",
       "5   2017  Durant  GSW  Warriors    Games   68.0\n",
       "6   2015   Ibaka  OKC   Thunder    Games   78.0\n",
       "7   2016   Ibaka  ORL     Magic    Games   56.0\n",
       "8   2016   Ibaka  TOR   Raptors    Games   23.0\n",
       "9   2015   Curry  GSW  Warriors      Pts   30.1\n",
       "10  2016   Curry  GSW  Warriors      Pts   25.3\n",
       "11  2017   Curry  GSW  Warriors      Pts   26.4\n",
       "12  2015  Durant  OKC   Thunder      Pts   28.2\n",
       "13  2016  Durant  GSW  Warriors      Pts   25.1\n",
       "14  2017  Durant  GSW  Warriors      Pts   26.4\n",
       "15  2015   Ibaka  OKC   Thunder      Pts   12.6\n",
       "16  2016   Ibaka  ORL     Magic      Pts   15.1\n",
       "17  2016   Ibaka  TOR   Raptors      Pts   14.2\n",
       "18  2015   Curry  GSW  Warriors   Assist    6.7\n",
       "19  2016   Curry  GSW  Warriors   Assist    6.6\n",
       "20  2017   Curry  GSW  Warriors   Assist    6.1\n",
       "21  2015  Durant  OKC   Thunder   Assist    5.0\n",
       "22  2016  Durant  GSW  Warriors   Assist    4.8\n",
       "23  2017  Durant  GSW  Warriors   Assist    5.4\n",
       "24  2015   Ibaka  OKC   Thunder   Assist    0.8\n",
       "25  2016   Ibaka  ORL     Magic   Assist    1.1\n",
       "26  2016   Ibaka  TOR   Raptors   Assist    0.7\n",
       "27  2015   Curry  GSW  Warriors  Rebound    5.4\n",
       "28  2016   Curry  GSW  Warriors  Rebound    4.5\n",
       "29  2017   Curry  GSW  Warriors  Rebound    5.1\n",
       "30  2015  Durant  OKC   Thunder  Rebound    8.2\n",
       "31  2016  Durant  GSW  Warriors  Rebound    8.3\n",
       "32  2017  Durant  GSW  Warriors  Rebound    6.8\n",
       "33  2015   Ibaka  OKC   Thunder  Rebound    6.8\n",
       "34  2016   Ibaka  ORL     Magic  Rebound    6.8\n",
       "35  2016   Ibaka  TOR   Raptors  Rebound    6.8"
      ]
     },
     "execution_count": 21,
     "metadata": {},
     "output_type": "execute_result"
    }
   ],
   "source": [
    "# this is how we made ``bball_long``\n",
    "bball.melt(id_vars=[\"Year\", \"Player\", \"Team\", \"TeamName\"])"
   ]
  },
  {
   "cell_type": "markdown",
   "metadata": {
    "slideshow": {
     "slide_type": "-"
    }
   },
   "source": [
    "Notice that the columns we specified as `id_vars` remained columns, but all\n",
    "other columns were put into two new columns:\n",
    "\n",
    "1. `variable`: This has dtype string and contains the former column names.\n",
    "  as values  \n",
    "1. `value`: This has the former values.  \n",
    "\n",
    "\n",
    "Using this method is an effective way to get our data in *tidy* form as noted\n",
    "above."
   ]
  },
  {
   "cell_type": "markdown",
   "metadata": {
    "slideshow": {
     "slide_type": "subslide"
    }
   },
   "source": [
    "**Exercise 2**\n",
    "\n",
    "- What do you think would happen if we wrote `bball.melt(id_vars=[\"Year\", \"Player\"])`\n",
    "  rather than `bball.melt(id_vars=[\"Year\", \"Player\", \"Team\", \"TeamName\"])`?\n",
    "  Were you right? Write your thoughts.  \n",
    "- Read the documentation and focus on the argument `value_vars`. How\n",
    "  does `bball.melt(id_vars=[\"Year\", \"Player\"], value_vars=[\"Pts\", \"Rebound\"])`\n",
    "  differ from `bball.melt(id_vars=[\"Year\", \"Player\"])`?  \n",
    "- Consider the differences between `bball.stack` and `bball.melt`.\n",
    "  Is there a way to make them generate the same output?\n",
    "  (Hint: you might need to use both `stack` and another method from\n",
    "  above)? Write your thoughts.  "
   ]
  },
  {
   "cell_type": "markdown",
   "metadata": {
    "slideshow": {
     "slide_type": "-"
    }
   },
   "source": []
  },
  {
   "cell_type": "code",
   "execution_count": null,
   "metadata": {
    "slideshow": {
     "slide_type": "-"
    }
   },
   "outputs": [],
   "source": []
  },
  {
   "cell_type": "code",
   "execution_count": null,
   "metadata": {
    "slideshow": {
     "slide_type": "-"
    }
   },
   "outputs": [],
   "source": []
  },
  {
   "cell_type": "markdown",
   "metadata": {
    "slideshow": {
     "slide_type": "slide"
    }
   },
   "source": [
    "## `pivot` and `pivot_table`\n",
    "\n",
    "The next two reshaping methods that we will use are closely related.\n",
    "\n",
    "Some of you might even already be familiar with these ideas because you\n",
    "have previously used *pivot tables* in Excel.\n",
    "\n",
    "- If so, good news. We think this is even more powerful than Excel\n",
    "  and easier to use!  \n",
    "- If not, good news. You are about to learn a very powerful and user-friendly tool.  \n",
    "\n",
    "\n",
    "We will begin with `pivot`.\n",
    "\n",
    "The `pivot` method:\n",
    "\n",
    "- Takes the unique values of one column and places them along the index.  \n",
    "- Takes the unique values of another column and places them along the\n",
    "  columns.  \n",
    "- Takes the values that correspond to a third column and fills in the\n",
    "  DataFrame values that correspond to that index/column pair.  \n",
    "\n",
    "\n",
    "We’ll illustrate with an example."
   ]
  },
  {
   "cell_type": "code",
   "execution_count": 22,
   "metadata": {
    "ExecuteTime": {
     "end_time": "2021-11-13T05:49:27.458248Z",
     "start_time": "2021-11-13T05:49:27.440244Z"
    },
    "hide-output": false,
    "slideshow": {
     "slide_type": "-"
    }
   },
   "outputs": [
    {
     "data": {
      "text/html": [
       "<div>\n",
       "<style scoped>\n",
       "    .dataframe tbody tr th:only-of-type {\n",
       "        vertical-align: middle;\n",
       "    }\n",
       "\n",
       "    .dataframe tbody tr th {\n",
       "        vertical-align: top;\n",
       "    }\n",
       "\n",
       "    .dataframe thead th {\n",
       "        text-align: right;\n",
       "    }\n",
       "</style>\n",
       "<table border=\"1\" class=\"dataframe\">\n",
       "  <thead>\n",
       "    <tr style=\"text-align: right;\">\n",
       "      <th>Player</th>\n",
       "      <th>Curry</th>\n",
       "      <th>Durant</th>\n",
       "    </tr>\n",
       "    <tr>\n",
       "      <th>Year</th>\n",
       "      <th></th>\n",
       "      <th></th>\n",
       "    </tr>\n",
       "  </thead>\n",
       "  <tbody>\n",
       "    <tr>\n",
       "      <th>2015</th>\n",
       "      <td>30.1</td>\n",
       "      <td>28.2</td>\n",
       "    </tr>\n",
       "    <tr>\n",
       "      <th>2016</th>\n",
       "      <td>25.3</td>\n",
       "      <td>25.1</td>\n",
       "    </tr>\n",
       "    <tr>\n",
       "      <th>2017</th>\n",
       "      <td>26.4</td>\n",
       "      <td>26.4</td>\n",
       "    </tr>\n",
       "  </tbody>\n",
       "</table>\n",
       "</div>"
      ],
      "text/plain": [
       "Player  Curry  Durant\n",
       "Year                 \n",
       "2015     30.1    28.2\n",
       "2016     25.3    25.1\n",
       "2017     26.4    26.4"
      ]
     },
     "execution_count": 22,
     "metadata": {},
     "output_type": "execute_result"
    }
   ],
   "source": [
    "# .head 8 excludes Ibaka -- will discuss why later\n",
    "bball.head(6).pivot(index=\"Year\", columns=\"Player\", values=\"Pts\")"
   ]
  },
  {
   "cell_type": "markdown",
   "metadata": {
    "slideshow": {
     "slide_type": "fragment"
    }
   },
   "source": [
    "We can replicate `pivot` using three of the fundamental operations\n",
    "from above:\n",
    "\n",
    "1. Call `set_index` with the `index` and `columns` arguments  \n",
    "1. Extract the `values` column  \n",
    "1. `unstack` the columns level of the new index  "
   ]
  },
  {
   "cell_type": "code",
   "execution_count": 23,
   "metadata": {
    "ExecuteTime": {
     "end_time": "2021-11-13T05:49:30.512897Z",
     "start_time": "2021-11-13T05:49:30.492893Z"
    },
    "hide-output": false,
    "slideshow": {
     "slide_type": "-"
    }
   },
   "outputs": [
    {
     "data": {
      "text/html": [
       "<div>\n",
       "<style scoped>\n",
       "    .dataframe tbody tr th:only-of-type {\n",
       "        vertical-align: middle;\n",
       "    }\n",
       "\n",
       "    .dataframe tbody tr th {\n",
       "        vertical-align: top;\n",
       "    }\n",
       "\n",
       "    .dataframe thead th {\n",
       "        text-align: right;\n",
       "    }\n",
       "</style>\n",
       "<table border=\"1\" class=\"dataframe\">\n",
       "  <thead>\n",
       "    <tr style=\"text-align: right;\">\n",
       "      <th>Player</th>\n",
       "      <th>Curry</th>\n",
       "      <th>Durant</th>\n",
       "    </tr>\n",
       "    <tr>\n",
       "      <th>Year</th>\n",
       "      <th></th>\n",
       "      <th></th>\n",
       "    </tr>\n",
       "  </thead>\n",
       "  <tbody>\n",
       "    <tr>\n",
       "      <th>2015</th>\n",
       "      <td>30.1</td>\n",
       "      <td>28.2</td>\n",
       "    </tr>\n",
       "    <tr>\n",
       "      <th>2016</th>\n",
       "      <td>25.3</td>\n",
       "      <td>25.1</td>\n",
       "    </tr>\n",
       "    <tr>\n",
       "      <th>2017</th>\n",
       "      <td>26.4</td>\n",
       "      <td>26.4</td>\n",
       "    </tr>\n",
       "  </tbody>\n",
       "</table>\n",
       "</div>"
      ],
      "text/plain": [
       "Player  Curry  Durant\n",
       "Year                 \n",
       "2015     30.1    28.2\n",
       "2016     25.3    25.1\n",
       "2017     26.4    26.4"
      ]
     },
     "execution_count": 23,
     "metadata": {},
     "output_type": "execute_result"
    }
   ],
   "source": [
    "#  1---------------------------------------  2---  3----------------------\n",
    "bball.head(6).set_index([\"Year\", \"Player\"])[\"Pts\"].unstack(level=\"Player\")"
   ]
  },
  {
   "cell_type": "markdown",
   "metadata": {
    "slideshow": {
     "slide_type": "subslide"
    }
   },
   "source": [
    "One important thing to be aware of is that in order for `pivot` to\n",
    "work, the index/column pairs must be *unique*!\n",
    "\n",
    "Below, we demonstrate the error that occurs when they are not unique."
   ]
  },
  {
   "cell_type": "code",
   "execution_count": 24,
   "metadata": {
    "ExecuteTime": {
     "end_time": "2021-11-13T05:49:32.177285Z",
     "start_time": "2021-11-13T05:49:31.960699Z"
    },
    "hide-output": false,
    "slideshow": {
     "slide_type": "-"
    }
   },
   "outputs": [
    {
     "ename": "ValueError",
     "evalue": "Index contains duplicate entries, cannot reshape",
     "output_type": "error",
     "traceback": [
      "\u001b[1;31m---------------------------------------------------------------------------\u001b[0m",
      "\u001b[1;31mValueError\u001b[0m                                Traceback (most recent call last)",
      "\u001b[1;32m~\\AppData\\Local\\Temp/ipykernel_14744/468194367.py\u001b[0m in \u001b[0;36m<module>\u001b[1;34m\u001b[0m\n\u001b[0;32m      1\u001b[0m \u001b[1;31m# Ibaka shows up twice in 2016 because he was traded mid-season from\u001b[0m\u001b[1;33m\u001b[0m\u001b[1;33m\u001b[0m\u001b[1;33m\u001b[0m\u001b[0m\n\u001b[0;32m      2\u001b[0m \u001b[1;31m# the Orlando Magic to the Toronto Raptors\u001b[0m\u001b[1;33m\u001b[0m\u001b[1;33m\u001b[0m\u001b[1;33m\u001b[0m\u001b[0m\n\u001b[1;32m----> 3\u001b[1;33m \u001b[0mbball\u001b[0m\u001b[1;33m.\u001b[0m\u001b[0mpivot\u001b[0m\u001b[1;33m(\u001b[0m\u001b[0mindex\u001b[0m\u001b[1;33m=\u001b[0m\u001b[1;34m\"Year\"\u001b[0m\u001b[1;33m,\u001b[0m \u001b[0mcolumns\u001b[0m\u001b[1;33m=\u001b[0m\u001b[1;34m\"Player\"\u001b[0m\u001b[1;33m,\u001b[0m \u001b[0mvalues\u001b[0m\u001b[1;33m=\u001b[0m\u001b[1;34m\"Pts\"\u001b[0m\u001b[1;33m)\u001b[0m\u001b[1;33m\u001b[0m\u001b[1;33m\u001b[0m\u001b[0m\n\u001b[0m",
      "\u001b[1;32md:\\software\\python\\lib\\site-packages\\pandas\\core\\frame.py\u001b[0m in \u001b[0;36mpivot\u001b[1;34m(self, index, columns, values)\u001b[0m\n\u001b[0;32m   7791\u001b[0m         \u001b[1;32mfrom\u001b[0m \u001b[0mpandas\u001b[0m\u001b[1;33m.\u001b[0m\u001b[0mcore\u001b[0m\u001b[1;33m.\u001b[0m\u001b[0mreshape\u001b[0m\u001b[1;33m.\u001b[0m\u001b[0mpivot\u001b[0m \u001b[1;32mimport\u001b[0m \u001b[0mpivot\u001b[0m\u001b[1;33m\u001b[0m\u001b[1;33m\u001b[0m\u001b[0m\n\u001b[0;32m   7792\u001b[0m \u001b[1;33m\u001b[0m\u001b[0m\n\u001b[1;32m-> 7793\u001b[1;33m         \u001b[1;32mreturn\u001b[0m \u001b[0mpivot\u001b[0m\u001b[1;33m(\u001b[0m\u001b[0mself\u001b[0m\u001b[1;33m,\u001b[0m \u001b[0mindex\u001b[0m\u001b[1;33m=\u001b[0m\u001b[0mindex\u001b[0m\u001b[1;33m,\u001b[0m \u001b[0mcolumns\u001b[0m\u001b[1;33m=\u001b[0m\u001b[0mcolumns\u001b[0m\u001b[1;33m,\u001b[0m \u001b[0mvalues\u001b[0m\u001b[1;33m=\u001b[0m\u001b[0mvalues\u001b[0m\u001b[1;33m)\u001b[0m\u001b[1;33m\u001b[0m\u001b[1;33m\u001b[0m\u001b[0m\n\u001b[0m\u001b[0;32m   7794\u001b[0m \u001b[1;33m\u001b[0m\u001b[0m\n\u001b[0;32m   7795\u001b[0m     _shared_docs[\n",
      "\u001b[1;32md:\\software\\python\\lib\\site-packages\\pandas\\core\\reshape\\pivot.py\u001b[0m in \u001b[0;36mpivot\u001b[1;34m(data, index, columns, values)\u001b[0m\n\u001b[0;32m    515\u001b[0m         \u001b[1;32melse\u001b[0m\u001b[1;33m:\u001b[0m\u001b[1;33m\u001b[0m\u001b[1;33m\u001b[0m\u001b[0m\n\u001b[0;32m    516\u001b[0m             \u001b[0mindexed\u001b[0m \u001b[1;33m=\u001b[0m \u001b[0mdata\u001b[0m\u001b[1;33m.\u001b[0m\u001b[0m_constructor_sliced\u001b[0m\u001b[1;33m(\u001b[0m\u001b[0mdata\u001b[0m\u001b[1;33m[\u001b[0m\u001b[0mvalues\u001b[0m\u001b[1;33m]\u001b[0m\u001b[1;33m.\u001b[0m\u001b[0m_values\u001b[0m\u001b[1;33m,\u001b[0m \u001b[0mindex\u001b[0m\u001b[1;33m=\u001b[0m\u001b[0mmultiindex\u001b[0m\u001b[1;33m)\u001b[0m\u001b[1;33m\u001b[0m\u001b[1;33m\u001b[0m\u001b[0m\n\u001b[1;32m--> 517\u001b[1;33m     \u001b[1;32mreturn\u001b[0m \u001b[0mindexed\u001b[0m\u001b[1;33m.\u001b[0m\u001b[0munstack\u001b[0m\u001b[1;33m(\u001b[0m\u001b[0mcolumns_listlike\u001b[0m\u001b[1;33m)\u001b[0m\u001b[1;33m\u001b[0m\u001b[1;33m\u001b[0m\u001b[0m\n\u001b[0m\u001b[0;32m    518\u001b[0m \u001b[1;33m\u001b[0m\u001b[0m\n\u001b[0;32m    519\u001b[0m \u001b[1;33m\u001b[0m\u001b[0m\n",
      "\u001b[1;32md:\\software\\python\\lib\\site-packages\\pandas\\core\\series.py\u001b[0m in \u001b[0;36munstack\u001b[1;34m(self, level, fill_value)\u001b[0m\n\u001b[0;32m   4079\u001b[0m         \u001b[1;32mfrom\u001b[0m \u001b[0mpandas\u001b[0m\u001b[1;33m.\u001b[0m\u001b[0mcore\u001b[0m\u001b[1;33m.\u001b[0m\u001b[0mreshape\u001b[0m\u001b[1;33m.\u001b[0m\u001b[0mreshape\u001b[0m \u001b[1;32mimport\u001b[0m \u001b[0munstack\u001b[0m\u001b[1;33m\u001b[0m\u001b[1;33m\u001b[0m\u001b[0m\n\u001b[0;32m   4080\u001b[0m \u001b[1;33m\u001b[0m\u001b[0m\n\u001b[1;32m-> 4081\u001b[1;33m         \u001b[1;32mreturn\u001b[0m \u001b[0munstack\u001b[0m\u001b[1;33m(\u001b[0m\u001b[0mself\u001b[0m\u001b[1;33m,\u001b[0m \u001b[0mlevel\u001b[0m\u001b[1;33m,\u001b[0m \u001b[0mfill_value\u001b[0m\u001b[1;33m)\u001b[0m\u001b[1;33m\u001b[0m\u001b[1;33m\u001b[0m\u001b[0m\n\u001b[0m\u001b[0;32m   4082\u001b[0m \u001b[1;33m\u001b[0m\u001b[0m\n\u001b[0;32m   4083\u001b[0m     \u001b[1;31m# ----------------------------------------------------------------------\u001b[0m\u001b[1;33m\u001b[0m\u001b[1;33m\u001b[0m\u001b[1;33m\u001b[0m\u001b[0m\n",
      "\u001b[1;32md:\\software\\python\\lib\\site-packages\\pandas\\core\\reshape\\reshape.py\u001b[0m in \u001b[0;36munstack\u001b[1;34m(obj, level, fill_value)\u001b[0m\n\u001b[0;32m    458\u001b[0m         \u001b[1;32mif\u001b[0m \u001b[0mis_1d_only_ea_dtype\u001b[0m\u001b[1;33m(\u001b[0m\u001b[0mobj\u001b[0m\u001b[1;33m.\u001b[0m\u001b[0mdtype\u001b[0m\u001b[1;33m)\u001b[0m\u001b[1;33m:\u001b[0m\u001b[1;33m\u001b[0m\u001b[1;33m\u001b[0m\u001b[0m\n\u001b[0;32m    459\u001b[0m             \u001b[1;32mreturn\u001b[0m \u001b[0m_unstack_extension_series\u001b[0m\u001b[1;33m(\u001b[0m\u001b[0mobj\u001b[0m\u001b[1;33m,\u001b[0m \u001b[0mlevel\u001b[0m\u001b[1;33m,\u001b[0m \u001b[0mfill_value\u001b[0m\u001b[1;33m)\u001b[0m\u001b[1;33m\u001b[0m\u001b[1;33m\u001b[0m\u001b[0m\n\u001b[1;32m--> 460\u001b[1;33m         unstacker = _Unstacker(\n\u001b[0m\u001b[0;32m    461\u001b[0m             \u001b[0mobj\u001b[0m\u001b[1;33m.\u001b[0m\u001b[0mindex\u001b[0m\u001b[1;33m,\u001b[0m \u001b[0mlevel\u001b[0m\u001b[1;33m=\u001b[0m\u001b[0mlevel\u001b[0m\u001b[1;33m,\u001b[0m \u001b[0mconstructor\u001b[0m\u001b[1;33m=\u001b[0m\u001b[0mobj\u001b[0m\u001b[1;33m.\u001b[0m\u001b[0m_constructor_expanddim\u001b[0m\u001b[1;33m\u001b[0m\u001b[1;33m\u001b[0m\u001b[0m\n\u001b[0;32m    462\u001b[0m         )\n",
      "\u001b[1;32md:\\software\\python\\lib\\site-packages\\pandas\\core\\reshape\\reshape.py\u001b[0m in \u001b[0;36m__init__\u001b[1;34m(self, index, level, constructor)\u001b[0m\n\u001b[0;32m    131\u001b[0m             \u001b[1;32mraise\u001b[0m \u001b[0mValueError\u001b[0m\u001b[1;33m(\u001b[0m\u001b[1;34m\"Unstacked DataFrame is too big, causing int32 overflow\"\u001b[0m\u001b[1;33m)\u001b[0m\u001b[1;33m\u001b[0m\u001b[1;33m\u001b[0m\u001b[0m\n\u001b[0;32m    132\u001b[0m \u001b[1;33m\u001b[0m\u001b[0m\n\u001b[1;32m--> 133\u001b[1;33m         \u001b[0mself\u001b[0m\u001b[1;33m.\u001b[0m\u001b[0m_make_selectors\u001b[0m\u001b[1;33m(\u001b[0m\u001b[1;33m)\u001b[0m\u001b[1;33m\u001b[0m\u001b[1;33m\u001b[0m\u001b[0m\n\u001b[0m\u001b[0;32m    134\u001b[0m \u001b[1;33m\u001b[0m\u001b[0m\n\u001b[0;32m    135\u001b[0m     \u001b[1;33m@\u001b[0m\u001b[0mcache_readonly\u001b[0m\u001b[1;33m\u001b[0m\u001b[1;33m\u001b[0m\u001b[0m\n",
      "\u001b[1;32md:\\software\\python\\lib\\site-packages\\pandas\\core\\reshape\\reshape.py\u001b[0m in \u001b[0;36m_make_selectors\u001b[1;34m(self)\u001b[0m\n\u001b[0;32m    183\u001b[0m \u001b[1;33m\u001b[0m\u001b[0m\n\u001b[0;32m    184\u001b[0m         \u001b[1;32mif\u001b[0m \u001b[0mmask\u001b[0m\u001b[1;33m.\u001b[0m\u001b[0msum\u001b[0m\u001b[1;33m(\u001b[0m\u001b[1;33m)\u001b[0m \u001b[1;33m<\u001b[0m \u001b[0mlen\u001b[0m\u001b[1;33m(\u001b[0m\u001b[0mself\u001b[0m\u001b[1;33m.\u001b[0m\u001b[0mindex\u001b[0m\u001b[1;33m)\u001b[0m\u001b[1;33m:\u001b[0m\u001b[1;33m\u001b[0m\u001b[1;33m\u001b[0m\u001b[0m\n\u001b[1;32m--> 185\u001b[1;33m             \u001b[1;32mraise\u001b[0m \u001b[0mValueError\u001b[0m\u001b[1;33m(\u001b[0m\u001b[1;34m\"Index contains duplicate entries, cannot reshape\"\u001b[0m\u001b[1;33m)\u001b[0m\u001b[1;33m\u001b[0m\u001b[1;33m\u001b[0m\u001b[0m\n\u001b[0m\u001b[0;32m    186\u001b[0m \u001b[1;33m\u001b[0m\u001b[0m\n\u001b[0;32m    187\u001b[0m         \u001b[0mself\u001b[0m\u001b[1;33m.\u001b[0m\u001b[0mgroup_index\u001b[0m \u001b[1;33m=\u001b[0m \u001b[0mcomp_index\u001b[0m\u001b[1;33m\u001b[0m\u001b[1;33m\u001b[0m\u001b[0m\n",
      "\u001b[1;31mValueError\u001b[0m: Index contains duplicate entries, cannot reshape"
     ]
    }
   ],
   "source": [
    "# Ibaka shows up twice in 2016 because he was traded mid-season from\n",
    "# the Orlando Magic to the Toronto Raptors\n",
    "bball.pivot(index=\"Year\", columns=\"Player\", values=\"Pts\")\n"
   ]
  },
  {
   "cell_type": "markdown",
   "metadata": {
    "slideshow": {
     "slide_type": "subslide"
    }
   },
   "source": [
    "### `pivot_table`\n",
    "\n",
    "The `pivot_table` method is a generalization of `pivot`.\n",
    "\n",
    "It overcomes two limitations of `pivot`:\n",
    "\n",
    "1. It allows you to choose multiple columns for the index/columns/values\n",
    "  arguments.  \n",
    "1. It allows you to deal with duplicate entries by\n",
    "  having you choose how to combine them.  "
   ]
  },
  {
   "cell_type": "code",
   "execution_count": null,
   "metadata": {
    "ExecuteTime": {
     "end_time": "2021-11-13T05:46:44.175778Z",
     "start_time": "2021-11-13T05:46:44.175778Z"
    },
    "hide-output": false,
    "slideshow": {
     "slide_type": "-"
    }
   },
   "outputs": [],
   "source": [
    "bball"
   ]
  },
  {
   "cell_type": "markdown",
   "metadata": {
    "slideshow": {
     "slide_type": "subslide"
    }
   },
   "source": [
    "Notice that we can replicate the functionality of `pivot` if we pass\n",
    "the same arguments."
   ]
  },
  {
   "cell_type": "code",
   "execution_count": null,
   "metadata": {
    "ExecuteTime": {
     "end_time": "2021-11-13T05:46:44.176779Z",
     "start_time": "2021-11-13T05:46:44.176779Z"
    },
    "hide-output": false,
    "slideshow": {
     "slide_type": "-"
    }
   },
   "outputs": [],
   "source": [
    "bball.head(6).pivot_table(index=\"Year\", columns=\"Player\", values=\"Pts\")"
   ]
  },
  {
   "cell_type": "markdown",
   "metadata": {
    "slideshow": {
     "slide_type": "subslide"
    }
   },
   "source": [
    "But we can also choose multiple columns to be used in\n",
    "index/columns/values."
   ]
  },
  {
   "cell_type": "code",
   "execution_count": null,
   "metadata": {
    "ExecuteTime": {
     "end_time": "2021-11-13T05:46:44.177779Z",
     "start_time": "2021-11-13T05:46:44.177779Z"
    },
    "hide-output": false,
    "slideshow": {
     "slide_type": "fragment"
    }
   },
   "outputs": [],
   "source": [
    "bball.pivot_table(index=[\"Year\", \"Team\"], columns=\"Player\", values=\"Pts\")"
   ]
  },
  {
   "cell_type": "code",
   "execution_count": null,
   "metadata": {
    "ExecuteTime": {
     "end_time": "2021-11-13T05:46:44.178780Z",
     "start_time": "2021-11-13T05:46:44.178780Z"
    },
    "hide-output": false,
    "slideshow": {
     "slide_type": "fragment"
    }
   },
   "outputs": [],
   "source": [
    "bball.pivot_table(index=\"Year\", columns=[\"Player\", \"Team\"], values=\"Pts\")"
   ]
  },
  {
   "cell_type": "markdown",
   "metadata": {
    "slideshow": {
     "slide_type": "subslide"
    }
   },
   "source": [
    "AND we can deal with duplicated index/column pairs."
   ]
  },
  {
   "cell_type": "code",
   "execution_count": null,
   "metadata": {
    "ExecuteTime": {
     "end_time": "2021-11-13T05:46:44.179780Z",
     "start_time": "2021-11-13T05:46:44.179780Z"
    },
    "hide-output": false,
    "slideshow": {
     "slide_type": "-"
    }
   },
   "outputs": [],
   "source": [
    "# This produced an error\n",
    "# bball.pivot(index=\"Year\", columns=\"Player\", values=\"Pts\")\n",
    "\n",
    "# This doesn't!\n",
    "bball_pivoted = bball.pivot_table(index=\"Year\", columns=\"Player\", values=\"Pts\")\n",
    "bball_pivoted"
   ]
  },
  {
   "cell_type": "markdown",
   "metadata": {
    "slideshow": {
     "slide_type": "subslide"
    }
   },
   "source": [
    "`pivot_table` handles duplicate index/column pairs using an aggregation.\n",
    "\n",
    "By default, the aggregation is the mean.\n",
    "\n",
    "For example, our duplicated index/column pair is `(\"x\", 1)` and had\n",
    "associated values of 2 and 5.\n",
    "\n",
    "Notice that `bball_pivoted.loc[2016, \"Ibaka\"]` is `(15.1 + 14.2)/2 = 14.65`.\n",
    "\n",
    "We can choose how `pandas` aggregates all of the values.\n",
    "\n",
    "For example, here’s how we would keep the max."
   ]
  },
  {
   "cell_type": "code",
   "execution_count": null,
   "metadata": {
    "ExecuteTime": {
     "end_time": "2021-11-13T05:46:44.180780Z",
     "start_time": "2021-11-13T05:46:44.180780Z"
    },
    "hide-output": false,
    "slideshow": {
     "slide_type": "fragment"
    }
   },
   "outputs": [],
   "source": [
    "bball.pivot_table(index=\"Year\", columns=\"Player\", values=\"Pts\", aggfunc=max)"
   ]
  },
  {
   "cell_type": "markdown",
   "metadata": {
    "slideshow": {
     "slide_type": "subslide"
    }
   },
   "source": [
    "Maybe we wanted to count how many values there were."
   ]
  },
  {
   "cell_type": "code",
   "execution_count": null,
   "metadata": {
    "ExecuteTime": {
     "end_time": "2021-11-13T05:46:44.180780Z",
     "start_time": "2021-11-13T05:46:44.180780Z"
    }
   },
   "outputs": [],
   "source": [
    "bball"
   ]
  },
  {
   "cell_type": "code",
   "execution_count": null,
   "metadata": {
    "ExecuteTime": {
     "end_time": "2021-11-13T05:46:44.181780Z",
     "start_time": "2021-11-13T05:46:44.181780Z"
    },
    "hide-output": false,
    "slideshow": {
     "slide_type": "-"
    }
   },
   "outputs": [],
   "source": [
    "bball.pivot_table(index=\"Year\", columns=\"Player\", values=\"Pts\", aggfunc=len)"
   ]
  },
  {
   "cell_type": "markdown",
   "metadata": {
    "slideshow": {
     "slide_type": "subslide"
    }
   },
   "source": [
    "We can even pass multiple aggregation functions!"
   ]
  },
  {
   "cell_type": "code",
   "execution_count": null,
   "metadata": {
    "ExecuteTime": {
     "end_time": "2021-11-13T05:46:44.182780Z",
     "start_time": "2021-11-13T05:46:44.182780Z"
    },
    "hide-output": false,
    "slideshow": {
     "slide_type": "-"
    }
   },
   "outputs": [],
   "source": [
    "bball.pivot_table(index=\"Year\", columns=\"Player\", values=\"Pts\", aggfunc=[max, len])"
   ]
  },
  {
   "cell_type": "markdown",
   "metadata": {
    "slideshow": {
     "slide_type": "subslide"
    }
   },
   "source": [
    "**Exercise 3**\n",
    "\n",
    "- First, take a breath... That was a lot to take in.  \n",
    "- Can you think of a reason to ever use `pivot` rather than\n",
    "  `pivot_table`? Write your thoughts.  \n",
    "- Create a pivot table with column `Player` as the index, `TeamName` as the\n",
    "  columns, and `[Rebound, Assist]` as the values. What happens when you use\n",
    "  `aggfunc=[np.max, np.min, len]`? Describe how Python produced\n",
    "  each of the values in the resultant pivot table.  "
   ]
  },
  {
   "cell_type": "markdown",
   "metadata": {
    "slideshow": {
     "slide_type": "-"
    }
   },
   "source": []
  },
  {
   "cell_type": "code",
   "execution_count": null,
   "metadata": {
    "slideshow": {
     "slide_type": "-"
    }
   },
   "outputs": [],
   "source": []
  },
  {
   "cell_type": "markdown",
   "metadata": {
    "slideshow": {
     "slide_type": "slide"
    }
   },
   "source": [
    "## Visualizing Reshaping\n",
    "\n",
    "Now that you have learned the basics and had a chance to experiment,\n",
    "we will use some generic data to provide a visualization of what the above\n",
    "reshape operations do.\n",
    "\n",
    "The data we will use is:"
   ]
  },
  {
   "cell_type": "code",
   "execution_count": null,
   "metadata": {
    "ExecuteTime": {
     "end_time": "2021-11-13T05:46:44.183781Z",
     "start_time": "2021-11-13T05:46:44.183781Z"
    },
    "hide-output": false,
    "slideshow": {
     "slide_type": "-"
    }
   },
   "outputs": [],
   "source": [
    "# made up\n",
    "# columns A and B are \"identifiers\" while C, D, and E are variables.\n",
    "df = pd.DataFrame({\n",
    "    \"A\": [0, 0, 1, 1],\n",
    "    \"B\": \"x y x z\".split(),\n",
    "    \"C\": [1, 2, 1, 4],\n",
    "    \"D\": [10, 20, 30, 20,],\n",
    "    \"E\": [2, 1, 5, 4,]\n",
    "})\n",
    "\n",
    "df.info()\n",
    "df"
   ]
  },
  {
   "cell_type": "code",
   "execution_count": null,
   "metadata": {
    "ExecuteTime": {
     "end_time": "2021-11-13T05:46:44.184781Z",
     "start_time": "2021-11-13T05:46:44.184781Z"
    },
    "hide-output": false,
    "slideshow": {
     "slide_type": "fragment"
    }
   },
   "outputs": [],
   "source": [
    "df2 = df.set_index([\"A\", \"B\"])\n",
    "df2.head()"
   ]
  },
  {
   "cell_type": "code",
   "execution_count": null,
   "metadata": {
    "ExecuteTime": {
     "end_time": "2021-11-13T05:46:44.185781Z",
     "start_time": "2021-11-13T05:46:44.185781Z"
    },
    "hide-output": false,
    "slideshow": {
     "slide_type": "fragment"
    }
   },
   "outputs": [],
   "source": [
    "df3 = df2.T\n",
    "df3.head()"
   ]
  },
  {
   "cell_type": "markdown",
   "metadata": {
    "slideshow": {
     "slide_type": "subslide"
    }
   },
   "source": [
    "### `stack` and `unstack`\n",
    "\n",
    "Below is an animation that shows how stacking works.\n",
    "\n",
    "<img src=\"https://datascience.quantecon.org/_images/stack.gif\" alt=\"stack.gif\" style=\"\">"
   ]
  },
  {
   "cell_type": "code",
   "execution_count": null,
   "metadata": {
    "ExecuteTime": {
     "end_time": "2021-11-13T05:46:44.186781Z",
     "start_time": "2021-11-13T05:46:44.186781Z"
    },
    "hide-output": false,
    "slideshow": {
     "slide_type": "-"
    }
   },
   "outputs": [],
   "source": [
    "df2"
   ]
  },
  {
   "cell_type": "code",
   "execution_count": null,
   "metadata": {
    "ExecuteTime": {
     "end_time": "2021-11-13T05:46:44.187782Z",
     "start_time": "2021-11-13T05:46:44.187782Z"
    },
    "hide-output": false,
    "slideshow": {
     "slide_type": "fragment"
    }
   },
   "outputs": [],
   "source": [
    "df2_stack = df2.stack()\n",
    "df2_stack"
   ]
  },
  {
   "cell_type": "markdown",
   "metadata": {
    "slideshow": {
     "slide_type": "subslide"
    }
   },
   "source": [
    "And here is an animation that shows how unstacking works.\n",
    "\n",
    "<img src=\"https://datascience.quantecon.org/_images/unstack_level0.gif\" alt=\"unstack\\_level0.gif\" style=\"\">"
   ]
  },
  {
   "cell_type": "code",
   "execution_count": null,
   "metadata": {
    "ExecuteTime": {
     "end_time": "2021-11-13T05:46:44.188782Z",
     "start_time": "2021-11-13T05:46:44.188782Z"
    },
    "hide-output": false,
    "slideshow": {
     "slide_type": "-"
    }
   },
   "outputs": [],
   "source": [
    "df2"
   ]
  },
  {
   "cell_type": "code",
   "execution_count": null,
   "metadata": {
    "ExecuteTime": {
     "end_time": "2021-11-13T05:46:44.189781Z",
     "start_time": "2021-11-13T05:46:44.189781Z"
    },
    "hide-output": false,
    "slideshow": {
     "slide_type": "fragment"
    }
   },
   "outputs": [],
   "source": [
    "df2.unstack()"
   ]
  },
  {
   "cell_type": "markdown",
   "metadata": {
    "slideshow": {
     "slide_type": "subslide"
    }
   },
   "source": [
    "### `melt`\n",
    "\n",
    "As noted above, the `melt` method transforms data from wide to long in form.\n",
    "\n",
    "Here’s a visualization of that operation.\n",
    "\n",
    "<img src=\"https://datascience.quantecon.org/_images/melt.gif\" alt=\"melt.gif\" style=\"\">"
   ]
  },
  {
   "cell_type": "code",
   "execution_count": null,
   "metadata": {
    "ExecuteTime": {
     "end_time": "2021-11-13T05:46:44.190782Z",
     "start_time": "2021-11-13T05:46:44.190782Z"
    },
    "hide-output": false,
    "slideshow": {
     "slide_type": "-"
    }
   },
   "outputs": [],
   "source": [
    "df"
   ]
  },
  {
   "cell_type": "code",
   "execution_count": null,
   "metadata": {
    "ExecuteTime": {
     "end_time": "2021-11-13T05:46:44.190782Z",
     "start_time": "2021-11-13T05:46:44.190782Z"
    },
    "hide-output": false,
    "slideshow": {
     "slide_type": "fragment"
    }
   },
   "outputs": [],
   "source": [
    "df_melted = df.melt(id_vars=[\"A\", \"B\"])\n",
    "df_melted"
   ]
  }
 ],
 "metadata": {
  "date": 1595352472.8971248,
  "download_nb": false,
  "filename": "reshape.rst",
  "filename_with_path": "pandas/reshape",
  "kernelspec": {
   "display_name": "Python 3 (ipykernel)",
   "language": "python",
   "name": "python3"
  },
  "language_info": {
   "codemirror_mode": {
    "name": "ipython",
    "version": 3
   },
   "file_extension": ".py",
   "mimetype": "text/x-python",
   "name": "python",
   "nbconvert_exporter": "python",
   "pygments_lexer": "ipython3",
   "version": "3.9.5"
  },
  "title": "Reshape",
  "toc": {
   "base_numbering": 1,
   "nav_menu": {},
   "number_sections": true,
   "sideBar": true,
   "skip_h1_title": true,
   "title_cell": "Table of Contents",
   "title_sidebar": "Contents",
   "toc_cell": true,
   "toc_position": {},
   "toc_section_display": true,
   "toc_window_display": false
  }
 },
 "nbformat": 4,
 "nbformat_minor": 4
}
