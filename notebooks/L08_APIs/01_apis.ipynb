{
 "cells": [
  {
   "cell_type": "markdown",
   "metadata": {
    "toc": true
   },
   "source": [
    "<h1>Table of Contents<span class=\"tocSkip\"></span></h1>\n",
    "<div class=\"toc\"><ul class=\"toc-item\"><li><span><a href=\"#What-is-an-API?\" data-toc-modified-id=\"What-is-an-API?-1\"><span class=\"toc-item-num\">1&nbsp;&nbsp;</span>What is an API?</a></span><ul class=\"toc-item\"><li><span><a href=\"#API-particpants\" data-toc-modified-id=\"API-particpants-1.1\"><span class=\"toc-item-num\">1.1&nbsp;&nbsp;</span>API particpants</a></span></li><li><span><a href=\"#How-are-APIs-used?\" data-toc-modified-id=\"How-are-APIs-used?-1.2\"><span class=\"toc-item-num\">1.2&nbsp;&nbsp;</span>How are APIs used?</a></span></li></ul></li><li><span><a href=\"#Identifying-an-API\" data-toc-modified-id=\"Identifying-an-API-2\"><span class=\"toc-item-num\">2&nbsp;&nbsp;</span>Identifying an API</a></span></li><li><span><a href=\"#API-Mechanics\" data-toc-modified-id=\"API-Mechanics-3\"><span class=\"toc-item-num\">3&nbsp;&nbsp;</span>API Mechanics</a></span><ul class=\"toc-item\"><li><span><a href=\"#Endpoints\" data-toc-modified-id=\"Endpoints-3.1\"><span class=\"toc-item-num\">3.1&nbsp;&nbsp;</span>Endpoints</a></span><ul class=\"toc-item\"><li><span><a href=\"#Example\" data-toc-modified-id=\"Example-3.1.1\"><span class=\"toc-item-num\">3.1.1&nbsp;&nbsp;</span>Example</a></span></li></ul></li><li><span><a href=\"#Request-Type\" data-toc-modified-id=\"Request-Type-3.2\"><span class=\"toc-item-num\">3.2&nbsp;&nbsp;</span>Request Type</a></span></li><li><span><a href=\"#Query-Parameters\" data-toc-modified-id=\"Query-Parameters-3.3\"><span class=\"toc-item-num\">3.3&nbsp;&nbsp;</span>Query Parameters</a></span></li><li><span><a href=\"#Payload\" data-toc-modified-id=\"Payload-3.4\"><span class=\"toc-item-num\">3.4&nbsp;&nbsp;</span>Payload</a></span><ul class=\"toc-item\"><li><span><a href=\"#Example\" data-toc-modified-id=\"Example-3.4.1\"><span class=\"toc-item-num\">3.4.1&nbsp;&nbsp;</span>Example</a></span></li></ul></li><li><span><a href=\"#Headers\" data-toc-modified-id=\"Headers-3.5\"><span class=\"toc-item-num\">3.5&nbsp;&nbsp;</span>Headers</a></span><ul class=\"toc-item\"><li><span><a href=\"#Common-Headers\" data-toc-modified-id=\"Common-Headers-3.5.1\"><span class=\"toc-item-num\">3.5.1&nbsp;&nbsp;</span>Common Headers</a></span></li></ul></li><li><span><a href=\"#Authentication\" data-toc-modified-id=\"Authentication-3.6\"><span class=\"toc-item-num\">3.6&nbsp;&nbsp;</span>Authentication</a></span></li></ul></li></ul></div>"
   ]
  },
  {
   "cell_type": "markdown",
   "metadata": {
    "slideshow": {
     "slide_type": "slide"
    }
   },
   "source": [
    "# APIs and Web Services\n",
    "\n",
    "**Outcomes**\n",
    "\n",
    "- Understand the roles of an API\n",
    "- Be familiar with how to find an API from a service provider's website\n",
    "- Understand core parts of an API including endpoints, parameters, and authentication"
   ]
  },
  {
   "cell_type": "markdown",
   "metadata": {
    "slideshow": {
     "slide_type": "slide"
    }
   },
   "source": [
    "## What is an API?\n",
    "\n",
    "API stands for *application programming interface*\n",
    "\n",
    "An API a way for one computer program or service to communicate with and use another program"
   ]
  },
  {
   "cell_type": "markdown",
   "metadata": {
    "slideshow": {
     "slide_type": "subslide"
    }
   },
   "source": [
    "### API particpants\n",
    "\n",
    "There are two main participants in an API request, each with a specific role:\n",
    "\n",
    "1. Producer: this party sets up a service for others to consume. They dictate behaviors and permissions for access and usage\n",
    "2. Consumer: this party makes a request to the producer's service. They adhere to structure set up by producer"
   ]
  },
  {
   "cell_type": "markdown",
   "metadata": {
    "slideshow": {
     "slide_type": "subslide"
    }
   },
   "source": [
    "### How are APIs used?\n",
    "\n",
    "APIs can be used for many purposes:\n",
    "\n",
    "- Performing actions on a service: e.g. posting to twitter\n",
    "- Communicating between services inside a company: e.g. running machine learning tasks on user uploaded photos\n",
    "- Controlled distribution of data: e.g. access to price feeds for a financial asset"
   ]
  },
  {
   "cell_type": "markdown",
   "metadata": {
    "slideshow": {
     "slide_type": "fragment"
    }
   },
   "source": [
    "In this class we will primarily use an API to request data from a third party provider"
   ]
  },
  {
   "cell_type": "markdown",
   "metadata": {
    "slideshow": {
     "slide_type": "slide"
    }
   },
   "source": [
    "## Identifying an API\n",
    "\n",
    "Many (most?) platforms or companies provide an API for developers to leverage\n",
    "\n",
    "I typically search for text like \"API\", \"Developers\", or \"Tool\" on a website\n",
    "\n",
    "Examples:\n",
    "\n",
    "- [GitHub](https://github.com): \"API\"\n",
    "- [Huboi](https://www.huobi.com/en-us/): \"API\"\n",
    "- [World Bank](https://data.worldbank.org/): \"Tool\" -> \"API\""
   ]
  },
  {
   "cell_type": "markdown",
   "metadata": {
    "slideshow": {
     "slide_type": "slide"
    }
   },
   "source": [
    "## API Mechanics\n",
    "\n",
    "There are a few core components for interacting with most modern APIs\n",
    "\n",
    "These are:\n",
    "\n",
    "- Endpoints: The URLs needed to access a particular part of the API\n",
    "- Request type: `GET` type for getting data (usually) `POST` for publishing data (usually)\n",
    "- Query Parameters: part of a URL that follows a `?`\n",
    "- Payload: Data contained in *body* of request\n",
    "- Headers: extra data to provide context for request\n",
    "- Authentication: how to prove your identity and access privledged content"
   ]
  },
  {
   "cell_type": "markdown",
   "metadata": {
    "slideshow": {
     "slide_type": "subslide"
    }
   },
   "source": [
    "### Endpoints\n",
    "\n",
    "APIs are often represented as URLs, or web links\n",
    "\n",
    "Within an API a URL is called an endpoint\n",
    "\n",
    "A url has the form `scheme://host/path?query`\n",
    "\n",
    "- `scheme` is usually `http` or `https`\n",
    "- `host` is something like `github.com`\n",
    "- `path` specifies which part of an API or website you are accessing\n",
    "- `query` has additional options or parameters associated with the request"
   ]
  },
  {
   "cell_type": "markdown",
   "metadata": {
    "slideshow": {
     "slide_type": "subslide"
    }
   },
   "source": [
    "#### Example \n",
    "\n",
    "Example url: `https://api.covidcountydata.org/covid_us?location=eq.12045&variable=eq.tests_total`\n",
    "\n",
    "- Scheme: https\n",
    "- host: `api.covidcountydata.org`\n",
    "- path: `covid_us`\n",
    "- query parameters: `location=eq.12045` and `variable=eq.tests_total`"
   ]
  },
  {
   "cell_type": "markdown",
   "metadata": {
    "slideshow": {
     "slide_type": "subslide"
    }
   },
   "source": [
    "### Request Type\n",
    "\n",
    "When one computer sends a message to another computer over http, it is called a request\n",
    "\n",
    "Requests have a type associated with them\n",
    "\n",
    "The two most common request types are\n",
    "\n",
    "1. `GET`: this is used when the consumer would like to **get** data from the provider\n",
    "2. `POST`: this is used when the consumer would like to **post** or store data with the provider"
   ]
  },
  {
   "cell_type": "markdown",
   "metadata": {
    "slideshow": {
     "slide_type": "subslide"
    }
   },
   "source": [
    "### Query Parameters\n",
    "\n",
    "Query parameters come after the path and a `?`\n",
    "\n",
    "They provide additional details for *what* is being requested\n",
    "\n",
    "Multiple parameters are separated by `&`\n",
    "\n",
    "In example for this url: `https://api.covidcountydata.org/covid_us?location=eq.12045&variable=eq.tests_total`, query parameters are:\n",
    "\n",
    "1. `location`: with value of `eq.12045`\n",
    "2. `variable`: with value of `eq.tests_total`"
   ]
  },
  {
   "cell_type": "markdown",
   "metadata": {
    "slideshow": {
     "slide_type": "subslide"
    }
   },
   "source": [
    "###  Payload\n",
    "\n",
    "A payload is not found in the URL, but is attached to a request\n",
    "\n",
    "Sometimes referred to as the *body* of the request\n",
    "\n",
    "A payload is used to attach data to a request\n",
    "\n",
    "Let's see an example..."
   ]
  },
  {
   "cell_type": "markdown",
   "metadata": {
    "slideshow": {
     "slide_type": "subslide"
    }
   },
   "source": [
    "#### Example \n",
    "\n",
    "Suppose we want to \"like\" a post on a social media platform\n",
    "\n",
    "We might make a `POST` request to `https://api.mysocialmedia.com/likes`\n",
    "\n",
    "The body of the request might then look like:\n",
    "\n",
    "```json\n",
    "{\n",
    "    \"user\": \"spencer_lyon\",\n",
    "    \"post_id\": 42\n",
    "}\n",
    "```\n",
    "\n",
    "Here `user` is my username on the platform and `42` is the identifier for the post I am liking"
   ]
  },
  {
   "cell_type": "markdown",
   "metadata": {
    "slideshow": {
     "slide_type": "subslide"
    }
   },
   "source": [
    "### Headers\n",
    "\n",
    "Headers are additional options passed with network request\n",
    "\n",
    "They are passed as a key-value pair, like a dictionary in Python\n",
    "\n",
    "Thier role is to provide context or metadata about the request\n",
    "\n",
    "They do **not** typically specify data\n"
   ]
  },
  {
   "cell_type": "markdown",
   "metadata": {
    "slideshow": {
     "slide_type": "subslide"
    }
   },
   "source": [
    "####  Common Headers\n",
    "\n",
    "- `Content-Type`: Specifies what type of data is in the Payload. Example `text/plain` or `application/json`\n",
    "- `APIKey`: passing the api key\n",
    "- `Authorization`: A different name some services use for passing api key"
   ]
  },
  {
   "cell_type": "markdown",
   "metadata": {
    "slideshow": {
     "slide_type": "subslide"
    }
   },
   "source": [
    "### Authentication\n",
    "\n",
    "The most common forms of authentication are:\n",
    "\n",
    "- OAuth: use a third party provider (like a social media platform) to prove identity\n",
    "- API keys: API consumer (us) registers directly with provider and is given a key\n",
    "\n",
    "We'll use API keys in our examples\n",
    "\n",
    "Sometimes API keys are part of query parameters, other times part of headers"
   ]
  }
 ],
 "metadata": {
  "kernelspec": {
   "display_name": "Python 3 (ipykernel)",
   "language": "python",
   "name": "python3"
  },
  "language_info": {
   "codemirror_mode": {
    "name": "ipython",
    "version": 3
   },
   "file_extension": ".py",
   "mimetype": "text/x-python",
   "name": "python",
   "nbconvert_exporter": "python",
   "pygments_lexer": "ipython3",
   "version": "3.9.5"
  },
  "toc": {
   "base_numbering": 1,
   "nav_menu": {},
   "number_sections": true,
   "sideBar": true,
   "skip_h1_title": true,
   "title_cell": "Table of Contents",
   "title_sidebar": "Contents",
   "toc_cell": true,
   "toc_position": {},
   "toc_section_display": true,
   "toc_window_display": true
  }
 },
 "nbformat": 4,
 "nbformat_minor": 4
}
