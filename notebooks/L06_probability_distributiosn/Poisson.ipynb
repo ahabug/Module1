{
 "cells": [
  {
   "cell_type": "markdown",
   "metadata": {
    "toc": true
   },
   "source": [
    "<h1>Table of Contents<span class=\"tocSkip\"></span></h1>\n",
    "<div class=\"toc\"><ul class=\"toc-item\"><li><span><a href=\"#Introduction\" data-toc-modified-id=\"Introduction-1\"><span class=\"toc-item-num\">1&nbsp;&nbsp;</span>Introduction</a></span></li><li><span><a href=\"#Details\" data-toc-modified-id=\"Details-2\"><span class=\"toc-item-num\">2&nbsp;&nbsp;</span>Details</a></span></li><li><span><a href=\"#Mean-and-Variance\" data-toc-modified-id=\"Mean-and-Variance-3\"><span class=\"toc-item-num\">3&nbsp;&nbsp;</span>Mean and Variance</a></span></li><li><span><a href=\"#Property:-Poisson-Limit-Theorem:\" data-toc-modified-id=\"Property:-Poisson-Limit-Theorem:-4\"><span class=\"toc-item-num\">4&nbsp;&nbsp;</span>Property: Poisson Limit Theorem:</a></span></li><li><span><a href=\"#Example:--Phone-Calls-in-a-Day\" data-toc-modified-id=\"Example:--Phone-Calls-in-a-Day-5\"><span class=\"toc-item-num\">5&nbsp;&nbsp;</span>Example:  Phone Calls in a Day</a></span></li></ul></div>"
   ]
  },
  {
   "cell_type": "markdown",
   "metadata": {
    "slideshow": {
     "slide_type": "slide"
    }
   },
   "source": [
    "# Poisson Distribution"
   ]
  },
  {
   "cell_type": "code",
   "execution_count": 1,
   "metadata": {
    "ExecuteTime": {
     "end_time": "2021-11-13T05:33:45.593385Z",
     "start_time": "2021-11-13T05:33:44.849079Z"
    },
    "slideshow": {
     "slide_type": "-"
    }
   },
   "outputs": [],
   "source": [
    "import matplotlib.pyplot as plt\n",
    "import numpy as np\n",
    "import scipy.stats as st\n",
    "\n",
    "from ipywidgets import interact, IntSlider, FloatSlider\n",
    "\n",
    "%matplotlib inline"
   ]
  },
  {
   "cell_type": "markdown",
   "metadata": {
    "slideshow": {
     "slide_type": "slide"
    }
   },
   "source": [
    "### Introduction\n",
    "\n",
    "The **Poisson distribution** is a discrete probability distribution that expresses the probability of a given number of events occurring in a fixed interval of time or space if these events **occur with a known constant mean rate** and **independently of the time** since the last event. The Poisson distribution can also be used for the number of events in other specified intervals such as distance, area or volume:\n",
    "\n",
    "* The number of phone calls in a certain period\n",
    "* The number of meteorites greater than 1 meter diameter that strike Earth in a year\n",
    "* The number of technological innovations made in a year\n",
    "* The number of defective computer chips produced at a plant"
   ]
  },
  {
   "cell_type": "markdown",
   "metadata": {
    "slideshow": {
     "slide_type": "slide"
    }
   },
   "source": [
    "### Details\n",
    "\n",
    "A Poisson distribution depends on the rate parameter $\\lambda$, which describe the ‘average number of occurrance’ of certain event. Because the average number of occurrences cannot be negative or 0, the rate parameter $\\lambda$ can only be a positive real number. Random variable that follows a Poisson distribution can only take nonnegative integer, as the time of occurrence can only take value 0,1,2,…  \n",
    "\n",
    "Formally, A discrete random variable $X$ is said to have a Poisson distribution with parameter $\\lambda > 0$, if, for $k = 0, 1, 2, ...$, the probability mass function (PMF) of $X$ is given by:\n",
    "\n",
    "**PMF:**\n",
    "\n",
    "$$f(k; \\lambda) = Prob \\{ X = k\\} = \\frac {\\lambda^k e^{-\\lambda}}{k!} $$\n"
   ]
  },
  {
   "cell_type": "code",
   "execution_count": 2,
   "metadata": {
    "ExecuteTime": {
     "end_time": "2021-11-13T05:33:45.609381Z",
     "start_time": "2021-11-13T05:33:45.595380Z"
    },
    "slideshow": {
     "slide_type": "-"
    }
   },
   "outputs": [],
   "source": [
    "def Poisson_plot_pmf_cmf(mu):\n",
    "    prv = st.poisson(mu)\n",
    "    fig, ax = plt.subplots(1, 2, figsize=(9, 6))\n",
    "    \n",
    "    xvals = np.arange(21)\n",
    "    ax[0].bar(xvals, prv.pmf(xvals), width=0.5)\n",
    "    ax[0].set_title(\"Probability Mass Function\")\n",
    "    \n",
    "    xvals = np.arange(21)\n",
    "    ax[1].plot(xvals, prv.cdf(xvals))\n",
    "    ax[1].set_title(\"Cumulative Distribution Function\")\n",
    "    \n",
    "    return None"
   ]
  },
  {
   "cell_type": "code",
   "execution_count": 3,
   "metadata": {
    "ExecuteTime": {
     "end_time": "2021-11-13T05:33:45.801238Z",
     "start_time": "2021-11-13T05:33:45.611376Z"
    },
    "slideshow": {
     "slide_type": "-"
    }
   },
   "outputs": [
    {
     "data": {
      "application/vnd.jupyter.widget-view+json": {
       "model_id": "b63176455cb947ac8e1b056c4d8a86d9",
       "version_major": 2,
       "version_minor": 0
      },
      "text/plain": [
       "interactive(children=(FloatSlider(value=5.0, description='Rate $\\\\lambda$', layout=Layout(width='80%'), max=15…"
      ]
     },
     "metadata": {},
     "output_type": "display_data"
    }
   ],
   "source": [
    "fs_lambda = FloatSlider(\n",
    "    value=5, min=0.1, max=15,\n",
    "    step=0.1, description=\"Rate $\\lambda$\",\n",
    "    style={\"description_width\": \"10%\"},\n",
    "    layout={\"width\": \"80%\"}\n",
    ")\n",
    "\n",
    "output = interact(Poisson_plot_pmf_cmf, mu=fs_lambda)"
   ]
  },
  {
   "cell_type": "markdown",
   "metadata": {
    "slideshow": {
     "slide_type": "subslide"
    }
   },
   "source": [
    "### Mean and Variance\n",
    "**Mean**\n",
    "$$\n",
    "\\mu = EX  = k \\ Prob \\{ X = k \\} = \\sum_{k=0}^{\\infty} \\frac{\\lambda^{k-1}}{ (k-1)! } e^{-\\lambda} =\\lambda \\sum_{k=0}^{\\infty} \\frac{\\lambda^{k}}{ k! } e^{-\\lambda} = \\lambda\n",
    "$$\n",
    "  \n",
    "**Variance**\n",
    "$$\n",
    "\\sigma^2 = \\lambda\n",
    "$$"
   ]
  },
  {
   "cell_type": "markdown",
   "metadata": {
    "slideshow": {
     "slide_type": "subslide"
    }
   },
   "source": [
    "### Property: Poisson Limit Theorem: \n",
    "\n",
    "The Poisson distribution can be considered as  the continuous time limit of a binomial distribution. This property is formally **Poisson limit theorem:**  \n",
    "  \n",
    "  \n",
    "Consider $n$ times Bernoulli independent repeated trials, and the probability of event $A$ occurring in each trial is $p_n$. If $n p_n \\to \\lambda$ ($\\lambda$ is a constant) when $n \\to \\infty$, then for any $k = 1,2,3...$\n",
    "\n",
    "$$\n",
    "\\lim_{n\\to \\infty}{n \\choose k} (1 - p_n)^{n-k} p_n^k = \\frac {\\lambda^k e^{-\\lambda}}{k!}\n",
    "$$"
   ]
  },
  {
   "cell_type": "markdown",
   "metadata": {
    "slideshow": {
     "slide_type": "slide"
    }
   },
   "source": [
    "### Example:  Phone Calls in a Day\n",
    "\n",
    "Consider phone calls independently occur with a known constant average rate 4 times a day. We can model the number of calls received using a Poisson distribution with a parameter of $\\lambda = 4$."
   ]
  },
  {
   "cell_type": "code",
   "execution_count": 4,
   "metadata": {
    "ExecuteTime": {
     "end_time": "2021-11-13T05:33:45.817242Z",
     "start_time": "2021-11-13T05:33:45.803227Z"
    },
    "slideshow": {
     "slide_type": "fragment"
    }
   },
   "outputs": [
    {
     "data": {
      "text/plain": [
       "4.0"
      ]
     },
     "execution_count": 4,
     "metadata": {},
     "output_type": "execute_result"
    }
   ],
   "source": [
    "# define the Poisson distribution and check the mean\n",
    "prv = st.poisson(mu = 4)\n",
    "\n",
    "prv.mean()"
   ]
  },
  {
   "cell_type": "code",
   "execution_count": 5,
   "metadata": {
    "ExecuteTime": {
     "end_time": "2021-11-13T05:33:45.833246Z",
     "start_time": "2021-11-13T05:33:45.819242Z"
    },
    "slideshow": {
     "slide_type": "fragment"
    }
   },
   "outputs": [
    {
     "data": {
      "text/plain": [
       "4.0"
      ]
     },
     "execution_count": 5,
     "metadata": {},
     "output_type": "execute_result"
    }
   ],
   "source": [
    "# check the variance\n",
    "prv.var()"
   ]
  },
  {
   "cell_type": "code",
   "execution_count": 6,
   "metadata": {
    "ExecuteTime": {
     "end_time": "2021-11-13T05:33:45.849249Z",
     "start_time": "2021-11-13T05:33:45.834246Z"
    },
    "slideshow": {
     "slide_type": "fragment"
    }
   },
   "outputs": [
    {
     "data": {
      "text/plain": [
       "array([3, 5, 1, 2, 1, 4, 4, 5, 6, 4, 4, 4, 2, 4, 5, 6, 4, 4, 3, 5])"
      ]
     },
     "execution_count": 6,
     "metadata": {},
     "output_type": "execute_result"
    }
   ],
   "source": [
    "# generate 20 random variable based on the distribution\n",
    "prv.rvs(20)"
   ]
  },
  {
   "cell_type": "markdown",
   "metadata": {
    "slideshow": {
     "slide_type": "subslide"
    }
   },
   "source": [
    "Question: What is the probability of receiving fewer than 6 calls that day?\n",
    "  \n",
    "There are two ways to think of the case:  \n",
    "  \n",
    "**Poisson Distribution**: We can use the Poisson distribution with $\\lambda = 4$ to model the distribution of phone call in one day. Probability of receiving fewer than 6 calls is given below:"
   ]
  },
  {
   "cell_type": "code",
   "execution_count": 7,
   "metadata": {
    "ExecuteTime": {
     "end_time": "2021-11-13T05:33:45.865260Z",
     "start_time": "2021-11-13T05:33:45.851249Z"
    },
    "slideshow": {
     "slide_type": "-"
    }
   },
   "outputs": [
    {
     "data": {
      "text/plain": [
       "0.8893260215974264"
      ]
     },
     "execution_count": 7,
     "metadata": {},
     "output_type": "execute_result"
    }
   ],
   "source": [
    "prv.cdf(6)"
   ]
  },
  {
   "cell_type": "markdown",
   "metadata": {
    "slideshow": {
     "slide_type": "subslide"
    }
   },
   "source": [
    "**Binomial distribution：**\n",
    "\n",
    "**Binomial distribution 1**: Consider the probability of receiving a phone call in each hour is $\\frac{4}{24}$, we can use a Binomial distribution with $24$ trails to model the phone call in one day. Probability of receiving fewer than 6 calls is given below:"
   ]
  },
  {
   "cell_type": "code",
   "execution_count": 8,
   "metadata": {
    "ExecuteTime": {
     "end_time": "2021-11-13T05:33:45.881325Z",
     "start_time": "2021-11-13T05:33:45.867255Z"
    },
    "slideshow": {
     "slide_type": "fragment"
    }
   },
   "outputs": [
    {
     "data": {
      "text/plain": [
       "0.9088287968848946"
      ]
     },
     "execution_count": 8,
     "metadata": {},
     "output_type": "execute_result"
    }
   ],
   "source": [
    "st.binom.cdf(k=6, n=24, p = 4/24)"
   ]
  },
  {
   "cell_type": "markdown",
   "metadata": {
    "slideshow": {
     "slide_type": "fragment"
    }
   },
   "source": [
    "**Binomial distribution 2**: Consider the probability of receiving a phone call in each minute is $\\frac{4}{24 \\times 60}$, we can use a Binomial distribution with $24 \\times 60$ trails to model the phone call in one day. Probability of receiving fewer than 6 calls is given below:"
   ]
  },
  {
   "cell_type": "code",
   "execution_count": 9,
   "metadata": {
    "ExecuteTime": {
     "end_time": "2021-11-13T05:33:45.896865Z",
     "start_time": "2021-11-13T05:33:45.882851Z"
    },
    "slideshow": {
     "slide_type": "fragment"
    }
   },
   "outputs": [
    {
     "data": {
      "text/plain": [
       "0.8896159907866809"
      ]
     },
     "execution_count": 9,
     "metadata": {},
     "output_type": "execute_result"
    }
   ],
   "source": [
    "st.binom.cdf(k=6, n=24*60, p = 4/24/60)"
   ]
  },
  {
   "cell_type": "markdown",
   "metadata": {
    "slideshow": {
     "slide_type": "fragment"
    }
   },
   "source": [
    "**Binomial distribution 3**: Consider the probability of receiving a phone call in each second is $\\frac{4}{24 \\times 60 \\times 60}$, we can use a Binomial distribution with $24 \\times 60 \\times 60$ trails to model the phone call in one day. Probability of receiving fewer than 6 calls is given below:"
   ]
  },
  {
   "cell_type": "code",
   "execution_count": 10,
   "metadata": {
    "ExecuteTime": {
     "end_time": "2021-11-13T05:33:45.912900Z",
     "start_time": "2021-11-13T05:33:45.899864Z"
    },
    "slideshow": {
     "slide_type": "fragment"
    }
   },
   "outputs": [
    {
     "data": {
      "text/plain": [
       "0.8893308456182861"
      ]
     },
     "execution_count": 10,
     "metadata": {},
     "output_type": "execute_result"
    }
   ],
   "source": [
    "st.binom.cdf(k=6, n=24*60*60, p = 4/24/60/60)"
   ]
  },
  {
   "cell_type": "markdown",
   "metadata": {
    "slideshow": {
     "slide_type": "fragment"
    }
   },
   "source": [
    "We can keep on cutting the time interval smaller and smaller. By Poisson limit theorem, we can prove that the sequence of binomial distribution converges to the Poisson distribution. We have just illustrated the example numerically."
   ]
  },
  {
   "cell_type": "markdown",
   "metadata": {
    "slideshow": {
     "slide_type": "-"
    }
   },
   "source": [
    "**Note**: In creating this notebook, I referenced the \"Distribution Explorer\" material found at https://distribution-explorer.github.io/index.html, and also wikipedia https://en.wikipedia.org/wiki/Poisson_distribution . I certainly encourage others to find additional information there."
   ]
  }
 ],
 "metadata": {
  "kernelspec": {
   "display_name": "Python 3 (ipykernel)",
   "language": "python",
   "name": "python3"
  },
  "language_info": {
   "codemirror_mode": {
    "name": "ipython",
    "version": 3
   },
   "file_extension": ".py",
   "mimetype": "text/x-python",
   "name": "python",
   "nbconvert_exporter": "python",
   "pygments_lexer": "ipython3",
   "version": "3.9.5"
  },
  "toc": {
   "base_numbering": 1,
   "nav_menu": {},
   "number_sections": true,
   "sideBar": true,
   "skip_h1_title": true,
   "title_cell": "Table of Contents",
   "title_sidebar": "Contents",
   "toc_cell": true,
   "toc_position": {},
   "toc_section_display": true,
   "toc_window_display": false
  }
 },
 "nbformat": 4,
 "nbformat_minor": 2
}
