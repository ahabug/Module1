{
 "cells": [
  {
   "cell_type": "markdown",
   "metadata": {
    "toc": true
   },
   "source": [
    "<h1>Table of Contents<span class=\"tocSkip\"></span></h1>\n",
    "<div class=\"toc\"><ul class=\"toc-item\"><li><span><a href=\"#Introduction\" data-toc-modified-id=\"Introduction-1\"><span class=\"toc-item-num\">1&nbsp;&nbsp;</span>Introduction</a></span></li><li><span><a href=\"#Details\" data-toc-modified-id=\"Details-2\"><span class=\"toc-item-num\">2&nbsp;&nbsp;</span>Details</a></span></li><li><span><a href=\"#Interpretation-of-Shape-Parameter-k:\" data-toc-modified-id=\"Interpretation-of-Shape-Parameter-k:-3\"><span class=\"toc-item-num\">3&nbsp;&nbsp;</span>Interpretation of Shape Parameter k:</a></span></li><li><span><a href=\"#Mean,-Variance:\" data-toc-modified-id=\"Mean,-Variance:-4\"><span class=\"toc-item-num\">4&nbsp;&nbsp;</span>Mean, Variance:</a></span></li><li><span><a href=\"#Example:-Leaving-a-Loyalty-Program\" data-toc-modified-id=\"Example:-Leaving-a-Loyalty-Program-5\"><span class=\"toc-item-num\">5&nbsp;&nbsp;</span>Example: Leaving a Loyalty Program</a></span></li></ul></div>"
   ]
  },
  {
   "cell_type": "markdown",
   "metadata": {},
   "source": [
    "# Weibull Distribution"
   ]
  },
  {
   "cell_type": "code",
   "execution_count": 1,
   "metadata": {
    "ExecuteTime": {
     "end_time": "2021-11-13T05:26:30.435953Z",
     "start_time": "2021-11-13T05:26:29.085524Z"
    }
   },
   "outputs": [],
   "source": [
    "import matplotlib.pyplot as plt\n",
    "import numpy as np\n",
    "import scipy.stats as st\n",
    "\n",
    "from ipywidgets import interact, IntSlider, FloatSlider\n",
    "\n",
    "%matplotlib inline"
   ]
  },
  {
   "cell_type": "markdown",
   "metadata": {},
   "source": [
    "### Introduction\n",
    "\n",
    "In probability theory and statistics, the **Weibull distribution**, can be considered as a generalization of the exponential distribution. While exponential distribution describes the waiting time between continuously and independently event at a constant rate (events in a Poisson process), **Weibull distribution relaxes the constrain of constant rate by adding a shape parameter $k \\in (0, + \\infty)$ in exponential distribution.**\n",
    "\n",
    "It can also be applied to describe the *'waiting time'* of before something happens, just like a exponential distribution:  \n",
    "* the waiting time between two telephone call\n",
    "* the life of the electronic component (the waiting time before the breakdown)\n",
    "\n",
    "The difference is that the event like phone call or failure of an electronic component do not have to happen at constant rate as in exponential distribution. We will show that the waiting time decreases as time flies when $k \\in (0, 1)$, increases when $k \\in (1, + \\infty)$, and the distribution degenerates to the exponential distribution when $k = 1$.  "
   ]
  },
  {
   "cell_type": "markdown",
   "metadata": {},
   "source": [
    "### Details\n",
    "\n",
    "A Weibull distribution is a continuous distribution on nonnegative real number ($x \\in [0, +\\infty)$), with PDF and CDF describe as below:  \n",
    "  \n",
    "**PDF:**  \n",
    "The probability density function (PDF) of Weibull distribution with **scale parameter** $\\beta >0$ and **shape parameter** $k >0$ is given by\n",
    "  \n",
    "$$\n",
    "f(x;\\beta, k) = \\begin{cases} \\frac{k}{ \\beta } (\\frac{x}{ \\beta })^{k-1} e ^ {-(x / \\beta) ^ k}, &  x \\geq 0 \\\\ \\quad0, & \\text{otherwise}  \\end{cases}\n",
    "$$\n",
    "  \n",
    "  \n",
    "When $k \\in (0,1]$ the PDF is monotone decreasing, and the PDF has a peak as $k \\in (1,+\\infty)$: \n",
    "  \n",
    "  \n",
    "**CDF:**  \n",
    "The cumulative distribution function (CDF) can be written in terms of:  \n",
    "  \n",
    "$$\n",
    "F(x;\\beta, k) = \\begin{cases} 1 - e ^ {- (x/\\beta)^k}, &  x \\geq 0 \\\\ \\quad0, & \\text{otherwise}  \\end{cases}\n",
    "$$\n",
    "  \n",
    "  \n",
    "When $k \\in (0,1]$ the CDF is a convex function, and the CDF shows a '*S* shape' with a inflection point when $k \\in (1,+\\infty)$.\n",
    "  \n",
    "**Scale parameter $\\beta$:**\n",
    "One of the parameter of the distribution is the scale parameter $\\beta$, it can take value from $(0, +\\infty)$.\n",
    "\n",
    "**Shape parameter $k$:**\n",
    "The other parameter of the distribution is the shape parameter $k$, it can take value from $(0, +\\infty)$.\n",
    "  \n",
    "**Caveat: Weibull Distribution in *scipy.stats*:**  \n",
    "Scipy.stats does not provide Weibull distribution alone, but a group of generalized Weibull distributions called *exponential Weibull distribution*. To get standard Weibull distribution, we need to take $a = 1$. The parameter $c$ in stats.exponweib is for shape parameter $k$ in our representation, and the parameter *scale* is for the scale parameter $\\beta$ in our representation."
   ]
  },
  {
   "cell_type": "code",
   "execution_count": 2,
   "metadata": {
    "ExecuteTime": {
     "end_time": "2021-11-13T05:26:30.450935Z",
     "start_time": "2021-11-13T05:26:30.437932Z"
    }
   },
   "outputs": [],
   "source": [
    "def weib_plot_pdf_cdf(β,k):\n",
    "    wrv = st.exponweib(a = 1, c = k, scale = β)\n",
    "    fig, ax = plt.subplots(1, 2, figsize=(14, 10))\n",
    "    \n",
    "    xvals = np.linspace(0, 5, 100)\n",
    "    ax[0].plot(xvals, wrv.pdf(xvals))\n",
    "    ax[0].set_title(\"Probability Distribution Function\")\n",
    "    \n",
    "    xvals = np.linspace(0, 5, 100)\n",
    "    ax[1].plot(xvals, wrv.cdf(xvals))\n",
    "    ax[1].set_title(\"Cumulative Distribution Function\")\n",
    "    \n",
    "    return None"
   ]
  },
  {
   "cell_type": "code",
   "execution_count": 3,
   "metadata": {
    "ExecuteTime": {
     "end_time": "2021-11-13T05:26:30.639385Z",
     "start_time": "2021-11-13T05:26:30.452934Z"
    }
   },
   "outputs": [
    {
     "data": {
      "application/vnd.jupyter.widget-view+json": {
       "model_id": "a2e0a670bd7747e388266b608b0d97a3",
       "version_major": 2,
       "version_minor": 0
      },
      "text/plain": [
       "interactive(children=(FloatSlider(value=1.0, description='Scale $ β $', layout=Layout(width='80%'), max=5.0, m…"
      ]
     },
     "metadata": {},
     "output_type": "display_data"
    }
   ],
   "source": [
    "fs_beta = FloatSlider(\n",
    "    value=1, min=0.1, max=5,\n",
    "    step=0.1, description=\"Scale $ β $\",\n",
    "    style={\"description_width\": \"10%\"},\n",
    "    layout={\"width\": \"80%\"}\n",
    ")\n",
    "\n",
    "fs_k = FloatSlider(\n",
    "    value=1, min=0.1, max=5,\n",
    "    step=0.1, description=\"Shape $k$\",\n",
    "    style={\"description_width\": \"10%\"},\n",
    "    layout={\"width\": \"80%\"}\n",
    ")\n",
    "\n",
    "output = interact(weib_plot_pdf_cdf, β=fs_beta, k=fs_k)"
   ]
  },
  {
   "cell_type": "markdown",
   "metadata": {},
   "source": [
    "### Interpretation of Shape Parameter k:\n",
    "\n",
    "**If the quantity $X$ is a \"time-to-failure\", the Weibull distribution gives a distribution for which the failure rate is proportional to a power of time**. The shape parameter, $k$, is that power plus one, and so this parameter can be interpreted directly as follows:\n",
    "\n",
    "* **A value of $k <1$ indicates that the failure rate decreases over time (Lindy effect)**. This happens if there is significant \"infant mortality\", or defective items failing early and the failure rate decreasing over time as the defective items are weeded out of the population. Consider a loyalty program of a cafe or hotel chain. The longer a consumer becomes a member, the less likely the consumer is to end the loyalty program and choose another brand of cafe or hotel.\n",
    "    \n",
    "    \n",
    "* **A value of $k = 1$ indicates that the failure rate is constant over time.** This might suggest random external events are causing mortality, or failure. The Weibull distribution reduces to an exponential distribution;  \n",
    "\n",
    "$$\n",
    "f(x;\\beta) = \\begin{cases} \\frac{1}{ \\beta } e ^ {-x / \\beta}, &  x \\geq 0 \\\\ \\quad0, & \\text{otherwise}  \\end{cases}\n",
    "$$  \n",
    "\n",
    "    \n",
    "    \n",
    "* **A value of $K > 1$ indicates that the failure rate increases with time.** This happens if there is an \"aging\" process, or parts that are more likely to fail as time goes on. Consider a light bulb. The longer it is used, the more likely it is to break down."
   ]
  },
  {
   "cell_type": "markdown",
   "metadata": {},
   "source": [
    "### Mean, Variance:\n",
    "**1. Mean**:  \n",
    "$$\n",
    "\\mu = EX = \\int _{-\\infty }^{+\\infty } x f(x; \\lambda) dx = \\int _{0}^{+\\infty } x \\big (\\frac{k}{ \\beta } \\big) \\big( \\frac{x}{ \\beta } \\big)^{k-1} e ^ {-(x / \\beta) ^ k} = \\beta \\ \\Gamma \\big( 1+\\frac{1}{k} \\big)\n",
    "$$"
   ]
  },
  {
   "cell_type": "markdown",
   "metadata": {},
   "source": [
    "**2. Variance**:  \n",
    "$$\n",
    "\\sigma^2 = DX = E(X^2) - (EX)^2 = \\beta^2 \\ \\bigg[ \\Gamma \\bigg(1 + \\frac{2}{k}\\bigg)- \\bigg(\\Gamma \\bigg(1 + \\frac{1}{k} \\bigg) \\bigg)^2 \\bigg]\n",
    "$$"
   ]
  },
  {
   "cell_type": "markdown",
   "metadata": {},
   "source": [
    "### Example: Leaving a Loyalty Program\n",
    "\n",
    "Consider a loyalty program of a cafe. The number of months people are in the loyalty program can be described by the Weibull distribution with scale parameter $\\beta = 5$ and shape parameter $k = 0.5$."
   ]
  },
  {
   "cell_type": "code",
   "execution_count": 4,
   "metadata": {
    "ExecuteTime": {
     "end_time": "2021-11-13T05:26:30.654615Z",
     "start_time": "2021-11-13T05:26:30.641382Z"
    }
   },
   "outputs": [],
   "source": [
    "# define the Weibull distribution\n",
    "β = 3\n",
    "k = 0.5\n",
    "wrv = st.exponweib(a = 1, c = k, scale = β)"
   ]
  },
  {
   "cell_type": "markdown",
   "metadata": {},
   "source": [
    "We can take a single draw from this distribution."
   ]
  },
  {
   "cell_type": "code",
   "execution_count": 5,
   "metadata": {
    "ExecuteTime": {
     "end_time": "2021-11-13T05:26:30.670617Z",
     "start_time": "2021-11-13T05:26:30.655611Z"
    }
   },
   "outputs": [
    {
     "name": "stdout",
     "output_type": "stream",
     "text": [
      "0.6616333260506227\n"
     ]
    }
   ],
   "source": [
    "loyal_time = wrv.rvs()\n",
    "print(loyal_time)"
   ]
  },
  {
   "cell_type": "markdown",
   "metadata": {},
   "source": [
    "We can check the mean of the distribution."
   ]
  },
  {
   "cell_type": "code",
   "execution_count": 6,
   "metadata": {
    "ExecuteTime": {
     "end_time": "2021-11-13T05:26:30.718632Z",
     "start_time": "2021-11-13T05:26:30.672613Z"
    }
   },
   "outputs": [
    {
     "data": {
      "text/plain": [
       "5.999999999999966"
      ]
     },
     "execution_count": 6,
     "metadata": {},
     "output_type": "execute_result"
    }
   ],
   "source": [
    "wrv.mean()"
   ]
  },
  {
   "cell_type": "markdown",
   "metadata": {},
   "source": [
    "We can check the variance of the distribution."
   ]
  },
  {
   "cell_type": "code",
   "execution_count": 7,
   "metadata": {
    "ExecuteTime": {
     "end_time": "2021-11-13T05:26:30.797661Z",
     "start_time": "2021-11-13T05:26:30.719625Z"
    }
   },
   "outputs": [
    {
     "data": {
      "text/plain": [
       "179.99999999774383"
      ]
     },
     "execution_count": 7,
     "metadata": {},
     "output_type": "execute_result"
    }
   ],
   "source": [
    "wrv.var()"
   ]
  },
  {
   "cell_type": "markdown",
   "metadata": {},
   "source": [
    "Or we could see what happens over many similar customers stay in the loyalty program for less or equals to 12 months (according to the law of large numbers, we should expect that the fraction of customers should obey the cumulative probability in range 12-)."
   ]
  },
  {
   "cell_type": "code",
   "execution_count": 8,
   "metadata": {
    "ExecuteTime": {
     "end_time": "2021-11-13T05:26:30.812645Z",
     "start_time": "2021-11-13T05:26:30.799642Z"
    }
   },
   "outputs": [
    {
     "name": "stdout",
     "output_type": "stream",
     "text": [
      "Among 10000 customers, 8654 of them stay less or equals to 12 month.\n",
      "The frequency is 0.8654.\n",
      "The probability calculates from CDF is 0.8646647167633873.\n"
     ]
    }
   ],
   "source": [
    "cus_size = 10000\n",
    "samples = wrv.rvs(cus_size)\n",
    "\n",
    "print(f'Among {cus_size} customers, {np.sum(samples <= 12)} of them stay less or equals to 12 month.')\n",
    "print(f'The frequency is {np.mean(samples <= 12)}.')\n",
    "print(f'The probability calculates from CDF is {wrv.cdf(12)}.')"
   ]
  },
  {
   "cell_type": "code",
   "execution_count": 9,
   "metadata": {
    "ExecuteTime": {
     "end_time": "2021-11-13T05:26:31.398349Z",
     "start_time": "2021-11-13T05:26:30.813645Z"
    }
   },
   "outputs": [
    {
     "data": {
      "image/png": "[encoded data removed]",
      "text/plain": [
       "<Figure size 432x288 with 1 Axes>"
      ]
     },
     "metadata": {
      "needs_background": "light"
     },
     "output_type": "display_data"
    }
   ],
   "source": [
    "import seaborn as sns\n",
    "\n",
    "sns.kdeplot(samples,shade=True)\n",
    "plt.show()"
   ]
  },
  {
   "cell_type": "markdown",
   "metadata": {},
   "source": [
    "**Note**: In creating this notebook, I referenced the \"Distribution Explorer\" material found at https://distribution-explorer.github.io/index.html, and wikipedia https://en.wikipedia.org/wiki/Weibull_distribution. I certainly encourage others to find additional information there."
   ]
  }
 ],
 "metadata": {
  "kernelspec": {
   "display_name": "Python 3 (ipykernel)",
   "language": "python",
   "name": "python3"
  },
  "language_info": {
   "codemirror_mode": {
    "name": "ipython",
    "version": 3
   },
   "file_extension": ".py",
   "mimetype": "text/x-python",
   "name": "python",
   "nbconvert_exporter": "python",
   "pygments_lexer": "ipython3",
   "version": "3.9.5"
  },
  "toc": {
   "base_numbering": 1,
   "nav_menu": {},
   "number_sections": true,
   "sideBar": true,
   "skip_h1_title": true,
   "title_cell": "Table of Contents",
   "title_sidebar": "Contents",
   "toc_cell": true,
   "toc_position": {},
   "toc_section_display": true,
   "toc_window_display": false
  }
 },
 "nbformat": 4,
 "nbformat_minor": 2
}
