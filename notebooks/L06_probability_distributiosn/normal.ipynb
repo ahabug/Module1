{
 "cells": [
  {
   "cell_type": "markdown",
   "metadata": {
    "toc": true
   },
   "source": [
    "<h1>Table of Contents<span class=\"tocSkip\"></span></h1>\n",
    "<div class=\"toc\"><ul class=\"toc-item\"><li><span><a href=\"#Introduction\" data-toc-modified-id=\"Introduction-1\"><span class=\"toc-item-num\">1&nbsp;&nbsp;</span>Introduction</a></span></li><li><span><a href=\"#Details\" data-toc-modified-id=\"Details-2\"><span class=\"toc-item-num\">2&nbsp;&nbsp;</span>Details</a></span></li><li><span><a href=\"#Example\" data-toc-modified-id=\"Example-3\"><span class=\"toc-item-num\">3&nbsp;&nbsp;</span>Example</a></span></li></ul></div>"
   ]
  },
  {
   "cell_type": "markdown",
   "metadata": {
    "slideshow": {
     "slide_type": "slide"
    }
   },
   "source": [
    "# Normal Distribution"
   ]
  },
  {
   "cell_type": "code",
   "execution_count": 1,
   "metadata": {
    "ExecuteTime": {
     "end_time": "2021-11-13T05:33:52.748187Z",
     "start_time": "2021-11-13T05:33:52.024959Z"
    },
    "slideshow": {
     "slide_type": "-"
    }
   },
   "outputs": [],
   "source": [
    "import matplotlib.pyplot as plt\n",
    "import numpy as np\n",
    "import scipy.stats as st\n",
    "\n",
    "\n",
    "from ipywidgets import interact, IntSlider, FloatSlider\n",
    "\n",
    "%matplotlib inline"
   ]
  },
  {
   "cell_type": "markdown",
   "metadata": {
    "slideshow": {
     "slide_type": "slide"
    }
   },
   "source": [
    "### Introduction\n",
    "\n",
    "In probability theory, a Normal distribution is a type of continuous probability distribution for a real-valued random variable.  In real life there're many events following normal distribution.\n",
    "\n",
    "Below we give a few examples of Normal distribution random variables:\n",
    "\n",
    "* The grades of a course\n",
    "* The height of the population\n",
    "* The quality of the products"
   ]
  },
  {
   "cell_type": "markdown",
   "metadata": {
    "slideshow": {
     "slide_type": "slide"
    }
   },
   "source": [
    "### Details\n",
    "\n",
    "The Normal distribution is characterized by two parameters, $\\mu$ and $\\sigma$. This parameter should be interpreted as the \"mean and standard deviation\"of the population. \n",
    "\n",
    "The values associated a Normal random variable can be $(-\\infty,+\\infty)$. \n",
    "\n",
    "The probability density function is given by\n",
    "\n",
    "\\begin{align*}\n",
    "  f(x; \\mu,\\sigma) \\equiv  \\frac{1 }{\\sigma\\sqrt[]{2\\pi } }e^{\\frac{(x-\\mu)^2 }{-2\\sigma^2}}\n",
    "\\end{align*}\n",
    "\n",
    "The cumulative density function is usually given by standard form ($\\mu=0, \\sigma=1$)\n",
    "\n",
    "\\begin{align*}\n",
    "  \\Phi(x; \\mu,\\sigma) \\equiv  \\frac{1}{\\sqrt[]{2\\pi}}{\\int_{-\\infty}^x}e^{-t^2/2}dt\n",
    "\\end{align*}\n",
    "\n",
    "* **Mean**: $\\mu$\n",
    "* **Variance**: $\\sigma^2$"
   ]
  },
  {
   "cell_type": "code",
   "execution_count": 2,
   "metadata": {
    "ExecuteTime": {
     "end_time": "2021-11-13T05:33:52.763204Z",
     "start_time": "2021-11-13T05:33:52.749187Z"
    },
    "slideshow": {
     "slide_type": "-"
    }
   },
   "outputs": [],
   "source": [
    "def norm_plot_pdf_cdf(mean, std):\n",
    "    nrv = st.norm(mean,std)\n",
    "    fig, ax = plt.subplots(1, 2, figsize=(14, 10))\n",
    "    \n",
    "    xvals = np.linspace(mean-3*std, mean+3*std, 10000)\n",
    "    ax[0].plot(xvals, nrv.pdf(xvals))\n",
    "    ax[0].set_title(\"Probability Density Function\")\n",
    "    \n",
    "    ax[1].plot(xvals, nrv.cdf(xvals))\n",
    "    ax[1].set_title(\"Cumulative Distribution Function\")\n",
    "    \n",
    "    return None"
   ]
  },
  {
   "cell_type": "code",
   "execution_count": 3,
   "metadata": {
    "ExecuteTime": {
     "end_time": "2021-11-13T05:33:52.779212Z",
     "start_time": "2021-11-13T05:33:52.764203Z"
    },
    "slideshow": {
     "slide_type": "-"
    }
   },
   "outputs": [],
   "source": [
    "fs1 = FloatSlider(\n",
    "    value=0, min=-10, max=10,\n",
    "    step=1, description=\"Mean\",\n",
    "    style={\"description_width\": \"50%\"},\n",
    "    layout={\"width\": \"40%\"}\n",
    ")"
   ]
  },
  {
   "cell_type": "code",
   "execution_count": 4,
   "metadata": {
    "ExecuteTime": {
     "end_time": "2021-11-13T05:33:52.794228Z",
     "start_time": "2021-11-13T05:33:52.781214Z"
    },
    "slideshow": {
     "slide_type": "-"
    }
   },
   "outputs": [],
   "source": [
    "fs2 = FloatSlider(\n",
    "    value=1, min=1, max=100,\n",
    "    step=1, description=\"Standar Deviation\",\n",
    "    style={\"description_width\": \"50%\"},\n",
    "    layout={\"width\": \"40%\"}\n",
    ")"
   ]
  },
  {
   "cell_type": "code",
   "execution_count": 5,
   "metadata": {
    "ExecuteTime": {
     "end_time": "2021-11-13T05:33:52.997834Z",
     "start_time": "2021-11-13T05:33:52.796210Z"
    },
    "slideshow": {
     "slide_type": "-"
    }
   },
   "outputs": [
    {
     "data": {
      "application/vnd.jupyter.widget-view+json": {
       "model_id": "23959970c7e54313898b9b2073dc8fb4",
       "version_major": 2,
       "version_minor": 0
      },
      "text/plain": [
       "interactive(children=(FloatSlider(value=0.0, description='Mean', layout=Layout(width='40%'), max=10.0, min=-10…"
      ]
     },
     "metadata": {},
     "output_type": "display_data"
    }
   ],
   "source": [
    "output = interact(norm_plot_pdf_cdf, mean=fs1, std=fs2)"
   ]
  },
  {
   "cell_type": "markdown",
   "metadata": {},
   "source": [
    "### Example\n",
    "\n",
    "Suppose returns in a financial market for a given month have an average of 0.75% and a variance of 0.05%"
   ]
  },
  {
   "cell_type": "code",
   "execution_count": 6,
   "metadata": {
    "ExecuteTime": {
     "end_time": "2021-11-13T05:33:53.013738Z",
     "start_time": "2021-11-13T05:33:52.999836Z"
    }
   },
   "outputs": [],
   "source": [
    "mean = 0.0075\n",
    "std = np.sqrt(0.0005)\n",
    "nrv = st.norm(mean, std)"
   ]
  },
  {
   "cell_type": "markdown",
   "metadata": {},
   "source": [
    "We can take a single draw to get the return for a particular month"
   ]
  },
  {
   "cell_type": "code",
   "execution_count": 7,
   "metadata": {
    "ExecuteTime": {
     "end_time": "2021-11-13T05:33:53.029762Z",
     "start_time": "2021-11-13T05:33:53.014771Z"
    }
   },
   "outputs": [
    {
     "data": {
      "text/plain": [
       "-0.011336772768151513"
      ]
     },
     "execution_count": 7,
     "metadata": {},
     "output_type": "execute_result"
    }
   ],
   "source": [
    "nrv.rvs()"
   ]
  },
  {
   "cell_type": "markdown",
   "metadata": {},
   "source": [
    "If we wanted to get the yearly returns, we could draw 12 samples at once"
   ]
  },
  {
   "cell_type": "code",
   "execution_count": 8,
   "metadata": {
    "ExecuteTime": {
     "end_time": "2021-11-13T05:33:53.045758Z",
     "start_time": "2021-11-13T05:33:53.031760Z"
    }
   },
   "outputs": [
    {
     "data": {
      "text/plain": [
       "array([ 0.01591524, -0.00302332,  0.03412598,  0.00833276, -0.001465  ,\n",
       "       -0.00525458,  0.01610498, -0.04172967, -0.02390127,  0.03672529,\n",
       "        0.03416942,  0.01401647])"
      ]
     },
     "execution_count": 8,
     "metadata": {},
     "output_type": "execute_result"
    }
   ],
   "source": [
    "samples = nrv.rvs(12)\n",
    "samples"
   ]
  },
  {
   "cell_type": "markdown",
   "metadata": {},
   "source": [
    "And then add one and take their product"
   ]
  },
  {
   "cell_type": "code",
   "execution_count": 9,
   "metadata": {
    "ExecuteTime": {
     "end_time": "2021-11-13T05:33:53.061762Z",
     "start_time": "2021-11-13T05:33:53.046759Z"
    }
   },
   "outputs": [
    {
     "data": {
      "text/plain": [
       "8.396637234412685"
      ]
     },
     "execution_count": 9,
     "metadata": {},
     "output_type": "execute_result"
    }
   ],
   "source": [
    "100 * (np.product(1 + samples) - 1.0)"
   ]
  },
  {
   "cell_type": "code",
   "execution_count": 10,
   "metadata": {
    "ExecuteTime": {
     "end_time": "2021-11-13T05:33:53.173350Z",
     "start_time": "2021-11-13T05:33:53.063765Z"
    }
   },
   "outputs": [
    {
     "data": {
      "text/plain": [
       "(array([1.000e+00, 0.000e+00, 7.000e+00, 1.800e+01, 3.000e+01, 8.600e+01,\n",
       "        1.700e+02, 2.830e+02, 4.510e+02, 6.630e+02, 8.720e+02, 1.072e+03,\n",
       "        1.180e+03, 1.189e+03, 1.145e+03, 9.210e+02, 7.250e+02, 5.090e+02,\n",
       "        2.990e+02, 1.850e+02, 1.080e+02, 4.700e+01, 2.200e+01, 1.500e+01,\n",
       "        2.000e+00]),\n",
       " array([-0.0822177 , -0.07540997, -0.06860223, -0.06179449, -0.05498676,\n",
       "        -0.04817902, -0.04137129, -0.03456355, -0.02775581, -0.02094808,\n",
       "        -0.01414034, -0.0073326 , -0.00052487,  0.00628287,  0.01309061,\n",
       "         0.01989834,  0.02670608,  0.03351382,  0.04032155,  0.04712929,\n",
       "         0.05393703,  0.06074476,  0.0675525 ,  0.07436024,  0.08116797,\n",
       "         0.08797571]),\n",
       " <BarContainer object of 25 artists>)"
      ]
     },
     "execution_count": 10,
     "metadata": {},
     "output_type": "execute_result"
    },
    {
     "data": {
      "image/png": "[encoded data removed]",
      "text/plain": [
       "<Figure size 432x288 with 1 Axes>"
      ]
     },
     "metadata": {
      "needs_background": "light"
     },
     "output_type": "display_data"
    }
   ],
   "source": [
    "plt.hist(nrv.rvs(10_000), bins=25)"
   ]
  }
 ],
 "metadata": {
  "kernelspec": {
   "display_name": "Python 3 (ipykernel)",
   "language": "python",
   "name": "python3"
  },
  "language_info": {
   "codemirror_mode": {
    "name": "ipython",
    "version": 3
   },
   "file_extension": ".py",
   "mimetype": "text/x-python",
   "name": "python",
   "nbconvert_exporter": "python",
   "pygments_lexer": "ipython3",
   "version": "3.9.5"
  },
  "toc": {
   "base_numbering": 1,
   "nav_menu": {},
   "number_sections": true,
   "sideBar": true,
   "skip_h1_title": true,
   "title_cell": "Table of Contents",
   "title_sidebar": "Contents",
   "toc_cell": true,
   "toc_position": {},
   "toc_section_display": true,
   "toc_window_display": false
  }
 },
 "nbformat": 4,
 "nbformat_minor": 2
}
