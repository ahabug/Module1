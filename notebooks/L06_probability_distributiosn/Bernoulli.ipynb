{
 "cells": [
  {
   "cell_type": "markdown",
   "metadata": {
    "toc": true
   },
   "source": [
    "<h1>Table of Contents<span class=\"tocSkip\"></span></h1>\n",
    "<div class=\"toc\"><ul class=\"toc-item\"><li><span><a href=\"#Introduction\" data-toc-modified-id=\"Introduction-1\"><span class=\"toc-item-num\">1&nbsp;&nbsp;</span>Introduction</a></span></li><li><span><a href=\"#Details\" data-toc-modified-id=\"Details-2\"><span class=\"toc-item-num\">2&nbsp;&nbsp;</span>Details</a></span></li><li><span><a href=\"#Example:-Passing-a-class\" data-toc-modified-id=\"Example:-Passing-a-class-3\"><span class=\"toc-item-num\">3&nbsp;&nbsp;</span>Example: Passing a class</a></span></li></ul></div>"
   ]
  },
  {
   "cell_type": "markdown",
   "metadata": {
    "slideshow": {
     "slide_type": "slide"
    }
   },
   "source": [
    "# Bernoulli Distribution"
   ]
  },
  {
   "cell_type": "code",
   "execution_count": 1,
   "metadata": {
    "ExecuteTime": {
     "end_time": "2021-11-13T05:34:57.107962Z",
     "start_time": "2021-11-13T05:34:56.397692Z"
    },
    "slideshow": {
     "slide_type": "-"
    }
   },
   "outputs": [],
   "source": [
    "import matplotlib.pyplot as plt\n",
    "import numpy as np\n",
    "import scipy.stats as st\n",
    "\n",
    "from ipywidgets import interact, FloatSlider, HBox, Label\n",
    "\n",
    "%matplotlib inline"
   ]
  },
  {
   "cell_type": "markdown",
   "metadata": {
    "slideshow": {
     "slide_type": "slide"
    }
   },
   "source": [
    "### Introduction\n",
    "\n",
    "Any single event that has two possible outcomes can be described by the Bernoulli distribution. The two outcomes are typically referred to as \"success\" and \"failure\".\n",
    "\n",
    "Below we give a few examples of Bernoulli random variables:\n",
    "\n",
    "* A single coin flip (either heads or tails)\n",
    "* A job application (either accepted or rejected)\n",
    "* A penalty kick (either goal or no goal)"
   ]
  },
  {
   "cell_type": "markdown",
   "metadata": {
    "slideshow": {
     "slide_type": "subslide"
    }
   },
   "source": [
    "### Details\n",
    "\n",
    "The Bernoulli distribution is characterized by a single parameter, $p$. This parameter should be interpreted as the \"probability of success\". For example, if we were to flip a fair coin, then $p$ would be 0.50 because the probability of flipping a heads (what we call a success) is 0.50.\n",
    "\n",
    "The values associated a Bernoulli random variable are often denoted as $y = 0$ (failure) and $y = 1$ (success). We will use these numeric interpretations for the remainder of this document.\n",
    "\n",
    "The probability mass function is given by\n",
    "\n",
    "\\begin{align*}\n",
    "  f(y; p) \\equiv \\begin{cases} 1-p &\\quad y=0 \\\\ p &\\quad y=1 \\end{cases}\n",
    "\\end{align*}\n",
    "\n",
    "* **Mean**: $p$\n",
    "* **Variance**: $p (1 - p)$"
   ]
  },
  {
   "cell_type": "code",
   "execution_count": 2,
   "metadata": {
    "ExecuteTime": {
     "end_time": "2021-11-13T05:34:57.122978Z",
     "start_time": "2021-11-13T05:34:57.108965Z"
    },
    "slideshow": {
     "slide_type": "subslide"
    }
   },
   "outputs": [],
   "source": [
    "def bernoulli_plot_pmf_cmf(p):\n",
    "    brv = st.bernoulli(p)\n",
    "    fig, ax = plt.subplots(1, 2, figsize=(9, 6))\n",
    "    \n",
    "    xvals = np.array([0, 1])\n",
    "    ax[0].bar(xvals, brv.pmf(xvals), width=0.1)\n",
    "    ax[0].set_title(\"Probability Mass Function\")\n",
    "    \n",
    "    xvals = np.linspace(-0.10, 1.10, 10000)\n",
    "    ax[1].plot(xvals, brv.cdf(xvals))\n",
    "    ax[1].set_title(\"Cumulative Distribution Function\")\n",
    "    \n",
    "    return None"
   ]
  },
  {
   "cell_type": "code",
   "execution_count": 3,
   "metadata": {
    "ExecuteTime": {
     "end_time": "2021-11-13T05:34:57.299012Z",
     "start_time": "2021-11-13T05:34:57.124969Z"
    },
    "scrolled": true,
    "slideshow": {
     "slide_type": "-"
    }
   },
   "outputs": [
    {
     "data": {
      "application/vnd.jupyter.widget-view+json": {
       "model_id": "372c199bb1eb4b979474d68943c3f370",
       "version_major": 2,
       "version_minor": 0
      },
      "text/plain": [
       "interactive(children=(FloatSlider(value=0.5, description='Probability of success (p)', layout=Layout(width='40…"
      ]
     },
     "metadata": {},
     "output_type": "display_data"
    }
   ],
   "source": [
    "fs = FloatSlider(\n",
    "    value=0.5, min=0.0, max=1.0,\n",
    "    step=0.05, description=\"Probability of success (p)\",\n",
    "    style={\"description_width\": \"50%\"},\n",
    "    layout={\"width\": \"40%\"}\n",
    ")\n",
    "\n",
    "output = interact(bernoulli_plot_pmf_cmf, p=fs)"
   ]
  },
  {
   "cell_type": "markdown",
   "metadata": {
    "slideshow": {
     "slide_type": "slide"
    }
   },
   "source": [
    "### Example: Passing a class\n",
    "\n",
    "Suppose that a student passes a class with probability 0.8.The student succeeding or failing in the class would be a draw from a Bernoulli distribution."
   ]
  },
  {
   "cell_type": "code",
   "execution_count": 4,
   "metadata": {
    "ExecuteTime": {
     "end_time": "2021-11-13T05:34:57.315001Z",
     "start_time": "2021-11-13T05:34:57.301009Z"
    },
    "slideshow": {
     "slide_type": "-"
    }
   },
   "outputs": [],
   "source": [
    "p = 0.8\n",
    "\n",
    "brv = st.bernoulli(p)"
   ]
  },
  {
   "cell_type": "markdown",
   "metadata": {
    "slideshow": {
     "slide_type": "subslide"
    }
   },
   "source": [
    "We could take a single draw from this distribution to determine whether the student passes (1 means pass and 0 means fail)"
   ]
  },
  {
   "cell_type": "code",
   "execution_count": 5,
   "metadata": {
    "ExecuteTime": {
     "end_time": "2021-11-13T05:34:57.331026Z",
     "start_time": "2021-11-13T05:34:57.316003Z"
    },
    "slideshow": {
     "slide_type": "-"
    }
   },
   "outputs": [
    {
     "data": {
      "text/plain": [
       "1"
      ]
     },
     "execution_count": 5,
     "metadata": {},
     "output_type": "execute_result"
    }
   ],
   "source": [
    "brv.rvs()"
   ]
  },
  {
   "cell_type": "markdown",
   "metadata": {
    "slideshow": {
     "slide_type": "subslide"
    }
   },
   "source": [
    "Or we could see what happens over many similar students (according to the law of large numbers, we should expect that the fraction of students that pass the course should be approximately 0.8)."
   ]
  },
  {
   "cell_type": "code",
   "execution_count": 6,
   "metadata": {
    "ExecuteTime": {
     "end_time": "2021-11-13T05:34:57.347022Z",
     "start_time": "2021-11-13T05:34:57.332006Z"
    },
    "slideshow": {
     "slide_type": "-"
    }
   },
   "outputs": [
    {
     "name": "stdout",
     "output_type": "stream",
     "text": [
      "Fails 20.3% of the time\n",
      "Succeeds 79.7% of the time\n",
      "The Bernoulli parameter is 0.8\n"
     ]
    }
   ],
   "source": [
    "samples = brv.rvs(1000)\n",
    "\n",
    "print(f\"Fails {100*np.mean(samples < 1)}% of the time\")\n",
    "print(f\"Succeeds {100*np.mean(samples == 1)}% of the time\")\n",
    "\n",
    "print(f\"The Bernoulli parameter is {p}\")"
   ]
  },
  {
   "cell_type": "markdown",
   "metadata": {
    "slideshow": {
     "slide_type": "subslide"
    }
   },
   "source": [
    "**Note**: In creating this notebook, I referenced the \"Distribution Explorer\" material found at https://distribution-explorer.github.io/index.html. I certainly encourage others to find additional information there."
   ]
  }
 ],
 "metadata": {
  "kernelspec": {
   "display_name": "Python 3 (ipykernel)",
   "language": "python",
   "name": "python3"
  },
  "language_info": {
   "codemirror_mode": {
    "name": "ipython",
    "version": 3
   },
   "file_extension": ".py",
   "mimetype": "text/x-python",
   "name": "python",
   "nbconvert_exporter": "python",
   "pygments_lexer": "ipython3",
   "version": "3.9.5"
  },
  "toc": {
   "base_numbering": 1,
   "nav_menu": {},
   "number_sections": true,
   "sideBar": true,
   "skip_h1_title": true,
   "title_cell": "Table of Contents",
   "title_sidebar": "Contents",
   "toc_cell": true,
   "toc_position": {},
   "toc_section_display": true,
   "toc_window_display": false
  }
 },
 "nbformat": 4,
 "nbformat_minor": 4
}
